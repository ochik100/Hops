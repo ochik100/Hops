{
 "cells": [
  {
   "cell_type": "code",
   "execution_count": 181,
   "metadata": {
    "collapsed": true
   },
   "outputs": [],
   "source": [
    "import pyspark as ps\n",
    "import warnings\n",
    "import multiprocessing\n",
    "import numpy as np\n",
    "\n",
    "import string\n",
    "from nltk.tokenize import word_tokenize\n",
    "from nltk.corpus import stopwords\n",
    "from nltk.stem.snowball import SnowballStemmer\n",
    "\n",
    "from pyspark.sql.functions import UserDefinedFunction, udf\n",
    "from pyspark.sql.types import StringType, ArrayType\n",
    "\n",
    "from pyspark.ml.feature import CountVectorizer, IDF, Tokenizer"
   ]
  },
  {
   "cell_type": "code",
   "execution_count": 2,
   "metadata": {
    "collapsed": false
   },
   "outputs": [
    {
     "name": "stdout",
     "output_type": "stream",
     "text": [
      "Just created a SparkContext\n"
     ]
    }
   ],
   "source": [
    "# multiprocessing.cpu_count() \n",
    "try:\n",
    "    sc = ps.SparkContext('local[8]')\n",
    "    print \"Just created a SparkContext\"\n",
    "except ValueError:\n",
    "    warnings.warn(\"SparkContext already exists in this scope\")"
   ]
  },
  {
   "cell_type": "code",
   "execution_count": 3,
   "metadata": {
    "collapsed": false
   },
   "outputs": [],
   "source": [
    "sqlContext = ps.SQLContext(sc)"
   ]
  },
  {
   "cell_type": "code",
   "execution_count": 4,
   "metadata": {
    "collapsed": false
   },
   "outputs": [],
   "source": [
    "df = sqlContext.read.json('reviews_100.json')"
   ]
  },
  {
   "cell_type": "code",
   "execution_count": 134,
   "metadata": {
    "collapsed": false
   },
   "outputs": [
    {
     "name": "stdout",
     "output_type": "stream",
     "text": [
      "root\n",
      " |-- _id: struct (nullable = true)\n",
      " |    |-- $oid: string (nullable = true)\n",
      " |-- abv: string (nullable = true)\n",
      " |-- avg_rating: string (nullable = true)\n",
      " |-- ba_score: double (nullable = true)\n",
      " |-- beer_name: string (nullable = true)\n",
      " |-- beer_style: string (nullable = true)\n",
      " |-- brewery_name: string (nullable = true)\n",
      " |-- bros: string (nullable = true)\n",
      " |-- feel: string (nullable = true)\n",
      " |-- look: string (nullable = true)\n",
      " |-- num_ratings: string (nullable = true)\n",
      " |-- overall: string (nullable = true)\n",
      " |-- smell: string (nullable = true)\n",
      " |-- state: string (nullable = true)\n",
      " |-- taste: string (nullable = true)\n",
      " |-- text: string (nullable = true)\n",
      " |-- weighted_ba_score: string (nullable = true)\n",
      "\n"
     ]
    }
   ],
   "source": [
    "df.printSchema()"
   ]
  },
  {
   "cell_type": "code",
   "execution_count": 185,
   "metadata": {
    "collapsed": false
   },
   "outputs": [
    {
     "name": "stdout",
     "output_type": "stream",
     "text": [
      "[u'pour', u'turbid', u'amber', u'brown', u'thin', u'layer', u'beig', u'color', u'head', u'pretti', u'effervesc', u'never', u'drop', u'bright', u'cakey', u'figgi', u'much', u'els', u'follow', u'nose', u'dryness', u'herbal', u'hop', u'boozey', u'front', u'figgy', u'pear', u'breadi', u'sweet', u'warm', u'plus', u'boozey', u'littl', u'golden', u'delici', u'appl', u'finish', u'littl', u'cakey', u'boozey', u'orchard', u'fruit', 'mf', u'light', u'medium', u'bodi', u'slight', u'carbon', u'sort', u'thin', u'warm', u'okay', u'style', u'someth', u'would', u'recommend', u'littl']\n"
     ]
    },
    {
     "data": {
      "text/plain": [
       "[Row(brewery_name=u'405 Brewing Co.', beer_name=u'Manly Barley Wine Ale', state=u'Oklahoma', beer_style=u'English Barleywine', text=u'Pours a turbid amber/brown with a thin layer of beige colored head.  Pretty effervescent, never drops bright\\n\\nS:  Cakey, figgy, not much else\\n\\nT:  Follows the nose, some dryness, herbal hops & boozeyness up front.  Figgyness, some pear & bready sweetness as this warms, plus boozeyness & a little Golden Delicious Apple.    Finishes a little cakey, boozey & with some orchard fruit\\n\\nMF: Light/medium body, slightly over carbonated, sort of thin as it warms\\n\\nOkay for the style, not something I would recommend, a little too hot\\xa0527 charactersrusspowell, Jan 19, 2016', tokens=[u'pour', u'turbid', u'amber', u'brown', u'thin', u'layer', u'beig', u'color', u'head', u'pretti', u'effervesc', u'never', u'drop', u'bright', u'cakey', u'figgi', u'much', u'els', u'follow', u'nose', u'dryness', u'herbal', u'hop', u'boozey', u'front', u'figgy', u'pear', u'breadi', u'sweet', u'warm', u'plus', u'boozey', u'littl', u'golden', u'delici', u'appl', u'finish', u'littl', u'cakey', u'boozey', u'orchard', u'fruit', u'mf', u'light', u'medium', u'bodi', u'slight', u'carbon', u'sort', u'thin', u'warm', u'okay', u'style', u'someth', u'would', u'recommend', u'littl'])]"
      ]
     },
     "execution_count": 185,
     "metadata": {},
     "output_type": "execute_result"
    }
   ],
   "source": [
    "def preprocess_review_text(text):\n",
    "    stopwords_ = set(stopwords.words('english'))\n",
    "    stemmer_ = SnowballStemmer('english')\n",
    "    \n",
    "    if (text == None):\n",
    "        return []\n",
    "    \n",
    "    if (len(text) < 1):\n",
    "        return []\n",
    "    \n",
    "    if (type(text) == unicode):\n",
    "        text = text.encode('utf-8')\n",
    "        \n",
    "    replace_punctuation = string.maketrans(string.punctuation, ' '*len(string.punctuation))\n",
    "    unpunctuated_text = text.translate(replace_punctuation)\n",
    "    tokens = word_tokenize(unpunctuated_text)[:-5:] # reviewer username info lost here via array slice\n",
    "    lowercased_tokens = [token.lower() for token in tokens]\n",
    "    filtered_tokens = [w for w in lowercased_tokens if not w in stopwords_] \n",
    "    \n",
    "    stemmed = []\n",
    "    for token in filtered_tokens:\n",
    "        try:\n",
    "            stemmed.append(stemmer_.stem(token))\n",
    "        except:\n",
    "            # continue when stemmer doesn't work\n",
    "            continue\n",
    "\n",
    "    return stemmed\n",
    "\n",
    "df_reviews = df.select('brewery_name', 'beer_name', 'state', 'beer_style', 'text')\n",
    "# df_reviews.show()\n",
    "\n",
    "token_udf = udf(lambda x: preprocess_review_text(x), ArrayType(StringType()))\n",
    "\n",
    "def up(text):\n",
    "    return text.upper()\n",
    "up_udf = udf(up, StringType())\n",
    "\n",
    "# df_reviews.select(token_udf('text')).show()\n",
    "df_tokens = df_reviews.withColumn(\"tokens\", token_udf('text'))\n",
    "df_tokens.take(1)\n",
    "# df_tokens.printSchema()\n",
    "# df_tokens.show()"
   ]
  },
  {
   "cell_type": "code",
   "execution_count": null,
   "metadata": {
    "collapsed": true
   },
   "outputs": [],
   "source": [
    "'''\n",
    "BREAKKKKKK\n",
    "'''"
   ]
  },
  {
   "cell_type": "code",
   "execution_count": 6,
   "metadata": {
    "collapsed": false
   },
   "outputs": [
    {
     "name": "stdout",
     "output_type": "stream",
     "text": [
      "root\n",
      " |-- brewery_name: string (nullable = true)\n",
      " |-- beer_name: string (nullable = true)\n",
      " |-- state: string (nullable = true)\n",
      " |-- beer_style: string (nullable = true)\n",
      " |-- text: string (nullable = true)\n",
      "\n"
     ]
    }
   ],
   "source": [
    "reviews_df = df.select('brewery_name', 'beer_name', 'state', 'beer_style', 'text')\n",
    "\n",
    "reviews_df.printSchema()"
   ]
  },
  {
   "cell_type": "code",
   "execution_count": 23,
   "metadata": {
    "collapsed": false
   },
   "outputs": [
    {
     "data": {
      "text/plain": [
       "<pyspark.sql.group.GroupedData at 0x10bbb0e50>"
      ]
     },
     "execution_count": 23,
     "metadata": {},
     "output_type": "execute_result"
    }
   ],
   "source": [
    "from pyspark.sql.functions import count, collect_list, split\n",
    "\n",
    "reviews_df.groupBy('brewery_name', 'beer_name', 'state')"
   ]
  },
  {
   "cell_type": "code",
   "execution_count": 86,
   "metadata": {
    "collapsed": false
   },
   "outputs": [
    {
     "data": {
      "text/plain": [
       "[Row(brewery_name=u'10-56 Brewing Company', beer_name=u\"Charlie's Cherry - Cheery Chamomile Blonde Bombshell\", state=u'Indiana', reviews=[u'Taste: wheat bread with herbal notes of chamomile, subtle cherry, slight tart and yeast nose. Champagne carbonated mouth-feel. Gold, slight unfiltered, large super foamy head. Medium body. The yeast was busy with this batch.\\xa0224 charactersBlackBeerPirate, Oct 15, 2016']),\n",
       " Row(brewery_name=u'Abbey Beverage Company (Monastery of Christ in the Desert)', beer_name=u\"Monks' Dubbel Ale\", state=u'New Mexico', reviews=[u'From a 12 ounce bottle, this is an amber/copper color with a slim white head.  The aroma is estery...raisins and apples...with some rich dark malt as well.  The taste has malt, spicy pepper flavors, some hops, and a bit of alcohol warmth.  Full in body and satisfying.\\xa0268 charactersSuds, Jan 16, 2016', u'Pours a hazy dark orange with a foamy khaki head that settles to wisps of film on top of the beer. Thin streaks of lace form around the glass on the drink down. Smell is of malt, caramel, dark fruit, spice, and salt aromas. Taste is much the same with toast, caramel, dark fruit, spice, earth, and salt flavors on the finish. There is a mild amount of spice bitterness on the palate with each sip. This beer has a lower level of carbonation with a slightly crisp mouthfeel. Overall, this is an average beer that is drinkable, but there is a mix of earth and salt in the taste that makes this one a bit of a chore to drink much of. \\n\\nServing type: bottle.\\xa0654 charactersUCLABrewN84, Jul 04, 2015', u'L-light brown, clear, no haze or yeast in bottle with minamal head.\\nS- rasin, fig, candy and gum.\\nT- medicanal, gum and clove yeast flavors.  Dark fruit and light roasted malts.\\nM-medium body, light and velvety carbonation.\\nO- one of the better american versions of a belgo dubbel i have had.  Bottle conditioning would really help this beer out.\\xa0346 charactersIPA1978, May 16, 2015', u'New to Ohio, it comes in a 750 ml glass bottle with a stopper. A nice, drinkable Abbey Ale with a rich foam head, a robust aroma, and a smooth mouthfeel. Reasonably priced for a Dubbel, and something I would drink again. I finished the bottle on day 2, but the stopper did not hold the carbonation, and the beer was not really enjoyable at that point.\\xa0351 charactersBillBabbitt, Apr 22, 2014']),\n",
       " Row(brewery_name=u'3rd Rock Brewing Co.', beer_name=u'The Rock IPA', state=u'North Carolina', reviews=[u\"The nose is incredible with Mango and Stonefruits. Mellow on the bitterness and soft on the mouthfeel, this is one of my favorite IPA's. The hazy red look is very inviting as well. Had it at The Pit in Raleigh, then at Enrigo's. It is showing up and more and more spots in NJ and NC.\\xa0283 charactersjays76, Sep 16, 2016\", u'On tap at Paragon, Clark, NJ.  Pours red with white head and nice lacing. Aroma is of herbal hops, caramel malt and red fruit.  Body is full and crisp.  Herbal hops, caramel malt and raspberries fill the mouth.  Finish is long and very bitter.  Overall it is nice brew.\\xa0269 charactersmikeg67, Aug 09, 2016']),\n",
       " Row(brewery_name=u'350 Brewing Co.', beer_name=u'Koko Beware', state=u'Illinois', reviews=[u\"Pours a thin black with very minimal head. Coconut, booze, and a slight hint of coffee and spice in the nose.  Straight up boozy coconut and that's fine by me. Not familiar with the distillery they got the barrels from. A little thin on the mouthfeel. Overall I think this a well done barrel aged Russian imperial stout and I'm happy to have gotten one. Hopefully they can make it even better if they make it again.\\xa0415 charactersIrishace9, May 13, 2016\"]),\n",
       " Row(brewery_name=u'Biloxi Brewing Company', beer_name=u'Black Gold', state=u'Mississippi', reviews=[u'Pours a very dark brown color with khaki colored head. Coffee, cocoa, roasted malt, and some earthiness on the nose; follows onto the palate. Medium bodied. Finishes with cocoa and roast.\\xa0187 charactersTX-Badger, Dec 27, 2016', u'Biloxi Black Gold exploded out of the bottle, at the first crack, so that was a cleanup. The appearance was dark and with light shining through it, at me, it looked like prune juice. Aroma was almost nonexistent, but I did pick up some standard \"beer\" smell and maybe some milk chocolate. Taste is of some char, dark brown bread crust, cream, chocolate, coffee, and a fairly good amount of bitterness. Mouthfeel is light and watery, and Biloxi Black Gold finishes somewhat powdery dry.\\n\\nRJT\\xa0490 charactersRonaldTheriot, May 31, 2016', u'Poured from a brown 12 oz. bottle. Has a black color with a 1 inch head. Smell is of roasted malts, light chocolate. Taste is roasted malts, smoke, hops are present, hints of chocolate and alcohol. Feels medium bodied in the mouth and overall is a solid beer.\\xa0259 characterstone77, Feb 26, 2016', u'A- Black with a medium off white head that dissapates quickly. \\nS- Roasty, and Slightly woody. \\nT- More roast. Some smoke? Earthiness and burnt chocolate.\\nM- Higher carbonation. Lageresque.\\nD- Pretty well done IMO\\xa0213 characterstbryan5, Feb 18, 2016', u'A damn solid brew, had the coffee version as well as BA coffee ( review to follow) kudos to bbc for brewing a foreign export, not many brewers dabble in this style\\xa0163 charactersanimal69, Jan 31, 2016', u'\"Black Gold is our award-winning beer based on extra stouts historically brewed in Ireland which traditionally boasted higher alcohol and hopping rates, enabling it to keep for long sea voyages to british colonies throughout the world. Featuring the unmistakable deep- dark color and roasted malt flavors you\\'d expect in a stout, Black Gold, with its crisp yet restrained bitterness, rewards the drinker with a velvety smooth sensation on the palate.\" Brewed in the style of a Foreign / Export Stout. Available as a year-round release in 12 oz. bottled 6 packs and on draft.\\n\\nPoured from a 12 oz. bottle to a snifter glass.\\n\\n(Appearance) Pours a foamy frothed head of a pale tan color over a dark cola brown body. Retention is average and lacing is light and spotty. 3.75\\n\\n(Smell) Moderately roasted malts, cocoa nibs, earthy bitterness, moderately sweet base. Potency is moderate. 3.75\\n\\n(Taste) Roasted malts, earthy roast, subtle lactose sweetness, burnt chocolate. Rich, earthy and robust. 3.75\\n\\n(Mouthfeel) Texture is silky, slick, lightly chewy, medium dry. Carbonation is moderately frothy with a medium crisp finish. Body is medium for the style, medium/heavy overall. Balance is slightly earthy bitter over sweet. Alcohol presence is mild and there are no off characters. 3.75\\n\\n(Overall) A very solid export stout with a lot of rich earthy flavor, quite drinkable and enjoyable. 3.75\\n\\nBiloxi Brewing Company\\'s\\nBlack Gold Foreign Extra Stout\\n3.75/5.00\\xa01,458 charactersJadjunk, Dec 24, 2015', u'Taste is great,  just what I expect in a stout, chocolate and coffee that linger.   \\n\\nDisappointed in the mouth feel, more of a soda-ish carbonation,  not the smooth,  velvety feel I prefer in a stout.   However,  this may be due to it being in a bottle, it may be better on draft.    Probably a superior stout if injected with nitrous on tap.\\xa0343 charactersSalparadise, Jul 19, 2015', u'Poured into a teku glass.\\n\\nA:  Dark brown/black with a thick tan 2 finger head that lingered.  Great lacing.\\n\\nS:  Heavy duty malts, chocolate, nutty, with a bit of coffee in the background.\\n\\nT:  Follows nose with rich, robust chocolate malts dominating and a smokey nuttiness throughout.  A slightly bitter finish.\\n\\nM:  Medium to heavy with thick, chewy carbonation.  this really sells it.\\n\\nO:  A nice surprise from Biloxi Brewing.  The best of their 3 offerings.  I would drink a lot more of this one.\\xa0502 charactersbrewskifan55, May 31, 2015']),\n",
       " Row(brewery_name=u'5 Seasons Westside', beer_name=u'Dark Saison', state=u'Georgia', reviews=[u\"A dark and murky brown with a slightly off-white and soapy head that quickly fades to a ring. Reluctant lacing around the edges that turns sporadic.\\n\\nPleasant aromas of roasted malts, caramel and spiced fruits.\\n\\nA mouthful of well balanced esters intertwined with a comforting malt presence. Like a Belgian winter warmer. Spicy, malty and not as dry as the style would typically denote.\\n\\nLight-medium body with adequate carbonation. Bubbly, but not overdone. \\n\\nThis beer is enjoyable, but I feel it's demos may stem from it's label as a saison. Simply called a Belgian strong dark ale it would be flawless.\\xa0606 charactersnerdrocker101, Oct 19, 2010\", u\"On-tap at the brewpub.\\n\\r\\nPours a hazy purplish-brown color with a one-finger off-white head. The head recedes into a wispy layer on top leaving solid lacing.\\n\\r\\nSmells of muted medium malts with good amounts of dark fruits - raisins and dried figs mostly. Also present are faint green apple aromas.\\n\\r\\nTastes similar to how it smells. Moderately sweet medium malt flavors kick things off and are joined almost immediately by sugar-dusted dark fruit flavors. The dark fruits lighten up a bit midway through the sip with the addition of green apple and small amounts of pear. The fruit flavors carry through to a crisp ending.\\n\\r\\nMouthfeel is good. It's got a nice thickness with smooth carbonation.\\n\\r\\nDrinkability is also good. I didn't have a problem finishing my glass and could have another.\\n\\r\\nOverall this was just a crisp but not quite as complex as the other saisons I've had here (Saison du Bob and Cinq) however it's still a solid beer. Worth a shot.\\xa0960 charactersglid02, Oct 13, 2010\"]),\n",
       " Row(brewery_name=u'40 Arpent Brewing Company', beer_name=u'Red Bean And Rice Ale', state=u'Louisiana', reviews=[u'Pretty good sessionable beer. Had on tap at the Bulldog Baton Rouge during LA Craft beer week. Deep ruby color. Like the previous review said, you can pick out the red beans if you are looking for them. If this was in a can, I would definitely buy more. As of now, I will have to settle for it on tap.\\xa0301 characterstbryan5, Sep 16, 2015', u\"Love my LA brews, and though this is nothing special, it is easily drinkable and interesting enough.  If you've had red beans and rice enough to get it, you can pick out the red bean hide in this ale easy enough, and it sort of makes me smile.  B.\\xa0247 charactersFoxybrau, Aug 12, 2015\"]),\n",
       " Row(brewery_name=u'14th Star Brewing Co.', beer_name=u'Valor Ale', state=u'Vermont', reviews=[u'Poured into a 13 oz tulip glass canned on 8/31/16 and 5.2% ABV. Pours a very attractive rusty red with some floaties, with some haze, and a nice 2 finger sticky off white head that leaves some rings of lace.\\n\\nSmell is caramel, earthy hops, a little bread, apricot, pine, and a hint of grapefruit. \\n\\nTaste follows caramel, apricot, a little breadyness, pine, and grapefruit. \\n\\nMouthfeel is on the small side of medium, plenty of life, not dry at all, and drinks pretty easy, but it drinks bigger than its ABV. \\n\\nOverall this is a very nice hoppy red, earth shattering no, but solid.\\xa0581 charactersSawDog505, Nov 13, 2016', u'16 oz. can dated 7/22/16\\n\\nPours foggy hazy dark amber rusted orange with a creamy frothy white foam head. Smells like fresh grapefruit, black tea, pineapple, orange citrus, apple, some toasted biscuity toffee caramel malt, with woodsy earthy herbal grass and floral resinous pine. Tastes like tannic black tea, fresh grapefruit, pineapple, orange citrus, apple, toasted biscuity toffee caramel malts, with woodsy earthy herbal grass and floral resinous pine. Feels medium bodied, creamy and slick with moderate low carbonation. Overall a real nice hoppy amber ale.\\xa0564 charactersStoutElk_92, Oct 18, 2016', u'i am thinking i either got one of the first or one of the last pours off of this keg. the beer was beyond hazy, loaded with sediment and almost chunky in texture, even more than it sounds like other have experienced in the reviews here. its good beer though, and i can see the potential, it just needs some real cleaning up, at least in my specimen. there is a woody hop element in the richer red malty brew, it might be centennial, i taste that piney and lumber element in it, but there is also a lot of yeast which flavors the beer as much as the malt it seems like, sort of english, its a weird recipe for sure. the grain isnt as sweet as it looks like it might be, even dry in the finish, fresh baked and pretty sturdy in terms of body and depth. it seems like the american amber and red ale style has stopped evolving with craft breweries lately, like its an almost throw away safe beer for the people who dont want to try the crazy stuff, but this is a pleasantly different take on the style, and despite needing a little refinement, its quite good overall. nice in the morning, like a liquid muffin...\\xa01,108 charactersStonedTrippin, Aug 07, 2016', u'On tap a golden Amber pour with a white head that is fairly thin. Honey sweet nose followed by citrus peel, herbal hops and light pine sap. Taste is clean fresh hops in sizable amounts. Semi sweet toasted malt backbone gives the biggest impact in the end. Delicious and easy drinking amber ale.\\xa0294 charactersscottbrew4u, Jul 13, 2016', u'hazy amber appearance with a whitish head that hangs out and leaves some sticky lacing.\\n\\nreally nice on the nose, smells is amazing when you first crack the can. fruity hops, pine resin, grassyness, definite sweet malt presence. on the palate it starts with clean malts and a fresh blast of grapefruit and pine, which quickly gives way to a sweeter malt flavor, finishing on a moderately bitter note. pretty light bodied but I dont think its a bad thing. overall nothing amazing but definitely an easy drinker ... I thought it was pretty damn good!\\xa0548 charactersHyptochrons, May 17, 2016', u'14th Star Brewing Co. \"Valor Ale\"\\n16 fl. oz. can, no apparent packaging or freshness dating\\n$3.60 @ 802 BWS\\n\\nValor Ale pours a hazy deep copper colored body with golden highlights beneath a two-finger thick head of rocky off white. The head retention is excellent, and the lacing is pretty good to boot, leaving broken, wide and craggy rings of lace about the glass.\\n\\nIn the nose you\\'ll find some non-distinct yeasty fruitiness (maybe apples and red berries...), and a caramelish malt threaded through with floral, grassy, and subtly piney hops.\\n\\nAcross the tongue it\\'s medium bodied with a fine-bubbled median carbonation that\\'s initially a bit crisp but then softens to become remarkably smooth and supple.\\n\\nThe flavor follows suit with the addition of a bit of honey and some mild toastiness to the grain, a little more depth to the yeasty fruitiness, and some earthiness and mineral character that come out in the dryish, grassy finish.\\n\\nIn my opinion Valor ale is a great pale ale done in the English style. It looks great, it smells great, it tastes great, and it\\'s highly drinkable. A winner to be sure!\\xa01,110 charactersNeroFiddled, Jun 10, 2016', u'Hazy amber color. Moderate head that leaves a cross between blanket and lattice lace on the glass. \\n\\nBitter hop comes to the nose first but then I get a pleasant cherry sweetness. Very nice blend. \\n\\nA strong entry into the traditional American IPA. While not overly remarkable it is well made. It starts with a lightly toasted malt (crystal?). This lasts through the swallow where the straight up hop bitterness picks up. Peppery aftertaste. Overly an excellent middle of the road IPA.\\xa0485 characterssmcolw, Mar 06, 2016', u\"Initial scent is hops just as it describes.. Pours a rich, dark golden brown, which was surprising for an amber.. Initial taste is very light and goes down well, but then lots of hoppy bitterness kicks in and then finishes subtly with the malts.. You don't get the normal Amber notes..\\n\\nAs it warms up, tastes mellow out more, would suggest drinking cool not ice cold\\xa0367 charactersbol3by, Jan 08, 2016\", u'Poured from a 16oz can into a US tumbler pint glass.\\n\\nA: The beer is a dark amber color, with a short off-white head that fades slowly and leaves a thick lace on the glass.\\n\\nS: The aroma contains grassy hops, caramelized malts, citrus and other fruits.\\n\\nT: The taste starts out bready with a hearty but not too heavy malt character. Then some mildly sweet flavors of caramel, citrus and other fruits come in. The hops presence is strong but not over-powering and creates a very good balance. The after-taste is slightly sweet and slightly hoppy.\\n\\nM: Crisp and smooth, medium body, medium carbonation, finish is slightly sticky.\\n\\nO: Tasty, goes down quite easily, not too filling, mild kick, good representation of style, this is a very solid beer to pound down for a long time.\\xa0777 charactersTheManiacalOne, Feb 14, 2016', u'16 oz can.  Hazy amber with thin off white head, spotty lace.  Mild fruity hop aroma.  Taste is light toasty malt with some hop bitterness, but mostly just back end bitterness.  I like hops so this was ok for me, but flavors clashed a little.  Bitterness hangs around a touch too long.  Thin mouthfeel.\\xa0302 charactersNolaHopHead, Dec 30, 2015', u'First beer from this brewery, a new VT brewery, neat. Tall boy can, tasty crack cans.... canned 10/19/15\\n\\nPours chugging out of the can for a nice large frothy 1 finger head that fades at a med pace, thick lacing, crystal clear copper auburn color.\\n\\nNose decent hops, some floral grassy notes, a little spicy, little fruity and touch of zest, with some sweet like copper amber malts underneath, and a little fruity ester component I think, touch of a spicy hop background.\\n\\nTaste brings sweet copper malt, soft amber malt as well, little toasty, grainy like notes. Then hops, grassy a little earthy spicy, touch fruity as well, some melon rind notes, zest. Then mild fruity ester profile in the background it seems like. Finish is drier, pretty bitter with more lingering melon rind, spicy hops, a little earthy grassy too.\\n\\nMouth is med bod, a little soft malt note, nice carb.\\n\\nOverall Ok, an interesting beer, but not great, enjoyable but nothing to seek out.\\xa0962 charactersjlindros, Dec 23, 2015', u\"I'd call this a better than standard amber, and something I can always drink.  It has a bit of a mineral quality to me, that isn't bad, but it's there - in fact, gives it a bit more character.  I like the taste of malt mixed in with some more honey notes.  It's a beer you can imagine a norse warrior having before he goes out for the day.  But maybe not with the feast afterward.  I like this beer, and will be back for sure.\\xa0426 charactersnwildfire, Nov 30, 2015\", u\"16oz can from Julio's\\nSlightly hazy deep amber color with a huge frothy off white head that persists forever.  Solid hit of citrus hop with lots of caramel and bready with a touch of pine and resin. Not bad for an amber ale.\\xa0224 charactersjohnnnniee, Nov 28, 2015\", u'Tallboys in the Western MA area. I just hope things have improved since the first time I tried the Maple Breakfast Stout when the can seemed way, way off.\\n\\nA- Tallboy into a snifter with a deep red body and an off-white head. This head drives up to just about a finger tall with a frothy texture. A small foamy ring results after the cap dies down fairly quickly and lacing exists in a few sheets.\\n\\nS- Right about at the median of hoppy and malty with citrus hops bouncing off of toasted, browned grains. Grapefruit and orange brightness plays off of toast, medium Crystal caramelized grains and yeast bread.\\n\\nT- Plays a similar tune to the aroma but for some reason feels watered down at this point with the same balance of hops and malts at about fifty-fifty. Grapefruit, orange citrus, tea and floral-herbal-grassy hop notes atop a base of toasted barley, bread crust, caramel, apple esters and medium sweetness.\\n\\nMF- Light to medium overall thickness with a moderate level of carbonation. The bubbles promote a texture that is only slightly frothy and feels a bit thin/watery. An herbal bitterness lingers in the finish.\\n\\nStarts off well but with time it ends up feeling a bit thin and watered down. Good interplay between toasted malt caramel and grapefruit/orange citrus that could use some work on the depth of flavor and body.\\xa01,334 characterscbutova, Dec 24, 2015', u'Loved Tribute, so bought a fourpack of this when one was found at a store in south central Vermont earlier this week.\\n\\nPoured from the 16 oz. can into an English nonick pint\\n\\na: Clear dark amber with a finger and a half offwhite head which receded to thin even surface foam and dense lacing.\\n\\ns; Mild caramel malt.\\n\\nt: Follows the nose with a balancing hop bite.    \\n\\nm: Medium, good body and carbonation tingle.\\n\\no: A decent American amber, not as hoppy as the can might suggest, but a well-balanced and pleasant dinner beer and a pretty good sipper.\\xa0551 charactersscotorum, Aug 07, 2015', u\"Couldn't disagree more with the last reviewer.  Is this going to blow your mind?  Probably not.  It is, however, a very well made beer that captures the essence of an American Amber ale while not being overly aggressive.  Hop freaks might not appreciate that it's not as juicy as an IPA, but one of the beautiful things about the style is that it has plenty of latitude to represent the brewer's interpretation.  14th Star clearly prioritized balance over hops, and they've done an excellent job of executing their vision here.\\xa0527 charactersacread, Aug 03, 2015\", u'This feels like an amateur brew to me. It\\'s a \"drinkable\" homebrew at best. \\n\\nThey had Valor on draft at a local minor league ballpark for $6 and I opted for the $4 Bud Light, since the level of shame associated with drinking either beer in public was approximately the same.\\n\\nNothing from 14th Star Brewing has impressed me and I doubt anything ever will.\\xa0356 charactersrodmanfor3, Jul 22, 2015', u\"Can is dated 8/12/15\\n\\nPours a  honey-amber color with orange highlights. Head is 1/5th of an inch and off white. Head retention is good and so is lacing. \\n\\nSmell is of floral/earthy hops and sweet honey/Belgian rock candy. Bits of pine come through as beer warms, very hop forward aromas. Alcohol is undetected. \\n\\nTaste is similar to smell, lots of hops. Pine hops and fresh cut grass are predominate, sugary malt comes in after to balance it out. Theres a nice balance of bitter and sweet, kinda similar to an English pale ale. Alcohol isn't distinguished. \\n\\nMouthfeel is light and well carbonated. Head lasted through out and added some texture to the beer. \\n\\nOverall this beer was very refreshing and different take on the style. Mix of an amber, IPA, Black IPA, and Barleywine. Glad to get this as an extra in a trade, would buy again.\\xa0839 charactersangelmonster, Oct 08, 2015\", u'A big thanks to the founding father of the canquest, woodychandler, for this beer. Poured from a 16 oz. can. Has a dark amber color with a 1/2 inch head. Smell is of malts, hops. Taste is well balanced malts and hops, complimenting each other nicely, some caramel sweetness is present. Feels medium bodied in the mouth and overall a quality beer that is disappearing quickly.\\xa0375 characterstone77, Jul 09, 2015', u'The latest entry in the \"It Pays to Advertise\" column. A former neighbor, Craig Rodenberger, frequently goes to Vermont and knowing my affinity for CANned beers, he brought this back in furtherance of The CANQuest (tm). Others are welcome to do the same thing.\\n\\nFrom the CAN: \"A Hoppy Amber Ale\".\\n\\nI Crack!ed it open and CANmneced an inverted Glug until the head began to foam up to the point that I was forced to stop. This resulted in two fingers of foamy, tawny head that fell fairly quickly, but left some nice lacing in its wake. Color was an oh-so-slightly hazy Deep Amber/Light Copper to Copper (SRM = > 13, < 17). Nose had a berry-like malty sweetness that I have not perceived in years coupled with a minty hoppiness. Smells like Valor to me! Mouthfeel was rather thin. The hops were initially prevalent on the tongue with a grassy, minty bite. This gave \\'way to a toasty biscuity malt flavor that really worked well as a counterbalance. It provided me a nice break from my recent spate of Cascadian IPAs and the upcoming onslaught of AIPAs. Finish was in that nebulous realm between semi-sweet and semi-dry. Look, a signpost up ahead tells us that we are in the Nebulous Zone!\\xa01,186 characterswoodychandler, Jun 24, 2015', u\"16oz can. Pours a translucent reddish orange color with an inch of creamy head. Tons of lacing. The aroma is pine and citrus hops with some bread and caramel. Smells sweet. The taste isn't as hoppy as I expected. The taste is mostly bready malts, caramel and some pine. Very little alcohol presence. Finishes with some caramel, toasted bread and maybe a hint of orange peel. Creamy mouthfeel. Overall, decent enough but nothing special.\\xa0436 charactersPicoPapa, May 06, 2015\", u'From the can marked 03/19/2015.  Sampled on April 4, 2015.\\n\\nAmber red heady pour. Foamy lasting head.\\n\\nAroma of caramel malts, toast, and pine.\\n\\nMedium body.\\n\\nA toasted malt start to the flavor but it quickly becomes slightly hopped with a lingering dry pine finale.\\xa0266 characterspuboflyons, Apr 04, 2015', u'Pours a slightly cloudy dark amber with a generous head that stays awhile;  Hop presence is obvious to the nose, but the taste is not overwhelmingly hoppy;  Yum!\\xa0161 charactersBeerAndGasMasks, Mar 15, 2015', u'Pours a cloudy amber color with a thick head into my glass. \\n\\nSweet and hoppy upfront. Not as much as a pale ale or IPA but just right for the style. \\n\\nDitto on the taste. Flavorful with just the right amount of hops. \\n\\nCarbonation is near-flawless with a soft, hoppy finish. \\n\\nWorth trying if you enjoy amber ales.\\xa0315 charactersBrad007, Mar 08, 2015', u\"A-Pours clear and reddish in hue. Head is a thicker chunk of off-white. Actually a pretty brew.\\n\\nS-Balanced but I think there is something subtle about the malt that makes me enjoy it more than I'd expect. Lightly spicy. Caramel and bread. Pine hops.\\n\\nT-Not rewriting any brewing books here but it works. Malt is more complex. Sweet but also has dry components. Bread crusts. Hops are pine, somewhat floral and spicy.\\n\\nM-Light side of medium in body. A bit creamy. Moderately carbonated.\\n\\nO-Pleases in its subtleties. I also always enjoy seeing a brewery's flagship being a rather underutilized style.\\xa0601 charactersVelvetExtract, Jul 21, 2014\"]),\n",
       " Row(brewery_name=u'7 Mile Brewery', beer_name=u\"Bosco's Revenge\", state=u'New Jersey', reviews=[u\"It's a rauchbier. They did it right, complete with smoking pork belly and malts to give it the proper smoky, bacon-y smell and flavor. Would have liked a bit more actually but it's a very solid example of an under recognized style.\\xa0231 charactersI3eer, Dec 24, 2016\", u'Not my style at all.  Very strange on the palate.  Salty, heavy, strange bacon, just odd flavors.  And strange aftertaste.  I would not recommend doing anymore than putting this in a flight, if you dare.\\xa0203 charactersshank_guru, Nov 16, 2016']),\n",
       " Row(brewery_name=u'Beer Lab HI', beer_name=u'Abunai.P.A.', state=u'Hawaii', reviews=[u'Really liked this one.  It reminded me of the DIPAs I was getting up in Seattle.  Had that fresh piney/hoppy smell and flavor.  Though it was over 9%, it was very smooth, no heat.  Again, I wish they would brew one close to this one again.\\xa0239 charactersJISurfer, Aug 24, 2016']),\n",
       " Row(brewery_name=u'2 Row Brewing', beer_name=u'Random Red Rye', state=u'Utah', reviews=[u\"Appearance: Poured a dark ruby red with a very creamy beige head.\\n\\nSmell: little bit of biscuit, caramel, dried as well as some tropical fruits. \\n\\nTaste: roasted malt upfront. Notes of molasses, caramel and dried fruits. The hops contribute a sweet herbal flavor and a little bit of licorice. Biscuity at the finish. \\n\\nMouthfeel: surprisingly it is rich with a full-bodied mouthfeel. \\n\\nOverall: It's a beer that has a somewhat savory and sweet combination of flavors. The flavors are a bit heavy though, I wonder what it would be like if it was stepped down to an IPA.\\xa0568 charactersBenish, Jun 17, 2016\"]),\n",
       " Row(brewery_name=u'3 Stars Brewing Company', beer_name=u'Two Headed Unicorn', state=u'District of Columbia', reviews=[u'POUR: 12.7 fl oz bottle into a tulip glass. APPEARANCE: Golden straw to amber in color. Only a slight ring around the edge of the glass. White in color. No real glass lacing present. AROMA: Very funky. Typical Brett notes. Something deeper along the lines of ripe barnyard. Not off-putting just different. Very yeasty, yet with some subtle malty aromas. Some light and sweet honey elements mixed in as well. TASTE: Wow! Real tart. Very pucker inducing. Red berry like qualities through the tart. Bold with nothing subtle on the tongue. AFTERTASTE: Finishes somewhat crisp and clean. Tart...bitter...funk. All three of these elements last for awhile. Eventually gives way to some nice nutty malt and honey notes. NOTES: Nothing subtle about this one. Big sour pucker...but I like it! RESULT/ RATING: Very good / 4.41 out of 5.\\xa0825 charactersEmersonio, Sunday at 08:39 PM']),\n",
       " Row(brewery_name=u'10K Brewing', beer_name=u'Sweet Vanilla Oatmeal Stout', state=u'Minnesota', reviews=[u\"Delicious vanilla smooth stout. Rumour has it this beer has just recently gone on Nitro, and I will be stopping in soon to try it. I'm sure it will be even more silky and  chocolate-vanilla tasting!\\xa0198 charactersRyleeLogan, Apr 02, 2016\"]),\n",
       " Row(brewery_name=u'101 North Brewing Company', beer_name=u'Heroine India Pale Ale', state=u'California', reviews=[u'Golden pour with a packed fluffy head. Aroma of pine, crackery malt, melon. Taste is pine, spruce, mint, herbal tea, melon. Slightly sweet and bitter follow through. Solid beer.\\xa0177 charactersManapuaMan, Today at 01:32 AM', u'Pours a thin head on a clear straw body.\\nThe aroma is mild grain and lemon.\\nThe taste is more malty sweet with a balanced hop profile. Lemon bitterness.\\nThe texture is medium and softer.\\nAn enjoyable malty IPA.\\xa0210 charactersFatehunter, Jan 29, 2016', u\"At first sniff didn't expect much, hardly any aroma (more caramel than hops) . The taste was definitely better. Hops and barley well balanced with lingering finish. Many of the great IPA's finish a bit too crisp for my taste. The hops are a nice blend of pine, light citrus and earth. If the brewery added some aroma hops this could be a very good beer.\\xa0353 charactersseanbhudson, Oct 01, 2015\", u\"A: The beer is hazy yellowish amber in color and has a slight amount of visible carbonation.  It poured with some lacing on the surface and a collar around the edge of the glass.\\nS: Moderate aromas of herbal and spicy hops are present in the nose.\\nT: The taste follows the smell, having lots of flavors of herbal hops along with notes of spicy hops and hints of underlying caramel malts. There is a light to moderate amount of bitterness.\\nM: It feels medium-bodied and a little crisp on the palate with a moderate amount of carbonation.\\nO: This IPA does a good job at hiding its alcohol from the taste, but I didn't find the combination of herbal and spicy flavors to be rather pleasant.\\n\\nServing type: bottle\\xa0709 charactersmetter98, Nov 01, 2015\", u\"Pours a deep copper amber. \\n\\nThe malt is at the forefront here with a graham cracker amber ale flare. The hop profile is more centered around a clean bitter finish. Not a juicy aromatic hop explosion we've grown used to. 10 years ago this would have been considered a hoppy take on an English IPA. Now I don't know what it is, but it's a good IPA that's not trying to rock worlds.\\xa0380 characterssamtrillo, Jan 25, 2015\", u'Appearance: A clear pale ale color, foamy khaki head that is thick with decent lacing.\\n\\r\\nNose: Not much going on, simple hops. Not impressive.\\n\\r\\ntaste: Coppery, metallic, smooth hop oils, well balanced with a malty finish. Medicinal all of the way through and watery, but clean.\\n\\r\\nNotes: Malt too unbalanced to be good, or to stand out. Mouthfeel is weak and unoriginal.\\xa0375 characterstravolta, Jan 21, 2014', u'22oz bottle into my FW snifter glass\\nNotes from 06/22/14\\n\\nA: Lightly hazed burnt sienna color. Has that orangey amber look to it with a half finger width of khaki suds frothing over top. Modest hang time with just a few choppy dots and swaths of lace left behind. \\n\\nS: Heavy spiced hops with grassy herbals and a light tropical fruit note. It has this passion fruit and guava thing going on which is nice. Very spiced up however. I get some ephemeral biscuit malt underneath. Fairly nice and hoppy aromas. \\n\\nT: Taste has a firm bready malt biscuit there but with equal parts hops to balance. I get a good mix of grass with spice as well as some grapefruit and tropical spiced guava fruit. There is a low amount of actual bitterness with a touch of astringent pucker at the finish. The alcohol is really well masked making this nicely balanced and rather tasty. \\n\\nM: The mouth feel is creamy on the tongue with a moderate to lighter body. Some light astringency constricts the palate a touch. Good drying at the finish which is rather clean overall.\\n\\nD: This IPA won\\u2019t blow minds with its hefty toasted malt bill but it has some nice hoppy notes with a bit of spiced tropical flare to it. All in all some good balance across the boards. Would definitely have another but probably not something I will be searching out when in NorCal.\\xa01,334 charactersNugganooch, Jul 24, 2014', u\"The body is a deep, ruddy-brown color. Not much of a head forms, just a trace of tan, bubbly foam. It does leave some pretty nice looking lacing on the sides of the glass.\\n\\nThe nose is very malty, with aromas of caramel, brown sugar, and some molasses. Piney hop notes, with some floral tones as well. A little touch of grapefruit sweetness is also there.\\n\\nMalt forward again, with flavors of caramel and toasted bread. There is also some vague, apple fruit flavors. Light citrus hops, with a floral essence. Piney hops with some juicy grapefruit come up towards the end, and the finish has a dry and bitter finish, with a red ale essence.\\n\\nThe finish has some of the qualities of a red ale that I don't like (a weird mixture of malt sweetness and pine bitterness), but that is easily forgiven. An IPA to try out if you're looking for something different, as this is kind of a Red Ale/Amber/IPA hybrid. Pretty easy drinking, and satisfying.\\xa0940 characterslitheum94, Jun 10, 2013\", u\"I love this beer, it is not too hoppy.I am into lighter styles but enjoy a IPA that is drinkable and doesn't feel like its weighing me down, this is just that. It is easy to drink and has a light feel yet still has all the characteristics of a well rounded IPA. A break from the norm this brewery is one to keep an eye on.\\xa0322 charactersSuzanna, Jul 06, 2013\", u\"Copper color, darker than most IPAs. Frothy cream colored head. \\n\\nSmells bordering on a red/amber ale with hints of wet paper.\\n\\nThe hops are strong up front, but fairly easy drinking for a higher alcohol IPA. \\n\\nSmooth enough, but pretty flat. Somewhat astringent. Giving me some lingering hop breath.\\n\\nWith an abundance of good IPAs these days, it's tough to be noticeable in a good way and this one doesn't really stand out from the pack for me.\\xa0446 charactersandyfrancis, May 26, 2013\", u'This pours a light tan straw color. Light hop aroma which just doesn\\u2019t excite me. Dial up the hops\\u2014or at least give me more of a hop presence. Curiously, I picked up a spiced curry note on the flavor. Turmeric in particular. It has a pleasing bitterness with a piney finish. Perfectly decent IPA but it\\u2019s going to get lost in a sea of excellent IPAs out here.\\xa0365 characterselNopalero, Feb 28, 2013', u\"Pours out amber with orange around the edges. The head is off white and smaller than expected, there is plenty of visible carbonation. Lace retention is nice, sticks around for a while.\\n\\nPale and caramel malts start the smell. Some spice and citrus follow with a hint of pine. Not really West Coast, or NorCal as described, but still smell like a pretty good IPA.\\n\\nInteresting, almost roasted caramel start, quickly followed by citrus. It's more of an orange peel than a fruit citrus. Some grassy hops and pine aftertaste show up. There is a spicy note to this, the good gentleman at Healthy Spirits thought it might be Rye. I think he might be right. Whatever it is that adds that spicy kick, it's a nice addition. Carbonation is a little heavy for the thickness of the beer, but not terrible.\\n\\nNo real complaints. I may grab one again, wouldn't be bummed if I saw it on tap. But also not going to make the list of favorites. Sad I missed their brewery night during SF Beer Week. They got the time wrong online and I chose another meet the brewer night.\\n\\n4/28/13. I actually got a reply on my Instagram post of the beer from the brewer. No rye, the spice comes from the hop blend. Love how many brewery's are on Instagram, beerporn everywhere!\\xa01,244 charactersOBeerMeGreatOne, Apr 28, 2013\", u\"Tasty flagship from a worthy new brewery - combining the coppery-malty East Coast style of IPA with the hoppy character of the West Coast. This beer reminds me somewhat of Victory's Hop Devil, but with the creamier feel favored by West Coast brewers.\\n\\nPours a clear coppery with a moderate head that falls quickly, leaving decent lacing. The aroma is sticky hoppy with a citrusy edge over a somewhat milky character, like a creamcicle. The flavor is rich and hoppy - resiny and sticky, bitter like a blood orange, with a firm but not assertive malt backbone and an icecream feel on the tongue. The bitterness is confined mostly to the attack, with only a little prickle on the top of the throat on the finish.\\xa0709 charactersSeanibus, May 09, 2013\"]),\n",
       " Row(brewery_name=u'3 Sheeps Brewing', beer_name=u'Cashmere Hammer', state=u'Wisconsin', reviews=[u\"Poured from a bottle had a lot less head (almost none) than I expected for a Nitro. Maybe would be better out if a tap?\\nCame out dark black and looked good. \\nNot as creamy as I'd hoped but had a nice mouthfeel (little bubbly). \\nNice tasting dark beer without a bitter coffee aftertaste. \\nNot fabulous but a good beer that I'd drink again.\\xa0338 charactersJRick4, Jan 02, 2017\", u\"Unknown vintage; drank 12/27/15 @ the Yarchives. \\n\\nPoured from the bottle into a glass.\\n\\nBlack/brown appearance. \\n\\nA rough pour yielded a huge tan head; strong, frothy lace. \\n\\nFresh earth, raspberry & dry chocolate notes in the nose. \\n\\nCreamy medium mouthfeel. \\n\\nRaspberry, fresh earth & dry chocolate flavors. Interesting & easy to drink; not revelatory but I'd have another.\\xa0376 charactersGuyFawkes, Dec 30, 2016\", u'Nitro pour into a bulbous pint.\\nGorgeous dark brown body floats a 1/2 in tan head.\\nCocoa aroma with stone fruit notes.\\nFlavors match with a hint of alcohol.\\nMouthfeel is smooth and creamy with a dry cocoa finish.\\xa0212 charactersGrumpyGas, Jun 18, 2016', u'12oz bottle, no date.  Pours black with a small sized dense tan head; good lacing on the glass.  Smells of roasted malt, rye, some char, and come cocoa.  The taste is almost exactly the same with roasted malt, cocoa, and char with a mildly bitter finish. The mouthfeel was silky and carbonation was below average; perfect.  Overall, nitro offerings are a rare treat and this stout was a good example of its style. Worth a try.\\xa0426 charactersalarmclock314, Nov 24, 2015', u'Over all a fine beer indeed. A silky feel from nitro bubbles and a taste that is like sunday breakfast when your stoked for a feast! smells like chocolate and looks like midnight.\\xa0179 charactersSavan, Apr 26, 2016', u\"Chicago (Bottle from Woodman's in Kenosha)\\n\\nNice dark pour with creamy tan head.  Aroma pleasant, with chocolate, rye and malts prevalent. Very light texture and feel going down. Tastes like a coffee chocolate shake. Mild stout and an excellent desert / post meal offering. Great nitro offering in a bottle - something hard to pull off. Keep'em coming 3 Sheeps Brewing!!!\\xa0371 charactersdukeandduke, Nov 28, 2015\", u\"12 oz bottle poured into a 3 Sheeps pint.\\n6.5% ABV\\n\\nA - The heavy pour doesn't quite work like Left Hand's nitro Milk Stout causing Cashmere Hammer to erupt over the side but it's short-lived cascading forms into an ever-lasting plume of tan foam that refuses to collapse into the black beer.\\n\\nS - Heavily roasted malts offer a bitter aroma of burnt toast, espresso, and bittersweet chocolate while the unique addition of rye brings spiciness to the forefront with a nice bite.\\n\\nT - Not nearly as roasted in the flavor profile, Cashmere Hammer leans more towards a milk/dark chocolate combination that smoothly leads to a moderately spicy rye bite on the finish.\\n\\nM - With a velvety smoothness on the palate to compliment the rich flavor, Cashmere Hammer goes down wonderfully due to the nitro carbonation.\\n\\nO - 3 Sheeps' Cashmere Hammer begins with a wonderful appearance and cap of foam that contains its roasty aroma through the smooth flavor and even smoother body and finish. Add to these already quality characteristics the unique addition of rye, and the spiciness associated with it, and you've got yourself an excellent stout!\\xa01,135 charactersBeerFMAndy, Nov 21, 2015\", u'Very nice alternative to your usual oatmeal or standard nitro stout. The rye presence is not over the top but definitely noticeable and give the beer a warming effect on the finish.\\n\\n3 Sheeps is making some great beer!\\xa0218 charactersrobear, Nov 10, 2015', u\"First off, this is a bottled nitro beer.  You'll feel reckless doing this, but pour it vertically and watch the cascading effect of a nitro tap in your pint glass.  Amazing.  Black beer, cream foam.  Smells of dark chocolate, roast malt, nice.  Tastes incredible, dark chocolate, coffee flavors, the rye adds a nice hint of spiciness to it, balanced by the nitro cream.  Mouthfeel is amazing, creamy, light bodied and dangerously easy to drink.\\xa0444 charactersOttoj55, Nov 06, 2015\", u\"12oz bottle, served in a snifter glass.\\n\\nPours a dark brown body, thick, fine bubbled one finger brown head with good retention and splotchy dependent lacing. Smells of rich cocoa, mild dark fruit, a bit of mint. Not too complicated, but clean and appealing. Flavour is cocoa, milk chocolate, less dark fruit, mild mint which is perhaps from the rye. It's a rich chocolate flavour with nice earthy bitterness. Mouthfeel is medium, pleasant nitrogenous mouthfeel, creamy and smooth. It works quite well with this base. Easy to drink. Overall, this worked quite well with the nitro and the base rye stout; the flavours aren't too complicated or in-your-face, but they are quite balanced and makes for a pleasant, flavourful drinking experience.\\xa0742 charactersStevedore, Oct 28, 2015\", u'Draft nitro pour. Thick creamy head with a dark brown to tan profile. This beer definitely lends itself well to the nitro element - almost a milkshake like consistency which melds with the chocolately malts. Did not notice much of a rye spice note here.\\xa0253 charactersBarnoloid, Jan 05, 2015', u'Nitro - on-tap at The Brass Tap, Greenfield, WI:\\n\\nPours pitch black with a lasting creamy off-white head. Lacing sticks.\\n\\nThe smell is of coffee, some mint, some chocolate. Mild, but pleasant.\\n\\nThe taste is of chocolate and coffee with a minty touch from the rye.\\n\\nFull-bodied and smooth.\\n\\nNice use of rye and very nicely-made stout. Very enjoyable!\\xa0349 charactersjwc215, Jun 30, 2015']),\n",
       " Row(brewery_name=u'405 Brewing Co.', beer_name=u'Manly Barley Wine Ale', state=u'Oklahoma', reviews=[u'Pours a turbid amber/brown with a thin layer of beige colored head.  Pretty effervescent, never drops bright\\n\\nS:  Cakey, figgy, not much else\\n\\nT:  Follows the nose, some dryness, herbal hops & boozeyness up front.  Figgyness, some pear & bready sweetness as this warms, plus boozeyness & a little Golden Delicious Apple.    Finishes a little cakey, boozey & with some orchard fruit\\n\\nMF: Light/medium body, slightly over carbonated, sort of thin as it warms\\n\\nOkay for the style, not something I would recommend, a little too hot\\xa0527 charactersrusspowell, Jan 19, 2016']),\n",
       " Row(brewery_name=u'Barbarian Brewing', beer_name=u'Mystery Barrel Sour 1.0', state=u'Idaho', reviews=[u\"On tap at Alefort. I detected a lot of fruity sweetness behind the sourness, brett definitely in evidence. slightly hazy, light golden with zero head. i'm not a wine drinker, but reminded me of white wine.\\xa0205 charactersstevoj, Mar 26, 2016\"]),\n",
       " Row(brewery_name=u'16 Mile Brewing Company', beer_name=u'Harvest Ale', state=u'Delaware', reviews=[u'A: Dark chocolate coloring in a chalice with a creamy, pale yellowish-khaki tinted head of modest proportion. Quick paced effervesce races up along the vessel walls while the head retains for several minutes leaving a thin, snake skin band of lace. \\n\\nS: Mid-range level of chocolate-coffee roast, warm roasted nuts with lightly dry toffee-caramel sweetness. \\n\\nT: Flavor was creamy with some oats and wheat, chocolate and dry toffee-caramel nuttiness. Some spiciness of cardamon, cola and a smooth roasty chocolate-coffee taste that finishes out with light creamer notes. \\n\\nM: Good rate of carbonation, mid-body fullness with a creamy soft feel. \\n\\nO: Overall decent rate of drinkability, spicy cola, roasty-chocolate flavor with a soft wheat palate. Cleanly brewed, sweet, almost like an after dinner dessert/coffee treat.\\xa0821 charactersbeerthulhu, Jun 13, 2014', u\"This is my fave of 16 mile a great local brewer of brown ales, every pub in mid-atlantic should carry them.\\n\\nA: Bottle poured into Leffe chalice, results in fast fade head with not much lacing.... but... it's a beautiful clear mahogany brown. Loveliest color on a brown beer that I've seen. \\n\\nS: Caramel, spice, cinnamon - almost cola like. and dried grass, woody, barnyard, hay, autumn. \\n\\nT: More of the aromas, with creamy maltiness, moderate body, toasty, chestnuts, chocolate, very interesting and original - best brown ale yet? Finishes with nice bitter, no sweet residue despite the many sweet spectrum flavors: fig, coffee, cake. \\n\\nF: Nice feel, more body that most brown ales, good weight, low carbonation, nice finish. Great with food - in this case sausage white bean garlic cassolet dressed up with fresh chard, tomatoes, fennel seed from garden. \\n\\nBest from 16 mile.\\xa0878 charactersAct25, Aug 12, 2013\", u'A: The beer is clear but very dark garnet red in color and has a light amount of visible carbonation. It poured with a thin off white head that quickly died down, leaving a thin layer of bubbles covering the surface and a collar around the edge of the glass.\\nS: Light to moderate aromas of dark and nutty malts are present in the nose.\\nT: The taste is similar to the smell but seems to be a little more complex with notes of chocolate malts and hints of coffee. Although no bitterness is detectable, there are enough underlying hops to prevent any sweetness from becoming perceptible.\\nM: It feels light-bodied on the palate and has a moderate amount of carbonation.\\nO: Drinking this beer is a breeze given its light-bodied nature and low alcohol content. I would have no problem drinking an entire 6-pack of this in one sitting.\\xa0828 charactersmetter98, Jul 26, 2013', u'Pour is a dark muddy, murky brown. Scant light tan head, with lingering lace.\\n\\nNose is pretty malty, lots of sugary sweetness too. Brown sugar, caramel, and a slight sticky hop.\\n\\nTaste pretty sweet up front. Flavors of chocolate, brown sugar, molassess and a slightly roasty malt. Follows with a very mild hop, but finishes with a bitter coffee bite.\\n\\nBody is medium thin. A little watery.\\n\\nInteresting beer. Flavors are interesting, but not sure they really blend nicely into one another. Mouth feel especially is a bit lacking, really could use a little more beef. Would not be a bad session ale on a crisp fall evening, but there are better versions out there.\\xa0663 charactersdheacck11, Jun 15, 2013', u\"First had: on tap at 16 Mile\\n\\nNames can be deceiving... I expected a marzen or some kind of lager here, but instead I got a rather tasty brown ale. I'm not a huge fan of the style, but this one was surprisingly good.\\n\\nDeep, dark brown pour, with a nice off-white head that retained well and left some lacing on the glass. Aroma of caramel malts, slightly roasty, toasted bread, nutty, slight spiciness. Rich malty taste, caramel, coffee, unsweetened chocolate, nice leafy / herbal hop profile bringing in a balance and leaving a pleasantly dry finish. Medium body, very nice mouthfeel for the style. Most likely the best brew I sampled at 16 Mile.\\n\\nNot sure how this beer translates in a bottle, but on tap, I definitely recommend it!\\xa0734 charactersRifugium, Apr 03, 2013\", u\"Pours a very dark chestnut brown color with faint mahogany edges and a frothy, one finger off-white head that slowly settles into a lasting ring. \\xa0Streaks of soapy lacing left behind.\\n\\nToasted dark malt aroma with subtle roasted coffee, caramel,\\xa0toffee and cocoa. \\xa0There's a faint grassy hop presence but the nose is dominated by subtle roast and caramel malt sweetness.\\n\\nOn the lighter end of medium bodies with a flavor profile that's very similar to the aroma. \\xa0There is a very delicate, crisp hop bite up front but the dominant flavors here is slightly roasted sweet malt. \\xa0Hints of caramel, toffee and nut countered by autumnal spice and toasted bread. \\xa0Not very complex but pleasant enough and easy to drink.\\xa0720 characterscorby112, Feb 08, 2013\", u\"Cheers to THE CPJ!\\n\\nPours a dark brown with a fluffy ivory head that settles to a nice cap. Mild aromas of caramel malt, brown sugar, and baked bread. Typical Brown Ale, but not unpleasant. More caramel and baked bread, with mild floral hops. Nicely drinkable, but nothing new. Mouthfeel is smooth, with a medium body and decent carbonation. Ehh...not bad. Wouldn't pick it up again.\\xa0383 charactersjsanford, Dec 11, 2012\", u\"Picked this up at Gary's in Wayne last weekend. I had never heard of 16 Mile before and thought this would be a slightly different take on what is normally an easygoing style. This was just bit more aggressive than a typical English Brown Ale in terms of alcohol and hops but it was nothing earth-shattering either of those departments. Less sticky and more like a dessert beer than what the category would imply, I enjoyed this and thought it was a good brew to keep warm with during the recent cold nights!\\n\\nThe pour to this was dark brown with a bit of garnet around the edges. The head was present but faded quickly and there wasn't much of any carbonation to be seen. Lots of coffee and bitter chocolate in the nose and even more in the taste, with the mouthfeel having quite a bit of toffee to help bring the hops out. It's not a strong burn but this seemed like a light espresso in terms of taste and body, as this was quite thin. A hint of pumpernickel could be found in the back without too much of dough of thickness in the aftertaste. \\n\\nTo be sure, the booze is here but it took a while for it to kick in. There wasn't any caramel or sugary sweetness here like in so many other Brown Ales and for a slightly more aggressive take on the style, this fit the bill nicely. Subtly enjoyable, this fits the season nicely now that the Octoberfests and Marzens are off the shelf. Worth a go for fans of smooth, dark ales.\\xa01,424 charactersJerzDevl2000, Nov 14, 2012\", u\"12oz brown bottle with no freshness date.\\n\\nLOOK: Sufficient sticky tan lacing, dark brown with garnet highlights\\n\\nSMELL: Dried grass, toasted grain, slightly biscuity, faintness of figs, nutty, herbal, chicory, carob, woody, yeasty\\n\\nTASTE: Subtle smoothness, creamy maltiness, moderate sized body, toasty, chestnuts, faint chocolate, modest bitterness, light coffee, leafy hops, mild spiciness, yeasty semi-dry finish\\n\\nYou've got to let this baby warm up a bit, like with nearly every beer it reaches a peak. Right to spec for the style aside from it being bigger than the more modern English Brown Ales ... not letting that get in the way. Very nice!\\xa0651 charactersJason, Oct 17, 2012\", u'12oz bottle into a standard pint glass. The brew appears a dark brown with a finger of dark tan head. When held to the light, it shows lighter brown clarity around the edges and ruby hints through the body. \\n\\nThe aroma is rich with cocoa and toffee sweetness. Some burnt sugar quality mixes with a fresh scent of sweet grain and just a mild touch of alcohol and fruity to floral and hebal hops.\\n\\nThe taste includes somw fruity alcohol esters that blend with a note of fruity to floral hops. The malt is less chocolate-like than the aroma leads on and more focused on toffee/caramel. Overall it is well blended amd enjoyable just with a bit too much focus on residual sugar.\\n\\nThis is a medium bodied brew with a modest amount of carbonation. A pleasant take on the style with a nice balance of flavor and easy drinking smooth feel. The alcohol is well integrated. My only gripe is the residual sweetness seems a bit much and is the only thing keeping me back from throwing a couple down back to back.\\xa0999 charactersstakem, Oct 12, 2012', u'Served on-tap at On the Rocks in Lewes Beach, Del.\\n\\nA: Poured a deep, ruddy brown color with a two-finger head of creamy tan foam. Carbonation looked ample around the reddish-toned edges of the brew.\\n\\nS: Nice, sweet coffee and cocoa nib aroma in the nose. Blends with some earthy malts and a slight, herbal hop tinge.\\n\\nT: Smooth, roasted mellow malt flavor with lots of baked bread and chocolate on the plate. The finish nears a bittersweet coffee flavor blended with mild, spicy hops and a slightly nutty roasted aftertaste.\\n\\nM: Slightly creamy with a balanced mouthfeel in the finish.\\n\\nO: A nice, bold English brown ale with a subdued hand of American hops. The English malts are the showcase here, with a slightly jacked 6.1% ABV that only adds to the mellow, sweet warmth of the brew. I really enjoyed it and would certainly get it on-tap again.\\xa0849 charactersGambrinus1184, Jul 12, 2012', u\"A: I received this beer with absolutely no head. Probably due to the bartender, so I won't count that against it. Light dark brownish color, with slight hue\\n\\nS: Roasted coffee and a slight nutty smell\\n\\nT: Falls in line with the smell. Roasted nutty taste\\n\\nM: Mild body, with too high of carbonation for me\\n\\nO: A rather boring beer in my opinion. It's not something I'd get again.\\xa0379 charactersFadefury, Jun 07, 2012\", u'Review from notes.\\n\\nA: Pours a brownish color with ruby highlghts, small off-white head on top. Moderate retention and lacing. \\n\\nS: Lots of caramel, coffee, and some nuts. Overall it has a nice toasty aroma. \\n\\nT: Similar to the aroma, very toasty and nutty. Some caramel and very light bitterness. Definitely on the maltier side. \\n\\nM: Medium bodied with moderate carbonation. \\n\\nO: A pretty solid brown ale. Hope that 16 Mile puts this one into their regular line up sooner than later.\\xa0484 charactersmdaschaf, Dec 15, 2011', u\"As a preface, I was on business and given a 2/3 full growler by a colleague, as we didn't have time to make it to the brewery for lunch. It then rode around in my car and on an airplanefor two days before getting back to the fridge. Therefore, I cannot speak to its freshness. \\n\\nMore orange than brown, it rings of an Oktoberfest. Little head, but some of it may have been lost in transit. \\n\\nSweetly malted, almost like a big bottle of maple syrup. \\n\\nMalted and nutty, it echoes tobacco, brown sugar, and a hint of smokiness. Uniquely tasty - more flavor than most brown ales I've had. Actually harkens more to the 'Fests of the season than it does any brown. Very little hint of any alcohol.\\n\\nSeems to retain carbonation in the mouth that I thought might have been missing upon the pour.\\n\\nActually a pretty good beer, especially given its travel conditions. Great for the fall.\\xa0878 charactersmdcrouser, Oct 10, 2011\", u\"Reviewed from notes: had this with Thanksgiving Dinner.\\n\\nappearance: brown with orangish hue and a 2 finger off white head\\n\\nsmell: roast, caramel, nuts, malts\\n\\ntaste: roasted malts, caramel, \\n\\nmouthfeel: mild carbonation, medium body,\\n\\noverall: this is by far the best beer they have produced. only problem is they only bottle a limited # of this beer. here's to brewing this beer again.\\n\\nCheers,\\nThe CPJ\\xa0404 charactersTHECPJ, Aug 04, 2011\", u\"Wow, if you like full bodies, high flavor drinkable beers and aren't in the mood for hops, this is the beer. Dark brown pour, not quite black. Creamy dark head. Smells a little nutty but not too much. Taste is fantastic, it's chewey yet easily drinkable. This is easily my go to Fall Beer, I just with they made more of it. I've had it in the bottle, growler, and draft serving. Bottles are hand bottled on site in champagne bottles, not much to the bottle but that's kind of nice. I hope they brew this again in the fall.\\xa0522 charactersdhartogs, May 12, 2011\", u\"Poured from a capped, brown 750ml bottle into a Sam Adams Perfect Pint. No indication of year or best by date. There is a blank white area on the label which looks like it might normally hold that info, but I wonder if the trading source got this from someone at the brewery. No matter.\\n\\r\\nPours a deep, rich brown with very nice ruby highlights. A loose tan foam puts up a decent effort, but ultimately can't muster more than a ring around the edge of the surface. \\n\\r\\nAroma is very clean with nearly perfect toasty notes without tipping over into stout roast territory. Very impressive. Earthy hops blend very well with the roast to give a quite harmonious aroma. \\n\\r\\nFlavor is a fantastic blend of the same earthy flavors, but with a touch more bready balance. The hop aroma, flavors and bitterness are nearly perfectly balanced with the malty backbone. \\n\\r\\nMouthfeel is a touch lighter and more carbonated than what expect, but it doesn't detract from the overall experience significantly. Finish is dry and toasty leaving me ready for more.\\n\\r\\nDrinkability is also very high. There is no indication of abv on this bottle, but it doesn't seem to be very high. I'd have to guess in the 5.5 range. This is really quaffable brew that I enjoy more and more as I drink it. \\n\\r\\nOverall, this is my first experience with 16 Mile, but I am impressed. For many BAs who are stuck in the imperial double every world, this may not impress. However, for those who have a taste for quality of even humble styles, this is a real treat.\\xa01,524 charactersgwguest, Feb 13, 2011\"]),\n",
       " Row(brewery_name=u'7 Locks Brewing', beer_name=u'Farm House', state=u'Maryland', reviews=[u'I had this on tap at Tyber Bierhaus in Bethesda, MD. It came in a 300 ml globe glass and was an attractive deep brown with a lasting off-white head. The flavor was dominated by sweet malty tones that didn\\'t hide the alcohol content. The aroma was pleasing, with Belgian yeast clearly dominating. I object to the name \"Farmhouse\" as this would knock most farmworkers for a loop. This very like a brown Abbey ale, with a need for a little more body to balance the strength. Still, an interesting, very local experience.\\xa0517 charactersGeoWitt, May 30, 2016']),\n",
       " Row(brewery_name=u'AntiVillain Ale Co.', beer_name=u'8-Bit IPA!', state=u'Rhode Island', reviews=[u'Solidly amber in color with just a touch of haze.  Small but lasting head which leaves decent latticed lace.\\n\\nVery nice blended smell of caramel malt (like an English IPA) with a pleasant floral hop (more like an East Coast US IPA).\\n\\nStarts mild with some toastiness on the tongue.  The hop is straight up bitterness and stronger than I expected based on the smell.  Highly carbonated and neutral in body.  Long aftertaste, but again, the flavor is straight forward.  \\n\\nOverall, I do like this IPA.  The interplay between the malt and hop is fun, but neither is very complex.\\xa0575 characterssmcolw, Apr 22, 2016', u'Pours a slightly hazy and light amber in color with a minimal off white head that quickly faded to only a few bubbles at the edges. It has an almost murky/muddy appearance. Aroma is almost completely devoid of hop presence with a fair amount of caramelly malts. Taste is like the aroma, hop flavor is low with only hints of citrus and a few floral notes. Caramel malt character is offset by a relatively high bitterness that has a touch of astringency at the end. Medium body and moderate carbonation. Overall a very mediocre beer. I found the hop presence lacking, the caramel malts a bit heavy handed and the bitterness out of whack. I do really like the label (which is the reason that I took a chance on an unknown and picked this up).\\xa0739 charactersmnj21655, Apr 19, 2016', u'A- Snifter pour from the narrow 12oz bottle with a deep orange-amber body and a foamy off-white cap that rises to just about one finger high. Head falls fairly fast to a medium ring and lacing is in sheets.\\n\\nS- Really not a whole lot to go by especially for the IPA style. A hint of orange citrus hops is trumped by medium caramelized malts and yeast bread notes. A bit toasty.\\n\\nT- Fairly malty focus carries over from the aroma with cereal grains, toast, pale caramel and raw base malt notes coming out. Hops are more present in the finish with a heavy spicy and earthy presence as well citrus, herbal tea and floral hints.\\n\\nMF- Texture falls somewhere between silky, frothy and a tad creamy in a medium body that leans just towards the light end. Carbonation is moderate and the finish contains an herbal bitterness.\\n\\nA moderate malt presence interferes with the brightness of the hops in a fairly forgettable brew in an ultra competitive style. IPAs can be balanced but this one does not excel at that.\\xa01,005 characterscbutova, Mar 30, 2016', u\"Poured from a 12oz bottle ($6.99/four-pack) into a teku:\\n\\nAppearance: pours a bright copper-orange, with a thick, fluffy head. The body isn't quite translucent, but I wouldn't call it hazy either....somewhere in between. Leaves tons of sticky lacing.\\n\\nSmell: disappointed in this area, as I didn't get all that much from the hops. I got some dry, crackery scent from the malt, and maybe a little bit of bitterness, but the hops were a disappointment in a style that definitely needs hop aromatics.\\n\\nTaste: starts off with some nice, mellow fruit flavor. I got a little bit of melon, some pineapple rind.  Orange pith, not so much the flesh. Lots of bitterness, perhaps a little bit over on the bitter balance. The magnum definitely comes through on the finish much more than the El Dorado, though both give this beer a distinctly bitter flavor. Not necessarily a bad thing, but it's not the en vogue flavor right now. Nicely balanced between malt and hops.\\n\\nFeel: medium-bodied, with light to medium carbonation, and a semi-thick mouthfeel. Leaves a kind of dry, bitter finish.\\n\\nOverall: a solid first IPA from a new brewery. Combined with the fact that half of all proceeds are donated to different charities, this'll be a solid purchase, especially at the relatively cheap price point.\\xa01,287 charactersTheElectricOne, Mar 25, 2016\"])]"
      ]
     },
     "execution_count": 86,
     "metadata": {},
     "output_type": "execute_result"
    }
   ],
   "source": [
    "grouped_reviews = reviews_df.groupBy('brewery_name', 'beer_name', 'state').agg(collect_list('text').alias('reviews'))\n",
    "grouped_reviews.collect()"
   ]
  },
  {
   "cell_type": "code",
   "execution_count": 125,
   "metadata": {
    "collapsed": false
   },
   "outputs": [],
   "source": [
    "\n",
    "def preprocess_reviews(reviews):\n",
    "    stopwords_ = set(stopwords.words('english'))\n",
    "    stemmer_ = SnowballStemmer('english')\n",
    "    \n",
    "    if (reviews == None):\n",
    "        return []\n",
    "    \n",
    "    if (len(reviews) < 1):\n",
    "        return []\n",
    "    \n",
    "    stemmed = []\n",
    "    for text in reviews:\n",
    "        if (type(text) == unicode):\n",
    "            text = text.encode('utf-8')\n",
    "        \n",
    "        replace_punctuation = string.maketrans(string.punctuation, ' '*len(string.punctuation))\n",
    "        unpunctuated_text = text.translate(replace_punctuation)\n",
    "        tokens = word_tokenize(unpunctuated_text)[:-5:] # reviewer username info lost here via array slice\n",
    "        lowercased_tokens = [token.lower() for token in tokens]\n",
    "        filtered_tokens = [w for w in lowercased_tokens if not w in stopwords_] \n",
    "        try:\n",
    "            stemmed += [stemmer_.stem(w) for w in filtered_tokens]\n",
    "        except:\n",
    "            stemmed += [stemmer_.stem(w) for w in filtered_tokens[:-1:]] # review text is more than 999 characters\n",
    "    return(stemmed)"
   ]
  },
  {
   "cell_type": "code",
   "execution_count": 123,
   "metadata": {
    "collapsed": false
   },
   "outputs": [],
   "source": [
    "test = '''Poured from a 12oz bottle ($6.99/four-pack) into a teku:\\n\\nAppearance: pours a bright copper-orange, with a thick, fluffy head. The body isn't quite translucent, but I wouldn't call it hazy either....somewhere in between. Leaves tons of sticky lacing.\\n\\nSmell: disappointed in this area, as I didn't get all that much from the hops. I got some dry, crackery scent from the malt, and maybe a little bit of bitterness, but the hops were a disappointment in a style that definitely needs hop aromatics.\\n\\nTaste: starts off with some nice, mellow fruit flavor. I got a little bit of melon, some pineapple rind.  Orange pith, not so much the flesh. Lots of bitterness, perhaps a little bit over on the bitter balance. The magnum definitely comes through on the finish much more than the El Dorado, though both give this beer a distinctly bitter flavor. Not necessarily a bad thing, but it's not the en vogue flavor right now. Nicely balanced between malt and hops.\\n\\nFeel: medium-bodied, with light to medium carbonation, and a semi-thick mouthfeel. Leaves a kind of dry, bitter finish.\\n\\nOverall: a solid first IPA from a new brewery. Combined with the fact that half of all proceeds are donated to different charities, this'll be a solid purchase, especially at the relatively cheap price point.\\xa01,287 charactersTheElectricOne, Mar 25, 2016'''\n",
    "\n",
    "reviews = [u'Solidly amber in color with just a touch of haze.  Small but lasting head which leaves decent latticed lace.\\n\\nVery nice blended smell of caramel malt (like an English IPA) with a pleasant floral hop (more like an East Coast US IPA).\\n\\nStarts mild with some toastiness on the tongue.  The hop is straight up bitterness and stronger than I expected based on the smell.  Highly carbonated and neutral in body.  Long aftertaste, but again, the flavor is straight forward.  \\n\\nOverall, I do like this IPA.  The interplay between the malt and hop is fun, but neither is very complex.\\xa0575 characterssmcolw, Apr 22, 2016', u'Pours a slightly hazy and light amber in color with a minimal off white head that quickly faded to only a few bubbles at the edges. It has an almost murky/muddy appearance. Aroma is almost completely devoid of hop presence with a fair amount of caramelly malts. Taste is like the aroma, hop flavor is low with only hints of citrus and a few floral notes. Caramel malt character is offset by a relatively high bitterness that has a touch of astringency at the end. Medium body and moderate carbonation. Overall a very mediocre beer. I found the hop presence lacking, the caramel malts a bit heavy handed and the bitterness out of whack. I do really like the label (which is the reason that I took a chance on an unknown and picked this up).\\xa0739 charactersmnj21655, Apr 19, 2016', u'A- Snifter pour from the narrow 12oz bottle with a deep orange-amber body and a foamy off-white cap that rises to just about one finger high. Head falls fairly fast to a medium ring and lacing is in sheets.\\n\\nS- Really not a whole lot to go by especially for the IPA style. A hint of orange citrus hops is trumped by medium caramelized malts and yeast bread notes. A bit toasty.\\n\\nT- Fairly malty focus carries over from the aroma with cereal grains, toast, pale caramel and raw base malt notes coming out. Hops are more present in the finish with a heavy spicy and earthy presence as well citrus, herbal tea and floral hints.\\n\\nMF- Texture falls somewhere between silky, frothy and a tad creamy in a medium body that leans just towards the light end. Carbonation is moderate and the finish contains an herbal bitterness.\\n\\nA moderate malt presence interferes with the brightness of the hops in a fairly forgettable brew in an ultra competitive style. IPAs can be balanced but this one does not excel at that.\\xa01,005 characterscbutova, Mar 30, 2016', u\"Poured from a 12oz bottle ($6.99/four-pack) into a teku:\\n\\nAppearance: pours a bright copper-orange, with a thick, fluffy head. The body isn't quite translucent, but I wouldn't call it hazy either....somewhere in between. Leaves tons of sticky lacing.\\n\\nSmell: disappointed in this area, as I didn't get all that much from the hops. I got some dry, crackery scent from the malt, and maybe a little bit of bitterness, but the hops were a disappointment in a style that definitely needs hop aromatics.\\n\\nTaste: starts off with some nice, mellow fruit flavor. I got a little bit of melon, some pineapple rind.  Orange pith, not so much the flesh. Lots of bitterness, perhaps a little bit over on the bitter balance. The magnum definitely comes through on the finish much more than the El Dorado, though both give this beer a distinctly bitter flavor. Not necessarily a bad thing, but it's not the en vogue flavor right now. Nicely balanced between malt and hops.\\n\\nFeel: medium-bodied, with light to medium carbonation, and a semi-thick mouthfeel. Leaves a kind of dry, bitter finish.\\n\\nOverall: a solid first IPA from a new brewery. Combined with the fact that half of all proceeds are donated to different charities, this'll be a solid purchase, especially at the relatively cheap price point.\\xa01,287 charactersTheElectricOne, Mar 25, 2016\"]\n",
    "# reviews"
   ]
  },
  {
   "cell_type": "code",
   "execution_count": 120,
   "metadata": {
    "collapsed": false
   },
   "outputs": [],
   "source": [
    "# import string\n",
    "# replace_punctuation = string.maketrans(string.punctuation, ' '*len(string.punctuation))\n",
    "# unpunctuated_test = test.translate(replace_punctuation)\n",
    "# tokens = word_tokenize(unpunctuated_test)\n",
    "# lowercase_tokens = [token.lower() for token in tokens]\n",
    "# lowercase_tokens[:-5:]"
   ]
  },
  {
   "cell_type": "code",
   "execution_count": 169,
   "metadata": {
    "collapsed": false
   },
   "outputs": [
    {
     "name": "stdout",
     "output_type": "stream",
     "text": [
      "[u'solid', u'amber', u'color', u'touch', u'haze', u'small', u'last', u'head', u'leav', u'decent', u'lattic', u'lace', u'nice', u'blend', u'smell', u'caramel', u'malt', u'like', u'english', u'ipa', u'pleasant', u'floral', u'hop', u'like', u'east', u'coast', 'us', u'ipa', u'start', u'mild', u'toasti', u'tongu', u'hop', u'straight', u'bitter', u'stronger', u'expect', u'base', u'smell', u'high', u'carbon', u'neutral', u'bodi', u'long', u'aftertast', u'flavor', u'straight', u'forward', u'overal', u'like', u'ipa', u'interplay', u'malt', u'hop', u'fun', u'neither', u'complex', u'pour', u'slight', u'hazi', u'light', u'amber', u'color', u'minim', u'white', u'head', u'quick', u'fade', u'bubbl', u'edg', u'almost', u'murki', u'muddi', u'appear', u'aroma', u'almost', u'complet', u'devoid', u'hop', u'presenc', u'fair', u'amount', u'caramelli', u'malt', u'tast', u'like', u'aroma', u'hop', u'flavor', u'low', u'hint', u'citrus', u'floral', u'note', u'caramel', u'malt', u'charact', u'offset', u'relat', u'high', u'bitter', u'touch', u'astring', u'end', u'medium', u'bodi', u'moder', u'carbon', u'overal', u'mediocr', u'beer', u'found', u'hop', u'presenc', u'lack', u'caramel', u'malt', u'bit', u'heavi', u'hand', u'bitter', u'whack', u'realli', u'like', u'label', u'reason', u'took', u'chanc', u'unknown', u'pick', u'snifter', u'pour', u'narrow', u'12oz', u'bottl', u'deep', u'orang', u'amber', u'bodi', u'foami', u'white', u'cap', u'rise', u'one', u'finger', u'high', u'head', u'fall', u'fair', u'fast', u'medium', u'ring', u'lace', u'sheet', u'realli', u'whole', u'lot', 'go', u'especi', u'ipa', u'style', u'hint', u'orang', u'citrus', u'hop', u'trump', u'medium', u'caramel', u'malt', u'yeast', u'bread', u'note', u'bit', u'toasti', u'fair', u'malti', u'focus', u'carri', u'aroma', u'cereal', u'grain', u'toast', u'pale', u'caramel', u'raw', u'base', u'malt', u'note', u'come', u'hop', u'present', u'finish', u'heavi', u'spici', u'earthi', u'presenc', u'well', u'citrus', u'herbal', u'tea', u'floral', u'hint', 'mf', u'textur', u'fall', u'somewher', u'silki', u'frothi', u'tad', u'creami', u'medium', u'bodi', u'lean', u'toward', u'light', u'end', u'carbon', u'moder', u'finish', u'contain', u'herbal', u'bitter', u'moder', u'malt', u'presenc', u'interfer', u'bright', u'hop', u'fair', u'forgett', u'brew', u'ultra', u'competit', u'style', u'ipa', u'balanc', u'one', u'excel', u'pour', u'12oz', u'bottl', '6', '99', u'four', u'pack', u'teku', u'appear', u'pour', u'bright', u'copper', u'orang', u'thick', u'fluffi', u'head', u'bodi', u'quit', u'transluc', u'call', u'hazi', u'either', u'somewher', u'leav', u'ton', u'sticki', u'lace', u'smell', u'disappoint', u'area', u'get', u'much', u'hop', u'got', u'dri', u'crackeri', u'scent', u'malt', u'mayb', u'littl', u'bit', u'bitter', u'hop', u'disappoint', u'style', u'definit', u'need', u'hop', u'aromat', u'tast', u'start', u'nice', u'mellow', u'fruit', u'flavor', u'got', u'littl', u'bit', u'melon', u'pineappl', u'rind', u'orang', u'pith', u'much', u'flesh', u'lot', u'bitter', u'perhap', u'littl', u'bit', u'bitter', u'balanc', u'magnum', u'definit', u'come', u'finish', u'much', 'el', u'dorado', u'though', u'give', u'beer', u'distinct', u'bitter', u'flavor', u'necessarili', u'bad', u'thing', 'en', u'vogu', u'flavor', u'right', u'nice', u'balanc', u'malt', u'hop', u'feel', u'medium', u'bodi', u'light', u'medium', u'carbon', u'semi', u'thick', u'mouthfeel', u'leav', u'kind', u'dri', u'bitter', u'finish', u'overal', u'solid', u'first', u'ipa', u'new', u'breweri', u'combin', u'fact', u'half', u'proceed', u'donat', u'differ', u'chariti', u'solid', u'purchas', u'especi', u'relat', u'cheap', u'price', u'point']\n",
      "root\n",
      " |-- brewery_name: string (nullable = true)\n",
      " |-- beer_name: string (nullable = true)\n",
      " |-- state: string (nullable = true)\n",
      " |-- reviews: array (nullable = true)\n",
      " |    |-- element: string (containsNull = true)\n",
      " |-- tokens: array (nullable = true)\n",
      " |    |-- element: string (containsNull = true)\n",
      "\n"
     ]
    }
   ],
   "source": [
    "# preprocess_review_text(test)\n",
    "tokens = preprocess_reviews(reviews)\n",
    "print tokens\n",
    "\n",
    "tokenizer_udf = udf(lambda x : preprocess_reviews(x), ArrayType(StringType()))\n",
    "\n",
    "df_tokens = grouped_reviews.withColumn(\"tokens\", tokenizer_udf(grouped_reviews.reviews))\n",
    "df_tokens.printSchema()\n"
   ]
  },
  {
   "cell_type": "code",
   "execution_count": 87,
   "metadata": {
    "collapsed": false
   },
   "outputs": [],
   "source": [
    "cv = CountVectorizer(inputCol='tokens', outputCol='features_tf')\n",
    "# cv.fit(tokens)"
   ]
  },
  {
   "cell_type": "code",
   "execution_count": 105,
   "metadata": {
    "collapsed": false
   },
   "outputs": [
    {
     "data": {
      "text/plain": [
       "'!\"#$%&\\'()*+,-./:;<=>?@[\\\\]^_`{|}~\\\\xa'"
      ]
     },
     "execution_count": 105,
     "metadata": {},
     "output_type": "execute_result"
    }
   ],
   "source": [
    "string.punctuation+'\\\\xa'"
   ]
  },
  {
   "cell_type": "code",
   "execution_count": null,
   "metadata": {
    "collapsed": true
   },
   "outputs": [],
   "source": []
  }
 ],
 "metadata": {
  "anaconda-cloud": {},
  "kernelspec": {
   "display_name": "Python [Root]",
   "language": "python",
   "name": "Python [Root]"
  },
  "language_info": {
   "codemirror_mode": {
    "name": "ipython",
    "version": 2
   },
   "file_extension": ".py",
   "mimetype": "text/x-python",
   "name": "python",
   "nbconvert_exporter": "python",
   "pygments_lexer": "ipython2",
   "version": "2.7.12"
  }
 },
 "nbformat": 4,
 "nbformat_minor": 0
}
