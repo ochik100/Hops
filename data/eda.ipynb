{
 "cells": [
  {
   "cell_type": "code",
   "execution_count": 2,
   "metadata": {
    "collapsed": false
   },
   "outputs": [],
   "source": [
    "import pyspark as ps\n",
    "import warnings\n",
    "import multiprocessing\n",
    "import numpy as np\n",
    "\n",
    "import string\n",
    "from nltk.tokenize import word_tokenize\n",
    "from nltk.corpus import stopwords\n",
    "from nltk.stem.snowball import SnowballStemmer\n",
    "\n",
    "from pyspark.sql.functions import UserDefinedFunction, udf, monotonically_increasing_id\n",
    "from pyspark.sql.functions import count, collect_list, split\n",
    "from pyspark.sql.types import StringType, ArrayType, DoubleType\n",
    "\n",
    "from pyspark.ml.feature import CountVectorizer, Normalizer, IDF, Tokenizer"
   ]
  },
  {
   "cell_type": "code",
   "execution_count": 3,
   "metadata": {
    "collapsed": false
   },
   "outputs": [
    {
     "name": "stdout",
     "output_type": "stream",
     "text": [
      "Just created a SparkContext\n"
     ]
    }
   ],
   "source": [
    "# multiprocessing.cpu_count() \n",
    "try:\n",
    "    sc = ps.SparkContext('local[8]')\n",
    "    print \"Just created a SparkContext\"\n",
    "except ValueError:\n",
    "    warnings.warn(\"SparkContext already exists in this scope\")"
   ]
  },
  {
   "cell_type": "code",
   "execution_count": 4,
   "metadata": {
    "collapsed": false
   },
   "outputs": [],
   "source": [
    "sqlContext = ps.SQLContext(sc)"
   ]
  },
  {
   "cell_type": "code",
   "execution_count": 5,
   "metadata": {
    "collapsed": false
   },
   "outputs": [],
   "source": [
    "df = sqlContext.read.json('reviews_1000.json')"
   ]
  },
  {
   "cell_type": "code",
   "execution_count": 6,
   "metadata": {
    "collapsed": false
   },
   "outputs": [],
   "source": [
    "def preprocess_review_text(text):\n",
    "    stopwords_ = set(stopwords.words('english') + [str(i) for i in xrange(100)])\n",
    "    stemmer_ = SnowballStemmer('english')\n",
    "    \n",
    "    if (text == None):\n",
    "        return []\n",
    "    \n",
    "    if (len(text) < 1):\n",
    "        return []\n",
    "    \n",
    "    if (type(text) == unicode):\n",
    "        text = text.encode('utf-8')\n",
    "        \n",
    "    replace_punctuation = string.maketrans(string.punctuation, ' '*len(string.punctuation))\n",
    "    unpunctuated_text = text.translate(replace_punctuation)\n",
    "    tokens = word_tokenize(unpunctuated_text)[:-5:] # reviewer username info lost here via array slice\n",
    "    lowercased_tokens = [token.lower() for token in tokens]\n",
    "    filtered_tokens = [w for w in lowercased_tokens if not w in stopwords_] \n",
    "    \n",
    "    stemmed = []\n",
    "    for token in filtered_tokens:\n",
    "        try:\n",
    "            stemmed.append(stemmer_.stem(token))\n",
    "        except:\n",
    "            # continue when stemmer doesn't work\n",
    "            continue\n",
    "\n",
    "    return stemmed"
   ]
  },
  {
   "cell_type": "code",
   "execution_count": 8,
   "metadata": {
    "collapsed": false
   },
   "outputs": [],
   "source": [
    "token_udf = udf(lambda x: preprocess_review_text(x), ArrayType(StringType()))\n",
    "\n",
    "df_reviews = df.select('brewery_name', 'beer_name', 'state', 'beer_style', 'text')"
   ]
  },
  {
   "cell_type": "code",
   "execution_count": 9,
   "metadata": {
    "collapsed": true
   },
   "outputs": [],
   "source": [
    "df_tokens = df_reviews.withColumn(\"tokens\", token_udf('text'))"
   ]
  },
  {
   "cell_type": "code",
   "execution_count": 10,
   "metadata": {
    "collapsed": true
   },
   "outputs": [],
   "source": [
    "def get_all_tokens(tokens):\n",
    "    return reduce(lambda x,y: x + y, tokens)\n",
    "\n",
    "get_all_tokens_udf = udf(get_all_tokens, ArrayType(StringType()))"
   ]
  },
  {
   "cell_type": "code",
   "execution_count": 11,
   "metadata": {
    "collapsed": false
   },
   "outputs": [
    {
     "name": "stdout",
     "output_type": "stream",
     "text": [
      "root\n",
      " |-- brewery_name: string (nullable = true)\n",
      " |-- beer_name: string (nullable = true)\n",
      " |-- state: string (nullable = true)\n",
      " |-- beer_style: string (nullable = true)\n",
      " |-- stemmed_tokens: array (nullable = true)\n",
      " |    |-- element: string (containsNull = true)\n",
      "\n"
     ]
    }
   ],
   "source": [
    "df_reviews_stemmed = df_tokens.groupby('brewery_name', 'beer_name', 'state', 'beer_style') \\\n",
    "                        .agg(get_all_tokens_udf(collect_list('tokens')) \\\n",
    "                        .alias('stemmed_tokens'))\n",
    "    \n",
    "df_reviews_stemmed.printSchema()"
   ]
  },
  {
   "cell_type": "code",
   "execution_count": 12,
   "metadata": {
    "collapsed": false
   },
   "outputs": [],
   "source": [
    "# example user defined function\n",
    "def up(text):\n",
    "    return text.upper()\n",
    "up_udf = udf(up, StringType())"
   ]
  },
  {
   "cell_type": "code",
   "execution_count": null,
   "metadata": {
    "collapsed": true
   },
   "outputs": [],
   "source": [
    "'''\n",
    "BREAKKKKKK\n",
    "'''"
   ]
  },
  {
   "cell_type": "code",
   "execution_count": 6,
   "metadata": {
    "collapsed": false
   },
   "outputs": [
    {
     "name": "stdout",
     "output_type": "stream",
     "text": [
      "root\n",
      " |-- brewery_name: string (nullable = true)\n",
      " |-- beer_name: string (nullable = true)\n",
      " |-- state: string (nullable = true)\n",
      " |-- beer_style: string (nullable = true)\n",
      " |-- text: string (nullable = true)\n",
      "\n"
     ]
    }
   ],
   "source": [
    "reviews_df = df.select('brewery_name', 'beer_name', 'state', 'beer_style', 'text')"
   ]
  },
  {
   "cell_type": "code",
   "execution_count": 23,
   "metadata": {
    "collapsed": false
   },
   "outputs": [
    {
     "data": {
      "text/plain": [
       "<pyspark.sql.group.GroupedData at 0x10bbb0e50>"
      ]
     },
     "execution_count": 23,
     "metadata": {},
     "output_type": "execute_result"
    }
   ],
   "source": [
    "reviews_df.groupBy('brewery_name', 'beer_name', 'state')"
   ]
  },
  {
   "cell_type": "code",
   "execution_count": 189,
   "metadata": {
    "collapsed": false
   },
   "outputs": [],
   "source": [
    "grouped_reviews = reviews_df.groupBy('brewery_name', 'beer_name', 'state').agg(collect_list('text').alias('reviews'))\n",
    "# grouped_reviews.collect()"
   ]
  },
  {
   "cell_type": "code",
   "execution_count": 187,
   "metadata": {
    "collapsed": false
   },
   "outputs": [],
   "source": [
    "def preprocess_reviews(reviews):\n",
    "    stopwords_ = set(stopwords.words('english'))\n",
    "    stemmer_ = SnowballStemmer('english')\n",
    "    \n",
    "    if (reviews == None):\n",
    "        return []\n",
    "    \n",
    "    if (len(reviews) < 1):\n",
    "        return []\n",
    "    \n",
    "    stemmed = []\n",
    "    for text in reviews:\n",
    "        if (type(text) == unicode):\n",
    "            text = text.encode('utf-8')\n",
    "        \n",
    "        replace_punctuation = string.maketrans(string.punctuation, ' '*len(string.punctuation))\n",
    "        unpunctuated_text = text.translate(replace_punctuation)\n",
    "        tokens = word_tokenize(unpunctuated_text)[:-5:] # reviewer username info lost here via array slice\n",
    "        lowercased_tokens = [token.lower() for token in tokens]\n",
    "        filtered_tokens = [w for w in lowercased_tokens if not w in stopwords_] \n",
    "        try:\n",
    "            stemmed += [stemmer_.stem(w) for w in filtered_tokens]\n",
    "        except:\n",
    "            stemmed += [stemmer_.stem(w) for w in filtered_tokens[:-1:]] # review text is more than 999 characters\n",
    "    return(stemmed)"
   ]
  },
  {
   "cell_type": "code",
   "execution_count": 123,
   "metadata": {
    "collapsed": false
   },
   "outputs": [],
   "source": [
    "test = '''Poured from a 12oz bottle ($6.99/four-pack) into a teku:\\n\\nAppearance: pours a bright copper-orange, with a thick, fluffy head. The body isn't quite translucent, but I wouldn't call it hazy either....somewhere in between. Leaves tons of sticky lacing.\\n\\nSmell: disappointed in this area, as I didn't get all that much from the hops. I got some dry, crackery scent from the malt, and maybe a little bit of bitterness, but the hops were a disappointment in a style that definitely needs hop aromatics.\\n\\nTaste: starts off with some nice, mellow fruit flavor. I got a little bit of melon, some pineapple rind.  Orange pith, not so much the flesh. Lots of bitterness, perhaps a little bit over on the bitter balance. The magnum definitely comes through on the finish much more than the El Dorado, though both give this beer a distinctly bitter flavor. Not necessarily a bad thing, but it's not the en vogue flavor right now. Nicely balanced between malt and hops.\\n\\nFeel: medium-bodied, with light to medium carbonation, and a semi-thick mouthfeel. Leaves a kind of dry, bitter finish.\\n\\nOverall: a solid first IPA from a new brewery. Combined with the fact that half of all proceeds are donated to different charities, this'll be a solid purchase, especially at the relatively cheap price point.\\xa01,287 charactersTheElectricOne, Mar 25, 2016'''\n",
    "\n",
    "reviews = [u'Solidly amber in color with just a touch of haze.  Small but lasting head which leaves decent latticed lace.\\n\\nVery nice blended smell of caramel malt (like an English IPA) with a pleasant floral hop (more like an East Coast US IPA).\\n\\nStarts mild with some toastiness on the tongue.  The hop is straight up bitterness and stronger than I expected based on the smell.  Highly carbonated and neutral in body.  Long aftertaste, but again, the flavor is straight forward.  \\n\\nOverall, I do like this IPA.  The interplay between the malt and hop is fun, but neither is very complex.\\xa0575 characterssmcolw, Apr 22, 2016', u'Pours a slightly hazy and light amber in color with a minimal off white head that quickly faded to only a few bubbles at the edges. It has an almost murky/muddy appearance. Aroma is almost completely devoid of hop presence with a fair amount of caramelly malts. Taste is like the aroma, hop flavor is low with only hints of citrus and a few floral notes. Caramel malt character is offset by a relatively high bitterness that has a touch of astringency at the end. Medium body and moderate carbonation. Overall a very mediocre beer. I found the hop presence lacking, the caramel malts a bit heavy handed and the bitterness out of whack. I do really like the label (which is the reason that I took a chance on an unknown and picked this up).\\xa0739 charactersmnj21655, Apr 19, 2016', u'A- Snifter pour from the narrow 12oz bottle with a deep orange-amber body and a foamy off-white cap that rises to just about one finger high. Head falls fairly fast to a medium ring and lacing is in sheets.\\n\\nS- Really not a whole lot to go by especially for the IPA style. A hint of orange citrus hops is trumped by medium caramelized malts and yeast bread notes. A bit toasty.\\n\\nT- Fairly malty focus carries over from the aroma with cereal grains, toast, pale caramel and raw base malt notes coming out. Hops are more present in the finish with a heavy spicy and earthy presence as well citrus, herbal tea and floral hints.\\n\\nMF- Texture falls somewhere between silky, frothy and a tad creamy in a medium body that leans just towards the light end. Carbonation is moderate and the finish contains an herbal bitterness.\\n\\nA moderate malt presence interferes with the brightness of the hops in a fairly forgettable brew in an ultra competitive style. IPAs can be balanced but this one does not excel at that.\\xa01,005 characterscbutova, Mar 30, 2016', u\"Poured from a 12oz bottle ($6.99/four-pack) into a teku:\\n\\nAppearance: pours a bright copper-orange, with a thick, fluffy head. The body isn't quite translucent, but I wouldn't call it hazy either....somewhere in between. Leaves tons of sticky lacing.\\n\\nSmell: disappointed in this area, as I didn't get all that much from the hops. I got some dry, crackery scent from the malt, and maybe a little bit of bitterness, but the hops were a disappointment in a style that definitely needs hop aromatics.\\n\\nTaste: starts off with some nice, mellow fruit flavor. I got a little bit of melon, some pineapple rind.  Orange pith, not so much the flesh. Lots of bitterness, perhaps a little bit over on the bitter balance. The magnum definitely comes through on the finish much more than the El Dorado, though both give this beer a distinctly bitter flavor. Not necessarily a bad thing, but it's not the en vogue flavor right now. Nicely balanced between malt and hops.\\n\\nFeel: medium-bodied, with light to medium carbonation, and a semi-thick mouthfeel. Leaves a kind of dry, bitter finish.\\n\\nOverall: a solid first IPA from a new brewery. Combined with the fact that half of all proceeds are donated to different charities, this'll be a solid purchase, especially at the relatively cheap price point.\\xa01,287 charactersTheElectricOne, Mar 25, 2016\"]\n",
    "# reviews"
   ]
  },
  {
   "cell_type": "code",
   "execution_count": 192,
   "metadata": {
    "collapsed": false
   },
   "outputs": [],
   "source": [
    "# preprocess_review_text(test)\n",
    "tokens = preprocess_reviews(reviews)\n",
    "\n",
    "tokenizer_udf = udf(lambda x : preprocess_reviews(x), ArrayType(StringType()))\n",
    "\n",
    "# df_tokens = grouped_reviews.withColumn(\"tokens\", tokenizer_udf(grouped_reviews.reviews))\n",
    "# df_tokens.printSchema()"
   ]
  },
  {
   "cell_type": "code",
   "execution_count": 13,
   "metadata": {
    "collapsed": false
   },
   "outputs": [],
   "source": [
    "cv = CountVectorizer(inputCol='stemmed_tokens', outputCol='features_tf')\n",
    "cv_model = cv.fit(df_reviews_stemmed)\n",
    "df_features_tf = cv_model.transform(df_reviews_stemmed)\n",
    "\n",
    "normalizer = Normalizer(inputCol='features_tf', outputCol='features_normalized')\n",
    "df_features_normalized = normalizer.transform(df_features_tf)"
   ]
  },
  {
   "cell_type": "code",
   "execution_count": 14,
   "metadata": {
    "collapsed": false
   },
   "outputs": [],
   "source": [
    "idf = IDF(inputCol='features_normalized', outputCol='features')\n",
    "idf_model = idf.fit(df_features_normalized)\n",
    "df_features = idf_model.transform(df_features_normalized)\n",
    "\n",
    "# TODO: add a beer_id from 0 to len(distinct beers)-1 \n",
    "df_beers = df_features.select('brewery_name', 'beer_name', 'state', 'beer_style', 'features')"
   ]
  },
  {
   "cell_type": "code",
   "execution_count": 18,
   "metadata": {
    "collapsed": false
   },
   "outputs": [
    {
     "data": {
      "text/plain": [
       "Row(brewery_name=u'3 Stars Brewing Company', beer_name=u'Starsky & Dutch', state=u'District of Columbia', beer_style=u'Milk / Sweet Stout', features=SparseVector(4578, {0: 0.0536, 1: 0.0334, 2: 0.0557, 3: 0.0464, 4: 0.0501, 5: 0.1058, 6: 0.0714, 7: 0.0484, 8: 0.1217, 9: 0.0239, 10: 0.102, 11: 0.1206, 12: 0.0512, 13: 0.0932, 14: 0.1732, 15: 0.0223, 16: 0.0503, 17: 0.6163, 18: 0.0197, 19: 0.01, 20: 0.0317, 21: 0.0538, 22: 0.0137, 23: 0.0683, 24: 0.0265, 25: 0.1004, 26: 0.1037, 27: 0.0108, 28: 0.084, 29: 0.016, 30: 0.0706, 31: 0.0583, 32: 0.032, 35: 0.1732, 36: 0.0451, 37: 0.0313, 38: 0.0155, 40: 0.0702, 41: 0.0602, 42: 0.0932, 43: 0.0178, 44: 0.0527, 45: 0.0518, 46: 0.0551, 47: 0.0184, 48: 0.0367, 50: 0.0702, 51: 0.1184, 53: 0.0201, 54: 0.084, 56: 0.0402, 57: 0.0991, 58: 0.0216, 60: 0.0585, 62: 0.0201, 66: 0.0244, 69: 0.2163, 71: 0.0285, 75: 0.0223, 76: 0.0308, 79: 0.0244, 83: 0.0961, 84: 0.0488, 86: 0.0879, 89: 0.0854, 90: 0.0251, 92: 0.0503, 93: 0.0303, 94: 0.0511, 96: 0.028, 101: 0.028, 102: 0.084, 103: 0.0569, 105: 0.1022, 106: 0.0778, 110: 0.0867, 115: 0.0815, 116: 0.0289, 117: 0.0815, 120: 0.0263, 122: 0.0272, 124: 0.0285, 125: 0.0454, 127: 0.0597, 129: 0.0535, 132: 0.0267, 134: 0.0616, 136: 0.118, 137: 0.0285, 138: 0.0298, 140: 0.0276, 141: 0.0867, 142: 0.028, 143: 0.0289, 145: 0.0335, 146: 0.0263, 148: 0.0335, 161: 0.0313, 162: 0.0393, 165: 0.0341, 167: 0.0303, 168: 0.1213, 170: 0.0298, 172: 0.0318, 176: 0.0329, 177: 0.0324, 179: 0.0353, 181: 0.0359, 184: 0.0379, 187: 0.0341, 191: 0.0772, 193: 0.0318, 195: 0.0379, 197: 0.0329, 199: 0.0294, 201: 0.0346, 202: 0.0359, 203: 0.0346, 205: 0.0365, 209: 0.0426, 211: 0.0372, 215: 0.0379, 218: 0.1058, 220: 0.0372, 225: 0.0693, 226: 0.0888, 228: 0.0426, 233: 0.0372, 235: 0.0386, 237: 0.1039, 238: 0.0359, 240: 0.0417, 245: 0.0772, 248: 0.0409, 250: 0.0758, 254: 0.0386, 256: 0.0393, 259: 0.0818, 261: 0.0409, 262: 0.0379, 268: 0.0555, 269: 0.0834, 272: 0.1967, 280: 0.0475, 282: 0.0401, 290: 0.0417, 296: 0.0426, 301: 0.0435, 306: 0.0435, 308: 0.0454, 310: 0.0409, 315: 0.0401, 317: 0.0386, 318: 0.0426, 319: 0.0386, 320: 0.0818, 327: 0.0834, 329: 0.0435, 330: 0.0444, 336: 0.0417, 345: 0.2219, 347: 0.0852, 350: 0.0435, 357: 0.0426, 366: 0.0444, 374: 0.0454, 386: 0.122, 391: 0.0454, 392: 0.1022, 399: 0.0417, 404: 0.1459, 405: 0.0444, 413: 0.0997, 421: 0.0486, 428: 0.0972, 433: 0.0475, 434: 0.0444, 440: 0.0475, 441: 0.0486, 461: 0.0464, 469: 0.0555, 479: 0.0525, 480: 0.0525, 484: 0.0498, 487: 0.061, 491: 0.095, 492: 0.0486, 494: 0.0657, 509: 0.0511, 531: 0.0555, 532: 0.0511, 534: 0.0571, 545: 0.0498, 548: 0.0571, 558: 0.0539, 571: 0.0555, 588: 0.0525, 598: 0.0525, 601: 0.0685, 610: 0.1829, 611: 0.0571, 615: 0.0571, 656: 0.0571, 665: 0.059, 669: 0.5737, 670: 0.0632, 673: 0.5737, 680: 0.0571, 688: 0.0571, 697: 0.059, 718: 0.061, 719: 0.0571, 735: 0.0555, 742: 0.0685, 743: 0.0571, 746: 0.0657, 762: 0.059, 764: 0.061, 783: 0.061, 797: 0.0657, 818: 0.0657, 819: 0.0685, 823: 0.059, 842: 0.0632, 866: 0.061, 883: 0.0685, 886: 0.0632, 894: 0.1313, 900: 0.0632, 904: 0.0657, 933: 0.0657, 939: 0.0657, 944: 0.0657, 960: 0.0632, 975: 0.0685, 994: 0.0685, 1025: 0.0685, 1026: 0.0685, 1045: 0.0717, 1054: 0.0657, 1078: 0.0717, 1104: 0.0685, 1112: 0.0685, 1127: 0.0717, 1137: 0.0685, 1166: 0.0717, 1181: 0.0685, 1187: 0.0755, 1234: 0.0717, 1246: 0.0717, 1289: 0.0717, 1296: 0.0717, 1317: 0.0717, 1361: 0.0755, 1466: 0.0802, 1475: 0.0755, 1506: 0.0755, 1555: 0.0863, 1575: 0.0802, 1607: 0.0802, 1692: 0.0802, 1707: 0.0802, 1868: 0.0863, 1870: 0.2844, 1876: 0.1726, 1886: 0.0802, 1897: 0.0863, 1943: 0.0863, 1982: 0.0863, 2003: 0.0863, 2009: 0.0863, 2079: 0.0863, 2098: 0.0863, 2109: 0.0863, 2190: 0.0863, 2290: 0.0863, 2400: 0.0863, 2406: 0.0863, 2419: 0.0863, 2460: 0.0863, 2619: 0.0948, 2765: 0.0948, 3111: 0.0948, 3291: 0.0948, 3322: 0.0948, 3411: 0.0948, 3556: 0.0948, 3970: 0.0948, 4185: 0.0948, 4262: 0.0948, 4333: 0.0948, 4367: 0.0948}))"
      ]
     },
     "execution_count": 18,
     "metadata": {},
     "output_type": "execute_result"
    }
   ],
   "source": [
    "df_beers.take(8)[7]"
   ]
  },
  {
   "cell_type": "code",
   "execution_count": 19,
   "metadata": {
    "collapsed": false
   },
   "outputs": [],
   "source": [
    "top = np.argsort(df_beers.take(8)[7].features.toArray())[::-1][:20]"
   ]
  },
  {
   "cell_type": "code",
   "execution_count": 20,
   "metadata": {
    "collapsed": false
   },
   "outputs": [],
   "source": [
    "vocab = {idx: val for idx, val in enumerate(cv_model.vocabulary)}"
   ]
  },
  {
   "cell_type": "code",
   "execution_count": 21,
   "metadata": {
    "collapsed": false
   },
   "outputs": [
    {
     "data": {
      "text/plain": [
       "[u'chocol',\n",
       " u'butter',\n",
       " u'peanut',\n",
       " u'dutch',\n",
       " u'espresso',\n",
       " u'quit',\n",
       " u'qualiti',\n",
       " u'doubl',\n",
       " u'coffe',\n",
       " u'stout',\n",
       " u'unexpect',\n",
       " u'togeth',\n",
       " u'lactos',\n",
       " u'star',\n",
       " u'nice',\n",
       " u'though',\n",
       " u'like',\n",
       " u'creami',\n",
       " u'cocoa',\n",
       " u'light']"
      ]
     },
     "execution_count": 21,
     "metadata": {},
     "output_type": "execute_result"
    }
   ],
   "source": [
    "[vocab[idx] for idx in top]"
   ]
  },
  {
   "cell_type": "code",
   "execution_count": 27,
   "metadata": {
    "collapsed": false
   },
   "outputs": [],
   "source": [
    "# df_beers.select('features').take(1)[0].features.toArray()"
   ]
  },
  {
   "cell_type": "code",
   "execution_count": 25,
   "metadata": {
    "collapsed": false
   },
   "outputs": [],
   "source": [
    "# df_beers.select('features').agg(collect_list('features')).collect()[0]."
   ]
  },
  {
   "cell_type": "code",
   "execution_count": 272,
   "metadata": {
    "collapsed": true
   },
   "outputs": [],
   "source": [
    "def sparse_vector_to_matrix(vectors):\n",
    "    return reduce(lambda x, y: np.vstack((x,y)), vectors)\n",
    "\n",
    "matrix_udf = udf(sparse_vector_to_matrix, RowMatrix)"
   ]
  },
  {
   "cell_type": "code",
   "execution_count": 288,
   "metadata": {
    "collapsed": false
   },
   "outputs": [
    {
     "data": {
      "text/plain": [
       "DataFrame[sparse_vector_to_matrix(collect_list(features, 0, 0)): array<double>]"
      ]
     },
     "execution_count": 288,
     "metadata": {},
     "output_type": "execute_result"
    }
   ],
   "source": [
    "df_beers.select('features').agg(matrix_udf(collect_list('features')))"
   ]
  },
  {
   "cell_type": "code",
   "execution_count": 301,
   "metadata": {
    "collapsed": false
   },
   "outputs": [],
   "source": [
    "from pyspark.mllib.linalg.distributed import IndexedRow, IndexedRowMatrix\n",
    "matrix = RowMatrix(df_beers.select('features').rdd)"
   ]
  },
  {
   "cell_type": "code",
   "execution_count": 313,
   "metadata": {
    "collapsed": false
   },
   "outputs": [],
   "source": [
    "df_beers = df_beers.withColumn('beer_id', monotonically_increasing_id())"
   ]
  },
  {
   "cell_type": "code",
   "execution_count": 321,
   "metadata": {
    "collapsed": false
   },
   "outputs": [],
   "source": [
    "# IndexedRowMatrix(df_beers.select('beer_id', 'features').rdd.map(lambda row: IndexedRow(*row)))"
   ]
  },
  {
   "cell_type": "code",
   "execution_count": 22,
   "metadata": {
    "collapsed": false
   },
   "outputs": [],
   "source": [
    "mat = np.array([x.features.toArray() for x in df_beers.rdd.toLocalIterator()])"
   ]
  },
  {
   "cell_type": "code",
   "execution_count": 23,
   "metadata": {
    "collapsed": false
   },
   "outputs": [
    {
     "data": {
      "text/plain": [
       "(4578, 181)"
      ]
     },
     "execution_count": 23,
     "metadata": {},
     "output_type": "execute_result"
    }
   ],
   "source": [
    "mat.T.shape"
   ]
  },
  {
   "cell_type": "code",
   "execution_count": 31,
   "metadata": {
    "collapsed": true
   },
   "outputs": [],
   "source": [
    "U, s, VT = np.linalg.svd(mat.T, full_matrices=False)"
   ]
  },
  {
   "cell_type": "code",
   "execution_count": 32,
   "metadata": {
    "collapsed": false
   },
   "outputs": [
    {
     "data": {
      "text/plain": [
       "((4644, 181), (181,), (181, 181))"
      ]
     },
     "execution_count": 32,
     "metadata": {},
     "output_type": "execute_result"
    }
   ],
   "source": [
    "U.shape, s.shape, VT.shape"
   ]
  },
  {
   "cell_type": "code",
   "execution_count": 35,
   "metadata": {
    "collapsed": false
   },
   "outputs": [],
   "source": [
    "import matplotlib.pyplot as plt\n",
    "% matplotlib inline"
   ]
  },
  {
   "cell_type": "code",
   "execution_count": 35,
   "metadata": {
    "collapsed": false
   },
   "outputs": [
    {
     "data": {
      "text/plain": [
       "[<matplotlib.lines.Line2D at 0x11085e850>]"
      ]
     },
     "execution_count": 35,
     "metadata": {},
     "output_type": "execute_result"
    },
    {
     "data": {
      "image/png": "[encoded data removed]",
      "text/plain": [
       "<matplotlib.figure.Figure at 0x11060a450>"
      ]
     },
     "metadata": {},
     "output_type": "display_data"
    }
   ],
   "source": [
    "cumulative = np.cumsum(s ** 2)\n",
    "# plt.bar(np.arange(len(cumulative)), cumulative)\n",
    "plt.plot(cumulative)"
   ]
  },
  {
   "cell_type": "code",
   "execution_count": 36,
   "metadata": {
    "collapsed": false
   },
   "outputs": [
    {
     "data": {
      "text/plain": [
       "535.70908256512814"
      ]
     },
     "execution_count": 36,
     "metadata": {},
     "output_type": "execute_result"
    }
   ],
   "source": [
    "total_energy = np.sum(s ** 2)\n",
    "total_energy * .9"
   ]
  },
  {
   "cell_type": "code",
   "execution_count": 42,
   "metadata": {
    "collapsed": false
   },
   "outputs": [
    {
     "data": {
      "text/plain": [
       "535.19382547530665"
      ]
     },
     "execution_count": 42,
     "metadata": {},
     "output_type": "execute_result"
    }
   ],
   "source": [
    "cumulative[128]"
   ]
  },
  {
   "cell_type": "code",
   "execution_count": 47,
   "metadata": {
    "collapsed": false
   },
   "outputs": [
    {
     "data": {
      "text/plain": [
       "array([ 0.05442476,  0.02491747,  0.01659458,  0.01491498,  0.01439237,\n",
       "        0.01405315,  0.01311961,  0.01263784,  0.01242288,  0.01202776,\n",
       "        0.01190539,  0.01162382,  0.01137067,  0.01106296,  0.01076849,\n",
       "        0.0105331 ,  0.01000138,  0.00982817,  0.00969893,  0.00949777,\n",
       "        0.0094128 ,  0.0092263 ,  0.00913213,  0.00910169,  0.00895335,\n",
       "        0.00890103,  0.00876829,  0.00866164,  0.00853862,  0.00841205,\n",
       "        0.00823395,  0.00812432,  0.00811016,  0.00802572,  0.00793175,\n",
       "        0.00788638,  0.00771243,  0.007583  ,  0.00750439,  0.00748272,\n",
       "        0.00739667,  0.00733049,  0.00725194,  0.00717055,  0.00711825,\n",
       "        0.00702121,  0.00697141,  0.00692455,  0.00687632,  0.00681648,\n",
       "        0.00667648,  0.00661243,  0.00658415,  0.00649796,  0.00647604,\n",
       "        0.00635011,  0.00634782,  0.00626945,  0.00615243,  0.00608063,\n",
       "        0.0060495 ,  0.00593066,  0.00589724,  0.00585992,  0.00580096,\n",
       "        0.0057688 ,  0.0057298 ,  0.00564303,  0.00559504,  0.00554498,\n",
       "        0.00547224,  0.00542704,  0.00541516,  0.00533494,  0.00531085,\n",
       "        0.00520985,  0.00515356,  0.00513083,  0.00506951,  0.00503414,\n",
       "        0.00498018,  0.00496074,  0.00490514,  0.00480754,  0.00476758,\n",
       "        0.00475709,  0.00467793,  0.00464949,  0.00456208,  0.00455013,\n",
       "        0.00447951,  0.00447334,  0.00442804,  0.00437238,  0.00432583,\n",
       "        0.0042973 ,  0.00426331,  0.00423797,  0.00416142,  0.00411757,\n",
       "        0.00408096,  0.00395898,  0.00391098,  0.00387844,  0.00384389,\n",
       "        0.00376504,  0.00373201,  0.00368513,  0.00362984,  0.00357661,\n",
       "        0.00350987,  0.00348906,  0.00344286,  0.00342839,  0.00340556,\n",
       "        0.00336459,  0.00333648,  0.00327589,  0.00323586,  0.00318012,\n",
       "        0.00315379,  0.00307762,  0.00305774,  0.00302214,  0.00296054,\n",
       "        0.00294169,  0.00287378,  0.00285648])"
      ]
     },
     "execution_count": 47,
     "metadata": {},
     "output_type": "execute_result"
    }
   ],
   "source": [
    "from sklearn.decomposition import TruncatedSVD\n",
    "from sklearn.utils.extmath import randomized_svd\n",
    "from sklearn.utils.sparsefuncs import mean_variance_axis\n",
    "import scipy.sparse as sp\n",
    "\n",
    "U, s, VT = randomized_svd(mat.T, n_components=128)\n",
    "svd = TruncatedSVD(n_components=128)\n",
    "svd_model = svd.fit(mat.T)\n",
    "svd_model.explained_variance_ratio_"
   ]
  },
  {
   "cell_type": "code",
   "execution_count": 50,
   "metadata": {
    "collapsed": false
   },
   "outputs": [
    {
     "data": {
      "text/plain": [
       "array([ 0.05442476,  0.02491747,  0.01659459,  0.01491499,  0.01439238,\n",
       "        0.01405315,  0.0131196 ,  0.01263786,  0.01242287,  0.01202774,\n",
       "        0.0119054 ,  0.01162382,  0.01137067,  0.01106294,  0.01076842,\n",
       "        0.0105331 ,  0.01000137,  0.00982814,  0.00969889,  0.00949773,\n",
       "        0.00941274,  0.00922624,  0.00913207,  0.00910165,  0.00895324,\n",
       "        0.008901  ,  0.00876821,  0.00866156,  0.00853859,  0.00841191,\n",
       "        0.00823373,  0.00812423,  0.00811008,  0.00802562,  0.00793168,\n",
       "        0.00788629,  0.00771225,  0.00758271,  0.007504  ,  0.00748243,\n",
       "        0.00739601,  0.00733014,  0.0072516 ,  0.00717016,  0.00711822,\n",
       "        0.00702064,  0.00697058,  0.00692413,  0.00687571,  0.00681598,\n",
       "        0.00667617,  0.00661172,  0.00658363,  0.00649717,  0.00647514,\n",
       "        0.00634949,  0.00634659,  0.0062685 ,  0.00615192,  0.00607987,\n",
       "        0.00604863,  0.00593032,  0.00589684,  0.00585906,  0.00579981,\n",
       "        0.00576797,  0.00572583,  0.0056426 ,  0.00559261,  0.00554454,\n",
       "        0.00546902,  0.00542491,  0.00541371,  0.00533333,  0.00530707,\n",
       "        0.00520702,  0.00515245,  0.0051282 ,  0.00506674,  0.00503489,\n",
       "        0.00497267,  0.00495782,  0.00490263,  0.00480174,  0.00476646,\n",
       "        0.00475448,  0.00467519,  0.00464832,  0.00455741,  0.0045486 ,\n",
       "        0.00447613,  0.00446928,  0.00442578,  0.0043677 ,  0.00431577,\n",
       "        0.00429989,  0.00424853,  0.00422898,  0.00415649,  0.00410384,\n",
       "        0.0040505 ,  0.00395465,  0.00388712,  0.00386267,  0.00383284,\n",
       "        0.00374686,  0.00371737,  0.00368275,  0.0036269 ,  0.00356167,\n",
       "        0.00348996,  0.00343667,  0.00343597,  0.00340813,  0.00336881,\n",
       "        0.00332169,  0.00327932,  0.00325764,  0.0032263 ,  0.00316815,\n",
       "        0.00308658,  0.00306208,  0.00301628,  0.00299939,  0.00296456,\n",
       "        0.00287691,  0.00283803,  0.00278794])"
      ]
     },
     "execution_count": 50,
     "metadata": {},
     "output_type": "execute_result"
    }
   ],
   "source": [
    "# https://github.com/scikit-learn/scikit-learn/blob/master/sklearn/decomposition/truncated_svd.py#L174\n",
    "\n",
    "X_transformed = U * s\n",
    "exp_var = np.var(X_transformed, axis=0)\n",
    "if sp.issparse(mat.T):\n",
    "    _, full_var = mean_variance_axis(mat.T, axis=0)\n",
    "    full_var = full_var.sum()\n",
    "else:\n",
    "    full_var = np.var(mat.T, axis=0).sum()\n",
    "explained_variance_ratio = exp_var / full_var\n",
    "# np.sum(explained_variance_ratio)\n",
    "explained_variance_ratio"
   ]
  },
  {
   "cell_type": "code",
   "execution_count": 55,
   "metadata": {
    "collapsed": false
   },
   "outputs": [
    {
     "data": {
      "text/plain": [
       "[<matplotlib.lines.Line2D at 0x10dba0910>]"
      ]
     },
     "execution_count": 55,
     "metadata": {},
     "output_type": "execute_result"
    },
    {
     "data": {
      "image/png": "[encoded data removed]",
      "text/plain": [
       "<matplotlib.figure.Figure at 0x10ca79bd0>"
      ]
     },
     "metadata": {},
     "output_type": "display_data"
    }
   ],
   "source": [
    "from sklearn.utils.extmath import randomized_svd\n",
    "\n",
    "U, Sigma, VT = randomized_svd(mat.T, \n",
    "                              n_components=181,\n",
    "                              n_iter=5,\n",
    "                              random_state=1234)\n",
    "\n",
    "# Calculate the power that each singular value represents, where power is the same as the variance of a dimension\n",
    "# Total power is the sum  of the power of each singular value.\n",
    "cumsum = np.cumsum(Sigma ** 2)\n",
    "# plt.plot(cumsum)\n",
    "\n",
    "total_energy = np.sum(Sigma ** 2)\n",
    "total_energy * .9\n",
    "\n",
    "plt.plot(cumsum)"
   ]
  },
  {
   "cell_type": "code",
   "execution_count": 97,
   "metadata": {
    "collapsed": true
   },
   "outputs": [],
   "source": [
    "'''LSI Example'''\n",
    "A = np.array([[1, 1, 1], [0, 1, 1], [1, 0, 0], [0, 1, 0], [1, 0, 0], [1, 0, 1], [1, 1, 1], [1, 1, 1], [1, 0, 1], [0, 2, 0], [0, 1, 1]])"
   ]
  },
  {
   "cell_type": "code",
   "execution_count": 154,
   "metadata": {
    "collapsed": true
   },
   "outputs": [],
   "source": [
    "U, s, VT = np.linalg.svd(mat.T, full_matrices=False)"
   ]
  },
  {
   "cell_type": "code",
   "execution_count": 155,
   "metadata": {
    "collapsed": false
   },
   "outputs": [
    {
     "data": {
      "text/plain": [
       "array([[-0.17023584, -0.07081547,  0.0377351 , ..., -0.00777245,\n",
       "         0.02402317,  0.02346556],\n",
       "       [-0.12702543, -0.04657535, -0.01156605, ..., -0.02230828,\n",
       "         0.04381738, -0.05284764],\n",
       "       [-0.06772587, -0.02144126,  0.02002593, ...,  0.00719506,\n",
       "        -0.00776556, -0.03037869],\n",
       "       ..., \n",
       "       [-0.00306274, -0.00118809,  0.00076784, ...,  0.00340223,\n",
       "        -0.00852569, -0.02316207],\n",
       "       [-0.00362711, -0.00079017,  0.00066497, ...,  0.02680297,\n",
       "         0.0015981 ,  0.01051   ],\n",
       "       [-0.00362711, -0.00079017,  0.00066497, ...,  0.02680297,\n",
       "         0.0015981 ,  0.01051   ]])"
      ]
     },
     "execution_count": 155,
     "metadata": {},
     "output_type": "execute_result"
    }
   ],
   "source": [
    "U"
   ]
  },
  {
   "cell_type": "code",
   "execution_count": 156,
   "metadata": {
    "collapsed": false
   },
   "outputs": [
    {
     "data": {
      "text/plain": [
       "array([ 2.11406758,  1.81202727,  1.75115025,  1.67064058,  1.63079074,\n",
       "        1.5730457 ,  1.56643667,  1.52368492,  1.46126969,  1.34835512,\n",
       "        1.32846215,  1.3186198 ,  1.21757887,  1.15579583,  1.06619748,\n",
       "        1.02262207,  0.97779103,  0.80334251,  0.79545702,  0.70316871])"
      ]
     },
     "execution_count": 156,
     "metadata": {},
     "output_type": "execute_result"
    }
   ],
   "source": [
    "s"
   ]
  },
  {
   "cell_type": "code",
   "execution_count": 157,
   "metadata": {
    "collapsed": false
   },
   "outputs": [
    {
     "data": {
      "text/plain": [
       "array([[ -1.31034164e-01,  -2.98673992e-01,  -2.90805173e-01,\n",
       "         -2.99590257e-01,  -3.30708370e-01,  -2.39955648e-01,\n",
       "         -8.64358557e-02,  -2.23089432e-01,  -2.06495177e-01,\n",
       "         -1.83958975e-01,  -2.88292394e-01,  -1.48478563e-01,\n",
       "         -3.11494745e-01,  -2.16411232e-01,  -1.25521813e-01,\n",
       "         -1.71095139e-01,  -1.71032290e-01,  -1.62850869e-01,\n",
       "         -2.24045383e-01,  -1.36435806e-01],\n",
       "       [ -7.37246635e-02,   2.25558523e-02,  -1.16376638e-01,\n",
       "         -9.96119421e-02,   1.54924300e-01,  -9.89520773e-02,\n",
       "         -4.12829980e-02,  -6.61815316e-02,  -1.34074366e-01,\n",
       "          5.65075823e-02,   8.70432266e-01,  -9.42078152e-02,\n",
       "         -5.81640655e-02,  -9.45002216e-02,  -1.54850924e-01,\n",
       "         -9.06130912e-02,  -1.29901679e-01,  -6.74226025e-02,\n",
       "         -8.72017204e-02,  -2.63607177e-01],\n",
       "       [  6.04239853e-02,   1.51117775e-02,   6.26616901e-02,\n",
       "          6.22149462e-02,   1.14747871e-04,   2.86632431e-02,\n",
       "          1.73180109e-02,   4.58174493e-02,   6.25319857e-02,\n",
       "          6.50666480e-02,  -1.84305638e-01,   8.11403226e-02,\n",
       "          4.73040454e-02,   1.95112290e-02,   1.63825429e-01,\n",
       "          6.33894240e-02,   9.31446984e-02,   1.60577749e-02,\n",
       "          3.69068502e-02,  -9.44793708e-01],\n",
       "       [  1.01964763e-02,   5.65248605e-02,   5.05174018e-02,\n",
       "          2.66979279e-02,   4.60999082e-02,   5.00716429e-02,\n",
       "         -6.97245665e-02,   6.36140605e-02,  -1.15249373e-01,\n",
       "          2.76600314e-01,  -1.76537438e-01,   1.90212609e-02,\n",
       "          4.82252091e-02,   6.95500286e-02,  -9.11626922e-01,\n",
       "          3.79923424e-02,   8.44582223e-02,   4.01874494e-02,\n",
       "          5.72819254e-02,  -8.29381747e-02],\n",
       "       [  6.95690584e-02,   7.90871529e-03,   6.30129740e-02,\n",
       "          4.00651019e-02,   4.24259108e-02,   3.16640936e-02,\n",
       "          7.25881634e-03,   5.02489026e-02,   8.00328288e-02,\n",
       "         -8.37762307e-01,   8.85334890e-02,   1.28641936e-01,\n",
       "          4.77093718e-02,  -2.40915674e-01,  -2.36903373e-01,\n",
       "          5.59235439e-02,   3.51445647e-01,   2.76918979e-02,\n",
       "          7.46932379e-02,  -4.55687671e-02],\n",
       "       [ -6.11769813e-03,  -4.90814754e-02,   5.39295246e-02,\n",
       "          5.94999586e-02,  -5.79220156e-02,   5.61867579e-02,\n",
       "         -1.63249676e-02,  -1.44138964e-02,   9.35641345e-03,\n",
       "         -3.90139099e-01,   2.01101816e-02,  -4.15979543e-02,\n",
       "         -7.32251145e-03,   7.15331565e-01,  -1.04378633e-01,\n",
       "          6.69208417e-02,  -5.40913394e-01,   5.89701682e-02,\n",
       "          2.25940642e-02,  -7.73722278e-02],\n",
       "       [  9.02125639e-02,   1.53944536e-01,   1.04252531e-01,\n",
       "          8.43031063e-02,   1.56675329e-01,   9.90453600e-02,\n",
       "          6.16024117e-02,   6.47269377e-02,   1.64830073e-01,\n",
       "         -5.00414220e-02,  -1.17774544e-01,  -4.37278202e-02,\n",
       "          7.57896970e-02,  -5.83101831e-01,  -7.45099058e-02,\n",
       "          1.40136064e-01,  -6.97749756e-01,   4.53595647e-02,\n",
       "          4.46044615e-02,  -2.33686797e-02],\n",
       "       [ -2.76982763e-01,  -1.04203628e-01,   1.47909780e-02,\n",
       "         -3.89564488e-03,  -6.84007610e-02,  -3.36209034e-02,\n",
       "          1.23958802e-01,  -6.34734875e-02,  -1.53302827e-01,\n",
       "          5.33425634e-02,   5.07948549e-02,   9.04776080e-01,\n",
       "         -3.02144189e-02,  -3.64631145e-02,  -1.55519499e-03,\n",
       "          1.12779406e-01,  -1.31441590e-01,   2.73299136e-02,\n",
       "         -7.43060663e-02,   3.04656878e-02],\n",
       "       [  6.73133103e-01,  -8.50903421e-02,  -1.00562360e-01,\n",
       "         -6.41561870e-02,  -1.89018845e-01,  -1.11609975e-01,\n",
       "         -1.37155128e-01,  -1.04274874e-01,   5.43469242e-01,\n",
       "          1.00041739e-01,   1.08068754e-01,   2.64619422e-01,\n",
       "         -8.34411924e-02,   5.13976077e-02,  -9.41436087e-02,\n",
       "         -8.11988406e-02,  -2.33721654e-02,  -8.27545215e-02,\n",
       "         -1.64836770e-01,   2.92806821e-02],\n",
       "       [ -1.04146719e-01,   2.14253930e-01,  -1.14104376e-01,\n",
       "         -9.27255676e-02,   2.43430184e-01,  -5.89507983e-02,\n",
       "         -8.80981354e-01,   6.39753873e-02,  -2.55392984e-02,\n",
       "         -4.83991374e-02,  -9.83036171e-02,   1.59216674e-01,\n",
       "          6.90525930e-02,   1.10689156e-02,   9.42044856e-02,\n",
       "         -1.20876237e-01,  -4.78261106e-02,  -2.65124541e-02,\n",
       "          9.62172807e-02,   6.61829453e-03],\n",
       "       [  2.74897067e-01,   3.34584768e-01,  -1.62571641e-01,\n",
       "         -1.20575217e-01,   3.00345637e-01,  -1.43727897e-01,\n",
       "          3.43964147e-01,   9.53864626e-02,  -2.64028061e-01,\n",
       "         -8.18793963e-02,  -1.48151755e-01,   1.50528776e-01,\n",
       "          6.88030113e-02,   7.72949545e-02,   1.77394028e-02,\n",
       "         -6.22373920e-01,  -6.90115680e-02,  -7.49475091e-02,\n",
       "          5.80364207e-02,  -9.91899137e-03],\n",
       "       [ -5.64078800e-01,  -3.11814177e-02,   1.56704576e-02,\n",
       "          3.27639444e-02,   5.61824943e-02,  -5.56455532e-02,\n",
       "          1.10620110e-01,  -1.07587112e-02,   6.66387519e-01,\n",
       "          1.41686732e-02,  -2.09083518e-02,  -1.29765058e-02,\n",
       "          3.37822494e-02,   2.80377228e-02,  -1.03447627e-01,\n",
       "         -4.44988643e-01,   2.76002525e-03,  -5.33662806e-02,\n",
       "          4.04391522e-02,  -3.00855826e-02],\n",
       "       [  1.04789836e-01,  -3.41346902e-01,   1.71852408e-01,\n",
       "          1.52155398e-01,  -4.10785669e-01,   1.65936932e-01,\n",
       "         -1.26216259e-01,   2.11901921e-01,  -1.54567091e-01,\n",
       "          4.56272403e-02,   1.33920574e-01,   4.02824566e-02,\n",
       "          5.19034776e-03,  -1.16383441e-01,   2.03303659e-02,\n",
       "         -4.04438823e-01,  -8.80278046e-02,   5.37512072e-02,\n",
       "          5.73543243e-01,  -5.26056575e-03],\n",
       "       [ -2.04205851e-02,  -1.04552871e-02,  -3.64218617e-01,\n",
       "         -3.37612354e-01,   7.56706881e-02,  -3.47553473e-01,\n",
       "          1.50022399e-01,   1.40864864e-01,   1.52000123e-01,\n",
       "          2.98611542e-02,  -1.04608557e-03,   9.98551910e-03,\n",
       "         -6.32113271e-02,   5.06960803e-02,  -5.38654650e-03,\n",
       "          3.68009894e-01,  -1.01929213e-02,  -5.29132221e-02,\n",
       "          6.44092590e-01,   9.25866801e-03],\n",
       "       [  2.38440670e-02,   2.04686468e-01,   6.83193611e-02,\n",
       "          8.63626412e-02,  -9.65675022e-03,   9.89825046e-02,\n",
       "          1.95016916e-03,  -8.95226801e-01,  -2.65074970e-02,\n",
       "          4.79197852e-03,  -1.41763046e-02,   4.14470393e-03,\n",
       "          3.70025919e-02,  -1.05675271e-02,  -7.83601733e-03,\n",
       "         -2.19804445e-02,   2.19309782e-02,  -5.95480221e-02,\n",
       "          3.56358381e-01,  -9.79066865e-03],\n",
       "       [ -1.17482037e-01,   6.81949658e-01,  -8.40808682e-02,\n",
       "          1.27807736e-02,  -6.48996261e-01,   1.89132667e-02,\n",
       "          1.20103355e-02,   1.59218960e-01,   1.09797501e-02,\n",
       "         -2.01568262e-02,   8.01822980e-02,   2.44426428e-03,\n",
       "          7.02519894e-02,  -4.33528079e-03,  -1.34282761e-02,\n",
       "          5.87627601e-02,  -4.36055539e-03,  -2.24144863e-01,\n",
       "         -3.10312267e-02,  -9.40714995e-03],\n",
       "       [ -1.43779080e-02,   1.59702606e-01,  -1.06156302e-01,\n",
       "         -1.67425208e-01,  -1.67244348e-01,  -9.53451428e-02,\n",
       "         -4.79312014e-03,  -7.48106085e-02,   3.53542265e-02,\n",
       "          5.77618629e-03,   2.91229080e-02,  -2.24135626e-02,\n",
       "         -1.50220953e-02,  -3.46792171e-02,   6.14645598e-03,\n",
       "         -8.47742059e-02,   1.18733577e-02,   9.37474040e-01,\n",
       "         -4.09770505e-02,  -1.85148099e-02],\n",
       "       [ -6.55835741e-05,  -2.26024226e-01,  -3.12589766e-01,\n",
       "          1.26462813e-01,  -1.16711593e-01,  -1.87438491e-01,\n",
       "         -5.74529943e-04,  -8.22705630e-02,  -4.86243455e-02,\n",
       "         -1.05963973e-02,   9.48385199e-04,  -3.57089895e-02,\n",
       "          8.74690332e-01,  -2.46613084e-02,  -1.23887134e-02,\n",
       "          1.27251784e-02,  -3.74570205e-02,  -8.91821120e-03,\n",
       "         -9.18675218e-02,   1.63299372e-03],\n",
       "       [ -1.23515154e-02,  -5.66407260e-02,  -4.63107849e-01,\n",
       "         -3.13794530e-01,   3.43249910e-02,   8.19468483e-01,\n",
       "          4.55303335e-02,   1.04716019e-02,   6.08858786e-02,\n",
       "         -6.39250312e-04,   5.27620836e-03,   3.93398909e-02,\n",
       "          5.16404810e-02,   9.21914393e-03,   2.29442001e-03,\n",
       "         -1.12347904e-02,   1.37331443e-02,  -1.06839269e-02,\n",
       "         -6.98170170e-03,  -1.72117869e-02],\n",
       "       [  8.29985041e-03,  -1.97354513e-02,   5.74682750e-01,\n",
       "         -7.53591292e-01,  -5.69502981e-02,   1.66967215e-02,\n",
       "          3.72052333e-03,  -2.39115056e-02,   9.68782633e-03,\n",
       "          4.01880042e-03,   1.53671670e-02,  -7.14653975e-03,\n",
       "          3.00215449e-01,   1.65750623e-02,   1.25144448e-02,\n",
       "         -1.04577466e-02,  -1.19264981e-02,  -7.39507419e-02,\n",
       "         -2.43790997e-02,  -1.12273446e-03]])"
      ]
     },
     "execution_count": 157,
     "metadata": {},
     "output_type": "execute_result"
    }
   ],
   "source": [
    "VT"
   ]
  },
  {
   "cell_type": "code",
   "execution_count": 158,
   "metadata": {
    "collapsed": false
   },
   "outputs": [
    {
     "data": {
      "text/plain": [
       "array([[ -1.70235845e-01,  -7.08154718e-02,   3.77351028e-02, ...,\n",
       "          4.93137370e-02,  -2.06465439e-01,   3.76791518e-02],\n",
       "       [ -1.27025429e-01,  -4.65753522e-02,  -1.15660496e-02, ...,\n",
       "          3.23055988e-02,   3.21685462e-03,  -2.09508135e-03],\n",
       "       [ -6.77258702e-02,  -2.14412634e-02,   2.00259261e-02, ...,\n",
       "          1.66970852e-02,   5.51491282e-03,  -1.48232858e-02],\n",
       "       ..., \n",
       "       [ -3.06273864e-03,  -1.18808578e-03,   7.67843019e-04, ...,\n",
       "          2.70079351e-03,  -6.31303691e-03,   1.75060992e-03],\n",
       "       [ -3.62711365e-03,  -7.90167805e-04,   6.64973256e-04, ...,\n",
       "          1.04937004e-04,  -1.34630386e-03,   8.54326350e-04],\n",
       "       [ -3.62711365e-03,  -7.90167805e-04,   6.64973256e-04, ...,\n",
       "          1.04937004e-04,  -1.34630386e-03,   8.54326350e-04]])"
      ]
     },
     "execution_count": 158,
     "metadata": {},
     "output_type": "execute_result"
    }
   ],
   "source": [
    "U2 = U[:, :15]\n",
    "U2"
   ]
  },
  {
   "cell_type": "code",
   "execution_count": 163,
   "metadata": {
    "collapsed": false
   },
   "outputs": [
    {
     "data": {
      "text/plain": [
       "array([[ 2.11406758,  0.        ,  0.        ,  0.        ,  0.        ,\n",
       "         0.        ,  0.        ,  0.        ,  0.        ,  0.        ,\n",
       "         0.        ,  0.        ,  0.        ,  0.        ,  0.        ],\n",
       "       [ 0.        ,  1.81202727,  0.        ,  0.        ,  0.        ,\n",
       "         0.        ,  0.        ,  0.        ,  0.        ,  0.        ,\n",
       "         0.        ,  0.        ,  0.        ,  0.        ,  0.        ],\n",
       "       [ 0.        ,  0.        ,  1.75115025,  0.        ,  0.        ,\n",
       "         0.        ,  0.        ,  0.        ,  0.        ,  0.        ,\n",
       "         0.        ,  0.        ,  0.        ,  0.        ,  0.        ],\n",
       "       [ 0.        ,  0.        ,  0.        ,  1.67064058,  0.        ,\n",
       "         0.        ,  0.        ,  0.        ,  0.        ,  0.        ,\n",
       "         0.        ,  0.        ,  0.        ,  0.        ,  0.        ],\n",
       "       [ 0.        ,  0.        ,  0.        ,  0.        ,  1.63079074,\n",
       "         0.        ,  0.        ,  0.        ,  0.        ,  0.        ,\n",
       "         0.        ,  0.        ,  0.        ,  0.        ,  0.        ],\n",
       "       [ 0.        ,  0.        ,  0.        ,  0.        ,  0.        ,\n",
       "         1.5730457 ,  0.        ,  0.        ,  0.        ,  0.        ,\n",
       "         0.        ,  0.        ,  0.        ,  0.        ,  0.        ],\n",
       "       [ 0.        ,  0.        ,  0.        ,  0.        ,  0.        ,\n",
       "         0.        ,  1.56643667,  0.        ,  0.        ,  0.        ,\n",
       "         0.        ,  0.        ,  0.        ,  0.        ,  0.        ],\n",
       "       [ 0.        ,  0.        ,  0.        ,  0.        ,  0.        ,\n",
       "         0.        ,  0.        ,  1.52368492,  0.        ,  0.        ,\n",
       "         0.        ,  0.        ,  0.        ,  0.        ,  0.        ],\n",
       "       [ 0.        ,  0.        ,  0.        ,  0.        ,  0.        ,\n",
       "         0.        ,  0.        ,  0.        ,  1.46126969,  0.        ,\n",
       "         0.        ,  0.        ,  0.        ,  0.        ,  0.        ],\n",
       "       [ 0.        ,  0.        ,  0.        ,  0.        ,  0.        ,\n",
       "         0.        ,  0.        ,  0.        ,  0.        ,  1.34835512,\n",
       "         0.        ,  0.        ,  0.        ,  0.        ,  0.        ],\n",
       "       [ 0.        ,  0.        ,  0.        ,  0.        ,  0.        ,\n",
       "         0.        ,  0.        ,  0.        ,  0.        ,  0.        ,\n",
       "         1.32846215,  0.        ,  0.        ,  0.        ,  0.        ],\n",
       "       [ 0.        ,  0.        ,  0.        ,  0.        ,  0.        ,\n",
       "         0.        ,  0.        ,  0.        ,  0.        ,  0.        ,\n",
       "         0.        ,  1.3186198 ,  0.        ,  0.        ,  0.        ],\n",
       "       [ 0.        ,  0.        ,  0.        ,  0.        ,  0.        ,\n",
       "         0.        ,  0.        ,  0.        ,  0.        ,  0.        ,\n",
       "         0.        ,  0.        ,  1.21757887,  0.        ,  0.        ],\n",
       "       [ 0.        ,  0.        ,  0.        ,  0.        ,  0.        ,\n",
       "         0.        ,  0.        ,  0.        ,  0.        ,  0.        ,\n",
       "         0.        ,  0.        ,  0.        ,  1.15579583,  0.        ],\n",
       "       [ 0.        ,  0.        ,  0.        ,  0.        ,  0.        ,\n",
       "         0.        ,  0.        ,  0.        ,  0.        ,  0.        ,\n",
       "         0.        ,  0.        ,  0.        ,  0.        ,  1.06619748]])"
      ]
     },
     "execution_count": 163,
     "metadata": {},
     "output_type": "execute_result"
    }
   ],
   "source": [
    "S2 = np.diag(s)[:15, :15]\n",
    "S2"
   ]
  },
  {
   "cell_type": "code",
   "execution_count": 164,
   "metadata": {
    "collapsed": false
   },
   "outputs": [
    {
     "data": {
      "text/plain": [
       "array([[ -1.31034164e-01,  -2.98673992e-01,  -2.90805173e-01,\n",
       "         -2.99590257e-01,  -3.30708370e-01,  -2.39955648e-01,\n",
       "         -8.64358557e-02,  -2.23089432e-01,  -2.06495177e-01,\n",
       "         -1.83958975e-01,  -2.88292394e-01,  -1.48478563e-01,\n",
       "         -3.11494745e-01,  -2.16411232e-01,  -1.25521813e-01,\n",
       "         -1.71095139e-01,  -1.71032290e-01,  -1.62850869e-01,\n",
       "         -2.24045383e-01,  -1.36435806e-01],\n",
       "       [ -7.37246635e-02,   2.25558523e-02,  -1.16376638e-01,\n",
       "         -9.96119421e-02,   1.54924300e-01,  -9.89520773e-02,\n",
       "         -4.12829980e-02,  -6.61815316e-02,  -1.34074366e-01,\n",
       "          5.65075823e-02,   8.70432266e-01,  -9.42078152e-02,\n",
       "         -5.81640655e-02,  -9.45002216e-02,  -1.54850924e-01,\n",
       "         -9.06130912e-02,  -1.29901679e-01,  -6.74226025e-02,\n",
       "         -8.72017204e-02,  -2.63607177e-01],\n",
       "       [  6.04239853e-02,   1.51117775e-02,   6.26616901e-02,\n",
       "          6.22149462e-02,   1.14747871e-04,   2.86632431e-02,\n",
       "          1.73180109e-02,   4.58174493e-02,   6.25319857e-02,\n",
       "          6.50666480e-02,  -1.84305638e-01,   8.11403226e-02,\n",
       "          4.73040454e-02,   1.95112290e-02,   1.63825429e-01,\n",
       "          6.33894240e-02,   9.31446984e-02,   1.60577749e-02,\n",
       "          3.69068502e-02,  -9.44793708e-01],\n",
       "       [  1.01964763e-02,   5.65248605e-02,   5.05174018e-02,\n",
       "          2.66979279e-02,   4.60999082e-02,   5.00716429e-02,\n",
       "         -6.97245665e-02,   6.36140605e-02,  -1.15249373e-01,\n",
       "          2.76600314e-01,  -1.76537438e-01,   1.90212609e-02,\n",
       "          4.82252091e-02,   6.95500286e-02,  -9.11626922e-01,\n",
       "          3.79923424e-02,   8.44582223e-02,   4.01874494e-02,\n",
       "          5.72819254e-02,  -8.29381747e-02],\n",
       "       [  6.95690584e-02,   7.90871529e-03,   6.30129740e-02,\n",
       "          4.00651019e-02,   4.24259108e-02,   3.16640936e-02,\n",
       "          7.25881634e-03,   5.02489026e-02,   8.00328288e-02,\n",
       "         -8.37762307e-01,   8.85334890e-02,   1.28641936e-01,\n",
       "          4.77093718e-02,  -2.40915674e-01,  -2.36903373e-01,\n",
       "          5.59235439e-02,   3.51445647e-01,   2.76918979e-02,\n",
       "          7.46932379e-02,  -4.55687671e-02],\n",
       "       [ -6.11769813e-03,  -4.90814754e-02,   5.39295246e-02,\n",
       "          5.94999586e-02,  -5.79220156e-02,   5.61867579e-02,\n",
       "         -1.63249676e-02,  -1.44138964e-02,   9.35641345e-03,\n",
       "         -3.90139099e-01,   2.01101816e-02,  -4.15979543e-02,\n",
       "         -7.32251145e-03,   7.15331565e-01,  -1.04378633e-01,\n",
       "          6.69208417e-02,  -5.40913394e-01,   5.89701682e-02,\n",
       "          2.25940642e-02,  -7.73722278e-02],\n",
       "       [  9.02125639e-02,   1.53944536e-01,   1.04252531e-01,\n",
       "          8.43031063e-02,   1.56675329e-01,   9.90453600e-02,\n",
       "          6.16024117e-02,   6.47269377e-02,   1.64830073e-01,\n",
       "         -5.00414220e-02,  -1.17774544e-01,  -4.37278202e-02,\n",
       "          7.57896970e-02,  -5.83101831e-01,  -7.45099058e-02,\n",
       "          1.40136064e-01,  -6.97749756e-01,   4.53595647e-02,\n",
       "          4.46044615e-02,  -2.33686797e-02],\n",
       "       [ -2.76982763e-01,  -1.04203628e-01,   1.47909780e-02,\n",
       "         -3.89564488e-03,  -6.84007610e-02,  -3.36209034e-02,\n",
       "          1.23958802e-01,  -6.34734875e-02,  -1.53302827e-01,\n",
       "          5.33425634e-02,   5.07948549e-02,   9.04776080e-01,\n",
       "         -3.02144189e-02,  -3.64631145e-02,  -1.55519499e-03,\n",
       "          1.12779406e-01,  -1.31441590e-01,   2.73299136e-02,\n",
       "         -7.43060663e-02,   3.04656878e-02],\n",
       "       [  6.73133103e-01,  -8.50903421e-02,  -1.00562360e-01,\n",
       "         -6.41561870e-02,  -1.89018845e-01,  -1.11609975e-01,\n",
       "         -1.37155128e-01,  -1.04274874e-01,   5.43469242e-01,\n",
       "          1.00041739e-01,   1.08068754e-01,   2.64619422e-01,\n",
       "         -8.34411924e-02,   5.13976077e-02,  -9.41436087e-02,\n",
       "         -8.11988406e-02,  -2.33721654e-02,  -8.27545215e-02,\n",
       "         -1.64836770e-01,   2.92806821e-02],\n",
       "       [ -1.04146719e-01,   2.14253930e-01,  -1.14104376e-01,\n",
       "         -9.27255676e-02,   2.43430184e-01,  -5.89507983e-02,\n",
       "         -8.80981354e-01,   6.39753873e-02,  -2.55392984e-02,\n",
       "         -4.83991374e-02,  -9.83036171e-02,   1.59216674e-01,\n",
       "          6.90525930e-02,   1.10689156e-02,   9.42044856e-02,\n",
       "         -1.20876237e-01,  -4.78261106e-02,  -2.65124541e-02,\n",
       "          9.62172807e-02,   6.61829453e-03],\n",
       "       [  2.74897067e-01,   3.34584768e-01,  -1.62571641e-01,\n",
       "         -1.20575217e-01,   3.00345637e-01,  -1.43727897e-01,\n",
       "          3.43964147e-01,   9.53864626e-02,  -2.64028061e-01,\n",
       "         -8.18793963e-02,  -1.48151755e-01,   1.50528776e-01,\n",
       "          6.88030113e-02,   7.72949545e-02,   1.77394028e-02,\n",
       "         -6.22373920e-01,  -6.90115680e-02,  -7.49475091e-02,\n",
       "          5.80364207e-02,  -9.91899137e-03],\n",
       "       [ -5.64078800e-01,  -3.11814177e-02,   1.56704576e-02,\n",
       "          3.27639444e-02,   5.61824943e-02,  -5.56455532e-02,\n",
       "          1.10620110e-01,  -1.07587112e-02,   6.66387519e-01,\n",
       "          1.41686732e-02,  -2.09083518e-02,  -1.29765058e-02,\n",
       "          3.37822494e-02,   2.80377228e-02,  -1.03447627e-01,\n",
       "         -4.44988643e-01,   2.76002525e-03,  -5.33662806e-02,\n",
       "          4.04391522e-02,  -3.00855826e-02],\n",
       "       [  1.04789836e-01,  -3.41346902e-01,   1.71852408e-01,\n",
       "          1.52155398e-01,  -4.10785669e-01,   1.65936932e-01,\n",
       "         -1.26216259e-01,   2.11901921e-01,  -1.54567091e-01,\n",
       "          4.56272403e-02,   1.33920574e-01,   4.02824566e-02,\n",
       "          5.19034776e-03,  -1.16383441e-01,   2.03303659e-02,\n",
       "         -4.04438823e-01,  -8.80278046e-02,   5.37512072e-02,\n",
       "          5.73543243e-01,  -5.26056575e-03],\n",
       "       [ -2.04205851e-02,  -1.04552871e-02,  -3.64218617e-01,\n",
       "         -3.37612354e-01,   7.56706881e-02,  -3.47553473e-01,\n",
       "          1.50022399e-01,   1.40864864e-01,   1.52000123e-01,\n",
       "          2.98611542e-02,  -1.04608557e-03,   9.98551910e-03,\n",
       "         -6.32113271e-02,   5.06960803e-02,  -5.38654650e-03,\n",
       "          3.68009894e-01,  -1.01929213e-02,  -5.29132221e-02,\n",
       "          6.44092590e-01,   9.25866801e-03],\n",
       "       [  2.38440670e-02,   2.04686468e-01,   6.83193611e-02,\n",
       "          8.63626412e-02,  -9.65675022e-03,   9.89825046e-02,\n",
       "          1.95016916e-03,  -8.95226801e-01,  -2.65074970e-02,\n",
       "          4.79197852e-03,  -1.41763046e-02,   4.14470393e-03,\n",
       "          3.70025919e-02,  -1.05675271e-02,  -7.83601733e-03,\n",
       "         -2.19804445e-02,   2.19309782e-02,  -5.95480221e-02,\n",
       "          3.56358381e-01,  -9.79066865e-03]])"
      ]
     },
     "execution_count": 164,
     "metadata": {},
     "output_type": "execute_result"
    }
   ],
   "source": [
    "VT2 = VT[:15, :]\n",
    "VT2"
   ]
  },
  {
   "cell_type": "code",
   "execution_count": 105,
   "metadata": {
    "collapsed": true
   },
   "outputs": [],
   "source": [
    "qt = np.array([0, 0, 0, 0, 0, 1, 0, 0, 0, 1, 1])"
   ]
  },
  {
   "cell_type": "code",
   "execution_count": 106,
   "metadata": {
    "collapsed": false
   },
   "outputs": [
    {
     "data": {
      "text/plain": [
       "array([-0.21400262,  0.18205705])"
      ]
     },
     "execution_count": 106,
     "metadata": {},
     "output_type": "execute_result"
    }
   ],
   "source": [
    "qt.dot(U2).dot(np.linalg.inv(S2))"
   ]
  },
  {
   "cell_type": "code",
   "execution_count": 114,
   "metadata": {
    "collapsed": false
   },
   "outputs": [
    {
     "data": {
      "text/plain": [
       "(1370, 15)"
      ]
     },
     "execution_count": 114,
     "metadata": {},
     "output_type": "execute_result"
    }
   ],
   "source": [
    "tsvd = TruncatedSVD(n_components=15)\n",
    "tsvd.fit_transform(mat.T).shape"
   ]
  },
  {
   "cell_type": "code",
   "execution_count": 133,
   "metadata": {
    "collapsed": false
   },
   "outputs": [
    {
     "name": "stdout",
     "output_type": "stream",
     "text": [
      "component  0\n",
      "pour\n",
      "dark\n",
      "beer\n",
      "malt\n",
      "head\n",
      "like\n",
      "tast\n",
      "medium\n",
      "flavor\n",
      "finish\n",
      "bodi\n",
      "brown\n",
      "light\n",
      "sweet\n",
      "aroma\n",
      "caramel\n",
      "carbon\n",
      "hop\n",
      "bitter\n",
      "nice\n",
      "component  1\n",
      "like\n",
      "pour\n",
      "brown\n",
      "malt\n",
      "nice\n",
      "dark\n",
      "flavor\n",
      "aroma\n",
      "hop\n",
      "medium\n",
      "light\n",
      "caramel\n",
      "finish\n",
      "tast\n",
      "beer\n",
      "head\n",
      "sweet\n",
      "bodi\n",
      "bitter\n",
      "carbon\n",
      "component  2\n",
      "carbon\n",
      "like\n",
      "pour\n",
      "malt\n",
      "aroma\n",
      "nice\n",
      "finish\n",
      "tast\n",
      "medium\n",
      "flavor\n",
      "dark\n",
      "hop\n",
      "beer\n",
      "bodi\n",
      "head\n",
      "light\n",
      "brown\n",
      "caramel\n",
      "sweet\n",
      "bitter\n",
      "component  3\n",
      "bitter\n",
      "like\n",
      "bodi\n",
      "carbon\n",
      "nice\n",
      "hop\n",
      "caramel\n",
      "beer\n",
      "light\n",
      "aroma\n",
      "pour\n",
      "dark\n",
      "tast\n",
      "head\n",
      "malt\n",
      "medium\n",
      "flavor\n",
      "finish\n",
      "sweet\n",
      "brown\n",
      "component  4\n",
      "brown\n",
      "finish\n",
      "bitter\n",
      "carbon\n",
      "nice\n",
      "malt\n",
      "aroma\n",
      "tast\n",
      "beer\n",
      "pour\n",
      "dark\n",
      "flavor\n",
      "light\n",
      "head\n",
      "hop\n",
      "medium\n",
      "bodi\n",
      "like\n",
      "caramel\n",
      "sweet\n",
      "component  5\n",
      "finish\n",
      "light\n",
      "beer\n",
      "aroma\n",
      "tast\n",
      "head\n",
      "medium\n",
      "like\n",
      "bodi\n",
      "hop\n",
      "dark\n",
      "flavor\n",
      "nice\n",
      "caramel\n",
      "malt\n",
      "pour\n",
      "carbon\n",
      "bitter\n",
      "brown\n",
      "sweet\n",
      "component  6\n",
      "sweet\n",
      "finish\n",
      "like\n",
      "bitter\n",
      "brown\n",
      "caramel\n",
      "carbon\n",
      "medium\n",
      "aroma\n",
      "nice\n",
      "flavor\n",
      "dark\n",
      "beer\n",
      "hop\n",
      "tast\n",
      "head\n",
      "light\n",
      "malt\n",
      "pour\n",
      "bodi\n",
      "component  7\n",
      "caramel\n",
      "nice\n",
      "light\n",
      "brown\n",
      "like\n",
      "carbon\n",
      "aroma\n",
      "head\n",
      "bitter\n",
      "beer\n",
      "dark\n",
      "tast\n",
      "finish\n",
      "flavor\n",
      "pour\n",
      "medium\n",
      "malt\n",
      "sweet\n",
      "bodi\n",
      "hop\n",
      "component  8\n",
      "hop\n",
      "bodi\n",
      "caramel\n",
      "like\n",
      "brown\n",
      "finish\n",
      "carbon\n",
      "sweet\n",
      "beer\n",
      "light\n",
      "aroma\n",
      "dark\n",
      "malt\n",
      "bitter\n",
      "head\n",
      "flavor\n",
      "tast\n",
      "nice\n",
      "medium\n",
      "pour\n",
      "component  9\n",
      "nice\n",
      "light\n",
      "head\n",
      "hop\n",
      "like\n",
      "beer\n",
      "tast\n",
      "brown\n",
      "sweet\n",
      "aroma\n",
      "bodi\n",
      "carbon\n",
      "finish\n",
      "flavor\n",
      "dark\n",
      "bitter\n",
      "medium\n",
      "caramel\n",
      "malt\n",
      "pour\n",
      "component  10\n",
      "light\n",
      "bodi\n",
      "head\n",
      "like\n",
      "tast\n",
      "beer\n",
      "brown\n",
      "aroma\n",
      "sweet\n",
      "carbon\n",
      "bitter\n",
      "medium\n",
      "dark\n",
      "finish\n",
      "flavor\n",
      "caramel\n",
      "hop\n",
      "pour\n",
      "malt\n",
      "nice\n",
      "component  11\n",
      "hop\n",
      "light\n",
      "bitter\n",
      "tast\n",
      "aroma\n",
      "malt\n",
      "carbon\n",
      "like\n",
      "caramel\n",
      "flavor\n",
      "sweet\n",
      "brown\n",
      "head\n",
      "finish\n",
      "beer\n",
      "dark\n",
      "medium\n",
      "pour\n",
      "nice\n",
      "bodi\n",
      "component  12\n",
      "pour\n",
      "light\n",
      "malt\n",
      "bodi\n",
      "nice\n",
      "finish\n",
      "sweet\n",
      "carbon\n",
      "dark\n",
      "bitter\n",
      "caramel\n",
      "brown\n",
      "aroma\n",
      "hop\n",
      "like\n",
      "beer\n",
      "tast\n",
      "head\n",
      "flavor\n",
      "medium\n",
      "component  13\n",
      "medium\n",
      "light\n",
      "bodi\n",
      "nice\n",
      "flavor\n",
      "pour\n",
      "finish\n",
      "brown\n",
      "caramel\n",
      "carbon\n",
      "like\n",
      "bitter\n",
      "sweet\n",
      "malt\n",
      "hop\n",
      "aroma\n",
      "dark\n",
      "beer\n",
      "tast\n",
      "head\n",
      "component  14\n",
      "flavor\n",
      "aroma\n",
      "bodi\n",
      "light\n",
      "like\n",
      "finish\n",
      "carbon\n",
      "pour\n",
      "bitter\n",
      "nice\n",
      "caramel\n",
      "brown\n",
      "sweet\n",
      "hop\n",
      "dark\n",
      "head\n",
      "beer\n",
      "tast\n",
      "malt\n",
      "medium\n"
     ]
    }
   ],
   "source": [
    "for i in range(0,15):\n",
    "    print \"component \", i\n",
    "    idxs = np.argsort(tsvd.components_[i]).tolist()[::-1]\n",
    "    for idx in idxs:\n",
    "        print cv_model.vocabulary[idx]"
   ]
  },
  {
   "cell_type": "code",
   "execution_count": 2,
   "metadata": {
    "collapsed": false
   },
   "outputs": [],
   "source": [
    "'''testing'''\n",
    "import numpy as np\n",
    "c = np.array([[1, 0, 1, 0, 0, 0], [0, 1, 0, 0, 0, 0], [1, 1, 0, 0, 0, 0], [1, 0, 0, 1, 1, 0], [0, 0, 0, 1, 0, 1]])\n",
    "u, s, vt = np.linalg.svd(c)"
   ]
  },
  {
   "cell_type": "code",
   "execution_count": null,
   "metadata": {
    "collapsed": true
   },
   "outputs": [],
   "source": []
  }
 ],
 "metadata": {
  "anaconda-cloud": {},
  "kernelspec": {
   "display_name": "Python [Root]",
   "language": "python",
   "name": "Python [Root]"
  },
  "language_info": {
   "codemirror_mode": {
    "name": "ipython",
    "version": 2
   },
   "file_extension": ".py",
   "mimetype": "text/x-python",
   "name": "python",
   "nbconvert_exporter": "python",
   "pygments_lexer": "ipython2",
   "version": "2.7.12"
  }
 },
 "nbformat": 4,
 "nbformat_minor": 0
}
