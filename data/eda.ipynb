{
 "cells": [
  {
   "cell_type": "code",
   "execution_count": 7,
   "metadata": {
    "collapsed": false
   },
   "outputs": [],
   "source": [
    "import pyspark as ps\n",
    "import warnings\n",
    "import multiprocessing\n",
    "import numpy as np\n",
    "\n",
    "import string\n",
    "from nltk.tokenize import word_tokenize\n",
    "from nltk.corpus import stopwords\n",
    "from nltk.stem.snowball import SnowballStemmer\n",
    "\n",
    "from pyspark.sql.functions import UserDefinedFunction, udf, monotonically_increasing_id\n",
    "from pyspark.sql.functions import count, collect_list, split\n",
    "from pyspark.sql.types import StringType, ArrayType, DoubleType\n",
    "\n",
    "from pyspark.ml.feature import CountVectorizer, Normalizer, IDF, Tokenizer"
   ]
  },
  {
   "cell_type": "code",
   "execution_count": 8,
   "metadata": {
    "collapsed": false
   },
   "outputs": [
    {
     "name": "stdout",
     "output_type": "stream",
     "text": [
      "Just created a SparkContext\n"
     ]
    }
   ],
   "source": [
    "# multiprocessing.cpu_count() \n",
    "try:\n",
    "    sc = ps.SparkContext('local[8]')\n",
    "    print \"Just created a SparkContext\"\n",
    "except ValueError:\n",
    "    warnings.warn(\"SparkContext already exists in this scope\")"
   ]
  },
  {
   "cell_type": "code",
   "execution_count": 9,
   "metadata": {
    "collapsed": false
   },
   "outputs": [],
   "source": [
    "sqlContext = ps.SQLContext(sc)"
   ]
  },
  {
   "cell_type": "code",
   "execution_count": 10,
   "metadata": {
    "collapsed": false
   },
   "outputs": [],
   "source": [
    "df = sqlContext.read.json('reviews_1000.json')"
   ]
  },
  {
   "cell_type": "code",
   "execution_count": 13,
   "metadata": {
    "collapsed": false
   },
   "outputs": [
    {
     "data": {
      "text/plain": [
       "[Row(_id=Row($oid=u'58a53c8ad24b5829f1e24b6d'), abv=u'?', avg_rating=u'4.4', ba_score=5.0, beer_name=u'Sweet Vanilla Oatmeal Stout', beer_style=u'Oatmeal Stout', brewery_name=u'10K Brewing', bros=u'-', feel=u'5', look=u'5', num_ratings=u'4', overall=u'5', smell=u'5', state=u'Minnesota', taste=u'5', text=u\"Delicious vanilla smooth stout. Rumour has it this beer has just recently gone on Nitro, and I will be stopping in soon to try it. I'm sure it will be even more silky and  chocolate-vanilla tasting!\\xa0198 charactersRyleeLogan, Apr 02, 2016\", weighted_ba_score=u'-')]"
      ]
     },
     "execution_count": 13,
     "metadata": {},
     "output_type": "execute_result"
    }
   ],
   "source": [
    "df.take(1)"
   ]
  },
  {
   "cell_type": "code",
   "execution_count": 106,
   "metadata": {
    "collapsed": false
   },
   "outputs": [],
   "source": [
    "def preprocess_review_text(text):\n",
    "    stopwords_ = set(stopwords.words('english') + [str(i) for i in xrange(100)])\n",
    "    stemmer_ = SnowballStemmer('english')\n",
    "    \n",
    "    if (text == None):\n",
    "        return []\n",
    "    \n",
    "    if (len(text) < 1):\n",
    "        return []\n",
    "    \n",
    "    if (type(text) == unicode):\n",
    "        text = text.encode('utf-8')\n",
    "        \n",
    "    replace_punctuation = string.maketrans(string.punctuation, ' '*len(string.punctuation))\n",
    "    unpunctuated_text = text.translate(replace_punctuation)\n",
    "    tokens = word_tokenize(unpunctuated_text)[:-5:] # reviewer username info lost here via array slice\n",
    "    lowercased_tokens = [token.lower() for token in tokens]\n",
    "    filtered_tokens = [w for w in lowercased_tokens if not w in stopwords_] \n",
    "    \n",
    "    stemmed = []\n",
    "    for token in filtered_tokens:\n",
    "        try:\n",
    "            stemmed.append(stemmer_.stem(token))\n",
    "        except:\n",
    "            # continue when stemmer doesn't work\n",
    "            continue\n",
    "\n",
    "    return stemmed"
   ]
  },
  {
   "cell_type": "code",
   "execution_count": 107,
   "metadata": {
    "collapsed": false
   },
   "outputs": [
    {
     "data": {
      "text/plain": [
       "[Row(brewery_name=u'10K Brewing', beer_name=u'Sweet Vanilla Oatmeal Stout', state=u'Minnesota', beer_style=u'Oatmeal Stout', text=u\"Delicious vanilla smooth stout. Rumour has it this beer has just recently gone on Nitro, and I will be stopping in soon to try it. I'm sure it will be even more silky and  chocolate-vanilla tasting!\\xa0198 charactersRyleeLogan, Apr 02, 2016\")]"
      ]
     },
     "execution_count": 107,
     "metadata": {},
     "output_type": "execute_result"
    }
   ],
   "source": [
    "token_udf = udf(lambda x: preprocess_review_text(x), ArrayType(StringType()))\n",
    "\n",
    "df_reviews = df.select('brewery_name', 'beer_name', 'state', 'beer_style', 'text')\n",
    "df_reviews.take(1)"
   ]
  },
  {
   "cell_type": "code",
   "execution_count": 108,
   "metadata": {
    "collapsed": true
   },
   "outputs": [],
   "source": [
    "df_tokens = df_reviews.withColumn(\"tokens\", token_udf('text'))"
   ]
  },
  {
   "cell_type": "code",
   "execution_count": 109,
   "metadata": {
    "collapsed": true
   },
   "outputs": [],
   "source": [
    "def get_all_tokens(tokens):\n",
    "    return reduce(lambda x,y: x + y, tokens)\n",
    "\n",
    "get_all_tokens_udf = udf(get_all_tokens, ArrayType(StringType()))"
   ]
  },
  {
   "cell_type": "code",
   "execution_count": 110,
   "metadata": {
    "collapsed": false
   },
   "outputs": [
    {
     "name": "stdout",
     "output_type": "stream",
     "text": [
      "root\n",
      " |-- brewery_name: string (nullable = true)\n",
      " |-- beer_name: string (nullable = true)\n",
      " |-- state: string (nullable = true)\n",
      " |-- beer_style: string (nullable = true)\n",
      " |-- stemmed_tokens: array (nullable = true)\n",
      " |    |-- element: string (containsNull = true)\n",
      "\n"
     ]
    }
   ],
   "source": [
    "df_reviews_stemmed = df_tokens.groupby('brewery_name', 'beer_name', 'state', 'beer_style') \\\n",
    "                        .agg(get_all_tokens_udf(collect_list('tokens')) \\\n",
    "                        .alias('stemmed_tokens'))\n",
    "    \n",
    "df_reviews_stemmed.printSchema()"
   ]
  },
  {
   "cell_type": "code",
   "execution_count": 21,
   "metadata": {
    "collapsed": false
   },
   "outputs": [],
   "source": [
    "# example user defined function\n",
    "def up(text):\n",
    "    return text.upper()\n",
    "up_udf = udf(up, StringType())"
   ]
  },
  {
   "cell_type": "code",
   "execution_count": null,
   "metadata": {
    "collapsed": true
   },
   "outputs": [],
   "source": [
    "'''\n",
    "BREAKKKKKK\n",
    "'''"
   ]
  },
  {
   "cell_type": "code",
   "execution_count": 6,
   "metadata": {
    "collapsed": false
   },
   "outputs": [
    {
     "name": "stdout",
     "output_type": "stream",
     "text": [
      "root\n",
      " |-- brewery_name: string (nullable = true)\n",
      " |-- beer_name: string (nullable = true)\n",
      " |-- state: string (nullable = true)\n",
      " |-- beer_style: string (nullable = true)\n",
      " |-- text: string (nullable = true)\n",
      "\n"
     ]
    }
   ],
   "source": [
    "reviews_df = df.select('brewery_name', 'beer_name', 'state', 'beer_style', 'text')"
   ]
  },
  {
   "cell_type": "code",
   "execution_count": 23,
   "metadata": {
    "collapsed": false
   },
   "outputs": [
    {
     "data": {
      "text/plain": [
       "<pyspark.sql.group.GroupedData at 0x10bbb0e50>"
      ]
     },
     "execution_count": 23,
     "metadata": {},
     "output_type": "execute_result"
    }
   ],
   "source": [
    "reviews_df.groupBy('brewery_name', 'beer_name', 'state')"
   ]
  },
  {
   "cell_type": "code",
   "execution_count": 189,
   "metadata": {
    "collapsed": false
   },
   "outputs": [],
   "source": [
    "grouped_reviews = reviews_df.groupBy('brewery_name', 'beer_name', 'state').agg(collect_list('text').alias('reviews'))\n",
    "# grouped_reviews.collect()"
   ]
  },
  {
   "cell_type": "code",
   "execution_count": 187,
   "metadata": {
    "collapsed": false
   },
   "outputs": [],
   "source": [
    "def preprocess_reviews(reviews):\n",
    "    stopwords_ = set(stopwords.words('english'))\n",
    "    stemmer_ = SnowballStemmer('english')\n",
    "    \n",
    "    if (reviews == None):\n",
    "        return []\n",
    "    \n",
    "    if (len(reviews) < 1):\n",
    "        return []\n",
    "    \n",
    "    stemmed = []\n",
    "    for text in reviews:\n",
    "        if (type(text) == unicode):\n",
    "            text = text.encode('utf-8')\n",
    "        \n",
    "        replace_punctuation = string.maketrans(string.punctuation, ' '*len(string.punctuation))\n",
    "        unpunctuated_text = text.translate(replace_punctuation)\n",
    "        tokens = word_tokenize(unpunctuated_text)[:-5:] # reviewer username info lost here via array slice\n",
    "        lowercased_tokens = [token.lower() for token in tokens]\n",
    "        filtered_tokens = [w for w in lowercased_tokens if not w in stopwords_] \n",
    "        try:\n",
    "            stemmed += [stemmer_.stem(w) for w in filtered_tokens]\n",
    "        except:\n",
    "            stemmed += [stemmer_.stem(w) for w in filtered_tokens[:-1:]] # review text is more than 999 characters\n",
    "    return(stemmed)"
   ]
  },
  {
   "cell_type": "code",
   "execution_count": 123,
   "metadata": {
    "collapsed": false
   },
   "outputs": [],
   "source": [
    "test = '''Poured from a 12oz bottle ($6.99/four-pack) into a teku:\\n\\nAppearance: pours a bright copper-orange, with a thick, fluffy head. The body isn't quite translucent, but I wouldn't call it hazy either....somewhere in between. Leaves tons of sticky lacing.\\n\\nSmell: disappointed in this area, as I didn't get all that much from the hops. I got some dry, crackery scent from the malt, and maybe a little bit of bitterness, but the hops were a disappointment in a style that definitely needs hop aromatics.\\n\\nTaste: starts off with some nice, mellow fruit flavor. I got a little bit of melon, some pineapple rind.  Orange pith, not so much the flesh. Lots of bitterness, perhaps a little bit over on the bitter balance. The magnum definitely comes through on the finish much more than the El Dorado, though both give this beer a distinctly bitter flavor. Not necessarily a bad thing, but it's not the en vogue flavor right now. Nicely balanced between malt and hops.\\n\\nFeel: medium-bodied, with light to medium carbonation, and a semi-thick mouthfeel. Leaves a kind of dry, bitter finish.\\n\\nOverall: a solid first IPA from a new brewery. Combined with the fact that half of all proceeds are donated to different charities, this'll be a solid purchase, especially at the relatively cheap price point.\\xa01,287 charactersTheElectricOne, Mar 25, 2016'''\n",
    "\n",
    "reviews = [u'Solidly amber in color with just a touch of haze.  Small but lasting head which leaves decent latticed lace.\\n\\nVery nice blended smell of caramel malt (like an English IPA) with a pleasant floral hop (more like an East Coast US IPA).\\n\\nStarts mild with some toastiness on the tongue.  The hop is straight up bitterness and stronger than I expected based on the smell.  Highly carbonated and neutral in body.  Long aftertaste, but again, the flavor is straight forward.  \\n\\nOverall, I do like this IPA.  The interplay between the malt and hop is fun, but neither is very complex.\\xa0575 characterssmcolw, Apr 22, 2016', u'Pours a slightly hazy and light amber in color with a minimal off white head that quickly faded to only a few bubbles at the edges. It has an almost murky/muddy appearance. Aroma is almost completely devoid of hop presence with a fair amount of caramelly malts. Taste is like the aroma, hop flavor is low with only hints of citrus and a few floral notes. Caramel malt character is offset by a relatively high bitterness that has a touch of astringency at the end. Medium body and moderate carbonation. Overall a very mediocre beer. I found the hop presence lacking, the caramel malts a bit heavy handed and the bitterness out of whack. I do really like the label (which is the reason that I took a chance on an unknown and picked this up).\\xa0739 charactersmnj21655, Apr 19, 2016', u'A- Snifter pour from the narrow 12oz bottle with a deep orange-amber body and a foamy off-white cap that rises to just about one finger high. Head falls fairly fast to a medium ring and lacing is in sheets.\\n\\nS- Really not a whole lot to go by especially for the IPA style. A hint of orange citrus hops is trumped by medium caramelized malts and yeast bread notes. A bit toasty.\\n\\nT- Fairly malty focus carries over from the aroma with cereal grains, toast, pale caramel and raw base malt notes coming out. Hops are more present in the finish with a heavy spicy and earthy presence as well citrus, herbal tea and floral hints.\\n\\nMF- Texture falls somewhere between silky, frothy and a tad creamy in a medium body that leans just towards the light end. Carbonation is moderate and the finish contains an herbal bitterness.\\n\\nA moderate malt presence interferes with the brightness of the hops in a fairly forgettable brew in an ultra competitive style. IPAs can be balanced but this one does not excel at that.\\xa01,005 characterscbutova, Mar 30, 2016', u\"Poured from a 12oz bottle ($6.99/four-pack) into a teku:\\n\\nAppearance: pours a bright copper-orange, with a thick, fluffy head. The body isn't quite translucent, but I wouldn't call it hazy either....somewhere in between. Leaves tons of sticky lacing.\\n\\nSmell: disappointed in this area, as I didn't get all that much from the hops. I got some dry, crackery scent from the malt, and maybe a little bit of bitterness, but the hops were a disappointment in a style that definitely needs hop aromatics.\\n\\nTaste: starts off with some nice, mellow fruit flavor. I got a little bit of melon, some pineapple rind.  Orange pith, not so much the flesh. Lots of bitterness, perhaps a little bit over on the bitter balance. The magnum definitely comes through on the finish much more than the El Dorado, though both give this beer a distinctly bitter flavor. Not necessarily a bad thing, but it's not the en vogue flavor right now. Nicely balanced between malt and hops.\\n\\nFeel: medium-bodied, with light to medium carbonation, and a semi-thick mouthfeel. Leaves a kind of dry, bitter finish.\\n\\nOverall: a solid first IPA from a new brewery. Combined with the fact that half of all proceeds are donated to different charities, this'll be a solid purchase, especially at the relatively cheap price point.\\xa01,287 charactersTheElectricOne, Mar 25, 2016\"]\n",
    "# reviews"
   ]
  },
  {
   "cell_type": "code",
   "execution_count": 192,
   "metadata": {
    "collapsed": false
   },
   "outputs": [],
   "source": [
    "# preprocess_review_text(test)\n",
    "tokens = preprocess_reviews(reviews)\n",
    "\n",
    "tokenizer_udf = udf(lambda x : preprocess_reviews(x), ArrayType(StringType()))\n",
    "\n",
    "# df_tokens = grouped_reviews.withColumn(\"tokens\", tokenizer_udf(grouped_reviews.reviews))\n",
    "# df_tokens.printSchema()"
   ]
  },
  {
   "cell_type": "code",
   "execution_count": 111,
   "metadata": {
    "collapsed": false
   },
   "outputs": [],
   "source": [
    "cv = CountVectorizer(inputCol='stemmed_tokens', outputCol='features_tf')\n",
    "cv_model = cv.fit(df_reviews_stemmed)\n",
    "df_features_tf = cv_model.transform(df_reviews_stemmed)\n",
    "\n",
    "normalizer = Normalizer(inputCol='features_tf', outputCol='features_normalized')\n",
    "df_features_normalized = normalizer.transform(df_features_tf)"
   ]
  },
  {
   "cell_type": "code",
   "execution_count": 112,
   "metadata": {
    "collapsed": false
   },
   "outputs": [],
   "source": [
    "idf = IDF(inputCol='features_normalized', outputCol='features')\n",
    "idf_model = idf.fit(df_features_normalized)\n",
    "df_features = idf_model.transform(df_features_normalized)\n",
    "\n",
    "# TODO: add a beer_id from 0 to len(distinct beers)-1 \n",
    "df_beers = df_features.select('brewery_name', 'beer_name', 'state', 'beer_style', 'features')"
   ]
  },
  {
   "cell_type": "code",
   "execution_count": 113,
   "metadata": {
    "collapsed": false
   },
   "outputs": [
    {
     "data": {
      "text/plain": [
       "Row(brewery_name=u'3 Stars Brewing Company', beer_name=u'Starsky & Dutch', state=u'District of Columbia', beer_style=u'Milk / Sweet Stout', features=SparseVector(4578, {0: 0.0536, 1: 0.0334, 2: 0.0557, 3: 0.0464, 4: 0.0501, 5: 0.1058, 6: 0.0714, 7: 0.0484, 8: 0.1217, 9: 0.0239, 10: 0.102, 11: 0.0512, 12: 0.1206, 13: 0.0932, 14: 0.1732, 15: 0.0223, 16: 0.0503, 17: 0.6163, 18: 0.0197, 19: 0.01, 20: 0.0317, 21: 0.0538, 22: 0.0137, 23: 0.0683, 24: 0.0265, 25: 0.1004, 26: 0.1037, 27: 0.0108, 28: 0.084, 29: 0.016, 30: 0.0706, 31: 0.0583, 32: 0.032, 35: 0.1732, 36: 0.0451, 37: 0.0313, 38: 0.0155, 40: 0.0702, 41: 0.0602, 42: 0.0932, 43: 0.0178, 44: 0.0527, 45: 0.0518, 46: 0.0551, 47: 0.0184, 48: 0.0367, 50: 0.0702, 51: 0.1184, 53: 0.0201, 54: 0.084, 56: 0.0402, 57: 0.0991, 58: 0.0216, 61: 0.0201, 62: 0.0585, 66: 0.0244, 69: 0.2163, 71: 0.0285, 75: 0.0223, 76: 0.0308, 79: 0.0244, 83: 0.0961, 84: 0.0488, 87: 0.0879, 89: 0.0854, 90: 0.0251, 92: 0.0503, 93: 0.0303, 94: 0.0511, 95: 0.028, 101: 0.028, 102: 0.084, 103: 0.0569, 105: 0.1022, 106: 0.0778, 111: 0.0867, 114: 0.0289, 116: 0.0815, 117: 0.0815, 120: 0.0263, 122: 0.0272, 124: 0.0285, 125: 0.0454, 126: 0.0597, 131: 0.0535, 132: 0.0267, 135: 0.0616, 136: 0.118, 137: 0.0285, 138: 0.0276, 139: 0.0298, 141: 0.0867, 142: 0.028, 143: 0.0289, 145: 0.0335, 146: 0.0263, 148: 0.0335, 161: 0.0313, 162: 0.0393, 166: 0.0341, 167: 0.0303, 168: 0.1213, 169: 0.0298, 172: 0.0318, 176: 0.0329, 177: 0.0324, 179: 0.0353, 181: 0.0359, 183: 0.0379, 188: 0.0341, 191: 0.0772, 193: 0.0318, 196: 0.0379, 197: 0.0329, 199: 0.0294, 200: 0.0346, 202: 0.0359, 203: 0.0346, 204: 0.0365, 206: 0.0426, 211: 0.0372, 215: 0.0379, 218: 0.1058, 220: 0.0372, 222: 0.0693, 226: 0.0888, 228: 0.0426, 233: 0.0372, 234: 0.0386, 237: 0.1039, 239: 0.0359, 241: 0.0417, 245: 0.0772, 248: 0.0409, 250: 0.0758, 254: 0.0393, 256: 0.0386, 260: 0.0818, 261: 0.0409, 263: 0.0379, 266: 0.0834, 267: 0.0555, 273: 0.1967, 280: 0.0475, 282: 0.0401, 291: 0.0417, 298: 0.0426, 302: 0.0435, 306: 0.0435, 309: 0.0454, 310: 0.0409, 315: 0.0401, 317: 0.0386, 318: 0.0426, 320: 0.0386, 321: 0.0818, 325: 0.0834, 328: 0.0435, 330: 0.0444, 337: 0.0417, 344: 0.2219, 347: 0.0852, 348: 0.0435, 357: 0.0426, 363: 0.0444, 375: 0.0454, 384: 0.122, 391: 0.1022, 396: 0.0454, 399: 0.0417, 405: 0.1459, 406: 0.0444, 414: 0.0997, 423: 0.0486, 426: 0.0972, 431: 0.0475, 433: 0.0444, 440: 0.0475, 446: 0.0486, 461: 0.0464, 468: 0.0555, 478: 0.0525, 479: 0.0525, 485: 0.0498, 488: 0.061, 490: 0.095, 491: 0.0486, 492: 0.0657, 512: 0.0511, 529: 0.0555, 535: 0.0511, 536: 0.0571, 544: 0.0498, 559: 0.0571, 565: 0.0539, 570: 0.0555, 591: 0.0525, 600: 0.0525, 601: 0.0685, 608: 0.0571, 613: 0.1829, 615: 0.0571, 651: 0.0571, 662: 0.059, 670: 0.0632, 675: 0.5737, 676: 0.0571, 681: 0.5737, 690: 0.0571, 700: 0.059, 712: 0.0571, 721: 0.061, 739: 0.0555, 743: 0.0685, 746: 0.0571, 748: 0.0657, 759: 0.059, 766: 0.061, 784: 0.0657, 786: 0.061, 810: 0.0657, 816: 0.0685, 817: 0.059, 836: 0.0632, 862: 0.0685, 869: 0.061, 887: 0.0632, 896: 0.0632, 899: 0.1313, 906: 0.0657, 937: 0.0657, 944: 0.0657, 967: 0.0657, 973: 0.0685, 976: 0.0632, 1016: 0.0685, 1018: 0.0685, 1045: 0.0657, 1049: 0.0717, 1050: 0.0685, 1077: 0.0717, 1114: 0.0685, 1119: 0.0685, 1134: 0.0685, 1165: 0.0717, 1175: 0.0717, 1181: 0.0755, 1186: 0.0685, 1199: 0.0717, 1239: 0.0717, 1290: 0.0717, 1297: 0.0717, 1318: 0.0717, 1355: 0.0755, 1361: 0.0755, 1408: 0.0802, 1486: 0.0755, 1535: 0.0802, 1604: 0.0802, 1640: 0.0863, 1641: 0.2844, 1654: 0.0863, 1672: 0.0802, 1714: 0.0802, 1720: 0.0802, 1876: 0.1726, 1896: 0.0863, 1901: 0.0863, 1925: 0.0863, 2013: 0.0863, 2132: 0.0863, 2192: 0.0863, 2267: 0.0863, 2312: 0.0863, 2357: 0.0863, 2375: 0.0863, 2392: 0.0863, 2410: 0.0863, 2521: 0.0863, 2533: 0.0863, 2709: 0.0948, 2871: 0.0948, 2949: 0.0948, 3267: 0.0948, 3394: 0.0948, 3428: 0.0948, 3589: 0.0948, 3686: 0.0948, 3781: 0.0948, 4280: 0.0948, 4377: 0.0948, 4385: 0.0948}))"
      ]
     },
     "execution_count": 113,
     "metadata": {},
     "output_type": "execute_result"
    }
   ],
   "source": [
    "df_beers.take(8)[7]"
   ]
  },
  {
   "cell_type": "code",
   "execution_count": 114,
   "metadata": {
    "collapsed": false
   },
   "outputs": [],
   "source": [
    "top = np.argsort(df_beers.take(8)[7].features.toArray())[::-1][:20]"
   ]
  },
  {
   "cell_type": "code",
   "execution_count": 115,
   "metadata": {
    "collapsed": false
   },
   "outputs": [],
   "source": [
    "vocab = {idx: val for idx, val in enumerate(cv_model.vocabulary)}"
   ]
  },
  {
   "cell_type": "code",
   "execution_count": 116,
   "metadata": {
    "collapsed": false
   },
   "outputs": [
    {
     "data": {
      "text/plain": [
       "[u'chocol',\n",
       " u'butter',\n",
       " u'peanut',\n",
       " u'dutch',\n",
       " u'espresso',\n",
       " u'quit',\n",
       " u'qualiti',\n",
       " u'doubl',\n",
       " u'stout',\n",
       " u'coffe',\n",
       " u'unexpect',\n",
       " u'togeth',\n",
       " u'lactos',\n",
       " u'star',\n",
       " u'nice',\n",
       " u'though',\n",
       " u'like',\n",
       " u'creami',\n",
       " u'cocoa',\n",
       " u'light']"
      ]
     },
     "execution_count": 116,
     "metadata": {},
     "output_type": "execute_result"
    }
   ],
   "source": [
    "[vocab[idx] for idx in top]"
   ]
  },
  {
   "cell_type": "code",
   "execution_count": 27,
   "metadata": {
    "collapsed": false
   },
   "outputs": [],
   "source": [
    "# df_beers.select('features').take(1)[0].features.toArray()"
   ]
  },
  {
   "cell_type": "code",
   "execution_count": 25,
   "metadata": {
    "collapsed": false
   },
   "outputs": [],
   "source": [
    "# df_beers.select('features').agg(collect_list('features')).collect()[0]."
   ]
  },
  {
   "cell_type": "code",
   "execution_count": 272,
   "metadata": {
    "collapsed": true
   },
   "outputs": [],
   "source": [
    "def sparse_vector_to_matrix(vectors):\n",
    "    return reduce(lambda x, y: np.vstack((x,y)), vectors)\n",
    "\n",
    "matrix_udf = udf(sparse_vector_to_matrix, RowMatrix)"
   ]
  },
  {
   "cell_type": "code",
   "execution_count": 288,
   "metadata": {
    "collapsed": false
   },
   "outputs": [
    {
     "data": {
      "text/plain": [
       "DataFrame[sparse_vector_to_matrix(collect_list(features, 0, 0)): array<double>]"
      ]
     },
     "execution_count": 288,
     "metadata": {},
     "output_type": "execute_result"
    }
   ],
   "source": [
    "df_beers.select('features').agg(matrix_udf(collect_list('features')))"
   ]
  },
  {
   "cell_type": "code",
   "execution_count": 301,
   "metadata": {
    "collapsed": false
   },
   "outputs": [],
   "source": [
    "from pyspark.mllib.linalg.distributed import IndexedRow, IndexedRowMatrix\n",
    "matrix = RowMatrix(df_beers.select('features').rdd)"
   ]
  },
  {
   "cell_type": "code",
   "execution_count": 313,
   "metadata": {
    "collapsed": false
   },
   "outputs": [],
   "source": [
    "df_beers = df_beers.withColumn('beer_id', monotonically_increasing_id())"
   ]
  },
  {
   "cell_type": "code",
   "execution_count": 321,
   "metadata": {
    "collapsed": false
   },
   "outputs": [],
   "source": [
    "# IndexedRowMatrix(df_beers.select('beer_id', 'features').rdd.map(lambda row: IndexedRow(*row)))"
   ]
  },
  {
   "cell_type": "code",
   "execution_count": 28,
   "metadata": {
    "collapsed": false
   },
   "outputs": [],
   "source": [
    "mat = np.array([x.features.toArray() for x in df_beers.rdd.toLocalIterator()])"
   ]
  },
  {
   "cell_type": "code",
   "execution_count": 30,
   "metadata": {
    "collapsed": false
   },
   "outputs": [
    {
     "data": {
      "text/plain": [
       "(4644, 181)"
      ]
     },
     "execution_count": 30,
     "metadata": {},
     "output_type": "execute_result"
    }
   ],
   "source": [
    "mat.T.shape"
   ]
  },
  {
   "cell_type": "code",
   "execution_count": 31,
   "metadata": {
    "collapsed": true
   },
   "outputs": [],
   "source": [
    "U, s, VT = np.linalg.svd(mat.T, full_matrices=False)"
   ]
  },
  {
   "cell_type": "code",
   "execution_count": 32,
   "metadata": {
    "collapsed": false
   },
   "outputs": [
    {
     "data": {
      "text/plain": [
       "((4644, 181), (181,), (181, 181))"
      ]
     },
     "execution_count": 32,
     "metadata": {},
     "output_type": "execute_result"
    }
   ],
   "source": [
    "U.shape, s.shape, VT.shape"
   ]
  },
  {
   "cell_type": "code",
   "execution_count": 34,
   "metadata": {
    "collapsed": false
   },
   "outputs": [],
   "source": [
    "import matplotlib.pyplot as plt\n",
    "% matplotlib inline"
   ]
  },
  {
   "cell_type": "code",
   "execution_count": 35,
   "metadata": {
    "collapsed": false
   },
   "outputs": [
    {
     "data": {
      "text/plain": [
       "[<matplotlib.lines.Line2D at 0x11085e850>]"
      ]
     },
     "execution_count": 35,
     "metadata": {},
     "output_type": "execute_result"
    },
    {
     "data": {
      "image/png": "[encoded data removed]",
      "text/plain": [
       "<matplotlib.figure.Figure at 0x11060a450>"
      ]
     },
     "metadata": {},
     "output_type": "display_data"
    }
   ],
   "source": [
    "cumulative = np.cumsum(s ** 2)\n",
    "# plt.bar(np.arange(len(cumulative)), cumulative)\n",
    "plt.plot(cumulative)"
   ]
  },
  {
   "cell_type": "code",
   "execution_count": 36,
   "metadata": {
    "collapsed": false
   },
   "outputs": [
    {
     "data": {
      "text/plain": [
       "535.70908256512814"
      ]
     },
     "execution_count": 36,
     "metadata": {},
     "output_type": "execute_result"
    }
   ],
   "source": [
    "total_energy = np.sum(s ** 2)\n",
    "total_energy * .9"
   ]
  },
  {
   "cell_type": "code",
   "execution_count": 42,
   "metadata": {
    "collapsed": false
   },
   "outputs": [
    {
     "data": {
      "text/plain": [
       "535.19382547530665"
      ]
     },
     "execution_count": 42,
     "metadata": {},
     "output_type": "execute_result"
    }
   ],
   "source": [
    "cumulative[128]"
   ]
  },
  {
   "cell_type": "code",
   "execution_count": 149,
   "metadata": {
    "collapsed": false
   },
   "outputs": [
    {
     "data": {
      "text/plain": [
       "array([ 0.05427867,  0.02452838,  0.01632689,  0.01469236,  0.01427182,\n",
       "        0.01392901,  0.01294463,  0.01265193,  0.01225671,  0.01195258,\n",
       "        0.01176961,  0.01154906,  0.01129013,  0.01098913,  0.0106937 ,\n",
       "        0.01060054,  0.0103324 ,  0.00987094,  0.00974423,  0.00967216,\n",
       "        0.00948321,  0.00927404,  0.00917706,  0.00900682,  0.00897959,\n",
       "        0.00888249,  0.00873419,  0.00869181,  0.00857196,  0.00832714,\n",
       "        0.0082757 ,  0.00810392,  0.00804917,  0.00800351,  0.00793632,\n",
       "        0.00785305,  0.00772687,  0.00757949,  0.00753765,  0.00746007,\n",
       "        0.00729531,  0.00727508,  0.00722318,  0.00714152,  0.00707458,\n",
       "        0.00703644,  0.00698507,  0.00689944,  0.00685278,  0.00671853,\n",
       "        0.0066637 ,  0.00661293,  0.00658121,  0.00649174,  0.0064198 ,\n",
       "        0.006368  ,  0.00631957,  0.00627893,  0.00614455,  0.00611641,\n",
       "        0.00604196,  0.00597222,  0.00589174,  0.00587913,  0.00583783,\n",
       "        0.00574125,  0.00568448,  0.00563666,  0.00562539,  0.00551661,\n",
       "        0.00550151,  0.00549116,  0.00539101,  0.00536912,  0.0053002 ,\n",
       "        0.00525331,  0.00521849,  0.00515566,  0.00505822,  0.00501645,\n",
       "        0.00500438,  0.00498225,  0.00487237,  0.00481618,  0.00478382,\n",
       "        0.00474091,  0.0046477 ,  0.00461969,  0.00457126,  0.00456416,\n",
       "        0.00447805,  0.00444933,  0.00441512,  0.00439349,  0.00431068,\n",
       "        0.00428274,  0.00423093,  0.00418915,  0.00414095,  0.00408719,\n",
       "        0.00407483,  0.00401827,  0.00390736,  0.00387626,  0.00384604,\n",
       "        0.00374818,  0.00372576,  0.00369431,  0.00363471,  0.00356545,\n",
       "        0.00351494,  0.00349666,  0.00346964,  0.0034392 ,  0.00340176,\n",
       "        0.00336396,  0.00331505,  0.0032711 ,  0.00323084,  0.00319023,\n",
       "        0.00316594,  0.00310078,  0.00307616,  0.00303025,  0.0030091 ,\n",
       "        0.00295396,  0.00290127,  0.00286162])"
      ]
     },
     "execution_count": 149,
     "metadata": {},
     "output_type": "execute_result"
    }
   ],
   "source": [
    "from sklearn.decomposition import TruncatedSVD\n",
    "from sklearn.utils.extmath import randomized_svd\n",
    "from sklearn.utils.sparsefuncs import mean_variance_axis\n",
    "import scipy.sparse as sp\n",
    "\n",
    "U, s, VT = randomized_svd(mat.T, n_components=128)\n",
    "svd = TruncatedSVD(n_components=128)\n",
    "svd_model = svd.fit(mat.T)\n",
    "svd_model.explained_variance_ratio_"
   ]
  },
  {
   "cell_type": "code",
   "execution_count": 150,
   "metadata": {
    "collapsed": false
   },
   "outputs": [
    {
     "data": {
      "text/plain": [
       "0.89274781556555649"
      ]
     },
     "execution_count": 150,
     "metadata": {},
     "output_type": "execute_result"
    }
   ],
   "source": [
    "# https://github.com/scikit-learn/scikit-learn/blob/master/sklearn/decomposition/truncated_svd.py#L174\n",
    "\n",
    "X_transformed = U * s\n",
    "exp_var = np.var(X_transformed, axis=0)\n",
    "if sp.issparse(mat.T):\n",
    "    _, full_var = mean_variance_axis(mat.T, axis=0)\n",
    "    full_var = full_var.sum()\n",
    "else:\n",
    "    full_var = np.var(mat.T, axis=0).sum()\n",
    "exp_var\n",
    "np.sum(exp_var / full_var)"
   ]
  },
  {
   "cell_type": "code",
   "execution_count": 97,
   "metadata": {
    "collapsed": true
   },
   "outputs": [],
   "source": [
    "'''LSI Example'''\n",
    "A = np.array([[1, 1, 1], [0, 1, 1], [1, 0, 0], [0, 1, 0], [1, 0, 0], [1, 0, 1], [1, 1, 1], [1, 1, 1], [1, 0, 1], [0, 2, 0], [0, 1, 1]])"
   ]
  },
  {
   "cell_type": "code",
   "execution_count": 154,
   "metadata": {
    "collapsed": true
   },
   "outputs": [],
   "source": [
    "U, s, VT = np.linalg.svd(mat.T, full_matrices=False)"
   ]
  },
  {
   "cell_type": "code",
   "execution_count": 155,
   "metadata": {
    "collapsed": false
   },
   "outputs": [
    {
     "data": {
      "text/plain": [
       "array([[-0.17023584, -0.07081547,  0.0377351 , ..., -0.00777245,\n",
       "         0.02402317,  0.02346556],\n",
       "       [-0.12702543, -0.04657535, -0.01156605, ..., -0.02230828,\n",
       "         0.04381738, -0.05284764],\n",
       "       [-0.06772587, -0.02144126,  0.02002593, ...,  0.00719506,\n",
       "        -0.00776556, -0.03037869],\n",
       "       ..., \n",
       "       [-0.00306274, -0.00118809,  0.00076784, ...,  0.00340223,\n",
       "        -0.00852569, -0.02316207],\n",
       "       [-0.00362711, -0.00079017,  0.00066497, ...,  0.02680297,\n",
       "         0.0015981 ,  0.01051   ],\n",
       "       [-0.00362711, -0.00079017,  0.00066497, ...,  0.02680297,\n",
       "         0.0015981 ,  0.01051   ]])"
      ]
     },
     "execution_count": 155,
     "metadata": {},
     "output_type": "execute_result"
    }
   ],
   "source": [
    "U"
   ]
  },
  {
   "cell_type": "code",
   "execution_count": 156,
   "metadata": {
    "collapsed": false
   },
   "outputs": [
    {
     "data": {
      "text/plain": [
       "array([ 2.11406758,  1.81202727,  1.75115025,  1.67064058,  1.63079074,\n",
       "        1.5730457 ,  1.56643667,  1.52368492,  1.46126969,  1.34835512,\n",
       "        1.32846215,  1.3186198 ,  1.21757887,  1.15579583,  1.06619748,\n",
       "        1.02262207,  0.97779103,  0.80334251,  0.79545702,  0.70316871])"
      ]
     },
     "execution_count": 156,
     "metadata": {},
     "output_type": "execute_result"
    }
   ],
   "source": [
    "s"
   ]
  },
  {
   "cell_type": "code",
   "execution_count": 157,
   "metadata": {
    "collapsed": false
   },
   "outputs": [
    {
     "data": {
      "text/plain": [
       "array([[ -1.31034164e-01,  -2.98673992e-01,  -2.90805173e-01,\n",
       "         -2.99590257e-01,  -3.30708370e-01,  -2.39955648e-01,\n",
       "         -8.64358557e-02,  -2.23089432e-01,  -2.06495177e-01,\n",
       "         -1.83958975e-01,  -2.88292394e-01,  -1.48478563e-01,\n",
       "         -3.11494745e-01,  -2.16411232e-01,  -1.25521813e-01,\n",
       "         -1.71095139e-01,  -1.71032290e-01,  -1.62850869e-01,\n",
       "         -2.24045383e-01,  -1.36435806e-01],\n",
       "       [ -7.37246635e-02,   2.25558523e-02,  -1.16376638e-01,\n",
       "         -9.96119421e-02,   1.54924300e-01,  -9.89520773e-02,\n",
       "         -4.12829980e-02,  -6.61815316e-02,  -1.34074366e-01,\n",
       "          5.65075823e-02,   8.70432266e-01,  -9.42078152e-02,\n",
       "         -5.81640655e-02,  -9.45002216e-02,  -1.54850924e-01,\n",
       "         -9.06130912e-02,  -1.29901679e-01,  -6.74226025e-02,\n",
       "         -8.72017204e-02,  -2.63607177e-01],\n",
       "       [  6.04239853e-02,   1.51117775e-02,   6.26616901e-02,\n",
       "          6.22149462e-02,   1.14747871e-04,   2.86632431e-02,\n",
       "          1.73180109e-02,   4.58174493e-02,   6.25319857e-02,\n",
       "          6.50666480e-02,  -1.84305638e-01,   8.11403226e-02,\n",
       "          4.73040454e-02,   1.95112290e-02,   1.63825429e-01,\n",
       "          6.33894240e-02,   9.31446984e-02,   1.60577749e-02,\n",
       "          3.69068502e-02,  -9.44793708e-01],\n",
       "       [  1.01964763e-02,   5.65248605e-02,   5.05174018e-02,\n",
       "          2.66979279e-02,   4.60999082e-02,   5.00716429e-02,\n",
       "         -6.97245665e-02,   6.36140605e-02,  -1.15249373e-01,\n",
       "          2.76600314e-01,  -1.76537438e-01,   1.90212609e-02,\n",
       "          4.82252091e-02,   6.95500286e-02,  -9.11626922e-01,\n",
       "          3.79923424e-02,   8.44582223e-02,   4.01874494e-02,\n",
       "          5.72819254e-02,  -8.29381747e-02],\n",
       "       [  6.95690584e-02,   7.90871529e-03,   6.30129740e-02,\n",
       "          4.00651019e-02,   4.24259108e-02,   3.16640936e-02,\n",
       "          7.25881634e-03,   5.02489026e-02,   8.00328288e-02,\n",
       "         -8.37762307e-01,   8.85334890e-02,   1.28641936e-01,\n",
       "          4.77093718e-02,  -2.40915674e-01,  -2.36903373e-01,\n",
       "          5.59235439e-02,   3.51445647e-01,   2.76918979e-02,\n",
       "          7.46932379e-02,  -4.55687671e-02],\n",
       "       [ -6.11769813e-03,  -4.90814754e-02,   5.39295246e-02,\n",
       "          5.94999586e-02,  -5.79220156e-02,   5.61867579e-02,\n",
       "         -1.63249676e-02,  -1.44138964e-02,   9.35641345e-03,\n",
       "         -3.90139099e-01,   2.01101816e-02,  -4.15979543e-02,\n",
       "         -7.32251145e-03,   7.15331565e-01,  -1.04378633e-01,\n",
       "          6.69208417e-02,  -5.40913394e-01,   5.89701682e-02,\n",
       "          2.25940642e-02,  -7.73722278e-02],\n",
       "       [  9.02125639e-02,   1.53944536e-01,   1.04252531e-01,\n",
       "          8.43031063e-02,   1.56675329e-01,   9.90453600e-02,\n",
       "          6.16024117e-02,   6.47269377e-02,   1.64830073e-01,\n",
       "         -5.00414220e-02,  -1.17774544e-01,  -4.37278202e-02,\n",
       "          7.57896970e-02,  -5.83101831e-01,  -7.45099058e-02,\n",
       "          1.40136064e-01,  -6.97749756e-01,   4.53595647e-02,\n",
       "          4.46044615e-02,  -2.33686797e-02],\n",
       "       [ -2.76982763e-01,  -1.04203628e-01,   1.47909780e-02,\n",
       "         -3.89564488e-03,  -6.84007610e-02,  -3.36209034e-02,\n",
       "          1.23958802e-01,  -6.34734875e-02,  -1.53302827e-01,\n",
       "          5.33425634e-02,   5.07948549e-02,   9.04776080e-01,\n",
       "         -3.02144189e-02,  -3.64631145e-02,  -1.55519499e-03,\n",
       "          1.12779406e-01,  -1.31441590e-01,   2.73299136e-02,\n",
       "         -7.43060663e-02,   3.04656878e-02],\n",
       "       [  6.73133103e-01,  -8.50903421e-02,  -1.00562360e-01,\n",
       "         -6.41561870e-02,  -1.89018845e-01,  -1.11609975e-01,\n",
       "         -1.37155128e-01,  -1.04274874e-01,   5.43469242e-01,\n",
       "          1.00041739e-01,   1.08068754e-01,   2.64619422e-01,\n",
       "         -8.34411924e-02,   5.13976077e-02,  -9.41436087e-02,\n",
       "         -8.11988406e-02,  -2.33721654e-02,  -8.27545215e-02,\n",
       "         -1.64836770e-01,   2.92806821e-02],\n",
       "       [ -1.04146719e-01,   2.14253930e-01,  -1.14104376e-01,\n",
       "         -9.27255676e-02,   2.43430184e-01,  -5.89507983e-02,\n",
       "         -8.80981354e-01,   6.39753873e-02,  -2.55392984e-02,\n",
       "         -4.83991374e-02,  -9.83036171e-02,   1.59216674e-01,\n",
       "          6.90525930e-02,   1.10689156e-02,   9.42044856e-02,\n",
       "         -1.20876237e-01,  -4.78261106e-02,  -2.65124541e-02,\n",
       "          9.62172807e-02,   6.61829453e-03],\n",
       "       [  2.74897067e-01,   3.34584768e-01,  -1.62571641e-01,\n",
       "         -1.20575217e-01,   3.00345637e-01,  -1.43727897e-01,\n",
       "          3.43964147e-01,   9.53864626e-02,  -2.64028061e-01,\n",
       "         -8.18793963e-02,  -1.48151755e-01,   1.50528776e-01,\n",
       "          6.88030113e-02,   7.72949545e-02,   1.77394028e-02,\n",
       "         -6.22373920e-01,  -6.90115680e-02,  -7.49475091e-02,\n",
       "          5.80364207e-02,  -9.91899137e-03],\n",
       "       [ -5.64078800e-01,  -3.11814177e-02,   1.56704576e-02,\n",
       "          3.27639444e-02,   5.61824943e-02,  -5.56455532e-02,\n",
       "          1.10620110e-01,  -1.07587112e-02,   6.66387519e-01,\n",
       "          1.41686732e-02,  -2.09083518e-02,  -1.29765058e-02,\n",
       "          3.37822494e-02,   2.80377228e-02,  -1.03447627e-01,\n",
       "         -4.44988643e-01,   2.76002525e-03,  -5.33662806e-02,\n",
       "          4.04391522e-02,  -3.00855826e-02],\n",
       "       [  1.04789836e-01,  -3.41346902e-01,   1.71852408e-01,\n",
       "          1.52155398e-01,  -4.10785669e-01,   1.65936932e-01,\n",
       "         -1.26216259e-01,   2.11901921e-01,  -1.54567091e-01,\n",
       "          4.56272403e-02,   1.33920574e-01,   4.02824566e-02,\n",
       "          5.19034776e-03,  -1.16383441e-01,   2.03303659e-02,\n",
       "         -4.04438823e-01,  -8.80278046e-02,   5.37512072e-02,\n",
       "          5.73543243e-01,  -5.26056575e-03],\n",
       "       [ -2.04205851e-02,  -1.04552871e-02,  -3.64218617e-01,\n",
       "         -3.37612354e-01,   7.56706881e-02,  -3.47553473e-01,\n",
       "          1.50022399e-01,   1.40864864e-01,   1.52000123e-01,\n",
       "          2.98611542e-02,  -1.04608557e-03,   9.98551910e-03,\n",
       "         -6.32113271e-02,   5.06960803e-02,  -5.38654650e-03,\n",
       "          3.68009894e-01,  -1.01929213e-02,  -5.29132221e-02,\n",
       "          6.44092590e-01,   9.25866801e-03],\n",
       "       [  2.38440670e-02,   2.04686468e-01,   6.83193611e-02,\n",
       "          8.63626412e-02,  -9.65675022e-03,   9.89825046e-02,\n",
       "          1.95016916e-03,  -8.95226801e-01,  -2.65074970e-02,\n",
       "          4.79197852e-03,  -1.41763046e-02,   4.14470393e-03,\n",
       "          3.70025919e-02,  -1.05675271e-02,  -7.83601733e-03,\n",
       "         -2.19804445e-02,   2.19309782e-02,  -5.95480221e-02,\n",
       "          3.56358381e-01,  -9.79066865e-03],\n",
       "       [ -1.17482037e-01,   6.81949658e-01,  -8.40808682e-02,\n",
       "          1.27807736e-02,  -6.48996261e-01,   1.89132667e-02,\n",
       "          1.20103355e-02,   1.59218960e-01,   1.09797501e-02,\n",
       "         -2.01568262e-02,   8.01822980e-02,   2.44426428e-03,\n",
       "          7.02519894e-02,  -4.33528079e-03,  -1.34282761e-02,\n",
       "          5.87627601e-02,  -4.36055539e-03,  -2.24144863e-01,\n",
       "         -3.10312267e-02,  -9.40714995e-03],\n",
       "       [ -1.43779080e-02,   1.59702606e-01,  -1.06156302e-01,\n",
       "         -1.67425208e-01,  -1.67244348e-01,  -9.53451428e-02,\n",
       "         -4.79312014e-03,  -7.48106085e-02,   3.53542265e-02,\n",
       "          5.77618629e-03,   2.91229080e-02,  -2.24135626e-02,\n",
       "         -1.50220953e-02,  -3.46792171e-02,   6.14645598e-03,\n",
       "         -8.47742059e-02,   1.18733577e-02,   9.37474040e-01,\n",
       "         -4.09770505e-02,  -1.85148099e-02],\n",
       "       [ -6.55835741e-05,  -2.26024226e-01,  -3.12589766e-01,\n",
       "          1.26462813e-01,  -1.16711593e-01,  -1.87438491e-01,\n",
       "         -5.74529943e-04,  -8.22705630e-02,  -4.86243455e-02,\n",
       "         -1.05963973e-02,   9.48385199e-04,  -3.57089895e-02,\n",
       "          8.74690332e-01,  -2.46613084e-02,  -1.23887134e-02,\n",
       "          1.27251784e-02,  -3.74570205e-02,  -8.91821120e-03,\n",
       "         -9.18675218e-02,   1.63299372e-03],\n",
       "       [ -1.23515154e-02,  -5.66407260e-02,  -4.63107849e-01,\n",
       "         -3.13794530e-01,   3.43249910e-02,   8.19468483e-01,\n",
       "          4.55303335e-02,   1.04716019e-02,   6.08858786e-02,\n",
       "         -6.39250312e-04,   5.27620836e-03,   3.93398909e-02,\n",
       "          5.16404810e-02,   9.21914393e-03,   2.29442001e-03,\n",
       "         -1.12347904e-02,   1.37331443e-02,  -1.06839269e-02,\n",
       "         -6.98170170e-03,  -1.72117869e-02],\n",
       "       [  8.29985041e-03,  -1.97354513e-02,   5.74682750e-01,\n",
       "         -7.53591292e-01,  -5.69502981e-02,   1.66967215e-02,\n",
       "          3.72052333e-03,  -2.39115056e-02,   9.68782633e-03,\n",
       "          4.01880042e-03,   1.53671670e-02,  -7.14653975e-03,\n",
       "          3.00215449e-01,   1.65750623e-02,   1.25144448e-02,\n",
       "         -1.04577466e-02,  -1.19264981e-02,  -7.39507419e-02,\n",
       "         -2.43790997e-02,  -1.12273446e-03]])"
      ]
     },
     "execution_count": 157,
     "metadata": {},
     "output_type": "execute_result"
    }
   ],
   "source": [
    "VT"
   ]
  },
  {
   "cell_type": "code",
   "execution_count": 158,
   "metadata": {
    "collapsed": false
   },
   "outputs": [
    {
     "data": {
      "text/plain": [
       "array([[ -1.70235845e-01,  -7.08154718e-02,   3.77351028e-02, ...,\n",
       "          4.93137370e-02,  -2.06465439e-01,   3.76791518e-02],\n",
       "       [ -1.27025429e-01,  -4.65753522e-02,  -1.15660496e-02, ...,\n",
       "          3.23055988e-02,   3.21685462e-03,  -2.09508135e-03],\n",
       "       [ -6.77258702e-02,  -2.14412634e-02,   2.00259261e-02, ...,\n",
       "          1.66970852e-02,   5.51491282e-03,  -1.48232858e-02],\n",
       "       ..., \n",
       "       [ -3.06273864e-03,  -1.18808578e-03,   7.67843019e-04, ...,\n",
       "          2.70079351e-03,  -6.31303691e-03,   1.75060992e-03],\n",
       "       [ -3.62711365e-03,  -7.90167805e-04,   6.64973256e-04, ...,\n",
       "          1.04937004e-04,  -1.34630386e-03,   8.54326350e-04],\n",
       "       [ -3.62711365e-03,  -7.90167805e-04,   6.64973256e-04, ...,\n",
       "          1.04937004e-04,  -1.34630386e-03,   8.54326350e-04]])"
      ]
     },
     "execution_count": 158,
     "metadata": {},
     "output_type": "execute_result"
    }
   ],
   "source": [
    "U2 = U[:, :15]\n",
    "U2"
   ]
  },
  {
   "cell_type": "code",
   "execution_count": 163,
   "metadata": {
    "collapsed": false
   },
   "outputs": [
    {
     "data": {
      "text/plain": [
       "array([[ 2.11406758,  0.        ,  0.        ,  0.        ,  0.        ,\n",
       "         0.        ,  0.        ,  0.        ,  0.        ,  0.        ,\n",
       "         0.        ,  0.        ,  0.        ,  0.        ,  0.        ],\n",
       "       [ 0.        ,  1.81202727,  0.        ,  0.        ,  0.        ,\n",
       "         0.        ,  0.        ,  0.        ,  0.        ,  0.        ,\n",
       "         0.        ,  0.        ,  0.        ,  0.        ,  0.        ],\n",
       "       [ 0.        ,  0.        ,  1.75115025,  0.        ,  0.        ,\n",
       "         0.        ,  0.        ,  0.        ,  0.        ,  0.        ,\n",
       "         0.        ,  0.        ,  0.        ,  0.        ,  0.        ],\n",
       "       [ 0.        ,  0.        ,  0.        ,  1.67064058,  0.        ,\n",
       "         0.        ,  0.        ,  0.        ,  0.        ,  0.        ,\n",
       "         0.        ,  0.        ,  0.        ,  0.        ,  0.        ],\n",
       "       [ 0.        ,  0.        ,  0.        ,  0.        ,  1.63079074,\n",
       "         0.        ,  0.        ,  0.        ,  0.        ,  0.        ,\n",
       "         0.        ,  0.        ,  0.        ,  0.        ,  0.        ],\n",
       "       [ 0.        ,  0.        ,  0.        ,  0.        ,  0.        ,\n",
       "         1.5730457 ,  0.        ,  0.        ,  0.        ,  0.        ,\n",
       "         0.        ,  0.        ,  0.        ,  0.        ,  0.        ],\n",
       "       [ 0.        ,  0.        ,  0.        ,  0.        ,  0.        ,\n",
       "         0.        ,  1.56643667,  0.        ,  0.        ,  0.        ,\n",
       "         0.        ,  0.        ,  0.        ,  0.        ,  0.        ],\n",
       "       [ 0.        ,  0.        ,  0.        ,  0.        ,  0.        ,\n",
       "         0.        ,  0.        ,  1.52368492,  0.        ,  0.        ,\n",
       "         0.        ,  0.        ,  0.        ,  0.        ,  0.        ],\n",
       "       [ 0.        ,  0.        ,  0.        ,  0.        ,  0.        ,\n",
       "         0.        ,  0.        ,  0.        ,  1.46126969,  0.        ,\n",
       "         0.        ,  0.        ,  0.        ,  0.        ,  0.        ],\n",
       "       [ 0.        ,  0.        ,  0.        ,  0.        ,  0.        ,\n",
       "         0.        ,  0.        ,  0.        ,  0.        ,  1.34835512,\n",
       "         0.        ,  0.        ,  0.        ,  0.        ,  0.        ],\n",
       "       [ 0.        ,  0.        ,  0.        ,  0.        ,  0.        ,\n",
       "         0.        ,  0.        ,  0.        ,  0.        ,  0.        ,\n",
       "         1.32846215,  0.        ,  0.        ,  0.        ,  0.        ],\n",
       "       [ 0.        ,  0.        ,  0.        ,  0.        ,  0.        ,\n",
       "         0.        ,  0.        ,  0.        ,  0.        ,  0.        ,\n",
       "         0.        ,  1.3186198 ,  0.        ,  0.        ,  0.        ],\n",
       "       [ 0.        ,  0.        ,  0.        ,  0.        ,  0.        ,\n",
       "         0.        ,  0.        ,  0.        ,  0.        ,  0.        ,\n",
       "         0.        ,  0.        ,  1.21757887,  0.        ,  0.        ],\n",
       "       [ 0.        ,  0.        ,  0.        ,  0.        ,  0.        ,\n",
       "         0.        ,  0.        ,  0.        ,  0.        ,  0.        ,\n",
       "         0.        ,  0.        ,  0.        ,  1.15579583,  0.        ],\n",
       "       [ 0.        ,  0.        ,  0.        ,  0.        ,  0.        ,\n",
       "         0.        ,  0.        ,  0.        ,  0.        ,  0.        ,\n",
       "         0.        ,  0.        ,  0.        ,  0.        ,  1.06619748]])"
      ]
     },
     "execution_count": 163,
     "metadata": {},
     "output_type": "execute_result"
    }
   ],
   "source": [
    "S2 = np.diag(s)[:15, :15]\n",
    "S2"
   ]
  },
  {
   "cell_type": "code",
   "execution_count": 164,
   "metadata": {
    "collapsed": false
   },
   "outputs": [
    {
     "data": {
      "text/plain": [
       "array([[ -1.31034164e-01,  -2.98673992e-01,  -2.90805173e-01,\n",
       "         -2.99590257e-01,  -3.30708370e-01,  -2.39955648e-01,\n",
       "         -8.64358557e-02,  -2.23089432e-01,  -2.06495177e-01,\n",
       "         -1.83958975e-01,  -2.88292394e-01,  -1.48478563e-01,\n",
       "         -3.11494745e-01,  -2.16411232e-01,  -1.25521813e-01,\n",
       "         -1.71095139e-01,  -1.71032290e-01,  -1.62850869e-01,\n",
       "         -2.24045383e-01,  -1.36435806e-01],\n",
       "       [ -7.37246635e-02,   2.25558523e-02,  -1.16376638e-01,\n",
       "         -9.96119421e-02,   1.54924300e-01,  -9.89520773e-02,\n",
       "         -4.12829980e-02,  -6.61815316e-02,  -1.34074366e-01,\n",
       "          5.65075823e-02,   8.70432266e-01,  -9.42078152e-02,\n",
       "         -5.81640655e-02,  -9.45002216e-02,  -1.54850924e-01,\n",
       "         -9.06130912e-02,  -1.29901679e-01,  -6.74226025e-02,\n",
       "         -8.72017204e-02,  -2.63607177e-01],\n",
       "       [  6.04239853e-02,   1.51117775e-02,   6.26616901e-02,\n",
       "          6.22149462e-02,   1.14747871e-04,   2.86632431e-02,\n",
       "          1.73180109e-02,   4.58174493e-02,   6.25319857e-02,\n",
       "          6.50666480e-02,  -1.84305638e-01,   8.11403226e-02,\n",
       "          4.73040454e-02,   1.95112290e-02,   1.63825429e-01,\n",
       "          6.33894240e-02,   9.31446984e-02,   1.60577749e-02,\n",
       "          3.69068502e-02,  -9.44793708e-01],\n",
       "       [  1.01964763e-02,   5.65248605e-02,   5.05174018e-02,\n",
       "          2.66979279e-02,   4.60999082e-02,   5.00716429e-02,\n",
       "         -6.97245665e-02,   6.36140605e-02,  -1.15249373e-01,\n",
       "          2.76600314e-01,  -1.76537438e-01,   1.90212609e-02,\n",
       "          4.82252091e-02,   6.95500286e-02,  -9.11626922e-01,\n",
       "          3.79923424e-02,   8.44582223e-02,   4.01874494e-02,\n",
       "          5.72819254e-02,  -8.29381747e-02],\n",
       "       [  6.95690584e-02,   7.90871529e-03,   6.30129740e-02,\n",
       "          4.00651019e-02,   4.24259108e-02,   3.16640936e-02,\n",
       "          7.25881634e-03,   5.02489026e-02,   8.00328288e-02,\n",
       "         -8.37762307e-01,   8.85334890e-02,   1.28641936e-01,\n",
       "          4.77093718e-02,  -2.40915674e-01,  -2.36903373e-01,\n",
       "          5.59235439e-02,   3.51445647e-01,   2.76918979e-02,\n",
       "          7.46932379e-02,  -4.55687671e-02],\n",
       "       [ -6.11769813e-03,  -4.90814754e-02,   5.39295246e-02,\n",
       "          5.94999586e-02,  -5.79220156e-02,   5.61867579e-02,\n",
       "         -1.63249676e-02,  -1.44138964e-02,   9.35641345e-03,\n",
       "         -3.90139099e-01,   2.01101816e-02,  -4.15979543e-02,\n",
       "         -7.32251145e-03,   7.15331565e-01,  -1.04378633e-01,\n",
       "          6.69208417e-02,  -5.40913394e-01,   5.89701682e-02,\n",
       "          2.25940642e-02,  -7.73722278e-02],\n",
       "       [  9.02125639e-02,   1.53944536e-01,   1.04252531e-01,\n",
       "          8.43031063e-02,   1.56675329e-01,   9.90453600e-02,\n",
       "          6.16024117e-02,   6.47269377e-02,   1.64830073e-01,\n",
       "         -5.00414220e-02,  -1.17774544e-01,  -4.37278202e-02,\n",
       "          7.57896970e-02,  -5.83101831e-01,  -7.45099058e-02,\n",
       "          1.40136064e-01,  -6.97749756e-01,   4.53595647e-02,\n",
       "          4.46044615e-02,  -2.33686797e-02],\n",
       "       [ -2.76982763e-01,  -1.04203628e-01,   1.47909780e-02,\n",
       "         -3.89564488e-03,  -6.84007610e-02,  -3.36209034e-02,\n",
       "          1.23958802e-01,  -6.34734875e-02,  -1.53302827e-01,\n",
       "          5.33425634e-02,   5.07948549e-02,   9.04776080e-01,\n",
       "         -3.02144189e-02,  -3.64631145e-02,  -1.55519499e-03,\n",
       "          1.12779406e-01,  -1.31441590e-01,   2.73299136e-02,\n",
       "         -7.43060663e-02,   3.04656878e-02],\n",
       "       [  6.73133103e-01,  -8.50903421e-02,  -1.00562360e-01,\n",
       "         -6.41561870e-02,  -1.89018845e-01,  -1.11609975e-01,\n",
       "         -1.37155128e-01,  -1.04274874e-01,   5.43469242e-01,\n",
       "          1.00041739e-01,   1.08068754e-01,   2.64619422e-01,\n",
       "         -8.34411924e-02,   5.13976077e-02,  -9.41436087e-02,\n",
       "         -8.11988406e-02,  -2.33721654e-02,  -8.27545215e-02,\n",
       "         -1.64836770e-01,   2.92806821e-02],\n",
       "       [ -1.04146719e-01,   2.14253930e-01,  -1.14104376e-01,\n",
       "         -9.27255676e-02,   2.43430184e-01,  -5.89507983e-02,\n",
       "         -8.80981354e-01,   6.39753873e-02,  -2.55392984e-02,\n",
       "         -4.83991374e-02,  -9.83036171e-02,   1.59216674e-01,\n",
       "          6.90525930e-02,   1.10689156e-02,   9.42044856e-02,\n",
       "         -1.20876237e-01,  -4.78261106e-02,  -2.65124541e-02,\n",
       "          9.62172807e-02,   6.61829453e-03],\n",
       "       [  2.74897067e-01,   3.34584768e-01,  -1.62571641e-01,\n",
       "         -1.20575217e-01,   3.00345637e-01,  -1.43727897e-01,\n",
       "          3.43964147e-01,   9.53864626e-02,  -2.64028061e-01,\n",
       "         -8.18793963e-02,  -1.48151755e-01,   1.50528776e-01,\n",
       "          6.88030113e-02,   7.72949545e-02,   1.77394028e-02,\n",
       "         -6.22373920e-01,  -6.90115680e-02,  -7.49475091e-02,\n",
       "          5.80364207e-02,  -9.91899137e-03],\n",
       "       [ -5.64078800e-01,  -3.11814177e-02,   1.56704576e-02,\n",
       "          3.27639444e-02,   5.61824943e-02,  -5.56455532e-02,\n",
       "          1.10620110e-01,  -1.07587112e-02,   6.66387519e-01,\n",
       "          1.41686732e-02,  -2.09083518e-02,  -1.29765058e-02,\n",
       "          3.37822494e-02,   2.80377228e-02,  -1.03447627e-01,\n",
       "         -4.44988643e-01,   2.76002525e-03,  -5.33662806e-02,\n",
       "          4.04391522e-02,  -3.00855826e-02],\n",
       "       [  1.04789836e-01,  -3.41346902e-01,   1.71852408e-01,\n",
       "          1.52155398e-01,  -4.10785669e-01,   1.65936932e-01,\n",
       "         -1.26216259e-01,   2.11901921e-01,  -1.54567091e-01,\n",
       "          4.56272403e-02,   1.33920574e-01,   4.02824566e-02,\n",
       "          5.19034776e-03,  -1.16383441e-01,   2.03303659e-02,\n",
       "         -4.04438823e-01,  -8.80278046e-02,   5.37512072e-02,\n",
       "          5.73543243e-01,  -5.26056575e-03],\n",
       "       [ -2.04205851e-02,  -1.04552871e-02,  -3.64218617e-01,\n",
       "         -3.37612354e-01,   7.56706881e-02,  -3.47553473e-01,\n",
       "          1.50022399e-01,   1.40864864e-01,   1.52000123e-01,\n",
       "          2.98611542e-02,  -1.04608557e-03,   9.98551910e-03,\n",
       "         -6.32113271e-02,   5.06960803e-02,  -5.38654650e-03,\n",
       "          3.68009894e-01,  -1.01929213e-02,  -5.29132221e-02,\n",
       "          6.44092590e-01,   9.25866801e-03],\n",
       "       [  2.38440670e-02,   2.04686468e-01,   6.83193611e-02,\n",
       "          8.63626412e-02,  -9.65675022e-03,   9.89825046e-02,\n",
       "          1.95016916e-03,  -8.95226801e-01,  -2.65074970e-02,\n",
       "          4.79197852e-03,  -1.41763046e-02,   4.14470393e-03,\n",
       "          3.70025919e-02,  -1.05675271e-02,  -7.83601733e-03,\n",
       "         -2.19804445e-02,   2.19309782e-02,  -5.95480221e-02,\n",
       "          3.56358381e-01,  -9.79066865e-03]])"
      ]
     },
     "execution_count": 164,
     "metadata": {},
     "output_type": "execute_result"
    }
   ],
   "source": [
    "VT2 = VT[:15, :]\n",
    "VT2"
   ]
  },
  {
   "cell_type": "code",
   "execution_count": 105,
   "metadata": {
    "collapsed": true
   },
   "outputs": [],
   "source": [
    "qt = np.array([0, 0, 0, 0, 0, 1, 0, 0, 0, 1, 1])"
   ]
  },
  {
   "cell_type": "code",
   "execution_count": 106,
   "metadata": {
    "collapsed": false
   },
   "outputs": [
    {
     "data": {
      "text/plain": [
       "array([-0.21400262,  0.18205705])"
      ]
     },
     "execution_count": 106,
     "metadata": {},
     "output_type": "execute_result"
    }
   ],
   "source": [
    "qt.dot(U2).dot(np.linalg.inv(S2))"
   ]
  },
  {
   "cell_type": "code",
   "execution_count": 114,
   "metadata": {
    "collapsed": false
   },
   "outputs": [
    {
     "data": {
      "text/plain": [
       "(1370, 15)"
      ]
     },
     "execution_count": 114,
     "metadata": {},
     "output_type": "execute_result"
    }
   ],
   "source": [
    "tsvd = TruncatedSVD(n_components=15)\n",
    "tsvd.fit_transform(mat.T).shape"
   ]
  },
  {
   "cell_type": "code",
   "execution_count": 133,
   "metadata": {
    "collapsed": false
   },
   "outputs": [
    {
     "name": "stdout",
     "output_type": "stream",
     "text": [
      "component  0\n",
      "pour\n",
      "dark\n",
      "beer\n",
      "malt\n",
      "head\n",
      "like\n",
      "tast\n",
      "medium\n",
      "flavor\n",
      "finish\n",
      "bodi\n",
      "brown\n",
      "light\n",
      "sweet\n",
      "aroma\n",
      "caramel\n",
      "carbon\n",
      "hop\n",
      "bitter\n",
      "nice\n",
      "component  1\n",
      "like\n",
      "pour\n",
      "brown\n",
      "malt\n",
      "nice\n",
      "dark\n",
      "flavor\n",
      "aroma\n",
      "hop\n",
      "medium\n",
      "light\n",
      "caramel\n",
      "finish\n",
      "tast\n",
      "beer\n",
      "head\n",
      "sweet\n",
      "bodi\n",
      "bitter\n",
      "carbon\n",
      "component  2\n",
      "carbon\n",
      "like\n",
      "pour\n",
      "malt\n",
      "aroma\n",
      "nice\n",
      "finish\n",
      "tast\n",
      "medium\n",
      "flavor\n",
      "dark\n",
      "hop\n",
      "beer\n",
      "bodi\n",
      "head\n",
      "light\n",
      "brown\n",
      "caramel\n",
      "sweet\n",
      "bitter\n",
      "component  3\n",
      "bitter\n",
      "like\n",
      "bodi\n",
      "carbon\n",
      "nice\n",
      "hop\n",
      "caramel\n",
      "beer\n",
      "light\n",
      "aroma\n",
      "pour\n",
      "dark\n",
      "tast\n",
      "head\n",
      "malt\n",
      "medium\n",
      "flavor\n",
      "finish\n",
      "sweet\n",
      "brown\n",
      "component  4\n",
      "brown\n",
      "finish\n",
      "bitter\n",
      "carbon\n",
      "nice\n",
      "malt\n",
      "aroma\n",
      "tast\n",
      "beer\n",
      "pour\n",
      "dark\n",
      "flavor\n",
      "light\n",
      "head\n",
      "hop\n",
      "medium\n",
      "bodi\n",
      "like\n",
      "caramel\n",
      "sweet\n",
      "component  5\n",
      "finish\n",
      "light\n",
      "beer\n",
      "aroma\n",
      "tast\n",
      "head\n",
      "medium\n",
      "like\n",
      "bodi\n",
      "hop\n",
      "dark\n",
      "flavor\n",
      "nice\n",
      "caramel\n",
      "malt\n",
      "pour\n",
      "carbon\n",
      "bitter\n",
      "brown\n",
      "sweet\n",
      "component  6\n",
      "sweet\n",
      "finish\n",
      "like\n",
      "bitter\n",
      "brown\n",
      "caramel\n",
      "carbon\n",
      "medium\n",
      "aroma\n",
      "nice\n",
      "flavor\n",
      "dark\n",
      "beer\n",
      "hop\n",
      "tast\n",
      "head\n",
      "light\n",
      "malt\n",
      "pour\n",
      "bodi\n",
      "component  7\n",
      "caramel\n",
      "nice\n",
      "light\n",
      "brown\n",
      "like\n",
      "carbon\n",
      "aroma\n",
      "head\n",
      "bitter\n",
      "beer\n",
      "dark\n",
      "tast\n",
      "finish\n",
      "flavor\n",
      "pour\n",
      "medium\n",
      "malt\n",
      "sweet\n",
      "bodi\n",
      "hop\n",
      "component  8\n",
      "hop\n",
      "bodi\n",
      "caramel\n",
      "like\n",
      "brown\n",
      "finish\n",
      "carbon\n",
      "sweet\n",
      "beer\n",
      "light\n",
      "aroma\n",
      "dark\n",
      "malt\n",
      "bitter\n",
      "head\n",
      "flavor\n",
      "tast\n",
      "nice\n",
      "medium\n",
      "pour\n",
      "component  9\n",
      "nice\n",
      "light\n",
      "head\n",
      "hop\n",
      "like\n",
      "beer\n",
      "tast\n",
      "brown\n",
      "sweet\n",
      "aroma\n",
      "bodi\n",
      "carbon\n",
      "finish\n",
      "flavor\n",
      "dark\n",
      "bitter\n",
      "medium\n",
      "caramel\n",
      "malt\n",
      "pour\n",
      "component  10\n",
      "light\n",
      "bodi\n",
      "head\n",
      "like\n",
      "tast\n",
      "beer\n",
      "brown\n",
      "aroma\n",
      "sweet\n",
      "carbon\n",
      "bitter\n",
      "medium\n",
      "dark\n",
      "finish\n",
      "flavor\n",
      "caramel\n",
      "hop\n",
      "pour\n",
      "malt\n",
      "nice\n",
      "component  11\n",
      "hop\n",
      "light\n",
      "bitter\n",
      "tast\n",
      "aroma\n",
      "malt\n",
      "carbon\n",
      "like\n",
      "caramel\n",
      "flavor\n",
      "sweet\n",
      "brown\n",
      "head\n",
      "finish\n",
      "beer\n",
      "dark\n",
      "medium\n",
      "pour\n",
      "nice\n",
      "bodi\n",
      "component  12\n",
      "pour\n",
      "light\n",
      "malt\n",
      "bodi\n",
      "nice\n",
      "finish\n",
      "sweet\n",
      "carbon\n",
      "dark\n",
      "bitter\n",
      "caramel\n",
      "brown\n",
      "aroma\n",
      "hop\n",
      "like\n",
      "beer\n",
      "tast\n",
      "head\n",
      "flavor\n",
      "medium\n",
      "component  13\n",
      "medium\n",
      "light\n",
      "bodi\n",
      "nice\n",
      "flavor\n",
      "pour\n",
      "finish\n",
      "brown\n",
      "caramel\n",
      "carbon\n",
      "like\n",
      "bitter\n",
      "sweet\n",
      "malt\n",
      "hop\n",
      "aroma\n",
      "dark\n",
      "beer\n",
      "tast\n",
      "head\n",
      "component  14\n",
      "flavor\n",
      "aroma\n",
      "bodi\n",
      "light\n",
      "like\n",
      "finish\n",
      "carbon\n",
      "pour\n",
      "bitter\n",
      "nice\n",
      "caramel\n",
      "brown\n",
      "sweet\n",
      "hop\n",
      "dark\n",
      "head\n",
      "beer\n",
      "tast\n",
      "malt\n",
      "medium\n"
     ]
    }
   ],
   "source": [
    "for i in range(0,15):\n",
    "    print \"component \", i\n",
    "    idxs = np.argsort(tsvd.components_[i]).tolist()[::-1]\n",
    "    for idx in idxs:\n",
    "        print cv_model.vocabulary[idx]"
   ]
  },
  {
   "cell_type": "code",
   "execution_count": 2,
   "metadata": {
    "collapsed": false
   },
   "outputs": [],
   "source": [
    "'''testing'''\n",
    "import numpy as np\n",
    "c = np.array([[1, 0, 1, 0, 0, 0], [0, 1, 0, 0, 0, 0], [1, 1, 0, 0, 0, 0], [1, 0, 0, 1, 1, 0], [0, 0, 0, 1, 0, 1]])\n",
    "u, s, vt = np.linalg.svd(c)"
   ]
  },
  {
   "cell_type": "code",
   "execution_count": null,
   "metadata": {
    "collapsed": true
   },
   "outputs": [],
   "source": []
  }
 ],
 "metadata": {
  "anaconda-cloud": {},
  "kernelspec": {
   "display_name": "Python [Root]",
   "language": "python",
   "name": "Python [Root]"
  },
  "language_info": {
   "codemirror_mode": {
    "name": "ipython",
    "version": 2
   },
   "file_extension": ".py",
   "mimetype": "text/x-python",
   "name": "python",
   "nbconvert_exporter": "python",
   "pygments_lexer": "ipython2",
   "version": "2.7.12"
  }
 },
 "nbformat": 4,
 "nbformat_minor": 0
}
