{
 "cells": [
  {
   "cell_type": "code",
   "execution_count": 119,
   "metadata": {
    "collapsed": false
   },
   "outputs": [],
   "source": [
    "import pyspark as ps\n",
    "import warnings\n",
    "import multiprocessing\n",
    "import numpy as np\n",
    "\n",
    "import string\n",
    "from nltk.tokenize import word_tokenize\n",
    "from nltk.corpus import stopwords\n",
    "from nltk.stem.snowball import SnowballStemmer\n",
    "from nltk.stem import WordNetLemmatizer\n",
    "\n",
    "from pyspark.sql.functions import UserDefinedFunction, udf, monotonically_increasing_id\n",
    "from pyspark.sql.functions import count, collect_list, split\n",
    "from pyspark.sql.types import StringType, ArrayType, DoubleType, IntegerType\n",
    "\n",
    "from pyspark.ml.feature import CountVectorizer, Normalizer, IDF, Tokenizer"
   ]
  },
  {
   "cell_type": "code",
   "execution_count": 37,
   "metadata": {
    "collapsed": false
   },
   "outputs": [
    {
     "name": "stderr",
     "output_type": "stream",
     "text": [
      "/Users/Kelly/anaconda/lib/python2.7/site-packages/ipykernel/__main__.py:6: UserWarning: SparkContext already exists in this scope\n"
     ]
    }
   ],
   "source": [
    "# multiprocessing.cpu_count() \n",
    "try:\n",
    "    sc = ps.SparkContext('local[8]')\n",
    "    print \"Just created a SparkContext\"\n",
    "except ValueError:\n",
    "    warnings.warn(\"SparkContext already exists in this scope\")"
   ]
  },
  {
   "cell_type": "code",
   "execution_count": 38,
   "metadata": {
    "collapsed": false
   },
   "outputs": [],
   "source": [
    "sqlContext = ps.SQLContext(sc)"
   ]
  },
  {
   "cell_type": "code",
   "execution_count": 99,
   "metadata": {
    "collapsed": false
   },
   "outputs": [],
   "source": [
    "df = sqlContext.read.json('reviews_100.json')"
   ]
  },
  {
   "cell_type": "code",
   "execution_count": 195,
   "metadata": {
    "collapsed": false
   },
   "outputs": [],
   "source": [
    "from pyspark.sql import functions as F\n",
    "from pyspark.sql.window import Window\n",
    "\n",
    "# df.withColumn('id', sqlContext.range(0, 100).id).show(5)"
   ]
  },
  {
   "cell_type": "code",
   "execution_count": 71,
   "metadata": {
    "collapsed": false
   },
   "outputs": [],
   "source": [
    "def preprocess_review_text(text):\n",
    "    stopwords_ = set(stopwords.words('english') + [str(i) for i in xrange(100)])\n",
    "#     stemmer_ = SnowballStemmer('english')\n",
    "    lemmatizer = WordNetLemmatizer()\n",
    "    \n",
    "    if (text == None):\n",
    "        return []\n",
    "    \n",
    "    if (len(text) < 1):\n",
    "        return []\n",
    "    \n",
    "    if (type(text) == unicode):\n",
    "        text = text.encode('utf-8')\n",
    "        \n",
    "    replace_punctuation = string.maketrans(string.punctuation, ' '*len(string.punctuation))\n",
    "    unpunctuated_text = text.translate(replace_punctuation)\n",
    "    tokens = word_tokenize(unpunctuated_text)[:-5:] # reviewer username info lost here via array slice\n",
    "    lowercased_tokens = [token.lower() for token in tokens]\n",
    "    filtered_tokens = [w for w in lowercased_tokens if not w in stopwords_] \n",
    "    \n",
    "#     stemmed = []\n",
    "#     for token in filtered_tokens:\n",
    "#         try:\n",
    "#             stemmed.append(stemmer_.stem(token))\n",
    "#         except:\n",
    "#             # continue when stemmer doesn't work\n",
    "#             continue\n",
    "\n",
    "#     return stemmed\n",
    "    lemmatized = []\n",
    "    for token in filtered_tokens:\n",
    "        try:\n",
    "            lemmatized.append(lemmatizer.lemmatize(token))\n",
    "        except:\n",
    "            continue\n",
    "            \n",
    "    return lemmatized"
   ]
  },
  {
   "cell_type": "code",
   "execution_count": 165,
   "metadata": {
    "collapsed": false
   },
   "outputs": [],
   "source": [
    "token_udf = udf(lambda x: preprocess_review_text(x), ArrayType(StringType()))\n",
    "\n",
    "df_reviews = df.select('brewery_name', 'beer_name', 'state', 'beer_style', 'text')"
   ]
  },
  {
   "cell_type": "code",
   "execution_count": 166,
   "metadata": {
    "collapsed": true
   },
   "outputs": [],
   "source": [
    "df_tokens = df_reviews.withColumn(\"tokens\", token_udf('text'))"
   ]
  },
  {
   "cell_type": "code",
   "execution_count": 167,
   "metadata": {
    "collapsed": true
   },
   "outputs": [],
   "source": [
    "def get_all_tokens(tokens):\n",
    "    return reduce(lambda x,y: x + y, tokens)\n",
    "\n",
    "get_all_tokens_udf = udf(get_all_tokens, ArrayType(StringType()))"
   ]
  },
  {
   "cell_type": "code",
   "execution_count": 168,
   "metadata": {
    "collapsed": false
   },
   "outputs": [
    {
     "name": "stdout",
     "output_type": "stream",
     "text": [
      "root\n",
      " |-- brewery_name: string (nullable = true)\n",
      " |-- beer_name: string (nullable = true)\n",
      " |-- state: string (nullable = true)\n",
      " |-- beer_style: string (nullable = true)\n",
      " |-- lemmatized_tokens: array (nullable = true)\n",
      " |    |-- element: string (containsNull = true)\n",
      "\n"
     ]
    }
   ],
   "source": [
    "df_reviews_stemmed = df_tokens.groupby('brewery_name', 'beer_name', 'state', 'beer_style') \\\n",
    "                        .agg(get_all_tokens_udf(collect_list('tokens')) \\\n",
    "                        .alias('lemmatized_tokens'))\n",
    "    \n",
    "df_reviews_stemmed.printSchema()"
   ]
  },
  {
   "cell_type": "code",
   "execution_count": 12,
   "metadata": {
    "collapsed": false
   },
   "outputs": [],
   "source": [
    "# example user defined function\n",
    "def up(text):\n",
    "    return text.upper()\n",
    "up_udf = udf(up, StringType())"
   ]
  },
  {
   "cell_type": "code",
   "execution_count": null,
   "metadata": {
    "collapsed": true
   },
   "outputs": [],
   "source": [
    "'''\n",
    "BREAKKKKKK\n",
    "'''"
   ]
  },
  {
   "cell_type": "code",
   "execution_count": 6,
   "metadata": {
    "collapsed": false
   },
   "outputs": [
    {
     "name": "stdout",
     "output_type": "stream",
     "text": [
      "root\n",
      " |-- brewery_name: string (nullable = true)\n",
      " |-- beer_name: string (nullable = true)\n",
      " |-- state: string (nullable = true)\n",
      " |-- beer_style: string (nullable = true)\n",
      " |-- text: string (nullable = true)\n",
      "\n"
     ]
    }
   ],
   "source": [
    "reviews_df = df.select('brewery_name', 'beer_name', 'state', 'beer_style', 'text')"
   ]
  },
  {
   "cell_type": "code",
   "execution_count": 23,
   "metadata": {
    "collapsed": false
   },
   "outputs": [
    {
     "data": {
      "text/plain": [
       "<pyspark.sql.group.GroupedData at 0x10bbb0e50>"
      ]
     },
     "execution_count": 23,
     "metadata": {},
     "output_type": "execute_result"
    }
   ],
   "source": [
    "reviews_df.groupBy('brewery_name', 'beer_name', 'state')"
   ]
  },
  {
   "cell_type": "code",
   "execution_count": 189,
   "metadata": {
    "collapsed": false
   },
   "outputs": [],
   "source": [
    "grouped_reviews = reviews_df.groupBy('brewery_name', 'beer_name', 'state').agg(collect_list('text').alias('reviews'))\n",
    "# grouped_reviews.collect()"
   ]
  },
  {
   "cell_type": "code",
   "execution_count": 187,
   "metadata": {
    "collapsed": false
   },
   "outputs": [],
   "source": [
    "def preprocess_reviews(reviews):\n",
    "    stopwords_ = set(stopwords.words('english'))\n",
    "    stemmer_ = SnowballStemmer('english')\n",
    "    \n",
    "    if (reviews == None):\n",
    "        return []\n",
    "    \n",
    "    if (len(reviews) < 1):\n",
    "        return []\n",
    "    \n",
    "    stemmed = []\n",
    "    for text in reviews:\n",
    "        if (type(text) == unicode):\n",
    "            text = text.encode('utf-8')\n",
    "        \n",
    "        replace_punctuation = string.maketrans(string.punctuation, ' '*len(string.punctuation))\n",
    "        unpunctuated_text = text.translate(replace_punctuation)\n",
    "        tokens = word_tokenize(unpunctuated_text)[:-5:] # reviewer username info lost here via array slice\n",
    "        lowercased_tokens = [token.lower() for token in tokens]\n",
    "        filtered_tokens = [w for w in lowercased_tokens if not w in stopwords_] \n",
    "        try:\n",
    "            stemmed += [stemmer_.stem(w) for w in filtered_tokens]\n",
    "        except:\n",
    "            stemmed += [stemmer_.stem(w) for w in filtered_tokens[:-1:]] # review text is more than 999 characters\n",
    "    return(stemmed)"
   ]
  },
  {
   "cell_type": "code",
   "execution_count": 20,
   "metadata": {
    "collapsed": false
   },
   "outputs": [],
   "source": [
    "test = '''Poured from a 12oz bottle ($6.99/four-pack) into a teku:\\n\\nAppearance: pours a bright copper-orange, with a thick, fluffy head. The body isn't quite translucent, but I wouldn't call it hazy either....somewhere in between. Leaves tons of sticky lacing.\\n\\nSmell: disappointed in this area, as I didn't get all that much from the hops. I got some dry, crackery scent from the malt, and maybe a little bit of bitterness, but the hops were a disappointment in a style that definitely needs hop aromatics.\\n\\nTaste: starts off with some nice, mellow fruit flavor. I got a little bit of melon, some pineapple rind.  Orange pith, not so much the flesh. Lots of bitterness, perhaps a little bit over on the bitter balance. The magnum definitely comes through on the finish much more than the El Dorado, though both give this beer a distinctly bitter flavor. Not necessarily a bad thing, but it's not the en vogue flavor right now. Nicely balanced between malt and hops.\\n\\nFeel: medium-bodied, with light to medium carbonation, and a semi-thick mouthfeel. Leaves a kind of dry, bitter finish.\\n\\nOverall: a solid first IPA from a new brewery. Combined with the fact that half of all proceeds are donated to different charities, this'll be a solid purchase, especially at the relatively cheap price point.\\xa01,287 charactersTheElectricOne, Mar 25, 2016'''\n",
    "\n",
    "reviews = [u'Solidly amber in color with just a touch of haze.  Small but lasting head which leaves decent latticed lace.\\n\\nVery nice blended smell of caramel malt (like an English IPA) with a pleasant floral hop (more like an East Coast US IPA).\\n\\nStarts mild with some toastiness on the tongue.  The hop is straight up bitterness and stronger than I expected based on the smell.  Highly carbonated and neutral in body.  Long aftertaste, but again, the flavor is straight forward.  \\n\\nOverall, I do like this IPA.  The interplay between the malt and hop is fun, but neither is very complex.\\xa0575 characterssmcolw, Apr 22, 2016', u'Pours a slightly hazy and light amber in color with a minimal off white head that quickly faded to only a few bubbles at the edges. It has an almost murky/muddy appearance. Aroma is almost completely devoid of hop presence with a fair amount of caramelly malts. Taste is like the aroma, hop flavor is low with only hints of citrus and a few floral notes. Caramel malt character is offset by a relatively high bitterness that has a touch of astringency at the end. Medium body and moderate carbonation. Overall a very mediocre beer. I found the hop presence lacking, the caramel malts a bit heavy handed and the bitterness out of whack. I do really like the label (which is the reason that I took a chance on an unknown and picked this up).\\xa0739 charactersmnj21655, Apr 19, 2016', u'A- Snifter pour from the narrow 12oz bottle with a deep orange-amber body and a foamy off-white cap that rises to just about one finger high. Head falls fairly fast to a medium ring and lacing is in sheets.\\n\\nS- Really not a whole lot to go by especially for the IPA style. A hint of orange citrus hops is trumped by medium caramelized malts and yeast bread notes. A bit toasty.\\n\\nT- Fairly malty focus carries over from the aroma with cereal grains, toast, pale caramel and raw base malt notes coming out. Hops are more present in the finish with a heavy spicy and earthy presence as well citrus, herbal tea and floral hints.\\n\\nMF- Texture falls somewhere between silky, frothy and a tad creamy in a medium body that leans just towards the light end. Carbonation is moderate and the finish contains an herbal bitterness.\\n\\nA moderate malt presence interferes with the brightness of the hops in a fairly forgettable brew in an ultra competitive style. IPAs can be balanced but this one does not excel at that.\\xa01,005 characterscbutova, Mar 30, 2016', u\"Poured from a 12oz bottle ($6.99/four-pack) into a teku:\\n\\nAppearance: pours a bright copper-orange, with a thick, fluffy head. The body isn't quite translucent, but I wouldn't call it hazy either....somewhere in between. Leaves tons of sticky lacing.\\n\\nSmell: disappointed in this area, as I didn't get all that much from the hops. I got some dry, crackery scent from the malt, and maybe a little bit of bitterness, but the hops were a disappointment in a style that definitely needs hop aromatics.\\n\\nTaste: starts off with some nice, mellow fruit flavor. I got a little bit of melon, some pineapple rind.  Orange pith, not so much the flesh. Lots of bitterness, perhaps a little bit over on the bitter balance. The magnum definitely comes through on the finish much more than the El Dorado, though both give this beer a distinctly bitter flavor. Not necessarily a bad thing, but it's not the en vogue flavor right now. Nicely balanced between malt and hops.\\n\\nFeel: medium-bodied, with light to medium carbonation, and a semi-thick mouthfeel. Leaves a kind of dry, bitter finish.\\n\\nOverall: a solid first IPA from a new brewery. Combined with the fact that half of all proceeds are donated to different charities, this'll be a solid purchase, especially at the relatively cheap price point.\\xa01,287 charactersTheElectricOne, Mar 25, 2016\"]\n",
    "# reviews"
   ]
  },
  {
   "cell_type": "code",
   "execution_count": 22,
   "metadata": {
    "collapsed": false
   },
   "outputs": [
    {
     "data": {
      "text/plain": [
       "list"
      ]
     },
     "execution_count": 22,
     "metadata": {},
     "output_type": "execute_result"
    }
   ],
   "source": [
    "type(preprocess_review_text(test))\n",
    "# tokens = preprocess_reviews(reviews)\n",
    "\n",
    "# tokenizer_udf = udf(lambda x : preprocess_reviews(x), ArrayType(StringType()))\n",
    "\n",
    "# df_tokens = grouped_reviews.withColumn(\"tokens\", tokenizer_udf(grouped_reviews.reviews))\n",
    "# df_tokens.printSchema()"
   ]
  },
  {
   "cell_type": "code",
   "execution_count": 169,
   "metadata": {
    "collapsed": false
   },
   "outputs": [],
   "source": [
    "from pyspark.sql.functions import row_number\n",
    "from pyspark.sql.window import Window\n",
    "\n",
    "cv = CountVectorizer(inputCol='lemmatized_tokens', outputCol='features_tf')\n",
    "cv_model = cv.fit(df_reviews_stemmed)\n",
    "df_reviews_stemmed = cv_model.transform(df_reviews_stemmed)\n",
    "\n",
    "normalizer = Normalizer(inputCol='features_tf', outputCol='features_normalized')\n",
    "df_reviews_stemmed = normalizer.transform(df_reviews_stemmed)"
   ]
  },
  {
   "cell_type": "code",
   "execution_count": 171,
   "metadata": {
    "collapsed": false
   },
   "outputs": [],
   "source": [
    "idf = IDF(inputCol='features_normalized', outputCol='features')\n",
    "idf_model = idf.fit(df_reviews_stemmed)\n",
    "df_features = idf_model.transform(df_reviews_stemmed)\n",
    "\n",
    "df_features = df_features.withColumn('beer_id', row_number().over(\n",
    "            Window.orderBy('beer_style')) - 1)\n",
    "\n",
    "# TODO: add a beer_id from 0 to len(distinct beers)-1 \n",
    "df_beers = df_features.select('beer_id', 'brewery_name', 'beer_name', 'state', 'beer_style', 'features')"
   ]
  },
  {
   "cell_type": "code",
   "execution_count": 133,
   "metadata": {
    "collapsed": false
   },
   "outputs": [
    {
     "name": "stdout",
     "output_type": "stream",
     "text": [
      "root\n",
      " |-- brewery_name: string (nullable = true)\n",
      " |-- beer_name: string (nullable = true)\n",
      " |-- state: string (nullable = true)\n",
      " |-- beer_style: string (nullable = true)\n",
      " |-- lemmatized_tokens: array (nullable = true)\n",
      " |    |-- element: string (containsNull = true)\n",
      " |-- features_tf: vector (nullable = true)\n",
      " |-- features_normalized: vector (nullable = true)\n",
      "\n"
     ]
    }
   ],
   "source": [
    "df_reviews_stemmed.printSchema()"
   ]
  },
  {
   "cell_type": "code",
   "execution_count": 172,
   "metadata": {
    "collapsed": false
   },
   "outputs": [
    {
     "name": "stdout",
     "output_type": "stream",
     "text": [
      "+-------+--------------------+--------------------+--------------------+--------------------+--------------------+\n",
      "|beer_id|        brewery_name|           beer_name|               state|          beer_style|            features|\n",
      "+-------+--------------------+--------------------+--------------------+--------------------+--------------------+\n",
      "|      0|14th Star Brewing...|           Valor Ale|             Vermont|American Amber / ...|(1542,[0,1,2,3,4,...|\n",
      "|      1|10-56 Brewing Com...|Charlie's Cherry ...|             Indiana| American Blonde Ale|(1542,[2,4,14,15,...|\n",
      "|      2|         Beer Lab HI|         Abunai.P.A.|              Hawaii|American Double /...|(1542,[5,18,39,47...|\n",
      "|      3|       2 Row Brewing|      Random Red Rye|                Utah|American Double /...|(1542,[0,1,2,3,4,...|\n",
      "|      4|101 North Brewing...|Heroine India Pal...|          California|        American IPA|(1542,[0,1,2,3,4,...|\n",
      "|      5| AntiVillain Ale Co.|          8-Bit IPA!|        Rhode Island|        American IPA|(1542,[0,1,2,3,4,...|\n",
      "|      6|3rd Rock Brewing Co.|        The Rock IPA|      North Carolina|        American IPA|(1542,[0,1,2,9,10...|\n",
      "|      7|      7 Mile Brewery|     Bosco's Revenge|          New Jersey|     American Porter|(1542,[1,5,18,28,...|\n",
      "|      8|    3 Sheeps Brewing|     Cashmere Hammer|           Wisconsin|      American Stout|(1542,[1,2,3,4,5,...|\n",
      "|      9|     7 Locks Brewing|          Farm House|            Maryland| American Strong Ale|(1542,[2,5,6,7,12...|\n",
      "|     10|3 Stars Brewing C...|  Two Headed Unicorn|District of Columbia|   American Wild Ale|(1542,[1,4,7,10,1...|\n",
      "|     11|   Barbarian Brewing|Mystery Barrel So...|               Idaho|   American Wild Ale|(1542,[2,13,30,37...|\n",
      "|     12|Abbey Beverage Co...|   Monks' Dubbel Ale|          New Mexico|              Dubbel|(1542,[0,1,2,3,4,...|\n",
      "|     13|     405 Brewing Co.|Manly Barley Wine...|            Oklahoma|  English Barleywine|(1542,[0,2,6,11,1...|\n",
      "|     14|16 Mile Brewing C...|         Harvest Ale|            Delaware|   English Brown Ale|(1542,[0,1,2,3,4,...|\n",
      "|     15|Biloxi Brewing Co...|          Black Gold|         Mississippi|Foreign / Export ...|(1542,[0,1,2,3,4,...|\n",
      "|     16|40 Arpent Brewing...|Red Bean And Rice...|           Louisiana|       Irish Red Ale|(1542,[3,7,17,19,...|\n",
      "|     17|         10K Brewing|Sweet Vanilla Oat...|           Minnesota|       Oatmeal Stout|(1542,[3,21,52,57...|\n",
      "|     18|     350 Brewing Co.|         Koko Beware|            Illinois|Russian Imperial ...|(1542,[2,22,26,27...|\n",
      "|     19|  5 Seasons Westside|         Dark Saison|             Georgia|Saison / Farmhous...|(1542,[1,2,3,4,5,...|\n",
      "+-------+--------------------+--------------------+--------------------+--------------------+--------------------+\n",
      "\n"
     ]
    }
   ],
   "source": [
    "df_beers.show()"
   ]
  },
  {
   "cell_type": "code",
   "execution_count": 196,
   "metadata": {
    "collapsed": false
   },
   "outputs": [
    {
     "data": {
      "text/plain": [
       "['Valor Ale',\n",
       " \"Charlie's Cherry - Cheery Chamomile Blonde Bombshell\",\n",
       " 'Abunai.P.A.',\n",
       " 'Random Red Rye',\n",
       " 'Heroine India Pale Ale',\n",
       " '8-Bit IPA!',\n",
       " 'The Rock IPA',\n",
       " \"Bosco's Revenge\",\n",
       " 'Cashmere Hammer',\n",
       " 'Farm House',\n",
       " 'Two Headed Unicorn',\n",
       " 'Mystery Barrel Sour 1.0',\n",
       " \"Monks' Dubbel Ale\",\n",
       " 'Manly Barley Wine Ale',\n",
       " 'Harvest Ale',\n",
       " 'Black Gold',\n",
       " 'Red Bean And Rice Ale',\n",
       " 'Sweet Vanilla Oatmeal Stout',\n",
       " 'Koko Beware',\n",
       " 'Dark Saison']"
      ]
     },
     "execution_count": 196,
     "metadata": {},
     "output_type": "execute_result"
    }
   ],
   "source": [
    "df_beers.select('beer_name').rdd.flatMap(lambda x: x).collect()\n",
    "\n",
    "beers = df_beers.select('beer_name', 'beer_id').collect()\n",
    "[str((i.beer_id, i.beer_name)[1]) for i in beers]\n",
    "\n",
    "# source = []\n",
    "# d = {}\n",
    "# for i in xrange(0, 20):\n",
    "#     d['id'] = bleh[i][0]\n",
    "#     d['name'] = bleh[i][1]\n",
    "#     source.append(d.copy())\n",
    "#     print d"
   ]
  },
  {
   "cell_type": "code",
   "execution_count": 184,
   "metadata": {
    "collapsed": false
   },
   "outputs": [
    {
     "data": {
      "text/plain": [
       "[{'beer': u'Valor Ale', 'id': 0},\n",
       " {'beer': u\"Charlie's Cherry - Cheery Chamomile Blonde Bombshell\", 'id': 1},\n",
       " {'beer': u'Abunai.P.A.', 'id': 2},\n",
       " {'beer': u'Random Red Rye', 'id': 3},\n",
       " {'beer': u'Heroine India Pale Ale', 'id': 4},\n",
       " {'beer': u'8-Bit IPA!', 'id': 5},\n",
       " {'beer': u'The Rock IPA', 'id': 6},\n",
       " {'beer': u\"Bosco's Revenge\", 'id': 7},\n",
       " {'beer': u'Cashmere Hammer', 'id': 8},\n",
       " {'beer': u'Farm House', 'id': 9},\n",
       " {'beer': u'Two Headed Unicorn', 'id': 10},\n",
       " {'beer': u'Mystery Barrel Sour 1.0', 'id': 11},\n",
       " {'beer': u\"Monks' Dubbel Ale\", 'id': 12},\n",
       " {'beer': u'Manly Barley Wine Ale', 'id': 13},\n",
       " {'beer': u'Harvest Ale', 'id': 14},\n",
       " {'beer': u'Black Gold', 'id': 15},\n",
       " {'beer': u'Red Bean And Rice Ale', 'id': 16},\n",
       " {'beer': u'Sweet Vanilla Oatmeal Stout', 'id': 17},\n",
       " {'beer': u'Koko Beware', 'id': 18},\n",
       " {'beer': u'Dark Saison', 'id': 19}]"
      ]
     },
     "execution_count": 184,
     "metadata": {},
     "output_type": "execute_result"
    }
   ],
   "source": [
    "source"
   ]
  },
  {
   "cell_type": "code",
   "execution_count": 151,
   "metadata": {
    "collapsed": false
   },
   "outputs": [],
   "source": [
    "top1 = np.argsort(df_beers.take(1)[0].features.toArray())[::-1][:10]\n",
    "top2 = np.argsort(df_beers.take(5)[4].features.toArray())[::-1][:10]"
   ]
  },
  {
   "cell_type": "code",
   "execution_count": 51,
   "metadata": {
    "collapsed": false
   },
   "outputs": [],
   "source": [
    "vocab = {idx: val for idx, val in enumerate(cv_model.vocabulary)}"
   ]
  },
  {
   "cell_type": "code",
   "execution_count": 152,
   "metadata": {
    "collapsed": false
   },
   "outputs": [
    {
     "name": "stdout",
     "output_type": "stream",
     "text": [
      "[u'roasted', u'body', u'hop', u'much', u'thin', u'grapefruit', u'floral', u'malt', u'definitely', u'caramel']\n",
      "[u'hop', u'style', u'roasted', u'much', u'bad', u'good', u'thin', u'think', u'body', u'quickly']\n"
     ]
    }
   ],
   "source": [
    "print [vocab[idx] for idx in top1]\n",
    "print [vocab[idx] for idx in top2]"
   ]
  },
  {
   "cell_type": "code",
   "execution_count": 126,
   "metadata": {
    "collapsed": false
   },
   "outputs": [
    {
     "name": "stdout",
     "output_type": "stream",
     "text": [
      "root\n",
      " |-- id: integer (nullable = true)\n",
      " |-- brewery_name: string (nullable = true)\n",
      " |-- beer_name: string (nullable = true)\n",
      " |-- state: string (nullable = true)\n",
      " |-- beer_style: string (nullable = true)\n",
      " |-- features: vector (nullable = true)\n",
      " |-- top_features: integer (nullable = true)\n",
      "\n"
     ]
    }
   ],
   "source": [
    "def get_top_features(features):\n",
    "    return np.argsort(features)[::-1][:10]\n",
    "    \n",
    "top_features_udf = udf(lambda beer: len(beer), IntegerType())\n",
    "\n",
    "df_beers = df_beers.withColumn('top_features', top_features_udf('features'))\n",
    "df_beers.printSchema()"
   ]
  },
  {
   "cell_type": "code",
   "execution_count": 27,
   "metadata": {
    "collapsed": false
   },
   "outputs": [],
   "source": [
    "'''create a column for the top 10 features of each beer'''"
   ]
  },
  {
   "cell_type": "code",
   "execution_count": 25,
   "metadata": {
    "collapsed": false
   },
   "outputs": [],
   "source": [
    "# df_beers.select('features').agg(collect_list('features')).collect()[0]."
   ]
  },
  {
   "cell_type": "code",
   "execution_count": 272,
   "metadata": {
    "collapsed": true
   },
   "outputs": [],
   "source": [
    "def sparse_vector_to_matrix(vectors):\n",
    "    return reduce(lambda x, y: np.vstack((x,y)), vectors)\n",
    "\n",
    "matrix_udf = udf(sparse_vector_to_matrix, RowMatrix)"
   ]
  },
  {
   "cell_type": "code",
   "execution_count": 288,
   "metadata": {
    "collapsed": false
   },
   "outputs": [
    {
     "data": {
      "text/plain": [
       "DataFrame[sparse_vector_to_matrix(collect_list(features, 0, 0)): array<double>]"
      ]
     },
     "execution_count": 288,
     "metadata": {},
     "output_type": "execute_result"
    }
   ],
   "source": [
    "df_beers.select('features').agg(matrix_udf(collect_list('features')))"
   ]
  },
  {
   "cell_type": "code",
   "execution_count": 301,
   "metadata": {
    "collapsed": false
   },
   "outputs": [],
   "source": [
    "from pyspark.mllib.linalg.distributed import IndexedRow, IndexedRowMatrix\n",
    "matrix = RowMatrix(df_beers.select('features').rdd)"
   ]
  },
  {
   "cell_type": "code",
   "execution_count": 313,
   "metadata": {
    "collapsed": false
   },
   "outputs": [],
   "source": [
    "df_beers = df_beers.withColumn('beer_id', monotonically_increasing_id())"
   ]
  },
  {
   "cell_type": "code",
   "execution_count": 321,
   "metadata": {
    "collapsed": false
   },
   "outputs": [],
   "source": [
    "# IndexedRowMatrix(df_beers.select('beer_id', 'features').rdd.map(lambda row: IndexedRow(*row)))"
   ]
  },
  {
   "cell_type": "code",
   "execution_count": 139,
   "metadata": {
    "collapsed": false
   },
   "outputs": [],
   "source": [
    "mat = np.array([x.features.toArray() for x in df_beers.rdd.toLocalIterator()])"
   ]
  },
  {
   "cell_type": "code",
   "execution_count": 140,
   "metadata": {
    "collapsed": false
   },
   "outputs": [
    {
     "data": {
      "text/plain": [
       "(1542, 20)"
      ]
     },
     "execution_count": 140,
     "metadata": {},
     "output_type": "execute_result"
    }
   ],
   "source": [
    "mat.T.shape"
   ]
  },
  {
   "cell_type": "code",
   "execution_count": 31,
   "metadata": {
    "collapsed": true
   },
   "outputs": [],
   "source": [
    "U, s, VT = np.linalg.svd(mat.T, full_matrices=False)"
   ]
  },
  {
   "cell_type": "code",
   "execution_count": 32,
   "metadata": {
    "collapsed": false
   },
   "outputs": [
    {
     "data": {
      "text/plain": [
       "((4644, 181), (181,), (181, 181))"
      ]
     },
     "execution_count": 32,
     "metadata": {},
     "output_type": "execute_result"
    }
   ],
   "source": [
    "U.shape, s.shape, VT.shape"
   ]
  },
  {
   "cell_type": "code",
   "execution_count": 23,
   "metadata": {
    "collapsed": false
   },
   "outputs": [],
   "source": [
    "import matplotlib.pyplot as plt\n",
    "% matplotlib inline"
   ]
  },
  {
   "cell_type": "code",
   "execution_count": 35,
   "metadata": {
    "collapsed": false
   },
   "outputs": [
    {
     "data": {
      "text/plain": [
       "[<matplotlib.lines.Line2D at 0x11085e850>]"
      ]
     },
     "execution_count": 35,
     "metadata": {},
     "output_type": "execute_result"
    },
    {
     "data": {
      "image/png": "[encoded data removed]",
      "text/plain": [
       "<matplotlib.figure.Figure at 0x11060a450>"
      ]
     },
     "metadata": {},
     "output_type": "display_data"
    }
   ],
   "source": [
    "cumulative = np.cumsum(s ** 2)\n",
    "# plt.bar(np.arange(len(cumulative)), cumulative)\n",
    "plt.plot(cumulative)"
   ]
  },
  {
   "cell_type": "code",
   "execution_count": 36,
   "metadata": {
    "collapsed": false
   },
   "outputs": [
    {
     "data": {
      "text/plain": [
       "535.70908256512814"
      ]
     },
     "execution_count": 36,
     "metadata": {},
     "output_type": "execute_result"
    }
   ],
   "source": [
    "total_energy = np.sum(s ** 2)\n",
    "total_energy * .9"
   ]
  },
  {
   "cell_type": "code",
   "execution_count": 165,
   "metadata": {
    "collapsed": false
   },
   "outputs": [
    {
     "data": {
      "text/plain": [
       "array([[ 1.        ,  0.40824829,  0.40824829],\n",
       "       [ 0.40824829,  1.        ,  0.33333333],\n",
       "       [ 0.40824829,  0.33333333,  1.        ]])"
      ]
     },
     "execution_count": 165,
     "metadata": {},
     "output_type": "execute_result"
    }
   ],
   "source": [
    "from scipy import sparse\n",
    "A =  np.array([[0, 1, 0, 0, 1], [0, 0, 1, 1, 1],[1, 1, 0, 1, 0]])\n",
    "\n",
    "svd = TruncatedSVD(3)\n",
    "# lsa = make_pipeline(svd, Normalizer(copy=False))\n",
    "# X = lsa.fit_transform(A)\n",
    "X = svd.fit_transform(A)\n",
    "# A_sparse = sparse.csr_matrix(A)\n",
    "cosine_similarity(X)"
   ]
  },
  {
   "cell_type": "code",
   "execution_count": 159,
   "metadata": {
    "collapsed": false
   },
   "outputs": [
    {
     "name": "stdout",
     "output_type": "stream",
     "text": [
      "(20, 1542)\n",
      "(20, 20)\n",
      "[u'caramel', u'beer', u'taste', u'like', u'dark', u'malt', u'hop', u'head', u'flavor', u'brown']\n",
      "[u'malt', u'caramel', u'beer', u'taste', u'like', u'dark', u'hop', u'head', u'flavor', u'brown']\n",
      "[  1.46302134e-01   3.44733436e-02   1.87536486e-02   1.20128381e-01\n",
      "   1.59761414e-01   1.42771713e-01   1.00000000e+00   2.97201127e-03\n",
      "   5.49948993e-02   9.00583611e-03   3.88661564e-02   1.63747160e-02\n",
      "   6.15921770e-02   2.84939349e-02   1.11723173e-01   4.79661325e-02\n",
      "   6.08241623e-02   5.13478149e-16   1.47516457e-02   5.42356981e-02]\n"
     ]
    },
    {
     "data": {
      "text/plain": [
       "[array([ 4,  5, 14, 15, 12]),\n",
       " array([10, 15, 14,  0,  5]),\n",
       " array([ 4,  0, 11,  7, 14]),\n",
       " array([ 4, 14,  0,  5, 19]),\n",
       " array([ 0,  5, 14,  3, 12]),\n",
       " array([ 0,  4, 14,  3, 15]),\n",
       " array([ 4,  0,  5,  3, 14]),\n",
       " array([ 2,  5,  3, 14,  0]),\n",
       " array([15, 14, 17,  0,  4]),\n",
       " array([14, 19, 12,  0,  4]),\n",
       " array([ 0,  1, 14,  4,  5]),\n",
       " array([ 2,  0, 14, 10, 13]),\n",
       " array([14,  0, 19,  4, 15]),\n",
       " array([ 0, 14,  4,  5,  3]),\n",
       " array([ 0, 15,  4,  8,  5]),\n",
       " array([14,  8,  0, 12,  5]),\n",
       " array([ 4, 14,  0,  6,  3]),\n",
       " array([ 8, 15, 14, 18,  0]),\n",
       " array([15, 14,  8,  0, 13]),\n",
       " array([14, 12,  4,  0, 15])]"
      ]
     },
     "execution_count": 159,
     "metadata": {},
     "output_type": "execute_result"
    }
   ],
   "source": [
    "from sklearn.decomposition import TruncatedSVD\n",
    "from sklearn.utils.extmath import randomized_svd\n",
    "from sklearn.utils.sparsefuncs import mean_variance_axis\n",
    "from sklearn.metrics.pairwise import cosine_similarity\n",
    "import scipy.sparse as sp\n",
    "# \n",
    "# U, s, VT = randomized_svd(mat.T, n_components=20)\n",
    "svd = TruncatedSVD(n_components=25)\n",
    "svd_model = svd.fit(mat)\n",
    "vt = svd_model.transform(mat)\n",
    "print mat.shape\n",
    "print vt.shape\n",
    "# print np.argsort(cosine_similarity(n.fit_transform(vt))[2])[::-1]\n",
    "# print np.argsort(cosine_similarity(vt)[8])[::-1]\n",
    "# svd_model.explained_variance_ratio_\n",
    "# svd_model.components_\n",
    "# print svd_model.components_[0]\n",
    "# print VT[0]\n",
    "\n",
    "# lsa = make_pipeline(svd, Normalizer(copy=False))\n",
    "# X = lsa.fit_transform(mat.T)\n",
    "\n",
    "# # cosine_similarity(X, dense_output=False)\n",
    "# X.shape\n",
    "\n",
    "# print np.argsort(svd_model.components_[3])[::-1][:10]\n",
    "\n",
    "print cosine_similarity(vt)[6]\n",
    "\n",
    "np.argsort(cosine_similarity(vt)[6])[::-1]\n",
    "\n",
    "similarity_matrix = cosine_similarity(vt)\n",
    "map(lambda x: np.argsort(x)[::-1][1:6], similarity_matrix)"
   ]
  },
  {
   "cell_type": "code",
   "execution_count": 60,
   "metadata": {
    "collapsed": false
   },
   "outputs": [],
   "source": [
    "# https://github.com/scikit-learn/scikit-learn/blob/master/sklearn/decomposition/truncated_svd.py#L174\n",
    "# X_transformed = U * s\n",
    "# exp_var = np.var(X_transformed, axis=0)\n",
    "# if sp.issparse(mat.T):\n",
    "#     _, full_var = mean_variance_axis(mat.T, axis=0)\n",
    "#     full_var = full_var.sum()\n",
    "# else:\n",
    "#     full_var = np.var(mat.T, axis=0).sum()\n",
    "# explained_variance_ratio = exp_var / full_var\n",
    "# np.sum(explained_variance_ratio)\n",
    "# explained_variance_ratio"
   ]
  },
  {
   "cell_type": "code",
   "execution_count": 57,
   "metadata": {
    "collapsed": false
   },
   "outputs": [
    {
     "data": {
      "text/plain": [
       "array([ 0.13231394,  0.29072093,  0.29220745,  0.29749055,  0.3287772 ,\n",
       "        0.24132966,  0.08440721,  0.22316412,  0.20344435,  0.18605772,\n",
       "        0.29176682,  0.14992493,  0.31066487,  0.21881925,  0.12685185,\n",
       "        0.1725704 ,  0.17279347,  0.16417279,  0.22588892,  0.13824719])"
      ]
     },
     "execution_count": 57,
     "metadata": {},
     "output_type": "execute_result"
    }
   ],
   "source": [
    "from sklearn.utils.extmath import randomized_svd\n",
    "from sklearn.preprocessing import Normalizer\n",
    "from sklearn.pipeline import make_pipeline\n",
    "\n",
    "U, Sigma, VT = randomized_svd(mat.T, \n",
    "                              n_components=14,\n",
    "                              n_iter=5,\n",
    "                              random_state=1234)\n",
    "\n",
    "normalizer = Normalizer(copy=False)\n",
    "\n",
    "normalizer.fit_transform(VT)[0]"
   ]
  },
  {
   "cell_type": "code",
   "execution_count": null,
   "metadata": {
    "collapsed": true
   },
   "outputs": [],
   "source": [
    "# Calculate the power that each singular value represents, where power is the same as the variance of a dimension\n",
    "# Total power is the sum  of the power of each singular value.\n",
    "cumsum = np.cumsum(Sigma ** 2)\n",
    "# plt.plot(cumsum)\n",
    "\n",
    "total_energy = np.sum(Sigma ** 2)\n",
    "print total_energy * .9\n",
    "\n",
    "print cumsum\n",
    "\n",
    "def find_num_singular_values_to_retain_power(sigma, percent_power):\n",
    "    sv_power = sigma ** 2\n",
    "    cumsum = np.cumsum(sv_power)\n",
    "    total_energy = np.sum(sv_power)\n",
    "    val = total_energy * percent_power\n",
    "    for i in xrange(len(cumsum) -1):\n",
    "        if cumsum[i] < val:\n",
    "            idx1 = i\n",
    "        else:\n",
    "            idx2 = i\n",
    "            break\n",
    "            \n",
    "    print idx1, idx2\n",
    "    \n",
    "find_num_singular_values_to_retain_power(Sigma, 0.9)"
   ]
  },
  {
   "cell_type": "code",
   "execution_count": 42,
   "metadata": {
    "collapsed": false
   },
   "outputs": [
    {
     "data": {
      "text/plain": [
       "array([[  1.32313944e-01,   2.90720934e-01,   2.92207451e-01,\n",
       "          2.97490547e-01,   3.28777203e-01,   2.41329658e-01,\n",
       "          8.44072129e-02,   2.23164116e-01,   2.03444353e-01,\n",
       "          1.86057722e-01,   2.91766822e-01,   1.49924928e-01,\n",
       "          3.10664874e-01,   2.18819249e-01,   1.26851852e-01,\n",
       "          1.72570405e-01,   1.72793469e-01,   1.64172789e-01,\n",
       "          2.25888923e-01,   1.38247187e-01],\n",
       "       [ -7.44174684e-02,   2.01129859e-02,  -1.16336921e-01,\n",
       "         -9.89495635e-02,   1.55020982e-01,  -9.93250664e-02,\n",
       "         -3.85989064e-02,  -6.65909994e-02,  -1.32767639e-01,\n",
       "          5.57685470e-02,   8.69902149e-01,  -9.45238929e-02,\n",
       "         -5.79443616e-02,  -9.54801237e-02,  -1.55312041e-01,\n",
       "         -9.09688735e-02,  -1.30551147e-01,  -6.77512213e-02,\n",
       "         -8.77345089e-02,  -2.65154233e-01],\n",
       "       [ -6.10028824e-02,  -1.40202200e-02,  -6.34463526e-02,\n",
       "         -6.21724263e-02,   3.50483975e-04,  -2.94864040e-02,\n",
       "         -1.63572835e-02,  -4.62769660e-02,  -6.13399741e-02,\n",
       "         -6.64615501e-02,   1.84393025e-01,  -8.22938972e-02,\n",
       "         -4.74077648e-02,  -2.16905932e-02,  -1.65459548e-01,\n",
       "         -6.42782126e-02,  -9.47306491e-02,  -1.67593153e-02,\n",
       "         -3.78431789e-02,   9.43952506e-01],\n",
       "       [ -9.55107611e-03,  -5.23357234e-02,  -5.12573206e-02,\n",
       "         -2.67167647e-02,  -4.47135608e-02,  -5.02443921e-02,\n",
       "          6.19830741e-02,  -6.38294157e-02,   1.14698861e-01,\n",
       "         -2.78703361e-01,   1.75130089e-01,  -2.05895561e-02,\n",
       "         -4.76669321e-02,  -7.13628181e-02,   9.11858302e-01,\n",
       "         -3.84494870e-02,  -8.52010325e-02,  -4.06001739e-02,\n",
       "         -5.74462614e-02,   8.32256285e-02],\n",
       "       [ -6.92993382e-02,  -4.86180439e-03,  -6.36362900e-02,\n",
       "         -3.96095671e-02,  -4.10858423e-02,  -3.22115871e-02,\n",
       "         -6.77163099e-03,  -5.04374761e-02,  -7.58299533e-02,\n",
       "          8.36490283e-01,  -8.93885318e-02,  -1.31788050e-01,\n",
       "         -4.75073406e-02,   2.35236714e-01,   2.36655371e-01,\n",
       "         -5.68748571e-02,  -3.57630685e-01,  -2.85197827e-02,\n",
       "         -7.57754057e-02,   4.61161403e-02],\n",
       "       [ -3.27526100e-03,  -3.91511764e-02,   5.65395486e-02,\n",
       "          6.14642494e-02,  -5.10739317e-02,   5.90380658e-02,\n",
       "         -1.23744485e-02,  -1.20248432e-02,   1.38580090e-02,\n",
       "         -3.92416786e-01,   1.46769570e-02,  -4.50280572e-02,\n",
       "         -5.18007315e-03,   6.94687969e-01,  -1.06465913e-01,\n",
       "          7.08188332e-02,  -5.65136397e-01,   6.01930745e-02,\n",
       "          2.39494958e-02,  -7.82289333e-02],\n",
       "       [ -8.98491700e-02,  -1.37805956e-01,  -1.10018749e-01,\n",
       "         -8.55166961e-02,  -1.54265970e-01,  -1.02650434e-01,\n",
       "         -5.81214798e-02,  -6.67382810e-02,  -1.56179188e-01,\n",
       "          3.87707724e-02,   1.13147995e-01,   1.54404134e-02,\n",
       "         -7.77510220e-02,   6.12181773e-01,   7.22569380e-02,\n",
       "         -1.50094973e-01,   6.77254166e-01,  -4.85949604e-02,\n",
       "         -4.86579488e-02,   2.12753260e-02],\n",
       "       [ -2.79299832e-01,  -9.61340387e-02,   5.37593207e-03,\n",
       "         -9.86075827e-03,  -6.98981746e-02,  -4.17177243e-02,\n",
       "          9.56558441e-02,  -6.75539619e-02,  -1.45952558e-01,\n",
       "          5.43947193e-02,   5.14947529e-02,   9.12059383e-01,\n",
       "         -3.39471956e-02,  -1.58926436e-02,   3.76402674e-03,\n",
       "          1.02942709e-01,  -1.16144829e-01,   2.24736197e-02,\n",
       "         -8.04352208e-02,   3.22208782e-02],\n",
       "       [  7.01221058e-01,  -7.12463429e-02,  -1.04236785e-01,\n",
       "         -6.57653354e-02,  -1.89141349e-01,  -1.12902943e-01,\n",
       "         -1.03126726e-01,  -1.06326727e-01,   5.19755468e-01,\n",
       "          9.52151876e-02,   1.05477468e-01,   2.53436457e-01,\n",
       "         -8.25749526e-02,   5.49522134e-02,  -9.40452084e-02,\n",
       "         -8.72396333e-02,  -2.27079905e-02,  -8.45674031e-02,\n",
       "         -1.67970041e-01,   2.86096303e-02],\n",
       "       [ -7.05808237e-02,  -3.23051991e-01,   1.77678584e-01,\n",
       "          1.33964135e-01,  -3.91372813e-01,   1.46876908e-01,\n",
       "          1.90480575e-01,  -1.36206906e-01,   1.07055944e-01,\n",
       "          8.55955657e-02,   1.72332234e-01,  -1.93033763e-01,\n",
       "         -1.11960415e-01,  -5.77262216e-02,  -4.40867678e-02,\n",
       "          6.84677972e-01,   9.18519040e-02,   7.78941016e-02,\n",
       "         -1.56777291e-01,   1.15153314e-02],\n",
       "       [  5.99066939e-01,   1.03453930e-01,  -5.13816562e-02,\n",
       "         -5.58620844e-02,   2.07790505e-02,   1.45297761e-02,\n",
       "          1.09615554e-01,   4.03606018e-02,  -7.30351110e-01,\n",
       "         -3.34661998e-02,  -1.73267477e-02,   3.83980624e-02,\n",
       "         -1.85134583e-02,  -2.50894170e-03,   9.58262140e-02,\n",
       "          2.48230836e-01,  -1.48158224e-02,   3.27280475e-02,\n",
       "         -3.16204609e-02,   2.48979800e-02],\n",
       "       [  5.29011567e-02,  -3.83140442e-02,   5.96016367e-02,\n",
       "          6.15913323e-02,  -6.87711832e-02,  -5.24256983e-03,\n",
       "          9.16273721e-01,  -2.80926129e-04,   2.76175866e-02,\n",
       "          8.75131877e-04,   8.71593080e-03,  -4.64820516e-02,\n",
       "         -9.38335115e-03,   1.62555404e-02,  -8.44655985e-02,\n",
       "         -3.63134001e-01,  -5.41008083e-03,  -1.65435224e-02,\n",
       "         -3.24793276e-02,  -1.90300767e-02],\n",
       "       [ -8.76564197e-02,   2.98551407e-01,  -1.57526476e-01,\n",
       "         -1.40760562e-01,   4.89381348e-01,  -1.61644059e-01,\n",
       "          1.65892953e-01,  -1.98480139e-01,   1.44910066e-01,\n",
       "         -5.23432447e-02,  -1.53458144e-01,  -3.72161305e-02,\n",
       "          2.10896997e-02,   1.11700610e-01,  -2.26066589e-02,\n",
       "          3.10678482e-01,   7.62835327e-02,  -5.01856691e-02,\n",
       "         -5.99203205e-01,   2.84839087e-03],\n",
       "       [ -2.22582586e-02,  -4.95232528e-03,  -3.69385428e-01,\n",
       "         -3.35264743e-01,   9.47575041e-02,  -3.60796817e-01,\n",
       "          2.13064960e-01,   1.21251450e-01,   1.62792311e-01,\n",
       "          2.83193152e-02,  -7.10291263e-03,   4.95017095e-03,\n",
       "         -5.68249040e-02,   5.59582390e-02,  -1.11089180e-02,\n",
       "          3.70269801e-01,  -6.55946956e-03,  -6.04677149e-02,\n",
       "          6.13710203e-01,   8.87097933e-03]])"
      ]
     },
     "execution_count": 42,
     "metadata": {},
     "output_type": "execute_result"
    }
   ],
   "source": [
    "from sklearn.metrics.pairwise import cosine_similarity\n",
    "#\n",
    "# cosine_similarity(VT.T)\n",
    "VT"
   ]
  },
  {
   "cell_type": "code",
   "execution_count": 39,
   "metadata": {
    "collapsed": false
   },
   "outputs": [
    {
     "data": {
      "text/plain": [
       "array([ 0.29220745, -0.11633692, -0.06344635, -0.05125732, -0.06363629,\n",
       "        0.05653955, -0.11001875,  0.00537593, -0.10423678,  0.17767858,\n",
       "       -0.05138166,  0.05960164, -0.15752648, -0.36938543])"
      ]
     },
     "execution_count": 39,
     "metadata": {},
     "output_type": "execute_result"
    }
   ],
   "source": [
    "VT[:, 2]"
   ]
  },
  {
   "cell_type": "code",
   "execution_count": 97,
   "metadata": {
    "collapsed": true
   },
   "outputs": [],
   "source": [
    "'''LSI Example'''\n",
    "A = np.array([[1, 1, 1], [0, 1, 1], [1, 0, 0], [0, 1, 0], [1, 0, 0], [1, 0, 1], [1, 1, 1], [1, 1, 1], [1, 0, 1], [0, 2, 0], [0, 1, 1]])"
   ]
  },
  {
   "cell_type": "code",
   "execution_count": 154,
   "metadata": {
    "collapsed": true
   },
   "outputs": [],
   "source": [
    "U, s, VT = np.linalg.svd(mat.T, full_matrices=False)"
   ]
  },
  {
   "cell_type": "code",
   "execution_count": 105,
   "metadata": {
    "collapsed": true
   },
   "outputs": [],
   "source": [
    "qt = np.array([0, 0, 0, 0, 0, 1, 0, 0, 0, 1, 1])"
   ]
  },
  {
   "cell_type": "code",
   "execution_count": 106,
   "metadata": {
    "collapsed": false
   },
   "outputs": [
    {
     "data": {
      "text/plain": [
       "array([-0.21400262,  0.18205705])"
      ]
     },
     "execution_count": 106,
     "metadata": {},
     "output_type": "execute_result"
    }
   ],
   "source": [
    "qt.dot(U2).dot(np.linalg.inv(S2))"
   ]
  },
  {
   "cell_type": "code",
   "execution_count": 114,
   "metadata": {
    "collapsed": false
   },
   "outputs": [
    {
     "data": {
      "text/plain": [
       "(1370, 15)"
      ]
     },
     "execution_count": 114,
     "metadata": {},
     "output_type": "execute_result"
    }
   ],
   "source": [
    "tsvd = TruncatedSVD(n_components=15)\n",
    "tsvd.fit_transform(mat.T).shape"
   ]
  },
  {
   "cell_type": "code",
   "execution_count": 133,
   "metadata": {
    "collapsed": false
   },
   "outputs": [
    {
     "name": "stdout",
     "output_type": "stream",
     "text": [
      "component  0\n",
      "pour\n",
      "dark\n",
      "beer\n",
      "malt\n",
      "head\n",
      "like\n",
      "tast\n",
      "medium\n",
      "flavor\n",
      "finish\n",
      "bodi\n",
      "brown\n",
      "light\n",
      "sweet\n",
      "aroma\n",
      "caramel\n",
      "carbon\n",
      "hop\n",
      "bitter\n",
      "nice\n",
      "component  1\n",
      "like\n",
      "pour\n",
      "brown\n",
      "malt\n",
      "nice\n",
      "dark\n",
      "flavor\n",
      "aroma\n",
      "hop\n",
      "medium\n",
      "light\n",
      "caramel\n",
      "finish\n",
      "tast\n",
      "beer\n",
      "head\n",
      "sweet\n",
      "bodi\n",
      "bitter\n",
      "carbon\n",
      "component  2\n",
      "carbon\n",
      "like\n",
      "pour\n",
      "malt\n",
      "aroma\n",
      "nice\n",
      "finish\n",
      "tast\n",
      "medium\n",
      "flavor\n",
      "dark\n",
      "hop\n",
      "beer\n",
      "bodi\n",
      "head\n",
      "light\n",
      "brown\n",
      "caramel\n",
      "sweet\n",
      "bitter\n",
      "component  3\n",
      "bitter\n",
      "like\n",
      "bodi\n",
      "carbon\n",
      "nice\n",
      "hop\n",
      "caramel\n",
      "beer\n",
      "light\n",
      "aroma\n",
      "pour\n",
      "dark\n",
      "tast\n",
      "head\n",
      "malt\n",
      "medium\n",
      "flavor\n",
      "finish\n",
      "sweet\n",
      "brown\n",
      "component  4\n",
      "brown\n",
      "finish\n",
      "bitter\n",
      "carbon\n",
      "nice\n",
      "malt\n",
      "aroma\n",
      "tast\n",
      "beer\n",
      "pour\n",
      "dark\n",
      "flavor\n",
      "light\n",
      "head\n",
      "hop\n",
      "medium\n",
      "bodi\n",
      "like\n",
      "caramel\n",
      "sweet\n",
      "component  5\n",
      "finish\n",
      "light\n",
      "beer\n",
      "aroma\n",
      "tast\n",
      "head\n",
      "medium\n",
      "like\n",
      "bodi\n",
      "hop\n",
      "dark\n",
      "flavor\n",
      "nice\n",
      "caramel\n",
      "malt\n",
      "pour\n",
      "carbon\n",
      "bitter\n",
      "brown\n",
      "sweet\n",
      "component  6\n",
      "sweet\n",
      "finish\n",
      "like\n",
      "bitter\n",
      "brown\n",
      "caramel\n",
      "carbon\n",
      "medium\n",
      "aroma\n",
      "nice\n",
      "flavor\n",
      "dark\n",
      "beer\n",
      "hop\n",
      "tast\n",
      "head\n",
      "light\n",
      "malt\n",
      "pour\n",
      "bodi\n",
      "component  7\n",
      "caramel\n",
      "nice\n",
      "light\n",
      "brown\n",
      "like\n",
      "carbon\n",
      "aroma\n",
      "head\n",
      "bitter\n",
      "beer\n",
      "dark\n",
      "tast\n",
      "finish\n",
      "flavor\n",
      "pour\n",
      "medium\n",
      "malt\n",
      "sweet\n",
      "bodi\n",
      "hop\n",
      "component  8\n",
      "hop\n",
      "bodi\n",
      "caramel\n",
      "like\n",
      "brown\n",
      "finish\n",
      "carbon\n",
      "sweet\n",
      "beer\n",
      "light\n",
      "aroma\n",
      "dark\n",
      "malt\n",
      "bitter\n",
      "head\n",
      "flavor\n",
      "tast\n",
      "nice\n",
      "medium\n",
      "pour\n",
      "component  9\n",
      "nice\n",
      "light\n",
      "head\n",
      "hop\n",
      "like\n",
      "beer\n",
      "tast\n",
      "brown\n",
      "sweet\n",
      "aroma\n",
      "bodi\n",
      "carbon\n",
      "finish\n",
      "flavor\n",
      "dark\n",
      "bitter\n",
      "medium\n",
      "caramel\n",
      "malt\n",
      "pour\n",
      "component  10\n",
      "light\n",
      "bodi\n",
      "head\n",
      "like\n",
      "tast\n",
      "beer\n",
      "brown\n",
      "aroma\n",
      "sweet\n",
      "carbon\n",
      "bitter\n",
      "medium\n",
      "dark\n",
      "finish\n",
      "flavor\n",
      "caramel\n",
      "hop\n",
      "pour\n",
      "malt\n",
      "nice\n",
      "component  11\n",
      "hop\n",
      "light\n",
      "bitter\n",
      "tast\n",
      "aroma\n",
      "malt\n",
      "carbon\n",
      "like\n",
      "caramel\n",
      "flavor\n",
      "sweet\n",
      "brown\n",
      "head\n",
      "finish\n",
      "beer\n",
      "dark\n",
      "medium\n",
      "pour\n",
      "nice\n",
      "bodi\n",
      "component  12\n",
      "pour\n",
      "light\n",
      "malt\n",
      "bodi\n",
      "nice\n",
      "finish\n",
      "sweet\n",
      "carbon\n",
      "dark\n",
      "bitter\n",
      "caramel\n",
      "brown\n",
      "aroma\n",
      "hop\n",
      "like\n",
      "beer\n",
      "tast\n",
      "head\n",
      "flavor\n",
      "medium\n",
      "component  13\n",
      "medium\n",
      "light\n",
      "bodi\n",
      "nice\n",
      "flavor\n",
      "pour\n",
      "finish\n",
      "brown\n",
      "caramel\n",
      "carbon\n",
      "like\n",
      "bitter\n",
      "sweet\n",
      "malt\n",
      "hop\n",
      "aroma\n",
      "dark\n",
      "beer\n",
      "tast\n",
      "head\n",
      "component  14\n",
      "flavor\n",
      "aroma\n",
      "bodi\n",
      "light\n",
      "like\n",
      "finish\n",
      "carbon\n",
      "pour\n",
      "bitter\n",
      "nice\n",
      "caramel\n",
      "brown\n",
      "sweet\n",
      "hop\n",
      "dark\n",
      "head\n",
      "beer\n",
      "tast\n",
      "malt\n",
      "medium\n"
     ]
    }
   ],
   "source": [
    "for i in range(0,15):\n",
    "    print \"component \", i\n",
    "    idxs = np.argsort(tsvd.components_[i]).tolist()[::-1]\n",
    "    for idx in idxs:\n",
    "        print cv_model.vocabulary[idx]"
   ]
  },
  {
   "cell_type": "code",
   "execution_count": 2,
   "metadata": {
    "collapsed": false
   },
   "outputs": [],
   "source": [
    "'''testing'''\n",
    "import numpy as np\n",
    "c = np.array([[1, 0, 1, 0, 0, 0], [0, 1, 0, 0, 0, 0], [1, 1, 0, 0, 0, 0], [1, 0, 0, 1, 1, 0], [0, 0, 0, 1, 0, 1]])\n",
    "u, s, vt = np.linalg.svd(c)"
   ]
  },
  {
   "cell_type": "code",
   "execution_count": null,
   "metadata": {
    "collapsed": true
   },
   "outputs": [],
   "source": []
  }
 ],
 "metadata": {
  "anaconda-cloud": {},
  "kernelspec": {
   "display_name": "Python [Root]",
   "language": "python",
   "name": "Python [Root]"
  },
  "language_info": {
   "codemirror_mode": {
    "name": "ipython",
    "version": 2
   },
   "file_extension": ".py",
   "mimetype": "text/x-python",
   "name": "python",
   "nbconvert_exporter": "python",
   "pygments_lexer": "ipython2",
   "version": "2.7.12"
  }
 },
 "nbformat": 4,
 "nbformat_minor": 0
}
