{
 "cells": [
  {
   "cell_type": "code",
   "execution_count": 1,
   "metadata": {
    "collapsed": true
   },
   "outputs": [],
   "source": [
    "import requests\n",
    "from bs4 import BeautifulSoup"
   ]
  },
  {
   "cell_type": "code",
   "execution_count": 2,
   "metadata": {
    "collapsed": true
   },
   "outputs": [],
   "source": [
    "def get_soup(url):\n",
    "    '''\n",
    "    Get soup from given url\n",
    "    INPUT:\n",
    "        url (str): URL to be soupified\n",
    "    OUTPUT:\n",
    "        soup (BeautifulSoup): soupified url\n",
    "    '''\n",
    "    content = requests.get(url).content\n",
    "    soup = BeautifulSoup(content, 'html.parser')\n",
    "    return soup"
   ]
  },
  {
   "cell_type": "code",
   "execution_count": 25,
   "metadata": {
    "collapsed": true
   },
   "outputs": [],
   "source": [
    "base_url = 'https://www.beeradvocate.com{}'\n",
    "url = 'https://www.beeradvocate.com/place/'\n",
    "soup = get_soup(url)"
   ]
  },
  {
   "cell_type": "code",
   "execution_count": 31,
   "metadata": {
    "collapsed": false
   },
   "outputs": [],
   "source": [
    "location_urls = {}\n",
    "for tag in soup.find_all('div', class_='break'):\n",
    "    for a in tag.find_all('a'):\n",
    "        if 'directory' in a['href']:\n",
    "            location_urls[a.text] = base_url.format(a['href'])"
   ]
  },
  {
   "cell_type": "code",
   "execution_count": 140,
   "metadata": {
    "collapsed": false
   },
   "outputs": [
    {
     "data": {
      "text/plain": [
       "{u'Alabama': 'https://www.beeradvocate.com/place/directory/9/US/AL/',\n",
       " u'Alaska': 'https://www.beeradvocate.com/place/directory/9/US/AK/',\n",
       " u'Arizona': 'https://www.beeradvocate.com/place/directory/9/US/AZ/',\n",
       " u'Arkansas': 'https://www.beeradvocate.com/place/directory/9/US/AR/',\n",
       " u'Australia': 'https://www.beeradvocate.com/place/directory/10/AU/',\n",
       " u'Belgium': 'https://www.beeradvocate.com/place/directory/6/BE/',\n",
       " u'California': 'https://www.beeradvocate.com/place/directory/9/US/CA/',\n",
       " u'Canada': 'https://www.beeradvocate.com/place/directory/9/CA/',\n",
       " u'Colorado': 'https://www.beeradvocate.com/place/directory/9/US/CO/',\n",
       " u'Connecticut': 'https://www.beeradvocate.com/place/directory/9/US/CT/',\n",
       " u'Czech Republic': 'https://www.beeradvocate.com/place/directory/6/CZ/',\n",
       " u'Delaware': 'https://www.beeradvocate.com/place/directory/9/US/DE/',\n",
       " u'Denmark': 'https://www.beeradvocate.com/place/directory/6/DK/',\n",
       " u'District of Columbia': 'https://www.beeradvocate.com/place/directory/9/US/DC/',\n",
       " u'Florida': 'https://www.beeradvocate.com/place/directory/9/US/FL/',\n",
       " u'France': 'https://www.beeradvocate.com/place/directory/6/FR/',\n",
       " u'Georgia': 'https://www.beeradvocate.com/place/directory/9/US/GA/',\n",
       " u'Germany': 'https://www.beeradvocate.com/place/directory/6/DE/',\n",
       " u'Hawaii': 'https://www.beeradvocate.com/place/directory/9/US/HI/',\n",
       " u'Idaho': 'https://www.beeradvocate.com/place/directory/9/US/ID/',\n",
       " u'Illinois': 'https://www.beeradvocate.com/place/directory/9/US/IL/',\n",
       " u'Indiana': 'https://www.beeradvocate.com/place/directory/9/US/IN/',\n",
       " u'Iowa': 'https://www.beeradvocate.com/place/directory/9/US/IA/',\n",
       " u'Japan': 'https://www.beeradvocate.com/place/directory/3/JP/',\n",
       " u'Kansas': 'https://www.beeradvocate.com/place/directory/9/US/KS/',\n",
       " u'Kentucky': 'https://www.beeradvocate.com/place/directory/9/US/KY/',\n",
       " u'Louisiana': 'https://www.beeradvocate.com/place/directory/9/US/LA/',\n",
       " u'Maine': 'https://www.beeradvocate.com/place/directory/9/US/ME/',\n",
       " u'Maryland': 'https://www.beeradvocate.com/place/directory/9/US/MD/',\n",
       " u'Massachusetts': 'https://www.beeradvocate.com/place/directory/9/US/MA/',\n",
       " u'Michigan': 'https://www.beeradvocate.com/place/directory/9/US/MI/',\n",
       " u'Minnesota': 'https://www.beeradvocate.com/place/directory/9/US/MN/',\n",
       " u'Mississippi': 'https://www.beeradvocate.com/place/directory/9/US/MS/',\n",
       " u'Missouri': 'https://www.beeradvocate.com/place/directory/9/US/MO/',\n",
       " u'Montana': 'https://www.beeradvocate.com/place/directory/9/US/MT/',\n",
       " u'Nebraska': 'https://www.beeradvocate.com/place/directory/9/US/NE/',\n",
       " u'Netherlands': 'https://www.beeradvocate.com/place/directory/6/NL/',\n",
       " u'Nevada': 'https://www.beeradvocate.com/place/directory/9/US/NV/',\n",
       " u'New Hampshire': 'https://www.beeradvocate.com/place/directory/9/US/NH/',\n",
       " u'New Jersey': 'https://www.beeradvocate.com/place/directory/9/US/NJ/',\n",
       " u'New Mexico': 'https://www.beeradvocate.com/place/directory/9/US/NM/',\n",
       " u'New York': 'https://www.beeradvocate.com/place/directory/9/US/NY/',\n",
       " u'North Carolina': 'https://www.beeradvocate.com/place/directory/9/US/NC/',\n",
       " u'North Dakota': 'https://www.beeradvocate.com/place/directory/9/US/ND/',\n",
       " u'Ohio': 'https://www.beeradvocate.com/place/directory/9/US/OH/',\n",
       " u'Oklahoma': 'https://www.beeradvocate.com/place/directory/9/US/OK/',\n",
       " u'Oregon': 'https://www.beeradvocate.com/place/directory/9/US/OR/',\n",
       " u'Pennsylvania': 'https://www.beeradvocate.com/place/directory/9/US/PA/',\n",
       " u'Rhode Island': 'https://www.beeradvocate.com/place/directory/9/US/RI/',\n",
       " u'Russian Federation': 'https://www.beeradvocate.com/place/directory/3/RU/',\n",
       " u'South Carolina': 'https://www.beeradvocate.com/place/directory/9/US/SC/',\n",
       " u'South Dakota': 'https://www.beeradvocate.com/place/directory/9/US/SD/',\n",
       " u'Sweden': 'https://www.beeradvocate.com/place/directory/6/SE/',\n",
       " u'Tennessee': 'https://www.beeradvocate.com/place/directory/9/US/TN/',\n",
       " u'Texas': 'https://www.beeradvocate.com/place/directory/9/US/TX/',\n",
       " u'United Kingdom': 'https://www.beeradvocate.com/place/directory/6/GB/',\n",
       " u'Utah': 'https://www.beeradvocate.com/place/directory/9/US/UT/',\n",
       " u'Vermont': 'https://www.beeradvocate.com/place/directory/9/US/VT/',\n",
       " u'Virginia': 'https://www.beeradvocate.com/place/directory/9/US/VA/',\n",
       " u'Washington': 'https://www.beeradvocate.com/place/directory/9/US/WA/',\n",
       " u'West Virginia': 'https://www.beeradvocate.com/place/directory/9/US/WV/',\n",
       " u'Wisconsin': 'https://www.beeradvocate.com/place/directory/9/US/WI/',\n",
       " u'Wyoming': 'https://www.beeradvocate.com/place/directory/9/US/WY/'}"
      ]
     },
     "execution_count": 140,
     "metadata": {},
     "output_type": "execute_result"
    }
   ],
   "source": [
    "location_urls"
   ]
  },
  {
   "cell_type": "code",
   "execution_count": null,
   "metadata": {
    "collapsed": false
   },
   "outputs": [],
   "source": []
  },
  {
   "cell_type": "code",
   "execution_count": 33,
   "metadata": {
    "collapsed": false
   },
   "outputs": [],
   "source": [
    "ca_soup = get_soup('https://www.beeradvocate.com/place/directory/9/US/CA/')"
   ]
  },
  {
   "cell_type": "code",
   "execution_count": 219,
   "metadata": {
    "collapsed": false
   },
   "outputs": [
    {
     "name": "stdout",
     "output_type": "stream",
     "text": [
      "Breweries\n",
      "https://www.beeradvocate.com/place/list/?c_id=US&s_id=CA&brewery=Y\n"
     ]
    }
   ],
   "source": [
    "places = {}\n",
    "for tag in ca_soup.find('table').find('table').find_all('a')[:1]:\n",
    "    print tag.text.split()[0]\n",
    "    print base_url.format(tag['href'])\n",
    "#     places[tag.text.split()[0]] = base_url.format(tag['href'])"
   ]
  },
  {
   "cell_type": "code",
   "execution_count": 60,
   "metadata": {
    "collapsed": false
   },
   "outputs": [
    {
     "data": {
      "text/plain": [
       "{u'Bars': 'https://www.beeradvocate.com/place/list/?c_id=US&s_id=CA&bar=Y',\n",
       " u'Breweries': 'https://www.beeradvocate.com/place/list/?c_id=US&s_id=CA&brewery=Y',\n",
       " u'Eateries': 'https://www.beeradvocate.com/place/list/?c_id=US&s_id=CA&eatery=Y',\n",
       " u'Homebrew': 'https://www.beeradvocate.com/place/list/?c_id=US&s_id=CA&homebrew=Y',\n",
       " u'Stores': 'https://www.beeradvocate.com/place/list/?c_id=US&s_id=CA&store=Y'}"
      ]
     },
     "execution_count": 60,
     "metadata": {},
     "output_type": "execute_result"
    }
   ],
   "source": [
    "places"
   ]
  },
  {
   "cell_type": "code",
   "execution_count": 338,
   "metadata": {
    "collapsed": false
   },
   "outputs": [],
   "source": [
    "breweries = {}\n",
    "breweries_soup = get_soup('https://www.beeradvocate.com/place/list/?c_id=US&s_id=ND&brewery=Y')\n",
    "urls = []\n",
    "names = []\n",
    "addresses = []\n",
    "for tag in breweries_soup.find('table').find_all('tr')[3:-1:2]:\n",
    "    urls.append(base_url.format(tag.find('a')['href']))\n",
    "    names.append(tag.find('a').text)\n",
    "#     print tag.find('a').text\n",
    "#     if 'profile' in tag.find('a')['href']:\n",
    "#         breweries[base_url.format(tag.find('a')['href'])] = tag.find('a').text\n",
    "#     print tag.find('tr')\n",
    "for tag in breweries_soup.find('table').find_all('tr')[4:-1:2]:\n",
    "    addresses.append(tag.find('td', class_='hr_bottom_dark').get_text(' '))"
   ]
  },
  {
   "cell_type": "code",
   "execution_count": 341,
   "metadata": {
    "collapsed": false
   },
   "outputs": [
    {
     "name": "stdout",
     "output_type": "stream",
     "text": [
      "None\n"
     ]
    }
   ],
   "source": [
    "brews = dict(zip(urls, zip(names, addresses)))\n",
    "page_info = breweries_soup.find('table').find_all('tr')\n",
    "try:\n",
    "    next_page = page_info[1].find_all('a')[-2]['href']\n",
    "except:\n",
    "    next_page = None\n",
    "print next_page"
   ]
  },
  {
   "cell_type": "code",
   "execution_count": 211,
   "metadata": {
    "collapsed": false
   },
   "outputs": [
    {
     "name": "stdout",
     "output_type": "stream",
     "text": [
      "[3.74, 65.0, 113.0, 260.0, 3.88]\n"
     ]
    }
   ],
   "source": [
    "brew_soup = get_soup('https://www.beeradvocate.com/beer/profile/735/')\n",
    "info = []\n",
    "for tag in brew_soup.find_all('div', class_='break'):\n",
    "    for span in tag.find_all('span'):\n",
    "        try:\n",
    "            info.append(float(span.text))\n",
    "        except:\n",
    "            pass\n",
    "print info\n",
    "titles = ['beer_avg', 'num_beers', 'num_place_reviews', 'num_place_ratings', 'place_avg']\n",
    "brew_info = dict(zip(titles, info))"
   ]
  },
  {
   "cell_type": "code",
   "execution_count": 212,
   "metadata": {
    "collapsed": false
   },
   "outputs": [
    {
     "data": {
      "text/plain": [
       "{'beer_avg': 3.74,\n",
       " 'num_beers': 65.0,\n",
       " 'num_place_ratings': 260.0,\n",
       " 'num_place_reviews': 113.0,\n",
       " 'place_avg': 3.88}"
      ]
     },
     "execution_count": 212,
     "metadata": {},
     "output_type": "execute_result"
    }
   ],
   "source": [
    "brew_info"
   ]
  },
  {
   "cell_type": "code",
   "execution_count": 188,
   "metadata": {
    "collapsed": false
   },
   "outputs": [],
   "source": [
    "beers_soup = get_soup('https://www.beeradvocate.com/beer/profile/735/')\n",
    "beer_info = {}\n",
    "titles = ['beer_name', 'beer_style', 'abv', 'avg_rating', 'num_ratings', 'bros']\n",
    "for tag in beers_soup.find('table').find_all('tr')[3:]:\n",
    "#     print tag.get_text(', ')\n",
    "    url = base_url.format(tag.find('a')['href'])\n",
    "    clean = [x.strip() for x in tag.get_text('\\n').split('\\n')]\n",
    "    beer_info[url] = dict(zip(titles, clean))"
   ]
  },
  {
   "cell_type": "code",
   "execution_count": 181,
   "metadata": {
    "collapsed": false
   },
   "outputs": [
    {
     "data": {
      "text/plain": [
       "{'https://www.beeradvocate.com/beer/profile/735/100314/': {'abv': u'8.20',\n",
       "  'avg_rating': u'3.8',\n",
       "  'beer_name': u'He Said (Tripel)',\n",
       "  'beer_type': u'Tripel',\n",
       "  'bros': u'90',\n",
       "  'num_ratings': u'504'},\n",
       " 'https://www.beeradvocate.com/beer/profile/735/100316/': {'abv': u'8.20',\n",
       "  'avg_rating': u'3.71',\n",
       "  'beer_name': u'He Said (Baltic Porter)',\n",
       "  'beer_type': u'Baltic Porter',\n",
       "  'bros': u'80',\n",
       "  'num_ratings': u'512'},\n",
       " 'https://www.beeradvocate.com/beer/profile/735/105830/': {'abv': u'7.10',\n",
       "  'avg_rating': u'4.1',\n",
       "  'beer_name': u'OG IPA',\n",
       "  'beer_type': u'American IPA',\n",
       "  'bros': u'-',\n",
       "  'num_ratings': u'1'},\n",
       " 'https://www.beeradvocate.com/beer/profile/735/108465/': {'abv': u'4.40',\n",
       "  'avg_rating': u'-',\n",
       "  'beer_name': u'MCA Stout',\n",
       "  'beer_type': u'American Stout',\n",
       "  'bros': u'-',\n",
       "  'num_ratings': u'16'},\n",
       " 'https://www.beeradvocate.com/beer/profile/735/10938/': {'abv': u'11.50',\n",
       "  'avg_rating': u'3.77',\n",
       "  'beer_name': u'Lower De Boom Barleywine',\n",
       "  'beer_type': u'American Barleywine',\n",
       "  'bros': u'-',\n",
       "  'num_ratings': u'779'},\n",
       " 'https://www.beeradvocate.com/beer/profile/735/10942/': {'abv': u'4.90',\n",
       "  'avg_rating': u'3.44',\n",
       "  'beer_name': u'Oyster Point Oyster Stout',\n",
       "  'beer_type': u'English Stout',\n",
       "  'bros': u'-',\n",
       "  'num_ratings': u'39'},\n",
       " 'https://www.beeradvocate.com/beer/profile/735/113675/': {'abv': u'9.90',\n",
       "  'avg_rating': u'3.83',\n",
       "  'beer_name': u'Beast Of Burden',\n",
       "  'beer_type': u'Belgian IPA',\n",
       "  'bros': u'-',\n",
       "  'num_ratings': u'3'},\n",
       " 'https://www.beeradvocate.com/beer/profile/735/113676/': {'abv': u'12.80',\n",
       "  'avg_rating': u'3.95',\n",
       "  'beer_name': u'Red Titan',\n",
       "  'beer_type': u'American Strong Ale',\n",
       "  'bros': u'-',\n",
       "  'num_ratings': u'2'},\n",
       " 'https://www.beeradvocate.com/beer/profile/735/113677/': {'abv': u'9.60',\n",
       "  'avg_rating': u'3.89',\n",
       "  'beer_name': u'Bike Lane Hopper',\n",
       "  'beer_type': u'American Black Ale',\n",
       "  'bros': u'-',\n",
       "  'num_ratings': u'8'},\n",
       " 'https://www.beeradvocate.com/beer/profile/735/114405/': {'abv': u'7.00',\n",
       "  'avg_rating': u'3.86',\n",
       "  'beer_name': u'Brew Free Or Die IPA',\n",
       "  'beer_type': u'American IPA',\n",
       "  'bros': u'-',\n",
       "  'num_ratings': u'971'},\n",
       " 'https://www.beeradvocate.com/beer/profile/735/118414/': {'abv': u'5.60',\n",
       "  'avg_rating': u'4.06',\n",
       "  'beer_name': u'Springtime For Hallertau',\n",
       "  'beer_type': u'American Pale Ale (APA)',\n",
       "  'bros': u'-',\n",
       "  'num_ratings': u'2'},\n",
       " 'https://www.beeradvocate.com/beer/profile/735/122364/': {'abv': u'5.50',\n",
       "  'avg_rating': u'3.38',\n",
       "  'beer_name': u'The White Flame',\n",
       "  'beer_type': u'American Pale Wheat Ale',\n",
       "  'bros': u'-',\n",
       "  'num_ratings': u'2'},\n",
       " 'https://www.beeradvocate.com/beer/profile/735/130642/': {'abv': u'5.20',\n",
       "  'avg_rating': u'4',\n",
       "  'beer_name': u\"Grampa's Trike\",\n",
       "  'beer_type': u'American Pale Ale (APA)',\n",
       "  'bros': u'-',\n",
       "  'num_ratings': u'1'},\n",
       " 'https://www.beeradvocate.com/beer/profile/735/138372/': {'abv': u'8.40',\n",
       "  'avg_rating': u'-',\n",
       "  'beer_name': u'California Love',\n",
       "  'beer_type': u'American Double / Imperial Stout',\n",
       "  'bros': u'-',\n",
       "  'num_ratings': u'1'},\n",
       " 'https://www.beeradvocate.com/beer/profile/735/138381/': {'abv': u'8.40',\n",
       "  'avg_rating': u'3.88',\n",
       "  'beer_name': u'California Love Oaked Imperial Red Ale',\n",
       "  'beer_type': u'American Double / Imperial IPA',\n",
       "  'bros': u'-',\n",
       "  'num_ratings': u'2'},\n",
       " 'https://www.beeradvocate.com/beer/profile/735/139936/': {'abv': u'8.00',\n",
       "  'avg_rating': u'4.05',\n",
       "  'beer_name': u'Blah Blah Blah IPA',\n",
       "  'beer_type': u'American Double / Imperial IPA',\n",
       "  'bros': u'-',\n",
       "  'num_ratings': u'96'},\n",
       " 'https://www.beeradvocate.com/beer/profile/735/142476/': {'abv': u'7.60',\n",
       "  'avg_rating': u'3.75',\n",
       "  'beer_name': u'Personality Crisis IPA',\n",
       "  'beer_type': u'American IPA',\n",
       "  'bros': u'-',\n",
       "  'num_ratings': u'1'},\n",
       " 'https://www.beeradvocate.com/beer/profile/735/149991/': {'abv': u'7.50',\n",
       "  'avg_rating': u'-',\n",
       "  'beer_name': u'Red Dwarf',\n",
       "  'beer_type': u'American IPA',\n",
       "  'bros': u'-',\n",
       "  'num_ratings': u'2'},\n",
       " 'https://www.beeradvocate.com/beer/profile/735/154937/': {'abv': u'4.40',\n",
       "  'avg_rating': u'3.82',\n",
       "  'beer_name': u'Down To Earth Session IPA',\n",
       "  'beer_type': u'American IPA',\n",
       "  'bros': u'-',\n",
       "  'num_ratings': u'399'},\n",
       " 'https://www.beeradvocate.com/beer/profile/735/156567/': {'abv': u'9.50',\n",
       "  'avg_rating': u'-',\n",
       "  'beer_name': u'POHW',\n",
       "  'beer_type': u'American Strong Ale',\n",
       "  'bros': u'-',\n",
       "  'num_ratings': u'0'},\n",
       " 'https://www.beeradvocate.com/beer/profile/735/170133/': {'abv': u'5.00',\n",
       "  'avg_rating': u'3.77',\n",
       "  'beer_name': u'Conventioneer',\n",
       "  'beer_type': u'American Blonde Ale',\n",
       "  'bros': u'-',\n",
       "  'num_ratings': u'3'},\n",
       " 'https://www.beeradvocate.com/beer/profile/735/173897/': {'abv': u'6.20',\n",
       "  'avg_rating': u'3.75',\n",
       "  'beer_name': u'Hops For Heroes: Homefront IPA',\n",
       "  'beer_type': u'American IPA',\n",
       "  'bros': u'-',\n",
       "  'num_ratings': u'1'},\n",
       " 'https://www.beeradvocate.com/beer/profile/735/177014/': {'abv': u'5.10',\n",
       "  'avg_rating': u'-',\n",
       "  'beer_name': u'San Leandro Cherry Wheat',\n",
       "  'beer_type': u'Witbier',\n",
       "  'bros': u'-',\n",
       "  'num_ratings': u'2'},\n",
       " 'https://www.beeradvocate.com/beer/profile/735/177015/': {'abv': u'6.10',\n",
       "  'avg_rating': u'3.64',\n",
       "  'beer_name': u'Hopduster',\n",
       "  'beer_type': u'American Pale Ale (APA)',\n",
       "  'bros': u'-',\n",
       "  'num_ratings': u'3'},\n",
       " 'https://www.beeradvocate.com/beer/profile/735/177016/': {'abv': u'5.80',\n",
       "  'avg_rating': u'3.72',\n",
       "  'beer_name': u'NorCal Middle-Earth',\n",
       "  'beer_type': u'American Pale Ale (APA)',\n",
       "  'bros': u'-',\n",
       "  'num_ratings': u'2'},\n",
       " 'https://www.beeradvocate.com/beer/profile/735/185213/': {'abv': u'7.60',\n",
       "  'avg_rating': u'3.99',\n",
       "  'beer_name': u'Toaster Pastry',\n",
       "  'beer_type': u'American Amber / Red Ale',\n",
       "  'bros': u'-',\n",
       "  'num_ratings': u'584'},\n",
       " 'https://www.beeradvocate.com/beer/profile/735/187539/': {'abv': u'4.80',\n",
       "  'avg_rating': u'3.47',\n",
       "  'beer_name': u'El Sully',\n",
       "  'beer_type': u'American Adjunct Lager',\n",
       "  'bros': u'-',\n",
       "  'num_ratings': u'154'},\n",
       " 'https://www.beeradvocate.com/beer/profile/735/197482/': {'abv': u'5.60',\n",
       "  'avg_rating': u'3.59',\n",
       "  'beer_name': u'Dr. Frudi',\n",
       "  'beer_type': u'American Pale Ale (APA)',\n",
       "  'bros': u'-',\n",
       "  'num_ratings': u'3'},\n",
       " 'https://www.beeradvocate.com/beer/profile/735/197483/': {'abv': u'6.80',\n",
       "  'avg_rating': u'3.75',\n",
       "  'beer_name': u'Dankopotamus',\n",
       "  'beer_type': u'American IPA',\n",
       "  'bros': u'-',\n",
       "  'num_ratings': u'1'},\n",
       " 'https://www.beeradvocate.com/beer/profile/735/197485/': {'abv': u'6.50',\n",
       "  'avg_rating': u'3.75',\n",
       "  'beer_name': u'Two Rivers Cider',\n",
       "  'beer_type': u'Fruit / Vegetable Beer',\n",
       "  'bros': u'-',\n",
       "  'num_ratings': u'1'},\n",
       " 'https://www.beeradvocate.com/beer/profile/735/197486/': {'abv': u'5.40',\n",
       "  'avg_rating': u'4',\n",
       "  'beer_name': u'Starry Night',\n",
       "  'beer_type': u'American Porter',\n",
       "  'bros': u'-',\n",
       "  'num_ratings': u'1'},\n",
       " 'https://www.beeradvocate.com/beer/profile/735/20781/': {'abv': u'7.00',\n",
       "  'avg_rating': u'3.82',\n",
       "  'beer_name': u'21st Amendment IPA',\n",
       "  'beer_type': u'American IPA',\n",
       "  'bros': u'90',\n",
       "  'num_ratings': u'2,344'},\n",
       " 'https://www.beeradvocate.com/beer/profile/735/215031/': {'abv': u'8.80',\n",
       "  'avg_rating': u'3.69',\n",
       "  'beer_name': u'Morning After Pilz',\n",
       "  'beer_type': u'German Pilsener',\n",
       "  'bros': u'-',\n",
       "  'num_ratings': u'1'},\n",
       " 'https://www.beeradvocate.com/beer/profile/735/215033/': {'abv': u'10.10',\n",
       "  'avg_rating': u'3.99',\n",
       "  'beer_name': u'The Mighty Quinn',\n",
       "  'beer_type': u'American Double / Imperial IPA',\n",
       "  'bros': u'-',\n",
       "  'num_ratings': u'1'},\n",
       " 'https://www.beeradvocate.com/beer/profile/735/215034/': {'abv': u'8.80',\n",
       "  'avg_rating': u'3.96',\n",
       "  'beer_name': u'Motor Oil',\n",
       "  'beer_type': u'American Strong Ale',\n",
       "  'bros': u'-',\n",
       "  'num_ratings': u'1'},\n",
       " 'https://www.beeradvocate.com/beer/profile/735/215035/': {'abv': u'10.90',\n",
       "  'avg_rating': u'3.9',\n",
       "  'beer_name': u\"Manu's Morning\",\n",
       "  'beer_type': u'American Double / Imperial Stout',\n",
       "  'bros': u'-',\n",
       "  'num_ratings': u'1'},\n",
       " 'https://www.beeradvocate.com/beer/profile/735/231510/': {'abv': u'7.50',\n",
       "  'avg_rating': u'-',\n",
       "  'beer_name': u'Duocracy',\n",
       "  'beer_type': u'American Double / Imperial IPA',\n",
       "  'bros': u'-',\n",
       "  'num_ratings': u'2'},\n",
       " 'https://www.beeradvocate.com/beer/profile/735/234718/': {'abv': u'6.70',\n",
       "  'avg_rating': u'3.56',\n",
       "  'beer_name': u'Generation Ale-ive',\n",
       "  'beer_type': u'American IPA',\n",
       "  'bros': u'-',\n",
       "  'num_ratings': u'1'},\n",
       " 'https://www.beeradvocate.com/beer/profile/735/243156/': {'abv': u'?',\n",
       "  'avg_rating': u'-',\n",
       "  'beer_name': u'Phoenix Pale Ale',\n",
       "  'beer_type': u'American Pale Ale (APA)',\n",
       "  'bros': u'-',\n",
       "  'num_ratings': u'1'},\n",
       " 'https://www.beeradvocate.com/beer/profile/735/243157/': {'abv': u'?',\n",
       "  'avg_rating': u'-',\n",
       "  'beer_name': u'Prototype IPA',\n",
       "  'beer_type': u'American IPA',\n",
       "  'bros': u'-',\n",
       "  'num_ratings': u'1'},\n",
       " 'https://www.beeradvocate.com/beer/profile/735/252200/': {'abv': u'4.00',\n",
       "  'avg_rating': u'-',\n",
       "  'beer_name': u'Golden Sunshine',\n",
       "  'beer_type': u'Berliner Weissbier',\n",
       "  'bros': u'-',\n",
       "  'num_ratings': u'3'},\n",
       " 'https://www.beeradvocate.com/beer/profile/735/252203/': {'abv': u'7.10',\n",
       "  'avg_rating': u'-',\n",
       "  'beer_name': u'Blood Orange IPA',\n",
       "  'beer_type': u'American IPA',\n",
       "  'bros': u'-',\n",
       "  'num_ratings': u'1'},\n",
       " 'https://www.beeradvocate.com/beer/profile/735/258493/': {'abv': u'9.50',\n",
       "  'avg_rating': u'3.4',\n",
       "  'beer_name': u'El Camino (un)Real',\n",
       "  'beer_type': u'American Black Ale',\n",
       "  'bros': u'-',\n",
       "  'num_ratings': u'1'},\n",
       " 'https://www.beeradvocate.com/beer/profile/735/2995/': {'abv': u'5.10',\n",
       "  'avg_rating': u'3.54',\n",
       "  'beer_name': u'South Park Blonde',\n",
       "  'beer_type': u'American Blonde Ale',\n",
       "  'bros': u'-',\n",
       "  'num_ratings': u'33'},\n",
       " 'https://www.beeradvocate.com/beer/profile/735/4202/': {'abv': u'4.90',\n",
       "  'avg_rating': u'3.3',\n",
       "  'beer_name': u'Hell Or High Watermelon Wheat Beer',\n",
       "  'beer_type': u'Fruit / Vegetable Beer',\n",
       "  'bros': u'80',\n",
       "  'num_ratings': u'2,708'},\n",
       " 'https://www.beeradvocate.com/beer/profile/735/42063/': {'abv': u'9.70',\n",
       "  'avg_rating': u'3.97',\n",
       "  'beer_name': u'Hop Crisis',\n",
       "  'beer_type': u'American Double / Imperial IPA',\n",
       "  'bros': u'87',\n",
       "  'num_ratings': u'1,635'},\n",
       " 'https://www.beeradvocate.com/beer/profile/735/45648/': {'abv': u'6.40',\n",
       "  'avg_rating': u'3.96',\n",
       "  'beer_name': u'Harvest Moon',\n",
       "  'beer_type': u'American IPA',\n",
       "  'bros': u'-',\n",
       "  'num_ratings': u'16'},\n",
       " 'https://www.beeradvocate.com/beer/profile/735/46070/': {'abv': u'6.80',\n",
       "  'avg_rating': u'3.68',\n",
       "  'beer_name': u'Back In Black',\n",
       "  'beer_type': u'American Black Ale',\n",
       "  'bros': u'72',\n",
       "  'num_ratings': u'2,368'},\n",
       " 'https://www.beeradvocate.com/beer/profile/735/52510/': {'abv': u'8.30',\n",
       "  'avg_rating': u'3.8',\n",
       "  'beer_name': u\"Monk's Blood\",\n",
       "  'beer_type': u'Belgian Strong Dark Ale',\n",
       "  'bros': u'-',\n",
       "  'num_ratings': u'1,400'},\n",
       " 'https://www.beeradvocate.com/beer/profile/735/56656/': {'abv': u'6.00',\n",
       "  'avg_rating': u'3.97',\n",
       "  'beer_name': u'5-South',\n",
       "  'beer_type': u'American Pale Ale (APA)',\n",
       "  'bros': u'-',\n",
       "  'num_ratings': u'34'},\n",
       " 'https://www.beeradvocate.com/beer/profile/735/58100/': {'abv': u'7.00',\n",
       "  'avg_rating': u'3.72',\n",
       "  'beer_name': u'Gigantes',\n",
       "  'beer_type': u'American IPA',\n",
       "  'bros': u'-',\n",
       "  'num_ratings': u'42'},\n",
       " 'https://www.beeradvocate.com/beer/profile/735/60560/': {'abv': u'5.40',\n",
       "  'avg_rating': u'3.76',\n",
       "  'beer_name': u'Amber Waves',\n",
       "  'beer_type': u'American Amber / Red Ale',\n",
       "  'bros': u'-',\n",
       "  'num_ratings': u'19'},\n",
       " 'https://www.beeradvocate.com/beer/profile/735/60563/': {'abv': u'9.30',\n",
       "  'avg_rating': u'3.18',\n",
       "  'beer_name': u\"Hendrik's Russian Imperial Stout\",\n",
       "  'beer_type': u'American Double / Imperial Stout',\n",
       "  'bros': u'-',\n",
       "  'num_ratings': u'14'},\n",
       " 'https://www.beeradvocate.com/beer/profile/735/62732/': {'abv': u'7.90',\n",
       "  'avg_rating': u'3.43',\n",
       "  'beer_name': u'Fireside Chat',\n",
       "  'beer_type': u'Winter Warmer',\n",
       "  'bros': u'80',\n",
       "  'num_ratings': u'1,240'},\n",
       " 'https://www.beeradvocate.com/beer/profile/735/63572/': {'abv': u'8.30',\n",
       "  'avg_rating': u'3.59',\n",
       "  'beer_name': u'Drunken Monk Ale',\n",
       "  'beer_type': u'Belgian Strong Dark Ale',\n",
       "  'bros': u'-',\n",
       "  'num_ratings': u'16'},\n",
       " 'https://www.beeradvocate.com/beer/profile/735/72440/': {'abv': u'7.30',\n",
       "  'avg_rating': u'3.8',\n",
       "  'beer_name': u'Old Glory',\n",
       "  'beer_type': u'American Strong Ale',\n",
       "  'bros': u'-',\n",
       "  'num_ratings': u'11'},\n",
       " 'https://www.beeradvocate.com/beer/profile/735/83805/': {'abv': u'7.50',\n",
       "  'avg_rating': u'4.22',\n",
       "  'beer_name': u\"Devil's Friend\",\n",
       "  'beer_type': u'American Brown Ale',\n",
       "  'bros': u'-',\n",
       "  'num_ratings': u'3'},\n",
       " 'https://www.beeradvocate.com/beer/profile/735/86147/': {'abv': u'7.80',\n",
       "  'avg_rating': u'2.85',\n",
       "  'beer_name': u'Churchyard',\n",
       "  'beer_type': u'Extra Special / Strong Bitter (ESB)',\n",
       "  'bros': u'-',\n",
       "  'num_ratings': u'2'},\n",
       " 'https://www.beeradvocate.com/beer/profile/735/87764/': {'abv': u'7.90',\n",
       "  'avg_rating': u'3.89',\n",
       "  'beer_name': u'Marooned On Hog Island',\n",
       "  'beer_type': u'English Stout',\n",
       "  'bros': u'-',\n",
       "  'num_ratings': u'475'},\n",
       " 'https://www.beeradvocate.com/beer/profile/735/88654/': {'abv': u'6.20',\n",
       "  'avg_rating': u'3.57',\n",
       "  'beer_name': u'Sneak Attack Saison',\n",
       "  'beer_type': u'Saison / Farmhouse Ale',\n",
       "  'bros': u'83',\n",
       "  'num_ratings': u'613'},\n",
       " 'https://www.beeradvocate.com/beer/profile/735/92495/': {'abv': u'8.30',\n",
       "  'avg_rating': u'3.78',\n",
       "  'beer_name': u'Lord And Master',\n",
       "  'beer_type': u'Extra Special / Strong Bitter (ESB)',\n",
       "  'bros': u'-',\n",
       "  'num_ratings': u'3'},\n",
       " 'https://www.beeradvocate.com/beer/profile/735/94040/': {'abv': u'10.20',\n",
       "  'avg_rating': u'3.67',\n",
       "  'beer_name': u'Dub Step IPA',\n",
       "  'beer_type': u'American Double / Imperial IPA',\n",
       "  'bros': u'-',\n",
       "  'num_ratings': u'18'},\n",
       " 'https://www.beeradvocate.com/beer/profile/735/94042/': {'abv': u'10.50',\n",
       "  'avg_rating': u'3.91',\n",
       "  'beer_name': u'Nelson, Jade And Helga',\n",
       "  'beer_type': u'American Double / Imperial IPA',\n",
       "  'bros': u'-',\n",
       "  'num_ratings': u'4'},\n",
       " 'https://www.beeradvocate.com/beer/profile/735/94043/': {'abv': u'11.00',\n",
       "  'avg_rating': u'3.63',\n",
       "  'beer_name': u'Red Giant',\n",
       "  'beer_type': u'American Strong Ale',\n",
       "  'bros': u'-',\n",
       "  'num_ratings': u'3'},\n",
       " 'https://www.beeradvocate.com/beer/profile/735/96261/': {'abv': u'5.70',\n",
       "  'avg_rating': u'3.6',\n",
       "  'beer_name': u'Megra Nodelo',\n",
       "  'beer_type': u'American Amber / Red Lager',\n",
       "  'bros': u'-',\n",
       "  'num_ratings': u'3'}}"
      ]
     },
     "execution_count": 181,
     "metadata": {},
     "output_type": "execute_result"
    }
   ],
   "source": [
    "beer_info"
   ]
  },
  {
   "cell_type": "code",
   "execution_count": 226,
   "metadata": {
    "collapsed": false
   },
   "outputs": [
    {
     "name": "stdout",
     "output_type": "stream",
     "text": [
      "86\n"
     ]
    }
   ],
   "source": [
    "ipa_soup = get_soup('https://www.beeradvocate.com/beer/profile/735/20781/')\n",
    "info = []\n",
    "for tag in ipa_soup.find_all('div', class_='break'):\n",
    "    for span in tag.find_all('span')[:-2:]:\n",
    "        try:\n",
    "            info.append(float(span.text))\n",
    "        except:\n",
    "            pass\n",
    "print ipa_soup.find('div', class_='break').find('span').text"
   ]
  },
  {
   "cell_type": "code",
   "execution_count": 192,
   "metadata": {
    "collapsed": false
   },
   "outputs": [
    {
     "data": {
      "text/plain": [
       "[86.0, 828.0, 3.82]"
      ]
     },
     "execution_count": 192,
     "metadata": {},
     "output_type": "execute_result"
    }
   ],
   "source": [
    "info"
   ]
  },
  {
   "cell_type": "code",
   "execution_count": 193,
   "metadata": {
    "collapsed": true
   },
   "outputs": [],
   "source": [
    "beer = {'ba_score' : info[0], 'num_reviews' : info[1]}"
   ]
  },
  {
   "cell_type": "code",
   "execution_count": 194,
   "metadata": {
    "collapsed": false
   },
   "outputs": [
    {
     "data": {
      "text/plain": [
       "{'ba_score': 86.0, 'num_reviews': 828.0}"
      ]
     },
     "execution_count": 194,
     "metadata": {},
     "output_type": "execute_result"
    }
   ],
   "source": [
    "beer"
   ]
  },
  {
   "cell_type": "code",
   "execution_count": 221,
   "metadata": {
    "collapsed": false
   },
   "outputs": [
    {
     "data": {
      "text/plain": [
       "25"
      ]
     },
     "execution_count": 221,
     "metadata": {},
     "output_type": "execute_result"
    }
   ],
   "source": [
    "len(ipa_soup.find_all('div', class_='user-comment'))"
   ]
  },
  {
   "cell_type": "code",
   "execution_count": 251,
   "metadata": {
    "collapsed": true
   },
   "outputs": [],
   "source": [
    "review = ipa_soup.find_all('div', class_='user-comment')[1]"
   ]
  },
  {
   "cell_type": "code",
   "execution_count": 252,
   "metadata": {
    "collapsed": false
   },
   "outputs": [
    {
     "data": {
      "text/plain": [
       "u'3.95/5\\xa0\\xa0rDev +3.4%look: 3.75 | smell: 3.75 | taste: 4 | feel: 4.25 |  overall: 4This IPA pours a slightly opaque, murky tannish orange color with a medium foamy white head. The scent is not too strong, but definitely hop oriented with some pine and citrus character. The taste is pretty hoppy also, but actually more balanced then I thought it would be. In the initial taste there are some nice grapefruit and orange notes balanced by a fairly hearty toasted bread malt flavor. In the aftertaste the hops take over imparting a pretty strong piney bitterness. The finish is semi-dry. The body is medium, maybe even slightly on the higher end of medium. This is a solid both hop and malt forward IPA. I appreciate the boldness of it. Its complexity may be slightly lacking, however, and it has a pretty standard IPA flavor profile. Still an IPA worth trying out though.\\u2605\\xa0787 charactersBierliebhaber3, Sep 20, 2016'"
      ]
     },
     "execution_count": 252,
     "metadata": {},
     "output_type": "execute_result"
    }
   ],
   "source": [
    "review.text"
   ]
  },
  {
   "cell_type": "code",
   "execution_count": 317,
   "metadata": {
    "collapsed": false
   },
   "outputs": [
    {
     "name": "stdout",
     "output_type": "stream",
     "text": [
      "3.95\n",
      "look: 3.75 | smell: 3.75 | taste: 4 | feel: 4.25 |  overall: 4 lsdjf\n",
      "This IPA pours a slightly opaque, murky tannish orange color with a medium foamy white head. The scent is not too strong, but definitely hop oriented with some pine and citrus character. The taste is pretty hoppy also, but actually more balanced then I thought it would be. In the initial taste there are some nice grapefruit and orange notes balanced by a fairly hearty toasted bread malt flavor. In the aftertaste the hops take over imparting a pretty strong piney bitterness. The finish is semi-dry. The body is medium, maybe even slightly on the higher end of medium. This is a solid both hop and malt forward IPA. I appreciate the boldness of it. Its complexity may be slightly lacking, however, and it has a pretty standard IPA flavor profile. Still an IPA worth trying out though.★ 787 charactersBierliebhaber3, Sep 20, 2016 lsdjf\n"
     ]
    }
   ],
   "source": [
    "print review.find('span', class_='BAscore_norm').text\n",
    "# print review.find('span', class_='muted').text\n",
    "breakdown = []\n",
    "for tag in review.find_all('br')[0]:\n",
    "    breakdown.append(tag.text)\n",
    "    print tag.text"
   ]
  },
  {
   "cell_type": "code",
   "execution_count": 304,
   "metadata": {
    "collapsed": false
   },
   "outputs": [
    {
     "data": {
      "text/plain": [
       "u'look: 3.75 | smell: 3.75 | taste: 4 | feel: 4.25 |  overall: 4This IPA pours a slightly opaque, murky tannish orange color with a medium foamy white head. The scent is not too strong, but definitely hop oriented with some pine and citrus character. The taste is pretty hoppy also, but actually more balanced then I thought it would be. In the initial taste there are some nice grapefruit and orange notes balanced by a fairly hearty toasted bread malt flavor. In the aftertaste the hops take over imparting a pretty strong piney bitterness. The finish is semi-dry. The body is medium, maybe even slightly on the higher end of medium. This is a solid both hop and malt forward IPA. I appreciate the boldness of it. Its complexity may be slightly lacking, however, and it has a pretty standard IPA flavor profile. Still an IPA worth trying out though.'"
      ]
     },
     "execution_count": 304,
     "metadata": {},
     "output_type": "execute_result"
    }
   ],
   "source": [
    "review.find('br').text.split('★'.decode('utf-8'))[0]"
   ]
  },
  {
   "cell_type": "code",
   "execution_count": 321,
   "metadata": {
    "collapsed": false
   },
   "outputs": [
    {
     "data": {
      "text/plain": [
       "[u'3.75', u'3.75', u'4', u'4.25', u'4']"
      ]
     },
     "execution_count": 321,
     "metadata": {},
     "output_type": "execute_result"
    }
   ],
   "source": [
    "[x.split(':')[1].strip() for x in breakdown[0].split('|')]"
   ]
  },
  {
   "cell_type": "code",
   "execution_count": 330,
   "metadata": {
    "collapsed": false
   },
   "outputs": [
    {
     "data": {
      "text/plain": [
       "{u'feel': u'4.25',\n",
       " u'look': u'3.75',\n",
       " u'overall': u'4',\n",
       " u'smell': u'3.75',\n",
       " u'taste': u'4'}"
      ]
     },
     "execution_count": 330,
     "metadata": {},
     "output_type": "execute_result"
    }
   ],
   "source": [
    "\n",
    "{x[0].strip():x[1].strip() for x in [x.split(\":\") for x in breakdown[0].split('|')]}"
   ]
  },
  {
   "cell_type": "code",
   "execution_count": 318,
   "metadata": {
    "collapsed": false
   },
   "outputs": [
    {
     "data": {
      "text/plain": [
       "2"
      ]
     },
     "execution_count": 318,
     "metadata": {},
     "output_type": "execute_result"
    }
   ],
   "source": [
    "len(breakdown)"
   ]
  },
  {
   "cell_type": "code",
   "execution_count": 320,
   "metadata": {
    "collapsed": false
   },
   "outputs": [
    {
     "name": "stdout",
     "output_type": "stream",
     "text": [
      "This IPA pours a slightly opaque, murky tannish orange color with a medium foamy white head. The scent is not too strong, but definitely hop oriented with some pine and citrus character. The taste is pretty hoppy also, but actually more balanced then I thought it would be. In the initial taste there are some nice grapefruit and orange notes balanced by a fairly hearty toasted bread malt flavor. In the aftertaste the hops take over imparting a pretty strong piney bitterness. The finish is semi-dry. The body is medium, maybe even slightly on the higher end of medium. This is a solid both hop and malt forward IPA. I appreciate the boldness of it. Its complexity may be slightly lacking, however, and it has a pretty standard IPA flavor profile. Still an IPA worth trying out though.\n"
     ]
    }
   ],
   "source": [
    "print breakdown[1].split('★'.decode('utf-8'))[0]"
   ]
  },
  {
   "cell_type": "code",
   "execution_count": 342,
   "metadata": {
    "collapsed": true
   },
   "outputs": [],
   "source": [
    "beer = get_soup('https://www.beeradvocate.com/beer/profile/735/20781/')"
   ]
  },
  {
   "cell_type": "code",
   "execution_count": 384,
   "metadata": {
    "collapsed": false
   },
   "outputs": [
    {
     "name": "stdout",
     "output_type": "stream",
     "text": [
      "<div class=\"mainContent\">\n",
      "<!--[if lt IE 8]>\n",
      "\t\t\t\t\t\t\t<p class=\"importantMessage\">You are using an out of date browser. It  may not display this or other websites correctly.<br />You should upgrade or use an <a href=\"https://www.google.com/chrome/browser/\" target=\"_blank\">alternative browser</a>.</p>\n",
      "\t\t\t\t\t\t<![endif]-->\n",
      "<div class=\"FloatingContainer Notices\">\n",
      "<div class=\"DismissParent Notice notice_30 \" data-auto-dismiss=\"0\" data-delay-duration=\"4000\" data-display-duration=\"0\" data-notice=\"30\">\n",
      "<div class=\"floatingItem primary\">\n",
      "<a class=\"DismissCtrl Tooltip\" data-offsetx=\"7\" data-tipclass=\"flipped\" href=\"account/dismiss-notice?notice_id=30\" title=\"Dismiss Notice\">Dismiss Notice</a>\n",
      "<div class=\" baseHtml noticeContent\">\n",
      "\t\t\t\t\t\tWe're celebrating 10 years of BeerAdvocate magazine with $10 print subscriptions for US residents.<br><br><a href=\"https://store.beeradvocate.com/products/subscribe-beeradvocate-magazine\" target=\"_blank\"><b>Subscribe now!</b></a>\n",
      "</br></br></div>\n",
      "</div>\n",
      "</div>\n",
      "</div>\n",
      "<!-- h1 title, description -->\n",
      "<div class=\"titleBar\">\n",
      "<h1>21st Amendment IPA<span style=\"color:#999999;\"> | 21st Amendment Brewery</span></h1>\n",
      "</div>\n",
      "<!-- main template -->\n",
      "<div id=\"ba-content\">\n",
      "<style>\n",
      "\t.rateCatScore {\n",
      "\t\tfont-size:1.5em;\n",
      "\t\tfont-weight:700;\n",
      "\t  \tcolor:#CC0000;\n",
      "\t}\n",
      "\t.rateCategory {\n",
      "\t\tmargin-top:15px;\n",
      "\t\tdisplay:block;\n",
      "\t}\n",
      "\t.rateCategory th { padding-left:5px; font-weight:bold; }\n",
      "\t.rateCategory td { width:60px; }\n",
      "\t.likes-bar { padding:5px; background-color: rgb(239, 243, 248); margin-top: 10px; border-bottom: 1px solid rgb(216, 216, 216); font-size: 11px; }\n",
      "\n",
      "/*DL, DT, DD TAGS LIST DATA*/\n",
      "\t#item_stats dl {\n",
      "\t    width:100%;\n",
      "\t    overflow:hidden;\n",
      "\t    margin:0;\n",
      "\t    padding:0;\n",
      "\t}\n",
      "\t#item_stats dl dt {\n",
      "\t    float:left;\n",
      "\t    width:50%;\n",
      "\t    margin:0;\n",
      "\t    padding:0;\n",
      "\t}\n",
      "\t#item_stats dl dd {\n",
      "\t    float:left;\n",
      "\t    width:50%;\n",
      "\t    margin:0;\n",
      "\t    padding:0;\n",
      "\t}\n",
      "</style>\n",
      "<!--googleoff: index-->\n",
      "<div style=\"background-color:#E0E0E0; padding:5px; margin-top:5px; font-size:1.2em; vertical-align:middle;\"><b><a class=\"uix_dropdownDesktopMenu OverlayTrigger\" data-cacheoverlay=\"false\" href=\"login/\">Log in</a> or <a href=\"register/\">Sign up</a> to start rating.</b></div></div></div>\n"
     ]
    }
   ],
   "source": [
    "print beer.find('div', class_='mainContent')"
   ]
  },
  {
   "cell_type": "code",
   "execution_count": 385,
   "metadata": {
    "collapsed": false
   },
   "outputs": [
    {
     "data": {
      "text/plain": [
       "<!DOCTYPE html>\\n\\n<html class=\"Public NoJs uix_javascriptNeedsInit LoggedOut Sidebar Responsive pageIsLtr not_hasTabLinks hasSearch is-sidebarOpen hasRightSidebar is-setWidth navStyle_3 pageStyle_0 hasFlexbox\" dir=\"LTR\" id=\"XenForo\" lang=\"en-US\" xmlns:fb=\"http://www.facebook.com/2008/fbml\">\\n<head>\\n<meta charset=\"unicode-escape\"/>\\n<meta content=\"IE=Edge,chrome=1\" http-equiv=\"X-UA-Compatible\"/>\\n<meta content=\"width=device-width, initial-scale=1\" name=\"viewport\"/>\\n<base href=\"https://www.beeradvocate.com/community/\"/>\\n<script>\\n\\t\\t\\tvar _b = document.getElementsByTagName('base')[0], _bH = \"https://www.beeradvocate.com/community/\";\\n\\t\\t\\tif (_b && _b.href != _bH) _b.href = _bH;\\n\\t\\t</script>\\n<title>21st Amendment IPA | 21st Amendment Brewery | Page 35 | BeerAdvocate</title>\\n<noscript><style>.JsOnly, .jsOnly { display: none !important; }</style></noscript>\\n<link href=\"css.php?css=xenforo,form,public&amp;style=7&amp;dir=LTR&amp;d=1480955132\" rel=\"stylesheet\"/>\\n<link href=\"css.php?css=login_bar,moderator_bar,notices,uix_extendedFooter&amp;style=7&amp;dir=LTR&amp;d=1480955132\" rel=\"stylesheet\"/>\\n<link href=\"css.php?css=uix,uix_style&amp;style=7&amp;dir=LTR&amp;d=1480955132\" rel=\"stylesheet\"/>\\n<style>\\n\\t/*** UIX -- PER USER STYLES ***/\\n\\n\\t\\n\\n\\t\\n\\n\\n\\t\\n\\n</style>\\n<link href=\"css.php?css=EXTRA&amp;style=7&amp;dir=LTR&amp;d=1480955132\" rel=\"stylesheet\"/>\\n<style>\\n/* Node Styling */\\n\\n</style>\\n<script>\\n\\n\\t(function(i,s,o,g,r,a,m){i['GoogleAnalyticsObject']=r;i[r]=i[r]||function(){\\n\\t(i[r].q=i[r].q||[]).push(arguments)},i[r].l=1*new Date();a=s.createElement(o),\\n\\tm=s.getElementsByTagName(o)[0];a.async=1;a.src=g;m.parentNode.insertBefore(a,m)\\n\\t})(window,document,'script','//www.google-analytics.com/analytics.js','ga');\\n\\t\\n\\tga('create', 'UA-1066712-1', 'beeradvocate.com', {'cookieDomain': 'www.beeradvocate.com'});\\n\\tga('send', 'pageview');\\n\\n</script>\\n<link href=\"styles/uix/uix/css/font-awesome.min.css\" rel=\"stylesheet\">\\n<link href=\"//fonts.googleapis.com/css?family=Open+Sans:300,400,700,600\" rel=\"stylesheet\" type=\"text/css\">\\n<script src=\"//ajax.googleapis.com/ajax/libs/jquery/1.11.0/jquery.min.js\"></script>\\n<script>if (!window.jQuery) { document.write('<scr'+'ipt type=\"text/javascript\" src=\"js/jquery/jquery-1.11.0.min.js\"><\\\\/scr'+'ipt>'); }</script>\\n<script src=\"js/xenforo/xenforo.js?_v=4e9ddafa\"></script>\\n<!--[if lt IE 9]>\\n\\t\\n\\t\\t \\n        \\t<script src=\"//cdnjs.cloudflare.com/ajax/libs/html5shiv/3.7.2/html5shiv.min.js\"></script>\\n\\t        \\n\\t        <script src=\"//cdnjs.cloudflare.com/ajax/libs/respond.js/1.4.2/respond.js\"></script>\\n\\t        \\n\\t        <script src=\"//cdnjs.cloudflare.com/ajax/libs/selectivizr/1.0.2/selectivizr-min.js\"></script>\\n\\t\\n\\n<![endif]-->\\n<script>\\n\\tuix = {\\n\\t\\telm: {},\\n\\t\\tfn:{},\\n\\t\\tinit: function(){\\n\\t\\t\\tif (uix.betaMode) {\\n\\t\\t\\t\\tconsole.group('uix.%cinit()', 'color:#3498DB');\\n\\t\\t\\t}\\n\\t\\t\\tfor(var x=0;x<uix.events.init.length;x++){\\n\\t\\t\\t\\tuix.events.init[x]()\\n\\t\\t  \\t}\\n\\t\\t  \\tconsole.groupEnd('uix.%cinit()','color:#3498DB')\\n\\t\\t},\\n\\t  \\tevents: {init:[]},\\n\\t  \\ton: function(event, fn){\\n\\t  \\t\\tif(event=='init'){\\n\\t  \\t\\t\\tuix.events.init.push(fn)\\n\\t  \\t\\t}\\n\\t  \\t},\\n\\n\\t\\tbetaMode\\t\\t\\t\\t: parseInt('0'),\\n\\t\\tjsPathUsed\\t\\t\\t\\t: 'uix_style',\\n\\t\\tjsGlobal\\t\\t\\t\\t: parseInt('0'),\\n\\n\\n\\t  \\tversion\\t\\t\\t\\t\\t: '1.5.8.1_custom',\\n\\t  \\tjsHeadVersion\\t\\t\\t\\t: '1.5.10.0',\\n\\t  \\taddonVersion\\t\\t\\t\\t: '1001272',\\n\\t  \\tjsCacheBust\\t\\t\\t\\t: '1',\\n\\t  \\tcontentTemplate\\t\\t\\t\\t: 'bridge_page',\\n\\n\\t\\tjavascriptInitHide\\t\\t\\t: parseInt('1'),\\n\\t\\tglobalPadding \\t\\t\\t\\t: parseInt('16px'),\\n\\t\\tsidebarWidth\\t\\t\\t\\t: parseInt('300px'),\\n\\t\\tmainContainerMargin  \\t        \\t: '316px',\\n\\t\\tmaxResponsiveWideWidth   \\t\\t: parseInt('850px'),\\n\\t\\tmaxResponsiveMediumWidth \\t\\t: parseInt('610px'),\\n\\t\\tmaxResponsiveNarrowWidth \\t\\t: parseInt('480px'),\\n\\t\\tsidebarMaxResponsiveWidth\\t\\t: parseInt('850px'),\\n\\t\\t\\n\\t\\t\\tresponsiveMessageBreakpoint\\t\\t: parseInt('610px'),\\n\\t\\t\\n\\t\\tsidebarMaxResponsiveWidthStr\\t\\t: '850px',\\n\\n\\t\\t\\n\\t\\t\\toffCanvasRightTriggerWidth\\t: parseInt('850px'),\\n\\t\\t\\n\\n\\t\\t\\n\\t\\t\\toffCanvasLeftTriggerWidth\\t: parseInt('850px'),\\n\\t\\t\\n\\n\\t\\t\\n\\t\\t\\t\\n\\t\\t\\t\\toffCanvasNavTriggerWidth\\t: parseInt('850px'),\\n\\t\\t\\t\\n\\t\\t\\n\\t\\t\\n\\t\\t\\t\\n\\t\\t\\t\\toffCanvasVisitorTriggerWidth\\t: parseInt('850px'),\\n\\t\\t\\t\\n\\t\\t\\n\\n\\t\\toffcanvasTriggerAnimationDuration\\t: parseInt('300ms'),\\n\\n\\n\\n\\n\\t\\tdropdownMenuAnimationSpeed\\t\\t: parseInt('0ms'),\\n\\t\\tinlineAlertBalloons\\t\\t\\t: (parseInt('1') && !parseInt('1')) || parseInt('1'),\\n\\n\\t\\tjumpToFixedDelayHide\\t\\t\\t: parseInt('1'),\\n\\n\\t\\tstickyNavigationMinWidth \\t\\t: parseInt('0'),\\n\\t\\tstickyNavigationMinHeight\\t\\t: parseInt('600'),\\n\\t\\tstickyNavigationMaxWidth \\t\\t: parseInt('0'),\\n\\t\\tstickyNavigationMaxHeight\\t\\t: parseInt('0'),\\n\\t\\tstickyNavigationPortraitMinWidth \\t: parseInt('320'),\\n\\t\\tstickyNavigationPortraitMinHeight\\t: parseInt('500'),\\n\\t\\tstickyNavigationPortraitMaxWidth \\t: parseInt('0'),\\n\\t\\tstickyNavigationPortraitMaxHeight\\t: parseInt('0'),\\n\\t\\tstickySidebar \\t\\t\\t\\t: 1,\\n\\t\\t\\n\\t\\t\\tsidebarInnerFloat\\t\\t: \"right\",\\n\\t\\t\\n\\t\\tRTL\\t\\t\\t\\t\\t: 0,\\n\\t\\tstickyItems \\t\\t\\t\\t: {},\\n\\t\\tstickyGlobalMinimumPosition\\t\\t: parseInt('200px'),\\n\\t\\tstickyGlobalScrollUp\\t\\t\\t: parseInt('0'),\\n\\t\\tstickyDisableIOSThirdParty\\t\\t: parseInt('1'),\\n\\t\\tpreventAlwaysSticky\\t\\t\\t: parseInt('0'),\\n\\n\\t\\tsearchMinimalSize\\t\\t\\t: parseInt('610px'),\\n\\n\\t\\tsearchPosition\\t\\t\\t\\t: parseInt('3'),\\n\\n\\t\\tnodeStyle\\t\\t\\t\\t: parseInt('3'),\\n\\t\\tpageStyle\\t\\t\\t\\t: parseInt('0'),\\n\\n\\t\\tenableBorderCheck\\t\\t\\t: parseInt('1'),\\n\\t\\tenableULManager\\t\\t\\t\\t: parseInt('1'),\\n\\n\\t\\tthreadSlidingAvatar\\t\\t\\t: parseInt('0'),\\n\\t\\tthreadSlidingExtra\\t\\t\\t: parseInt('0'),\\n\\t\\tthreadSlidingHover\\t\\t\\t: parseInt('0'),\\n\\t\\tthreadSlidingStaffShow\\t\\t\\t: parseInt('1'),\\n\\t\\tthreadSlidingGlobalEnable\\t\\t: parseInt('1'),\\n\\n\\t\\tsignatureHidingEnabled\\t\\t\\t: parseInt('0'),\\n\\t\\tsignatureHidingEnabledAddon\\t\\t: parseInt('1'),\\n\\t\\tsignatureMaxHeight\\t\\t\\t: parseInt('100px'),\\n\\t\\tsignatureHoverEnabled\\t\\t\\t: parseInt('0'),\\n\\n\\t\\tenableStickyFooter \\t\\t\\t: parseInt('1'),\\n\\t\\tstickyFooterBottomOffset \\t\\t: parseInt('16px') * 2,\\n\\n\\t\\t\\n\\t\\t\\tsidebarStickyBottomOffset\\t: parseInt('4'),\\n\\t\\t\\n\\n\\t  \\t\\n\\t\\t\\toffCanvasSidebar\\t\\t\\t: 1,\\n\\n\\t\\t\\t\\n\\t\\t\\t\\toffCanvasSidebarVisitorTabs\\t\\t: 1,\\n\\t\\t\\t\\n\\n\\t\\t\\n\\n\\t\\toffcanvasLeftStatic\\t\\t\\t: 1 && parseInt('0') && parseInt('1'),\\n\\t\\toffcanvasRightStatic\\t\\t\\t: 0 && parseInt('0') && parseInt('1'),\\n\\t\\toffcanvasLeftStaticBreakpoint\\t\\t: parseInt('1300px'),\\n\\t\\toffcanvasRightStaticBreakpoint\\t\\t: parseInt('1300px'),\\n\\n\\t\\treinsertWelcomeBlock\\t\\t\\t: parseInt('0'),\\n\\n\\t\\tsidebarCookieExpire\\t\\t\\t: '',\\n\\t\\tcanCollapseSidebar\\t\\t\\t: '',\\n\\n\\t\\tcookiePrefix\\t\\t\\t\\t: 'xf_',\\n\\t\\tsidebarLocation \\t\\t\\t: parseInt('0'),\\n\\n\\t\\tcollapsibleSidebar\\t\\t\\t: parseInt('1'),\\n\\t\\tcollapsedNodesDefault\\t\\t\\t: '',\\n\\t\\tnodeGridCollapseEnabled\\t\\t\\t: parseInt('0'),\\t\\t\\t\\n\\t\\twidthToggleUpper\\t\\t\\t: '100%',\\n\\t\\twidthToggleLower\\t\\t\\t: '1170px',\\n\\t\\t\\n\\t\\t\\ttoggleWidthEnabled\\t\\t: parseInt('0'),\\n\\t\\t\\n\\t\\ttoggleWidthBreakpoint\\t\\t\\t: parseInt('1202'),\\n\\t\\tcollapsibleNodes\\t\\t\\t: parseInt('1'),\\n\\t\\tcollapsibleSticky\\t\\t\\t: parseInt('0'),\\n\\t\\tajaxWidthToggleLink\\t\\t\\t: 'uix/toggle-width',\\n\\t\\tajaxStickyThreadToggleLink\\t\\t: 'uix/toggle-sticky-threads',\\n\\t\\tajaxStickyThreadExpandLink\\t\\t: 'uix/expand-sticky-threads',\\n\\t\\tajaxStickyThreadCollapseLink\\t\\t: 'uix/collapse-sticky-threads',\\n\\t\\tajaxSidebarToggleLink\\t\\t\\t: 'uix/toggle-sidebar',\\n\\n\\t\\tstickySidebarDelayInit\\t\\t\\t: parseInt('1'),\\n\\t\\tstickySidebarLegacy\\t\\t\\t: parseInt('0'),\\n\\t\\tstickySidebarDisableIOS\\t\\t\\t: parseInt('1'),\\n\\n\\t\\tuser\\t\\t\\t\\t\\t: {\\n\\t\\t\\t\\t\\t\\t\\t\\t'themeName'\\t\\t: 'BeerAdvocate (New)',\\n\\t\\t\\t\\t\\t\\t\\t\\t'-themeParents'\\t\\t: '7,6,4,0',\\n\\t\\t\\t\\t\\t\\t\\t\\t'-themeModified'\\t: '1480955132',\\n\\t\\t\\t\\t\\t\\t\\t\\t'-themeSelectable'\\t: '1',\\n\\t\\t\\t\\t\\t\\t\\t\\tlanguageName\\t\\t: 'English (US)',\\n\\t\\t\\t\\t\\t\\t\\t\\tstickyEnableUserbar\\t: (parseInt('') == parseInt('')) ? parseInt('') : true,\\n\\t\\t\\t\\t\\t\\t\\t\\tstickyEnableNav\\t\\t: (parseInt('') == parseInt('')) ? parseInt('') : true,\\n\\t\\t\\t\\t\\t\\t\\t\\tstickyEnableSidebar\\t: (parseInt('') == parseInt('')) ? parseInt('') : true,\\n\\t\\t\\t\\t\\t\\t\\t\\twidthToggleState\\t: (parseInt('') == parseInt('')) ? parseInt('') : parseInt('0'),\\n\\t\\t\\t\\t\\t\\t\\t\\tstickyThreadsState\\t: (parseInt('') == parseInt('')) ? (parseInt('') > 0) : 0,\\n\\t\\t\\t\\t\\t\\t\\t\\t\\n\\t\\t\\t\\t\\t\\t\\t\\t\\tsidebarState\\t: 0,\\n\\t\\t\\t\\t\\t\\t\\t\\t\\n\\t\\t\\t\\t\\t\\t\\t\\t\\n\\t\\t\\t\\t\\t\\t\\t\\t\\tcollapseUserInfo : 1,\\n\\t\\t\\t\\t\\t\\t\\t\\t\\n\\t\\t\\t\\t\\t\\t\\t\\t\\n\\t\\t\\t\\t\\t\\t\\t\\t\\tsignatureHiding : 1,\\n\\t\\t\\t\\t\\t\\t\\t\\t\\n\\t\\t\\t\\t\\t\\t\\t\\tisAdmin\\t\\t\\t: parseInt('0\"')\\n\\t\\t\\t\\t\\t\\t\\t}\\n\\t};\\n\\n\\tif(uix.stickyNavigationMaxWidth == 0){uix.stickyNavigationMaxWidth = 999999}\\n\\tif(uix.stickyNavigationMaxHeight == 0){uix.stickyNavigationMaxHeight = 999999}\\n\\tif(uix.stickyNavigationPortraitMaxWidth == 0){uix.stickyNavigationPortraitMaxWidth = 999999}\\n\\tif(uix.stickyNavigationPortraitMaxHeight == 0){uix.stickyNavigationPortraitMaxHeight = 999999}\\n\\n\\t\\n\\t\\tuix.stickyItems['#navigation'] = {normalHeight:parseInt('40'), stickyHeight:parseInt('40')}\\n\\n\\t\\tvar subElement = null;\\n\\t\\t\\n\\t\\t\\tuix.stickyItems['#navigation'].options = {scrollSticky: uix.stickyGlobalScrollUp }\\n\\t\\t\\n\\n\\t\\n\\n\\t\\n\\t$(document).ready(function() {\\n\\t\\tif ( $('#userBar').length ) {\\n\\t\\t\\tuix.stickyItems['#userBar']= {normalHeight:parseInt('40'), stickyHeight:parseInt('40')}\\n\\n\\t\\t\\tuix.stickyItems['#userBar'].options = {scrollSticky: uix.stickyGlobalScrollUp }\\n\\t\\t}\\n\\t});\\n\\t\\n\\n\\t$(document).ready(function(){\\n\\n\\t//put jquery code here\\n\\n\\n});\\n\\n\\tuix.debug = function() {\\n\\t\\tresult = \"\\\\n\\\\n############============   Begin Copying Here   ============############\\\\n\\\\n\";\\n\\t\\tresult += \"Error: the functions file was not found.\";\\n\\t\\tresult += \"\\\\n\\\\n############============   End Copying Here   ============############\\\\n\\\\n\";\\n\\n\\t\\tuix.fixJsVisibility();\\n\\n\\t\\tconsole.log(result);\\n\\t}\\n\\n</script>\\n<script src=\"js/audentio/uix_style/functions.min.js?_v=4e9ddafa_1.5.8.1_custom_1\"></script>\\n<script>\\n\\tuix.adminJsError = function(errMsg) {\\n\\t\\tconsole.error(errMsg);\\n\\n\\t\\t\\n\\t}\\n\\n\\tuix.fixJsVisibility = function() {\\n\\t\\tvar userBar = $('.hasJs #userBar');\\n\\t\\tvar nodeList = $('.hasJs #forums, .hasJs .category_view .nodeList, .hasJs .watch_forums .nodeList');\\n\\t\\tvar panels = $('.js-uix_panels')\\n\\t\\tif (userBar.length) userBar.css('display', 'block');\\n\\t\\tif (nodeList.length) nodeList.css('visibility', 'visible');\\n\\t\\tif (panels.length) $('.js-uix_panels').removeClass('needsInit');\\n\\t\\t$('html').removeClass('uix_javascriptNeedsInit');\\n\\t}\\n\\n\\tuix.catchJsError = function(err) {\\n\\t\\tconsole.log(\"\\\\n\\\\n############============   Begin Copying Here   ============############\\\\n\\\\n\")\\n\\t\\tvar errMsg = \"Uh Oh!  It looks like there's an error in your page's javascript.  There will likely be significant issues with the use of the forum until this is corrected.  If you are unable to resolve this and believe it is due to a bug in your Audentio Design theme, contact Audentio support and include a copy of the text between the designated areas from your javascript console.  This is the error: \\\\n\\\\n\" + err ;\\n\\t\\tuix.fixJsVisibility();\\n\\t\\tuix.adminJsError(errMsg);\\n\\t\\tconsole.log(\"\\\\n\\\\n\");\\n\\t\\tconsole.log(err);\\n\\t\\tconsole.log(\"\\\\n\\\\n\");\\n\\t\\ttry {\\n\\t\\t\\tuix.debug(true);\\n\\t\\t} catch (err) {\\n\\t\\t\\tconsole.log(\"Unable to include uix.debug();\");\\n\\t\\t}\\n\\n\\t\\tconsole.log(\"\\\\n\\\\n############============   End Copying Here   ============############\\\\n\\\\n\");\\n\\t}\\n\\n\\t$(document).ready(function(){\\n\\t\\tif (typeof(audentio) === 'undefined' || typeof(uix.jsVersion) === 'undefined') {\\n\\t\\t\\tvar errMsg = 'Uh Oh!  It looks like the javascript for your theme was not found in /js/audentio/uix_style/.\\\\n\\\\n';\\n\\t\\t\\tif (uix.jsGlobal) {\\n\\t\\t\\t\\terrMsg += 'Your forum is set to use the same javascript directory for all your themes.  Consider disabling this or modifying the directory.  Options are located under Options > [UI.X] General.\\\\n\\\\n'\\n\\t\\t\\t} else {\\n\\t\\t\\t\\terrMsg += 'Your theme has set the location of its javascript directory.  You may need to modify the javascript directory location style property located under [UI.X] Global Settings > Javascript Path.\\\\n\\\\n'\\n\\t\\t\\t}\\n\\t\\t\\terrMsg += 'If your files are in the directory specified, ensure that your file permissions allow them to be read.  There will likely be significant issues with the use of the forum until this is corrected.  If you are unable to resolve this, contact Audentio support.  This error has also been logged to the javascript console.';\\n\\n\\t\\t\\tuix.fixJsVisibility();\\n\\n\\t\\t\\tuix.adminJsError(errMsg);\\n\\t\\t} else if (uix.jsHeadVersion.split('_')[0] != uix.jsVersion.split('_')[0]) {\\n\\t\\t\\tvar errMsg = 'Uh Oh! It looks like the version of your javascript functions file does not match the version of your page_container_js_head template.  \\\\n\\\\nYour javascript functions file is version \"' + uix.jsVersion + '\". \\\\nYour page_container_js_head is version \"' + uix.jsHeadVersion + '\".  \\\\n\\\\nIf your functions file version number is higher, ensure that you have merged all templates (especially page_container_js_head).  If your page_container_js_head version number is higher, ensure that you have correctly uploaded the latest version of the javascript functions file and that you have cleared anything that could cache an old version of the javascript (CDN / Cloudflare / etc.). \\\\n\\\\nThis issue could cause parts of your forum to not display or function correctly.  If this does not resolve the issue contact Audentio support.  This error has also been logged to the javascript console.';\\n\\t\\t\\t\\n\\t\\t\\tuix.fixJsVisibility();\\n\\t\\t\\t\\n\\t\\t\\tuix.adminJsError(errMsg);\\n\\t\\t}\\n\\t});\\n</script>\\n<script>\\n\\ttry {\\n\\t\\tuix.dateHelper.phrase = {\\n\\t\\t\\tnow: 'now',\\n\\t\\t\\tsecond: 's',\\n\\t\\t\\tminute: 'm',\\n\\t\\t\\thour: 'h',\\n\\t\\t\\tday: 'd',\\n\\t\\t\\tweek: 'w',\\n\\t\\t\\tyear: 'y',\\n\\t\\t\\tcentury: 'c',\\n\\t\\t\\tago: '{time} ago',\\n\\t\\t\\tfuture: 'in {time}'\\n\\t\\t}\\n\\n\\n\\t\\tuix.sticky.stickyMinDist = parseInt('50');\\n\\n\\t\\t$(document).ready(function(){\\n\\t\\t\\ttry {\\n\\t\\t\\t\\t\\n\\t\\t\\t\\t\\taudentio.grid.parse('{\"default\":{\"maximum_columns\":{\"value\":\"6\"},\"minimum_column_width\":{\"value\":\"330\"},\"fill_last_row\":{\"value\":\"0\"},\"column_widths\":{\"value\":\"0\"},\"custom_column_widths\":{\"count\":\"\",\"layouts\":{\"1\":{\"1\":\"\"},\"2\":{\"1\":\"\",\"2\":\"\"},\"3\":{\"1\":\"\",\"2\":\"\",\"3\":\"\"},\"4\":{\"1\":\"\",\"2\":\"\",\"3\":\"\",\"4\":\"\"},\"5\":{\"1\":\"\",\"2\":\"\",\"3\":\"\",\"4\":\"\",\"5\":\"\"},\"6\":{\"1\":\"\",\"2\":\"\",\"3\":\"\",\"4\":\"\",\"5\":\"\",\"6\":\"\"}}},\"separator\":true,\"separator_type\":\"grid\",\"separator_max_width\":0},\"category\":{\"maximum_columns\":{\"value\":\"1\"},\"minimum_column_width\":{\"value\":\"\"},\"fill_last_row\":{\"value\":\"0\"},\"column_widths\":{\"value\":\"0\"},\"custom_column_widths\":{\"count\":\"\",\"layouts\":{\"1\":{\"1\":\"\"}}},\"separator\":true,\"separator_type\":\"grid\",\"separator_max_width\":0}}');\\n\\t\\t\\t\\t\\t\\n\\naudentio.grid.addSizeListener('global', 'audentio_grid_xs', 200, 0);\\naudentio.grid.addSizeListener('global', 'audentio_grid_sm', 300, 0);\\naudentio.grid.addSizeListener('global', 'audentio_grid_md', 400, 0);\\naudentio.grid.addSizeListener('global', 'audentio_grid_lg', 600, 0);\\naudentio.grid.addSizeListener('global', 'audentio_grid_xl', 10000, 0);\\n\\naudentio.grid.addSizeListener('global', 'below-xs', 200, 0);\\naudentio.grid.addSizeListener('global', 'below-sm', 300, 0);\\naudentio.grid.addSizeListener('global', 'below-md', 400, 0);\\naudentio.grid.addSizeListener('global', 'below-lg', 600, 0);\\naudentio.grid.addSizeListener('global', 'below-xl', 10000, 0);\\n\\naudentio.grid.addSizeListener('global', 'above-xs', 99999, 201);\\naudentio.grid.addSizeListener('global', 'above-sm', 99999, 301);\\naudentio.grid.addSizeListener('global', 'above-md', 99999, 401);\\naudentio.grid.addSizeListener('global', 'above-lg', 99999, 601);\\naudentio.grid.addSizeListener('global', 'above-xl', 99999, 10001);\\n\\naudentio.grid.addSizeListener('global', 'node--xs', 300, 0);\\naudentio.grid.addSizeListener('global', 'node--sm', 400, 301);\\naudentio.grid.addSizeListener('global', 'node--md', 600, 401);\\naudentio.grid.addSizeListener('global', 'node--lg', 10000, 601);\\naudentio.grid.addSizeListener('global', 'node--xl', 99999, 10001);\\n\\t\\t\\t\\t\\n\\t\\t\\t\\t\\n\\t\\t\\t\\t\\taudentio.pagination.enabled = true;\\n\\t\\t\\t\\t\\t\\n\\t\\t\\t\\t\\t\\taudentio.grid.parentEle = 'navigation';\\n\\t\\t\\t\\t\\t\\n\\t\\t\\t\\t\\taudentio.pagination.outOfPhrase = '<span id=\"audentio_postPaginationCurrent\" class=\"uix_postPagination_x\"></span> / <span id=\"audentio_postPaginationTotal\" class=\"uix_postPagination_y\"></span>';\\n\\t\\t\\t\\t\\taudentio.pagination.enterIndexPhrase = 'Enter Index';\\n\\t\\t\\t\\t\\taudentio.pagination.offset = parseInt('0px');\\n\\t\\t\\t\\t\\n\\n\\t\\t\\t\\tuix.initFunc();\\n\\t\\t\\t} catch (err) {\\n\\t\\t\\t\\tuix.catchJsError(err);\\n\\t\\t\\t}\\n\\t\\t});\\n\\t} catch (err) {\\n\\t\\tuix.catchJsError(err);\\n\\t}\\n</script>\\n<link href=\"https://www.beeradvocate.com/favicon.ico\" rel=\"icon\" type=\"image/x-icon\"/>\\n<link href=\"https://cdn.beeradvocate.com/im/beeradvocate-logo-ref.png\" rel=\"apple-touch-icon\"/>\\n<link href=\"forums/-/index.rss\" rel=\"alternate\" title=\"RSS feed for BeerAdvocate\" type=\"application/rss+xml\"/>\\n<link href=\"https://cdn.beeradvocate.com/css/common.css\" rel=\"stylesheet\" type=\"text/css\"/>\\n<link href=\"/favicon.ico\" rel=\"shortcut icon\" type=\"image/x-icon\"/>\\n<meta content=\"text/html; charset=unicode-escape\" http-equiv=\"content-type\"/>\\n<meta content=\"EN\" http-equiv=\"content-language\"/>\\n<meta content=\"21st Amendment IPA is a American IPA style beer brewed by 21st Amendment Brewery in San Francisco, CA. 86 out of 100 with 828 reviews, ratings and opinions.\" name=\"description\"/>\\n<meta content=\"21st Amendment IPA, American IPA, 21st Amendment Brewery, San Francisco, CA\" name=\"keywords\"/>\\n<meta content=\"index,follow\" name=\"robots\"/>\\n<meta content=\"Copyright \\xa9 BeerAdvocate\\xae. All rights reserved.\" name=\"copyright\"/>\\n<meta content=\"BeerAdvocate\" property=\"og:site_name\"/>\\n<meta content=\"website\" property=\"og:type\"/>\\n<meta content=\"21st Amendment IPA | 21st Amendment Brewery | Page 35\" property=\"og:title\"/>\\n<meta content=\"https://www.beeradvocate.com/beer/profile/735/20781/\" property=\"og:url\"/>\\n<meta content=\"https://cdn.beeradvocate.com/im/beeradvocate-logo-ref.png\" property=\"og:image\"/>\\n<meta content=\"21st Amendment IPA is a American IPA style beer brewed by 21st Amendment Brewery in San Francisco, CA. 86 out of 100 with 828 reviews, ratings and opinions.\" property=\"og:description\"/>\\n<meta content=\"604347192984215\" property=\"fb:app_id\"/>\\n<meta content=\"1015011395,606485263\" property=\"fb:admins\"/>\\n<meta content=\"summary_large_image\" name=\"twitter:card\"/>\\n<meta content=\"@BeerAdvocate\" name=\"twitter:site\"/>\\n<meta content=\"21st Amendment IPA | 21st Amendment Brewery | Page 35\" name=\"twitter:title\"/>\\n<meta content=\"21st Amendment IPA is a American IPA style beer brewed by 21st Amendment Brewery in San Francisco, CA. 86 out of 100 with 828 reviews, ratings and opinions.\" name=\"twitter:description\"/>\\n<meta content=\"https://cdn.beeradvocate.com/im/beeradvocate-logo-ref.png\" name=\"twitter:image\"/>\\n<meta content=\"@BeerAdvocate\" name=\"twitter:creator\"/>\\n<meta content=\"rgb(0, 0, 0)\" name=\"theme-color\">\\n<meta content=\"rgb(0, 0, 0)\" name=\"msapplication-TileColor\">\\n</meta></meta></link></link></head>\\n<body>\\n<div id=\"loginBar\">\\n<div class=\"pageContent\">\\n<span class=\"helper\"></span>\\n</div>\\n<div class=\"pageWidth\">\\n</div>\\n</div>\\n<div class=\"js-uix_panels uix_panels \">\\n<aside class=\"js-sidePanelWrapper sidePanelWrapper sidePanelWrapper--left\">\\n<a class=\"js-panelMask uix_panelMask\" href=\"#\"></a>\\n<div class=\"sidePanel sidePanel--nav\">\\n<nav>\\n<ul class=\"sidePanel__navTabs\">\\n<!-- home -->\\n<!-- extra tabs: home -->\\n<li class=\"navTab Home \">\\n<a class=\"navLink\" href=\"/\">Home</a>\\n<a class=\"SplitCtrl\" href=\"/\"><i class=\"uix_icon js-offcanvasIcon uix_icon-expandDropdown\"></i></a>\\n<div class=\"tabLinks\">\\n<ul class=\"secondaryContent blockLinksList\">\\n<li><a href=\"/about/\">About</a></li>\\n<li><a href=\"/contact/\">Contact</a></li>\\n<li><a href=\"/community/forums/help.32/\">Help</a></li>\\n<li><a href=\"/advertise/\">Advertise</a></li>\\n</ul>\\n</div>\\n</li>\\n<li class=\"navTab Magazine \">\\n<a class=\"navLink\" href=\"/mag/\">Magazine</a>\\n<a class=\"SplitCtrl\" href=\"/mag/\"><i class=\"uix_icon js-offcanvasIcon uix_icon-expandDropdown\"></i></a>\\n<div class=\"tabLinks\">\\n<ul class=\"secondaryContent blockLinksList\">\\n<li><a href=\"/mag/category/magazine/culture/\">Culture</a></li>\\n<li><a href=\"/mag/category/magazine/food-drink/\">Food &amp; Drink</a></li>\\n<li><a href=\"/mag/category/magazine/news/\">News</a></li>\\n<li><a href=\"/mag/category/magazine/opinion/\">Opinion</a></li>\\n<li><a href=\"/mag/category/magazine/people-places/\">People &amp; Places</a></li>\\n<li><a href=\"/mag/category/magazine/science-technology/\">Science &amp; Technology</a></li>\\n<li><a href=\"/mag/category/magazine/travel/\">Travel</a></li>\\n<hr style=\"height:1px;border-width:0;margin:5px;color:#999;background-color:#999;\"/>\\n<li><a href=\"/advertise/\">Advertise</a></li>\\n<li><a href=\"/mag/archive/\">Archive</a></li>\\n<li><a href=\"/mag/subscribe/\">Subscribe</a></li>\\n</ul>\\n</div>\\n</li>\\n<!-- forums -->\\n<li class=\"navTab forums \">\\n<a class=\"navLink\" href=\"https://www.beeradvocate.com/community/\">Forums</a>\\n<a class=\"SplitCtrl\" href=\"https://www.beeradvocate.com/community/\"><i class=\"uix_icon js-offcanvasIcon uix_icon-expandDropdown\"></i></a>\\n<div class=\"tabLinks\">\\n<ul class=\"blockLinksList\">\\n<li><a href=\"search/?type=post\">Search Forums</a></li>\\n<li><a href=\"find-new/posts\" rel=\"nofollow\">Recent Posts</a></li>\\n</ul>\\n</div>\\n</li>\\n<!-- extra tabs: middle -->\\n<li class=\"navTab Beers selected\">\\n<a class=\"navLink\" href=\"/beer/\">Beers</a>\\n<a class=\"SplitCtrl\" href=\"/beer/\"><i class=\"uix_icon js-offcanvasIcon uix_icon-expandDropdown\"></i></a>\\n<div class=\"tabLinks\">\\n<ul class=\"secondaryContent blockLinksList\">\\n<li><a href=\"/user/beers/\">Your Beers</a></li>\\n<li><a href=\"/forms/add-beer/\">Add a Beer</a></li>\\n<li><a href=\"/beer/\">Recent Reviews</a></li>\\n<li><a href=\"/lists/top/\">Top Beers</a></li>\\n<li><a href=\"/beer/style/\">Beer Styles</a></li>\\n<li><a href=\"/beer/101/\">Beer 101</a></li>\\n<li><a href=\"/respect-beer/\">Respect Beer</a></li>\\n</ul>\\n</div>\\n</li>\\n<li class=\"navTab Places \">\\n<a class=\"navLink\" href=\"/place/\">Places</a>\\n<a class=\"SplitCtrl\" href=\"/place/\"><i class=\"uix_icon js-offcanvasIcon uix_icon-expandDropdown\"></i></a>\\n<div class=\"tabLinks\">\\n<ul class=\"secondaryContent blockLinksList\">\\n<li><a href=\"/user/places/\">Your Places</a></li>\\n<li><a href=\"/forms/add-place/\">Add a Place</a></li>\\n<li><a href=\"/place/reviews/\">Recent Reviews</a></li>\\n<li><a href=\"/place/directory/\">Directory</a></li>\\n<li><a href=\"/place/nearby/\">Nearby</a></li>\\n</ul>\\n</div>\\n</li>\\n<li class=\"navTab Events \">\\n<a class=\"navLink\" href=\"/events/calendar/\">Events</a>\\n<a class=\"SplitCtrl\" href=\"/events/calendar/\"><i class=\"uix_icon js-offcanvasIcon uix_icon-expandDropdown\"></i></a>\\n<div class=\"tabLinks\">\\n<ul class=\"secondaryContent blockLinksList\">\\n<li><a href=\"/user/events/\">Your Events</a></li>\\n<li><a href=\"/forms/add-event/\">Add an Event</a></li>\\n<hr style=\"height:1px;border-width:0;margin:5px;color:#999;background-color:#999;\"/>\\n<li><a href=\"/events/\">BeerAdvocate Events</a></li>\\n<li><a href=\"/extreme/\">Extreme Beer Fest\\xae: Boston</a></li>\\n<li><a href=\"/community/threads/extreme-beer-fest-cometh-to-los-angeles-in-2017.457996/\">Extreme Beer Fest\\xae: Los Angeles</a></li>\\n<li><a href=\"/micro/\">Microbrew Invitational</a></li>\\n<li><a href=\"/belgian/\">Belgian Beer Fest</a></li>\\n<li><a href=\"/mass/\">Mass Beer Week</a></li>\\n</ul>\\n</div>\\n</li>\\n<li class=\"navTab Trading \">\\n<a class=\"navLink\" href=\"/trading/\">Trading</a>\\n<a class=\"SplitCtrl\" href=\"/trading/\"><i class=\"uix_icon js-offcanvasIcon uix_icon-expandDropdown\"></i></a>\\n<div class=\"tabLinks\">\\n<ul class=\"secondaryContent blockLinksList\">\\n<li><a href=\"/user/trades/\">Your Trades</a></li>\\n<li><a href=\"/community/#beer-trading.81\">Forums</a></li>\\n<li><a href=\"/community/forums/help.32/?prefix_id=69\">Help</a></li>\\n</ul>\\n</div>\\n</li>\\n<li class=\"navTab Subscribe \">\\n<a class=\"navLink\" href=\"/mag/subscribe/\">Subscribe</a>\\n<a class=\"SplitCtrl\" href=\"/mag/subscribe/\"><i class=\"uix_icon js-offcanvasIcon uix_icon-expandDropdown\"></i></a>\\n<div class=\"tabLinks\">\\n<ul class=\"secondaryContent blockLinksList\">\\n<li><a href=\"/mag-help/manage/\">Your Subscriptions</a></li>\\n<li><a href=\"https://store.beeradvocate.com/products/subscribe-beeradvocate-magazine\" target=\"_blank\">Subscribe</a></li>\\n<li><a href=\"https://store.beeradvocate.com/products/renew-beeradvocate-magazine\" target=\"_blank\">Renew</a></li>\\n<li><a href=\"/community/threads/faq-beeradvocate-magazine.234551/\">FAQ</a></li>\\n<li><a href=\"https://store.beeradvocate.com/collections/beeradvocate-magazine/issues\" target=\"_blank\">Back Issues</a></li>\\n</ul>\\n</div>\\n</li>\\n<li class=\"navTab Store \">\\n<a class=\"navLink\" href=\"https://store.beeradvocate.com\">Store</a>\\n</li>\\n<!-- extra tabs: end -->\\n</ul>\\n</nav>\\n</div>\\n</aside>\\n<aside class=\"js-sidePanelWrapper sidePanelWrapper sidePanelWrapper--right\">\\n<a class=\"js-panelMask uix_panelMask\" href=\"#\"></a>\\n<div class=\"sidePanel sidePanel--login\">\\n<form action=\"login/login\" class=\"xenForm--uixLoginForm xenForm\" method=\"post\">\\n<dl class=\"ctrlUnit fullWidth\">\\n<dt><label for=\"ctrl_pageLogin_login\">Your name or email address:</label></dt>\\n<dd><input class=\"textCtrl uix_fixIOSClickInput\" id=\"ctrl_pageLogin_login\" name=\"login\" tabindex=\"21\" type=\"text\" value=\"\"/></dd>\\n</dl>\\n<dl class=\"ctrlUnit fullWidth\">\\n<dt><label for=\"ctrl_pageLogin_password\">Password:</label></dt>\\n<dd>\\n<input class=\"textCtrl uix_fixIOSClickInput\" id=\"ctrl_pageLogin_password\" name=\"password\" tabindex=\"22\" type=\"password\"/>\\n<div><a class=\"OverlayTrigger OverlayCloser\" href=\"lost-password/\" tabindex=\"26\">Forgot your password?</a></div>\\n</dd>\\n</dl>\\n<dl class=\"ctrlUnit submitUnit\">\\n<dd>\\n<input class=\"button primary\" data-loginphrase=\"Log in\" data-signupphrase=\"Sign up\" tabindex=\"24\" type=\"submit\" value=\"Log in\"/>\\n<label class=\"rememberPassword\"><input id=\"ctrl_pageLogin_remember\" name=\"remember\" tabindex=\"23\" type=\"checkbox\" value=\"1\"/> Stay logged in</label>\\n</dd>\\n</dl>\\n<input name=\"cookie_check\" type=\"hidden\" value=\"1\"/>\\n<input name=\"_xfToken\" type=\"hidden\" value=\"\"/>\\n<input name=\"redirect\" type=\"hidden\" value=\"/beer/profile/735/20781/?view=beer&amp;sort=&amp;start=850\"/>\\n</form>\\n</div>\\n</aside>\\n<div class=\"mainPanelWrapper\">\\n<a class=\"js-panelMask uix_panelMask\" href=\"#\"></a>\\n<div class=\"uix_wrapperFix\" style=\"height: 1px; margin-bottom: -1px;\"></div>\\n<div id=\"uix_wrapper\">\\n<div class=\"uix_wrapperFix\" style=\"height: 1px; margin-bottom: -1px;\"></div>\\n<div id=\"headerMover\">\\n<div id=\"headerProxy\"></div>\\n<header>\\n<div id=\"header\">\\n<div class=\"header__blockItem \" id=\"logoBlock\">\\n<div class=\"pageWidth\">\\n<div class=\"pageContent\">\\n<div id=\"logo\"><a href=\"https://www.beeradvocate.com\">\\n<span></span>\\n<img alt=\"BeerAdvocate\" src=\"https://cdn.beeradvocate.com/im/beeradvocate-nav-logo.png\"/>\\n<div class=\"uix_slogan\">Respect Beer.</div>\\n</a></div>\\n<span class=\"helper\"></span>\\n</div>\\n</div>\\n</div>\\n<div class=\"header__blockItem stickyTop\" id=\"navigation\">\\n<div class=\"sticky_wrapper\">\\n<div class=\"uix_navigationWrapper\">\\n<div class=\"pageWidth\">\\n<div class=\"pageContent\">\\n<nav>\\n<div class=\"navTabs\">\\n<ul class=\"publicTabs navLeft\">\\n<li id=\"logo_small\">\\n<a href=\"https://www.beeradvocate.com\">\\n<img src=\"https://cdn.beeradvocate.com/im/beeradvocate-nav-brandmark.png\">\\n</img></a>\\n</li>\\n<li class=\"navTab navTab--panelTrigger navTab--navPanelTrigger PopupClosed\">\\n<a class=\"navLink js-leftPanelTrigger\" href=\"#\">\\n<i class=\"uix_icon uix_icon-menu\"></i><span class=\"trigger__phrase\">Menu</span>\\n</a>\\n</li>\\n<!-- home -->\\n<!-- extra tabs: home -->\\n<li class=\"navTab Home Popup PopupControl PopupClosed\">\\n<a class=\"navLink NoPopupGadget\" href=\"/\" rel=\"Menu\">Home</a>\\n<a class=\"SplitCtrl\" href=\"/\" rel=\"Menu\"></a>\\n<div class=\"Menu JsOnly tabMenu HomeTabLinks\">\\n<ul class=\"secondaryContent blockLinksList\">\\n<li><a href=\"/about/\">About</a></li>\\n<li><a href=\"/contact/\">Contact</a></li>\\n<li><a href=\"/community/forums/help.32/\">Help</a></li>\\n<li><a href=\"/advertise/\">Advertise</a></li>\\n</ul>\\n</div>\\n</li>\\n<li class=\"navTab Magazine Popup PopupControl PopupClosed\">\\n<a class=\"navLink NoPopupGadget\" href=\"/mag/\" rel=\"Menu\">Magazine</a>\\n<a class=\"SplitCtrl\" href=\"/mag/\" rel=\"Menu\"></a>\\n<div class=\"Menu JsOnly tabMenu MagazineTabLinks\">\\n<ul class=\"secondaryContent blockLinksList\">\\n<li><a href=\"/mag/category/magazine/culture/\">Culture</a></li>\\n<li><a href=\"/mag/category/magazine/food-drink/\">Food &amp; Drink</a></li>\\n<li><a href=\"/mag/category/magazine/news/\">News</a></li>\\n<li><a href=\"/mag/category/magazine/opinion/\">Opinion</a></li>\\n<li><a href=\"/mag/category/magazine/people-places/\">People &amp; Places</a></li>\\n<li><a href=\"/mag/category/magazine/science-technology/\">Science &amp; Technology</a></li>\\n<li><a href=\"/mag/category/magazine/travel/\">Travel</a></li>\\n<hr style=\"height:1px;border-width:0;margin:5px;color:#999;background-color:#999;\"/>\\n<li><a href=\"/advertise/\">Advertise</a></li>\\n<li><a href=\"/mag/archive/\">Archive</a></li>\\n<li><a href=\"/mag/subscribe/\">Subscribe</a></li>\\n</ul>\\n</div>\\n</li>\\n<!-- forums -->\\n<li class=\"navTab forums Popup PopupControl PopupClosed\">\\n<a class=\"navLink NoPopupGadget\" href=\"https://www.beeradvocate.com/community/\" rel=\"Menu\">Forums</a>\\n<a class=\"SplitCtrl\" href=\"https://www.beeradvocate.com/community/\" rel=\"Menu\"></a>\\n<div class=\"Menu JsOnly tabMenu forumsTabLinks\">\\n<ul class=\"secondaryContent blockLinksList\">\\n<li><a href=\"search/?type=post\">Search Forums</a></li>\\n<li><a href=\"find-new/posts\" rel=\"nofollow\">Recent Posts</a></li>\\n</ul>\\n</div>\\n</li>\\n<!-- extra tabs: middle -->\\n<li class=\"navTab Beers selected Popup PopupControl PopupClosed\">\\n<a class=\"navLink NoPopupGadget\" href=\"/beer/\" rel=\"Menu\">Beers</a>\\n<a class=\"SplitCtrl\" href=\"/beer/\" rel=\"Menu\"></a>\\n<div class=\"Menu JsOnly tabMenu BeersTabLinks\">\\n<ul class=\"secondaryContent blockLinksList\">\\n<li><a href=\"/user/beers/\">Your Beers</a></li>\\n<li><a href=\"/forms/add-beer/\">Add a Beer</a></li>\\n<li><a href=\"/beer/\">Recent Reviews</a></li>\\n<li><a href=\"/lists/top/\">Top Beers</a></li>\\n<li><a href=\"/beer/style/\">Beer Styles</a></li>\\n<li><a href=\"/beer/101/\">Beer 101</a></li>\\n<li><a href=\"/respect-beer/\">Respect Beer</a></li>\\n</ul>\\n</div>\\n</li>\\n<li class=\"navTab Places Popup PopupControl PopupClosed\">\\n<a class=\"navLink NoPopupGadget\" href=\"/place/\" rel=\"Menu\">Places</a>\\n<a class=\"SplitCtrl\" href=\"/place/\" rel=\"Menu\"></a>\\n<div class=\"Menu JsOnly tabMenu PlacesTabLinks\">\\n<ul class=\"secondaryContent blockLinksList\">\\n<li><a href=\"/user/places/\">Your Places</a></li>\\n<li><a href=\"/forms/add-place/\">Add a Place</a></li>\\n<li><a href=\"/place/reviews/\">Recent Reviews</a></li>\\n<li><a href=\"/place/directory/\">Directory</a></li>\\n<li><a href=\"/place/nearby/\">Nearby</a></li>\\n</ul>\\n</div>\\n</li>\\n<li class=\"navTab Events Popup PopupControl PopupClosed\">\\n<a class=\"navLink NoPopupGadget\" href=\"/events/calendar/\" rel=\"Menu\">Events</a>\\n<a class=\"SplitCtrl\" href=\"/events/calendar/\" rel=\"Menu\"></a>\\n<div class=\"Menu JsOnly tabMenu EventsTabLinks\">\\n<ul class=\"secondaryContent blockLinksList\">\\n<li><a href=\"/user/events/\">Your Events</a></li>\\n<li><a href=\"/forms/add-event/\">Add an Event</a></li>\\n<hr style=\"height:1px;border-width:0;margin:5px;color:#999;background-color:#999;\"/>\\n<li><a href=\"/events/\">BeerAdvocate Events</a></li>\\n<li><a href=\"/extreme/\">Extreme Beer Fest\\xae: Boston</a></li>\\n<li><a href=\"/community/threads/extreme-beer-fest-cometh-to-los-angeles-in-2017.457996/\">Extreme Beer Fest\\xae: Los Angeles</a></li>\\n<li><a href=\"/micro/\">Microbrew Invitational</a></li>\\n<li><a href=\"/belgian/\">Belgian Beer Fest</a></li>\\n<li><a href=\"/mass/\">Mass Beer Week</a></li>\\n</ul>\\n</div>\\n</li>\\n<li class=\"navTab Trading Popup PopupControl PopupClosed\">\\n<a class=\"navLink NoPopupGadget\" href=\"/trading/\" rel=\"Menu\">Trading</a>\\n<a class=\"SplitCtrl\" href=\"/trading/\" rel=\"Menu\"></a>\\n<div class=\"Menu JsOnly tabMenu TradingTabLinks\">\\n<ul class=\"secondaryContent blockLinksList\">\\n<li><a href=\"/user/trades/\">Your Trades</a></li>\\n<li><a href=\"/community/#beer-trading.81\">Forums</a></li>\\n<li><a href=\"/community/forums/help.32/?prefix_id=69\">Help</a></li>\\n</ul>\\n</div>\\n</li>\\n<li class=\"navTab Subscribe Popup PopupControl PopupClosed\">\\n<a class=\"navLink NoPopupGadget\" href=\"/mag/subscribe/\" rel=\"Menu\">Subscribe</a>\\n<a class=\"SplitCtrl\" href=\"/mag/subscribe/\" rel=\"Menu\"></a>\\n<div class=\"Menu JsOnly tabMenu SubscribeTabLinks\">\\n<ul class=\"secondaryContent blockLinksList\">\\n<li><a href=\"/mag-help/manage/\">Your Subscriptions</a></li>\\n<li><a href=\"https://store.beeradvocate.com/products/subscribe-beeradvocate-magazine\" target=\"_blank\">Subscribe</a></li>\\n<li><a href=\"https://store.beeradvocate.com/products/renew-beeradvocate-magazine\" target=\"_blank\">Renew</a></li>\\n<li><a href=\"/community/threads/faq-beeradvocate-magazine.234551/\">FAQ</a></li>\\n<li><a href=\"https://store.beeradvocate.com/collections/beeradvocate-magazine/issues\" target=\"_blank\">Back Issues</a></li>\\n</ul>\\n</div>\\n</li>\\n<li class=\"navTab Store PopupClosed\">\\n<a class=\"navLink NoPopupGadget\" href=\"https://store.beeradvocate.com\" rel=\"Menu\">Store</a>\\n</li>\\n<!-- extra tabs: end -->\\n<!-- responsive popup -->\\n<li class=\"navTab navigationHiddenTabs navTab--justIcon Popup PopupControl PopupClosed\" style=\"display:none\">\\n<a class=\"navLink NoPopupGadget uix_dropdownDesktopMenu\" rel=\"Menu\"><i class=\"uix_icon uix_icon-navOverflow\"></i><span class=\"uix_hide menuIcon\">Menu</span></a>\\n<div class=\"Menu JsOnly blockLinksList primaryContent\" id=\"NavigationHiddenMenu\"></div>\\n</li>\\n</ul>\\n</div>\\n<span class=\"helper\"></span>\\n</nav>\\n</div>\\n</div>\\n</div>\\n</div>\\n</div>\\n<div class=\"header__blockItem stickyTop withSearch\" id=\"userBar\">\\n<div class=\"sticky_wrapper\">\\n<div class=\"pageWidth\">\\n<div class=\"pageContent\">\\n<div class=\"navTabs\">\\n<ul class=\"navRight visitorTabs\">\\n<li class=\"navTab login PopupClosed\">\\n<a class=\"navLink uix_dropdownDesktopMenu OverlayTrigger\" data-cacheoverlay=\"false\" href=\"login/\">\\n<i class=\"uix_icon uix_icon-signIn\"></i>\\n<strong class=\"loginText\">Log in</strong>\\n</a>\\n</li>\\n<li class=\"navTab register PopupClosed\">\\n<a class=\"navLink\" href=\"register/\">\\n<i class=\"uix_icon uix_icon-register\"></i>\\n<strong>Sign up</strong>\\n</a>\\n</li>\\n<li class=\"navTab uix_searchTab\">\\n<div class=\"hasSearchButton\" id=\"searchBar\">\\n<i class=\"uix_icon uix_icon-search\" id=\"QuickSearchPlaceholder\" title=\"Search\"></i>\\n<fieldset id=\"QuickSearch\">\\n<form action=\"/search/\" class=\"formPopup\" method=\"get\">\\n<div class=\"primaryControls\">\\n<!-- block: primaryControls -->\\n<i class=\"uix_icon uix_icon-search\" onclick='$(\"#QuickSearch form\").submit()'></i>\\n<input class=\"textCtrl\" id=\"QuickSearchQuery\" name=\"q\" placeholder=\"Search...\" title=\"Enter your search and hit enter\" type=\"search\" value=\"\"/>\\n<!-- end block: primaryControls -->\\n</div>\\n<div class=\"secondaryControls\">\\n<div class=\"controlsWrapper\">\\n<!-- block: secondaryControls -->\\n<dl class=\"ctrlUnit\">\\n<dt></dt>\\n<dd><ul>\\n<li><label><input checked=\"\" class=\"AutoChecker\" id=\"search_bar_title_only\" name=\"qt\" type=\"radio\" value=\"beer\"/> Beer</label></li>\\n<li><label><input class=\"AutoChecker\" id=\"search_bar_title_only\" name=\"qt\" type=\"radio\" value=\"place\"/> Place</label></li>\\n<li><label><input class=\"AutoChecker\" id=\"search_bar_title_only\" name=\"qt\" type=\"radio\" value=\"event\"/> Event</label></li>\\n<li><label><input class=\"AutoChecker\" id=\"search_bar_title_only\" name=\"qt\" type=\"radio\" value=\"forum\"/> Forum</label></li>\\n<li><label><input class=\"AutoChecker\" id=\"search_bar_title_only\" name=\"qt\" type=\"radio\" value=\"mag\"/> Magazine</label></li>\\n</ul></dd>\\n</dl>\\n</div>\\n<!-- end block: secondaryControls -->\\n<dl class=\"ctrlUnit submitUnit\">\\n<dt></dt>\\n<dd>\\n<input class=\"button primary Tooltip\" title=\"Find Now\" type=\"submit\" value=\"Search\"/>\\n</dd>\\n</dl>\\n</div>\\n</form>\\n</fieldset>\\n</div>\\n</li>\\n</ul>\\n<div id=\"uix_searchMinimal\">\\n<form action=\"/search/\" method=\"get\">\\n<i class=\"uix_icon uix_icon-close\" id=\"uix_searchMinimalClose\" title=\"Close\"></i>\\n<i class=\"uix_icon uix_icon-cog\" id=\"uix_searchMinimalOptions\" title=\"Options\"></i>\\n<div id=\"uix_searchMinimalInput\">\\n<input name=\"q\" placeholder=\"Search...\" type=\"search\" value=\"\"/>\\n</div>\\n<input name=\"qt\" type=\"hidden\" value=\"beer\">\\n</input></form>\\n</div>\\n</div>\\n<span class=\"helper\"></span>\\n</div>\\n</div>\\n</div>\\n</div>\\n<script>if (typeof(uix) !== \"undefined\" && typeof(uix.templates) !== \"undefined\") uix.templates.userBar();</script>\\n</div>\\n</header>\\n<div class=\"bridge_page\" id=\"content\">\\n<div class=\"pageWidth\">\\n<div class=\"pageContent\">\\n<!-- main content area -->\\n<div class=\"section funbox\">\\n<div class=\"funboxWrapper\">\\n<script type=\"text/javascript\">\\n    var OX_ads = OX_ads || [];\\n    if($(window).width() >= 728)\\n    {\\n        document.write('<div id=\"8782_leaderboard\" style=\"width:728px;height:90px;margin:0;padding:0\"><noscript><iframe id=\"d4eb9053b1\" name=\"d4eb9053b1\" src=\"//beeradvocate-d.openx.net/w/1.0/afr?auid=8782&cb=14811557850\" frameborder=\"0\" scrolling=\"no\" width=\"728\" height=\"90\"><a href=\"//beeradvocate-d.openx.net/w/1.0/rc?cs=d4eb9053b1&cb=14811557850\" ><img src=\"//beeradvocate-d.openx.net/w/1.0/ai?auid=8782&cs=d4eb9053b1&cb=14811557850\" border=\"0\" alt=\"\"></a></iframe></noscript></div>');\\n        OX_ads.push({\\n          slot_id: \"8782_leaderboard\",\\n          auid: \"8782\"\\n        });\\n    }\\n    else\\n    {\\n        document.write('<div id=\"538514513_leaderboard\" style=\"width:320px;height:100px;margin:0;padding:0\"><noscript><iframe id=\"fe66416cca\" name=\"fe66416cca\" src=\"//beeradvocate-d.openx.net/w/1.0/afr?auid=538514513&cb=14811557850\" frameborder=\"0\" scrolling=\"no\" width=\"320\" height=\"100\"><a href=\"//beeradvocate-d.openx.net/w/1.0/rc?cs=fe66416cca&cb=14811557850\" ><img src=\"//beeradvocate-d.openx.net/w/1.0/ai?auid=538514513&cs=fe66416cca&cb=14811557850\" border=\"0\" alt=\"\"></a></iframe></noscript></div>')\\n        OX_ads.push({\\n           slot_id: \"538514513_leaderboard\",\\n           auid: \"538514513\"\\n        });\\n    }\\n</script>\\n</div>\\n</div>\\n<div class=\"breadBoxTop \">\\n<nav>\\n<fieldset class=\"breadcrumb\">\\n<a class=\"OverlayTrigger jumpMenuTrigger\" data-cacheoverlay=\"true\" href=\"misc/quick-navigation-menu\" title=\"Open quick navigation\"><i class=\"uix_icon uix_icon-sitemap\"></i><!--Jump to...--></a>\\n<div class=\"boardTitle\"><strong>BeerAdvocate</strong></div>\\n<span class=\"crumbs\">\\n<span class=\"crust homeCrumb\" itemscope=\"itemscope\" itemtype=\"http://data-vocabulary.org/Breadcrumb\">\\n<a class=\"crumb\" href=\"/\" itemprop=\"url\" rel=\"up\"><span itemprop=\"title\"><i class=\"uix_icon uix_icon-home\" title=\"Home\"></i></span></a>\\n<span class=\"arrow\"><i class=\"uix_icon uix_icon-breadcrumbSeparator\"></i></span>\\n</span>\\n<span class=\"crust selectedTabCrumb\" itemscope=\"itemscope\" itemtype=\"http://data-vocabulary.org/Breadcrumb\">\\n<a class=\"crumb\" href=\"/beer/\" itemprop=\"url\" rel=\"up\"><span itemprop=\"title\">Beers</span></a>\\n<span class=\"arrow\"><i class=\"uix_icon uix_icon-breadcrumbSeparator\"></i></span>\\n</span>\\n<span class=\"crust\" itemscope=\"itemscope\" itemtype=\"http://data-vocabulary.org/Breadcrumb\">\\n<a class=\"crumb\" href=\"/beer/profile/735/\" itemprop=\"url\" rel=\"up\"><span itemprop=\"title\">21st Amendment Brewery</span></a>\\n<span class=\"arrow\"><i class=\"uix_icon uix_icon-breadcrumbSeparator\"></i></span>\\n</span>\\n</span>\\n</fieldset>\\n</nav>\\n</div>\\n<div class=\"uix_contentFix\">\\n<div class=\"mainContainer\">\\n<div class=\"mainContent\">\\n<!--[if lt IE 8]>\\n\\t\\t\\t\\t\\t\\t\\t<p class=\"importantMessage\">You are using an out of date browser. It  may not display this or other websites correctly.<br />You should upgrade or use an <a href=\"https://www.google.com/chrome/browser/\" target=\"_blank\">alternative browser</a>.</p>\\n\\t\\t\\t\\t\\t\\t<![endif]-->\\n<div class=\"FloatingContainer Notices\">\\n<div class=\"DismissParent Notice notice_30 \" data-auto-dismiss=\"0\" data-delay-duration=\"4000\" data-display-duration=\"0\" data-notice=\"30\">\\n<div class=\"floatingItem primary\">\\n<a class=\"DismissCtrl Tooltip\" data-offsetx=\"7\" data-tipclass=\"flipped\" href=\"account/dismiss-notice?notice_id=30\" title=\"Dismiss Notice\">Dismiss Notice</a>\\n<div class=\" baseHtml noticeContent\">\\n\\t\\t\\t\\t\\t\\tWe're celebrating 10 years of BeerAdvocate magazine with $10 print subscriptions for US residents.<br><br><a href=\"https://store.beeradvocate.com/products/subscribe-beeradvocate-magazine\" target=\"_blank\"><b>Subscribe now!</b></a>\\n</br></br></div>\\n</div>\\n</div>\\n</div>\\n<!-- h1 title, description -->\\n<div class=\"titleBar\">\\n<h1>21st Amendment IPA<span style=\"color:#999999;\"> | 21st Amendment Brewery</span></h1>\\n</div>\\n<!-- main template -->\\n<div id=\"ba-content\">\\n<style>\\n\\t.rateCatScore {\\n\\t\\tfont-size:1.5em;\\n\\t\\tfont-weight:700;\\n\\t  \\tcolor:#CC0000;\\n\\t}\\n\\t.rateCategory {\\n\\t\\tmargin-top:15px;\\n\\t\\tdisplay:block;\\n\\t}\\n\\t.rateCategory th { padding-left:5px; font-weight:bold; }\\n\\t.rateCategory td { width:60px; }\\n\\t.likes-bar { padding:5px; background-color: rgb(239, 243, 248); margin-top: 10px; border-bottom: 1px solid rgb(216, 216, 216); font-size: 11px; }\\n\\n/*DL, DT, DD TAGS LIST DATA*/\\n\\t#item_stats dl {\\n\\t    width:100%;\\n\\t    overflow:hidden;\\n\\t    margin:0;\\n\\t    padding:0;\\n\\t}\\n\\t#item_stats dl dt {\\n\\t    float:left;\\n\\t    width:50%;\\n\\t    margin:0;\\n\\t    padding:0;\\n\\t}\\n\\t#item_stats dl dd {\\n\\t    float:left;\\n\\t    width:50%;\\n\\t    margin:0;\\n\\t    padding:0;\\n\\t}\\n</style>\\n<!--googleoff: index-->\\n<div style=\"background-color:#E0E0E0; padding:5px; margin-top:5px; font-size:1.2em; vertical-align:middle;\"><b><a class=\"uix_dropdownDesktopMenu OverlayTrigger\" data-cacheoverlay=\"false\" href=\"login/\">Log in</a> or <a href=\"register/\">Sign up</a> to start rating.</b></div></div></div></div></div></div></div></div></div></div></div></div></body></html>\\n<!--googleon: index-->\\n<div style=\"clear:both;\"></div>\\n<div style=\"margin:25px 0px; width:100%; height:1px; background:#999999; overflow:hidden;\"></div>\\n<!--sse-->\\n<div>\\n<div class=\"break\" style=\"float:left; width:30%;\">\\n<div style=\"margin:0px 25px;\">\\n<b>BA SCORE</b>\\n<br>\\n<span class=\"BAscore_big ba-score\">86</span>\\n<br><a href=\"/community/threads/beeradvocate-ratings-explained.184726/\"><b><span class=\"ba-score_text\">very good</span></b></a>\\n<br><span class=\"ba-reviews\">828</span> Reviews\\t\\t</br></br></br></div>\\n<div style=\"margin:25px 0px; width:90%; height:1px; background:#999999; overflow:hidden;\"></div>\\n<div style=\"margin:0px 25px;\">\\n<b>THE BROS</b>\\n<br>\\n<span class=\"BAscore_big ba-bro_score\">90</span>\\n<br><a href=\"/community/threads/beeradvocate-ratings-explained.184726/\"><b class=\"ba-bro_text\">outstanding</b></a>\\n<br><a href=\"/beer/profile/735/20781/?ba=bros#review\">Read the review</a> </br></br></br></div>\\n</div>\\n<div class=\"break\" style=\"float:right; width:70%;\">\\n<div style=\"text-align:center; float:right; width:150px; padding:0px; margin:0px 25px 25px 25px;\">\\n<div style=\"position:relative;\"><img alt=\"21st Amendment IPA\" border=\"0\" height=\"300\" src=\"https://cdn.beeradvocate.com/im/beers/20781.jpg\" width=\"150\"><span style=\"position:absolute;left:0;top:0;\"><img alt=\"21st Amendment IPA\" border=\"0\" height=\"300\" src=\"https://cdn.beeradvocate.com/im/c_beer_image.gif\" width=\"150\"/></span></img></div> </div>\\n<b>BEER INFO</b>\\n<br><br>\\n<b>Brewed by:</b>\\n<br>\\n<a href=\"/beer/profile/735/\"><b>21st Amendment Brewery</b></a>\\n<br><a href=\"/place/directory/9/US/CA/\">California</a>, <a href=\"/place/directory/9/US/\">United States</a><br><a href=\"http://21st-amendment.com\" target=\"_blank\">21st-amendment.com</a> <br><br>\\n<b>Style:</b> <a href=\"/beer/style/116/\"><b>American IPA</b></a>\\n<br><br>\\n<b>Alcohol by volume (ABV):</b> 7.00%\\n\\t\\t<br><br>\\n<b>Availability:</b> Year-round\\n\\t\\t<br><br>\\n<b>Notes / Commercial Description:</b>\\n<br>\\n\\t\\tNo notes at this time.<br><br>Added by oggg on 11-17-2004<br><br>\\n</br></br></br></br></br></br></br></br></br></br></br></br></br></br></br></br></br></br></div>\\n<div class=\"break\" style=\"float:left; width:30%;\">\\n<div style=\"margin:25px 0px; width:90%; height:1px; background:#999999; overflow:hidden;\"></div>\\n<div style=\"margin:0px 25px; padding:0;\">\\n<b>BEER STATS</b>\\n<div id=\"item_stats\">\\n<dl>\\n<dt>Reviews:</dt>\\n<dd><span class=\"ba-reviews\">828</span></dd>\\n<dt>Ratings:</dt>\\n<dd><span class=\"ba-ratings\">2,344</span></dd>\\n<dt>Avg:</dt>\\n<dd><span class=\"ba-ravg\">3.82</span></dd>\\n<!--<br>psDev: 9%-->\\n<dd>pDev:</dd>\\n<dt><span class=\"ba-pdev\">\\n\\t\\t\\t\\t\\t11.78%\\t\\t\\t\\t\\t</span></dt>\\n<dt>\\xa0</dt>\\n<dd>\\xa0</dd>\\n<dd><a href=\"/beer/trade/20781/?view=W\">Wants</a>:</dd>\\n<dt><a href=\"/beer/trade/20781/?view=W\"><span class=\"ba-wants\">92</span></a></dt>\\n<dd><a href=\"/beer/trade/20781/?view=G\">Gots</a>:</dd>\\n<dt><a href=\"/beer/trade/20781/?view=G\"><span class=\"ba-gots\">317</span></a></dt>\\n<dd><a href=\"/beer/trade/20781/?view=FT\">For Trade</a>:</dd>\\n<dt><a href=\"/beer/trade/20781/?view=FT\">1</a></dt>\\n</dl>\\n</div>\\n</div>\\n</div>\\n</div>\\n<!--/sse-->\\n<div style=\"clear:both;\"></div>\\n<div style=\"margin:25px 0px; width:100%; height:1px; background:#999999; overflow:hidden;\"></div>\\n<div style=\"clear:both;\"></div>\\n<div style=\"margin:20px 0px;\">\\n<h6>View:\\n\\t\\t\\t\\t\\t\\t<a href=\"/beer/profile/735/?view=beers\">Beers</a> |\\n\\t\\t\\t\\t\\t\\t\\t\\t<a href=\"/beer/profile/735/?view=ratings\">Place Reviews</a> |\\n\\t\\t\\t\\t\\t\\t<a href=\"/beer/profile/735/?view=events\">Events</a>\\n</h6>\\n</div>\\n<div style=\"margin:20px 0px; background:#E0E0E0; padding:5px; white-space:nowrap; overflow:hidden; clear:both;\"><a name=\"review\"></a><h6>User Reviews</h6></div>\\n<div style=\"font-size:1em; padding:4px; color:#333333; white-space:nowrap; overflow:hidden;\">\\n<b>Sort by:</b>\\xa0\\n\\t\\t\\t<b>Recent</b>\\n\\t\\t\\t\\t\\t\\t | <a href=\"/beer/profile/735/20781/?sort=high&amp;start=850\">High</a>\\n\\t\\t\\t\\t | <a href=\"/beer/profile/735/20781/?sort=low&amp;start=850\">Low</a>\\n\\t\\t\\t\\t | <a href=\"/beer/profile/735/20781/?sort=topr&amp;start=850\">Top Raters</a>\\n\\t\\t\\t\\t\\t\\t | <a href=\"/beer/profile/735/20781/?ba=bros#review\">Alstr\\xf6m Bros</a>\\n</div>\\n<div style=\"font-size:1em; padding:4px; text-align:right; white-space:nowrap; overflow:hidden;\">\\n<span style=\"font-weight:bold;\"><a href=\"/beer/profile/735/20781/?view=beer&amp;sort=&amp;start=0\">first</a> \\u2190 <a href=\"/beer/profile/735/20781/?view=beer&amp;sort=&amp;start=825\">prev</a>|<a href=\"/beer/profile/735/20781/?view=beer&amp;sort=&amp;start=800\">\\xa0801-825\\xa0</a>|<a href=\"/beer/profile/735/20781/?view=beer&amp;sort=&amp;start=825\">\\xa0826-850\\xa0</a> | <span class=\"muted\">next \\u2192 last</span></span></div>\\n<div style=\"font-size:1em; padding:4px; margin-bottom:10px;\">\\n<b>Reviews: 828\\xa0|\\xa0Ratings: 2,344</b></div>\\n<!--sse-->\\n<div style=\"font-size:1em;\">\\n<div id=\"rating_fullview\"></div></div>\\n<!--/sse-->\\n<div style=\"font-size:1em; padding:4px; text-align:right; white-space:nowrap; overflow:hidden;\">\\n<span style=\"font-weight:bold;\"><a href=\"/beer/profile/735/20781/?view=beer&amp;sort=&amp;start=0\">first</a> \\u2190 <a href=\"/beer/profile/735/20781/?view=beer&amp;sort=&amp;start=825\">prev</a>|<a href=\"/beer/profile/735/20781/?view=beer&amp;sort=&amp;start=800\">\\xa0801-825\\xa0</a>|<a href=\"/beer/profile/735/20781/?view=beer&amp;sort=&amp;start=825\">\\xa0826-850\\xa0</a> | <span class=\"muted\">next \\u2192 last</span></span></div>\\n<!-- rating schema -->\\n<div style=\"color:#FFFFFF;\">\\n<div itemscope=\"\" itemtype=\"http://schema.org/Product\">\\n<span itemprop=\"name\">21st Amendment IPA from 21st Amendment Brewery</span>\\n<div itemprop=\"aggregateRating\" itemscope=\"\" itemtype=\"http://schema.org/AggregateRating\">\\n<span itemprop=\"ratingValue\">3.82</span>\\n\\t\\tout of <span itemprop=\"bestRating\">5</span>\\n\\t\\tbased on <span itemprop=\"ratingCount\">2,344</span> ratings.\\n\\t</div>\\n</div>\\n</div>\\n<style>\\n\\t@media only screen  and (max-width : 610px) {\\n\\t\\t.break { float:none!important; width:100%!important; }\\n\\t\\t.break { margin-top:20px; }\\n\\t\\t.break:first-child { margin-top:0px; overflow:auto; padding-bottom:20px; }\\n\\t\\t.break:first-child > div { width:50%; float:left; margin:0px!important; }\\n\\t\\t.break:first-child > div:nth-child(2) { display:none; }\\n\\t\\t.break:last-child > div:first-child { width:100%!important; }\\n\\t\\t.break:last-child > div:nth-child(3) { width:100%!important; }\\n\\t}\\n\\t.slash a { text-decoration: line-through; }\\n</style>\\n\\n<!-- login form, to be moved to the upper drop-down -->\\n<form action=\"login/login\" class=\"xenForm \" id=\"login\" method=\"post\" style=\"display:none\">\\n<div class=\"ctrlWrapper\">\\n<dl class=\"ctrlUnit\">\\n<dt><label for=\"LoginControl\">Your name or email address:</label></dt>\\n<dd><input class=\"textCtrl\" id=\"LoginControl\" name=\"login\" tabindex=\"101\" type=\"text\"/></dd>\\n</dl>\\n<dl class=\"ctrlUnit\">\\n<dt>\\n<label for=\"ctrl_password\">Do you already have an account?</label>\\n</dt>\\n<dd>\\n<ul>\\n<li><label for=\"ctrl_not_registered\"><input id=\"ctrl_not_registered\" name=\"register\" tabindex=\"105\" type=\"radio\" value=\"1\"/>\\n\\t\\t\\t\\t\\t\\tNo, create an account now.</label></li>\\n<li><label for=\"ctrl_registered\"><input checked=\"checked\" class=\"Disabler\" id=\"ctrl_registered\" name=\"register\" tabindex=\"105\" type=\"radio\" value=\"0\"/>\\n\\t\\t\\t\\t\\t\\tYes, my password is:</label></li>\\n<li id=\"ctrl_registered_Disabler\">\\n<input class=\"textCtrl\" id=\"ctrl_password\" name=\"password\" tabindex=\"102\" type=\"password\"/>\\n<div class=\"lostPassword\"><a class=\"OverlayTrigger OverlayCloser\" href=\"lost-password/\" tabindex=\"106\">Forgot your password?</a></div>\\n</li>\\n</ul>\\n</dd>\\n</dl>\\n<dl class=\"ctrlUnit submitUnit\">\\n<dt></dt>\\n<dd>\\n<input class=\"button primary\" data-loginphrase=\"Log in\" data-signupphrase=\"Sign up\" tabindex=\"104\" type=\"submit\" value=\"Log in\"/>\\n<label class=\"rememberPassword\" for=\"ctrl_remember\"><input id=\"ctrl_remember\" name=\"remember\" tabindex=\"103\" type=\"checkbox\" value=\"1\"/> Stay logged in</label>\\n</dd>\\n</dl>\\n</div>\\n<input name=\"cookie_check\" type=\"hidden\" value=\"1\"/>\\n<input name=\"redirect\" type=\"hidden\" value=\"/beer/profile/735/20781/?view=beer&amp;sort=&amp;start=850\"/>\\n<input name=\"_xfToken\" type=\"hidden\" value=\"\"/>\\n</form>\\n\\n\\n<!-- sidebar -->\\n<aside class=\"uix_mainSidebar\">\\n<div class=\"inner_wrapper\">\\n<div class=\"sidebar\">\\n<div class=\"section funbox\">\\n<div class=\" funboxWrapper\">\\n<div id=\"537108848_sidebar1\" style=\"width:300px;height:250px;margin:0;padding:0\">\\n<noscript><iframe frameborder=\"0\" height=\"250\" id=\"c498d2865e\" name=\"c498d2865e\" scrolling=\"no\" src=\"//beeradvocate-d.openx.net/w/1.0/afr?auid=537108848&amp;cb=14811557850\" width=\"300\"><a href=\"//beeradvocate-d.openx.net/w/1.0/rc?cs=c498d2865e&amp;cb=14811557850\"><img alt=\"\" border=\"0\" src=\"//beeradvocate-d.openx.net/w/1.0/ai?auid=537108848&amp;cs=c498d2865e&amp;cb=14811557850\"/></a></iframe></noscript>\\n</div>\\n<script type=\"text/javascript\">\\n  var OX_ads = OX_ads || [];\\n  OX_ads.push({\\n     slot_id: \"537108848_sidebar1\",\\n     auid: \"537108848\"\\n  });\\n</script>\\n</div>\\n</div>\\n<div class=\"section\">\\n<div class=\"secondaryContent\">\\n<h3>Tools</h3>\\n<label for=\"LoginControl\"><a href=\"login/\">Log in or Sign up</a> to report an update.</label><br><br><br><br><a href=\"/community/forums/help.32/\">Need help?</a>\\n</br></br></br></br></div>\\n</div>\\n<div class=\"section\">\\n<div class=\"secondaryContent\">\\n<h3>Shelf Talker</h3>\\n<form action=\"/beer/shelf_talker/\" class=\"tb\" method=\"post\" target=\"_blank\">\\n<input name=\"WR\" type=\"hidden\" value=\"3.82\">\\n<input name=\"b\" type=\"hidden\" value=\"20781\">\\n<input class=\"button primary\" name=\"submit\" type=\"submit\" value=\"Print Shelf Talker\">\\n</input></input></input></form>\\n</div>\\n</div>\\n<div class=\"section\">\\n<div class=\"secondaryContent\">\\n<h3>Other Beer Style Examples</h3>\\n<b><a href=\"/beer/style/116/\">American IPA</a></b>\\n<br><br>\\n<a href=\"/beer/profile/287/1093/\">Two Hearted Ale</a><br>Bell's Brewery, Inc.<br><br><a href=\"/beer/profile/199/29619/\">Sculpin IPA</a><br>Ballast Point Brewing Company<br><br><a href=\"/beer/profile/64/6108/\">60 Minute IPA</a><br>Dogfish Head Craft Brewery<br><br><a href=\"/beer/profile/147/88/\">Stone IPA (India Pale Ale)</a><br>Stone Brewing<br><br><a href=\"/beer/profile/140/30420/\">Sierra Nevada Torpedo Extra IPA</a><br>Sierra Nevada Brewing Co.<br><br><a href=\"/beer/profile/140/1904/\">Sierra Nevada Celebration Ale</a><br>Sierra Nevada Brewing Co.<br><br><a href=\"/beer/profile/220/916/\">Lagunitas IPA</a><br>Lagunitas Brewing Company<br><br><a href=\"/beer/profile/1199/5441/\">Founders Centennial IPA</a><br>Founders Brewing Company<br><br><a href=\"/beer/profile/610/2751/\">Racer 5 India Pale Ale</a><br>Bear Republic Brewing Co.<br><br><a href=\"/beer/profile/17981/46363/\">Jai Alai IPA</a><br>Cigar City Brewing<br><br><a href=\"/beer/profile/345/1005/\">Hop Devil Ale</a><br>Victory Brewing Company - Downingtown<br><br><a href=\"/beer/profile/1199/58914/\">Founders All Day IPA</a><br>Founders Brewing Company<br><br><a href=\"/beer/profile/2210/38180/\">Union Jack India Pale Ale</a><br>Firestone Walker Brewing Co.<br><br><a href=\"/beer/profile/192/55081/\">Ranger</a><br>New Belgium Brewing<br><br><a href=\"/beer/profile/199/89174/\">Grapefruit Sculpin</a><br>Ballast Point Brewing Company<br><br><a href=\"/beer/style/116/\">View and learn more ...</a>\\n</br></br></br></br></br></br></br></br></br></br></br></br></br></br></br></br></br></br></br></br></br></br></br></br></br></br></br></br></br></br></br></br></br></br></br></br></br></br></br></br></br></br></br></br></br></br></br></div>\\n</div>\\n</div>\\n</div>\\n</aside>\\n\\n<div class=\"breadBoxBottom\">\\n<nav>\\n<fieldset class=\"breadcrumb\">\\n<a class=\"OverlayTrigger jumpMenuTrigger\" data-cacheoverlay=\"true\" href=\"misc/quick-navigation-menu\" title=\"Open quick navigation\"><i class=\"uix_icon uix_icon-sitemap\"></i><!--Jump to...--></a>\\n<div class=\"boardTitle\"><strong>BeerAdvocate</strong></div>\\n<span class=\"crumbs\">\\n<span class=\"crust homeCrumb\">\\n<a class=\"crumb\" href=\"/\"><span><i class=\"uix_icon uix_icon-home\" title=\"Home\"></i></span></a>\\n<span class=\"arrow\"><i class=\"uix_icon uix_icon-breadcrumbSeparator\"></i></span>\\n</span>\\n<span class=\"crust selectedTabCrumb\">\\n<a class=\"crumb\" href=\"/beer/\"><span>Beers</span></a>\\n<span class=\"arrow\"><i class=\"uix_icon uix_icon-breadcrumbSeparator\"></i></span>\\n</span>\\n<span class=\"crust\">\\n<a class=\"crumb\" href=\"/beer/profile/735/\"><span>21st Amendment Brewery</span></a>\\n<span class=\"arrow\"><i class=\"uix_icon uix_icon-breadcrumbSeparator\"></i></span>\\n</span>\\n</span>\\n</fieldset>\\n</nav></div>\\n\\n\\n\\n\\n<footer>\\n<div class=\"footer\">\\n<div class=\"pageWidth\">\\n<div class=\"pageContent\">\\n<ul class=\"footerLinks\">\\n<li><a class=\"homeLink\" href=\"https://www.beeradvocate.com\">Home</a></li>\\n<li><a href=\"https://www.beeradvocate.com/contact/\">Contact Us</a></li>\\n<li><a href=\"forums/help.32/\">Help</a></li>\\n<li><a href=\"https://www.beeradvocate.com/community/threads/terms-of-service.101118/\">Terms and Rules</a></li>\\n<li><a href=\"https://www.beeradvocate.com/community/threads/privacy-policy.393415/\">Privacy Policy</a></li>\\n<li class=\"topLink\"><a href=\"/beer/profile/735/20781/?view=beer&amp;sort=&amp;start=850#XenForo\"><i class=\"uix_icon uix_icon-jumpToTop\"></i> <span class=\"uix_hide\">Top</span></a></li>\\n</ul>\\n<span class=\"helper\"></span>\\n</div>\\n</div>\\n</div>\\n<div id=\"uix_stickyFooterSpacer\"></div>\\n<div class=\"bigFooter\">\\n<div class=\"pageWidth\">\\n<div class=\"pageContent\">\\n<ul class=\"bigFooterRow bigFooterRow--mainRow bigFooterRow--has3Columns\">\\n<li class=\"bigFooterCol bigFooterCol--col1\">\\n<div class=\"section\">\\n<h3 class=\"bigFooterHeader\">\\n<i class=\"uix_icon fa fa-caret-square-o-right\"></i>\\n\\t\\t\\t\\t\\t\\t\\t\\tAbout Us\\n\\t\\t\\t\\t\\t\\t\\t</h3>\\n\\n\\t\\t\\t\\t\\t\\t\\tYour go-to website for beer (since 1996), publishers of BeerAdvocate magazine (since 2006) and hosts of world-class beer events (since 2003). Respect Beer.\\n\\t\\t\\t\\t\\t\\t\\n\\n\\t\\t\\t\\t\\t</div>\\n</li>\\n<li class=\"bigFooterCol bigFooterCol--col3\">\\n<div class=\"section\">\\n<h3 class=\"bigFooterHeader\">\\n<i class=\"uix_icon fa fa-beer\"></i>\\n\\t\\t\\t\\t\\t\\t\\t\\tExtreme Beer Fest\\xae Cometh\\n\\t\\t\\t\\t\\t\\t\\t</h3>\\n\\n\\t\\t\\t\\t\\t\\t\\tFebruary 3-4, 2017. Boston, Mass. Limited tickets available. Prepare for epicness. \\n<br><br>\\n<a class=\"callToAction\" href=\"https://www.beeradvocate.com/extreme/\"><span>Learn More</span></a>\\n</br></br></div>\\n</li>\\n<li class=\"bigFooterCol bigFooterCol--col4\">\\n<div class=\"section\">\\n<h3 class=\"bigFooterHeader\">\\n<i class=\"uix_icon fa fa-book\"></i>\\n\\t\\t\\t\\t\\t\\t\\t\\t10 Years of BeerAdvocate Magazine\\n\\t\\t\\t\\t\\t\\t\\t</h3>\\n\\n\\t\\t\\t\\t\\t\\t\\tWe're celebrating 10 years of BA mag with $10 print subscriptions for US residents!\\n<br><br>\\n<a class=\"callToAction\" href=\"https://store.beeradvocate.com/products/subscribe-beeradvocate-magazine\" target=\"_blank\"><span>Subscribe</span></a>\\n</br></br></div>\\n</li>\\n</ul>\\n</div>\\n</div>\\n</div>\\n<div class=\"footerLegal\">\\n<div class=\"pageWidth\">\\n<div class=\"pageContent\">\\n<ul class=\"uix_socialMediaLinks\">\\n<li class=\"uix_socialLink uix_socialLink--facebook\"><a href=\"https://www.facebook.com/beeradvocate/\" target=\"_blank\"><i class=\"uix_icon uix_icon-facebook\"></i></a></li>\\n<li class=\"uix_socialLink uix_socialLink--twitter\"><a href=\"https://twitter.com/BeerAdvocate\" target=\"_blank\"><i class=\"uix_icon uix_icon-twitter\"></i></a></li>\\n<li class=\"uix_socialLink uix_socialLink--youtube\"><a href=\"https://www.youtube.com/c/beeradvocate\" target=\"_blank\"><i class=\"uix_icon uix_icon-youtube\"></i></a></li>\\n<li class=\"uix_socialLink uix_socialLink--instagram\"><a href=\"https://www.instagram.com/beeradvocate/\" target=\"_blank\"><i class=\"uix_icon uix_icon-instagram\"></i></a></li>\\n<li class=\"uix_socialLink uix_socialLink--contact\"><a href=\"https://www.beeradvocate.com/contact/\"><i class=\"uix_icon uix_icon-email\"></i></a></li>\\n<!--ADD LIST ITEMS HERE -->\\n</ul>\\n<div id=\"copyright\">\\n\\t\\t\\t\\tCopyright \\xa9 1996-2016 BeerAdvocate\\xae. All rights reserved. Respect Beer\\xae.\\n\\t\\t\\t\\t\\n\\t\\t\\t\\t\\n\\t\\t\\t</div>\\n<span class=\"helper\"></span>\\n</div>\\n</div>\\n</div>\\n<div id=\"uix_jumpToFixed\">\\n<a data-position=\"top\" href=\"#content\" title=\"Top\"><i class=\"uix_icon uix_icon-jumpToTop\"></i></a>\\n<a data-position=\"bottom\" href=\"#content\" title=\"Bottom\"><i class=\"uix_icon uix_icon-jumpToBottom\"></i></a>\\n</div>\\n</footer>\\n<script>\\n\\n\\njQuery.extend(true, XenForo,\\n{\\n\\tvisitor: { user_id: 0 },\\n\\tserverTimeInfo:\\n\\t{\\n\\t\\tnow: 1481155785,\\n\\t\\ttoday: 1481155200,\\n\\t\\ttodayDow: 4\\n\\t},\\n\\t_lightBoxUniversal: \"0\",\\n\\t_enableOverlays: \"1\",\\n\\t_animationSpeedMultiplier: \"0.5\",\\n\\t_overlayConfig:\\n\\t{\\n\\t\\ttop: \"10%\",\\n\\t\\tspeed: 100,\\n\\t\\tcloseSpeed: 50,\\n\\t\\tmask:\\n\\t\\t{\\n\\t\\t\\tcolor: \"rgb(255, 255, 255)\",\\n\\t\\t\\topacity: \"0.6\",\\n\\t\\t\\tloadSpeed: 100,\\n\\t\\t\\tcloseSpeed: 50\\n\\t\\t}\\n\\t},\\n\\t_ignoredUsers: [],\\n\\t_loadedScripts: {\"login_bar\":true,\"moderator_bar\":true,\"notices\":true,\"uix_extendedFooter\":true},\\n\\t_cookieConfig: { path: \"/\", domain: \"\", prefix: \"xf_\"},\\n\\t_csrfToken: \"\",\\n\\t_csrfRefreshUrl: \"login/csrf-token-refresh\",\\n\\t_jsVersion: \"4e9ddafa\",\\n\\t_noRtnProtect: false,\\n\\t_noSocialLogin: false\\n});\\njQuery.extend(XenForo.phrases,\\n{\\n\\tcancel: \"Cancel\",\\n\\n\\ta_moment_ago:    \"A moment ago\",\\n\\tone_minute_ago:  \"1 minute ago\",\\n\\tx_minutes_ago:   \"%minutes% minutes ago\",\\n\\ttoday_at_x:      \"Today at %time%\",\\n\\tyesterday_at_x:  \"Yesterday at %time%\",\\n\\tday_x_at_time_y: \"%day% at %time%\",\\n\\n\\tday0: \"Sunday\",\\n\\tday1: \"Monday\",\\n\\tday2: \"Tuesday\",\\n\\tday3: \"Wednesday\",\\n\\tday4: \"Thursday\",\\n\\tday5: \"Friday\",\\n\\tday6: \"Saturday\",\\n\\n\\t_months: \"January,February,March,April,May,June,July,August,September,October,November,December\",\\n\\t_daysShort: \"Sun,Mon,Tue,Wed,Thu,Fri,Sat\",\\n\\n\\tfollowing_error_occurred: \"The following error occurred\",\\n\\tserver_did_not_respond_in_time_try_again: \"The server did not respond in time. Please try again.\",\\n\\tlogging_in: \"Logging in\",\\n\\tclick_image_show_full_size_version: \"Click this image to show the full-size version.\",\\n\\tshow_hidden_content_by_x: \"Show hidden content by {names}\"\\n});\\n\\n// Facebook Javascript SDK\\nXenForo.Facebook.appId = \"\";\\nXenForo.Facebook.forceInit = false;\\n\\n\\n</script>\\n\\n<div class=\"uix_wrapperFix\" style=\"height: 1px; margin-top: -1px;\"></div>\\n\\n\\n<script>\\n</script>\\n<script src=\"//beeradvocate-d.openx.net/w/1.0/jstag\" type=\"text/javascript\"></script>\\n<div class=\"breadcrumbMeta\">\\n<nav>\\n<fieldset class=\"breadcrumb\">\\n<a class=\"OverlayTrigger jumpMenuTrigger\" data-cacheoverlay=\"true\" href=\"misc/quick-navigation-menu\" title=\"Open quick navigation\"><i class=\"uix_icon uix_icon-sitemap\"></i><!--Jump to...--></a>\\n<div class=\"boardTitle\"><strong>BeerAdvocate</strong></div>\\n<span class=\"crumbs\">\\n<span class=\"crust homeCrumb\">\\n<a class=\"crumb\" href=\"/\"><span><i class=\"uix_icon uix_icon-home\" title=\"Home\"></i></span></a>\\n<span class=\"arrow\"><i class=\"uix_icon uix_icon-breadcrumbSeparator\"></i></span>\\n</span>\\n<span class=\"crust selectedTabCrumb\">\\n<a class=\"crumb\" href=\"/beer/\"><span>Beers</span></a>\\n<span class=\"arrow\"><i class=\"uix_icon uix_icon-breadcrumbSeparator\"></i></span>\\n</span>\\n<span class=\"crust\">\\n<a class=\"crumb\" href=\"/beer/profile/735/\"><span>21st Amendment Brewery</span></a>\\n<span class=\"arrow\"><i class=\"uix_icon uix_icon-breadcrumbSeparator\"></i></span>\\n</span>\\n</span>\\n</fieldset>\\n</nav>\\n</div>\\n<!-- UI.X Version: 1.5.8.1_custom //-->\\n\\n"
      ]
     },
     "execution_count": 385,
     "metadata": {},
     "output_type": "execute_result"
    }
   ],
   "source": [
    "get_soup('https://www.beeradvocate.com/beer/profile/735/20781/?view=beer&sort=&start=850')"
   ]
  },
  {
   "cell_type": "code",
   "execution_count": null,
   "metadata": {
    "collapsed": true
   },
   "outputs": [],
   "source": []
  }
 ],
 "metadata": {
  "anaconda-cloud": {},
  "kernelspec": {
   "display_name": "Python [Root]",
   "language": "python",
   "name": "Python [Root]"
  },
  "language_info": {
   "codemirror_mode": {
    "name": "ipython",
    "version": 2
   },
   "file_extension": ".py",
   "mimetype": "text/x-python",
   "name": "python",
   "nbconvert_exporter": "python",
   "pygments_lexer": "ipython2",
   "version": "2.7.12"
  }
 },
 "nbformat": 4,
 "nbformat_minor": 0
}
