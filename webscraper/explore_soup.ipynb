{
 "cells": [
  {
   "cell_type": "code",
   "execution_count": 1,
   "metadata": {
    "collapsed": true
   },
   "outputs": [],
   "source": [
    "import requests\n",
    "from bs4 import BeautifulSoup"
   ]
  },
  {
   "cell_type": "code",
   "execution_count": 2,
   "metadata": {
    "collapsed": true
   },
   "outputs": [],
   "source": [
    "def get_soup(url):\n",
    "    '''\n",
    "    Get soup from given url\n",
    "    INPUT:\n",
    "        url (str): URL to be soupified\n",
    "    OUTPUT:\n",
    "        soup (BeautifulSoup): soupified url\n",
    "    '''\n",
    "    content = requests.get(url).content\n",
    "    soup = BeautifulSoup(content, 'html.parser')\n",
    "    return soup"
   ]
  },
  {
   "cell_type": "code",
   "execution_count": 25,
   "metadata": {
    "collapsed": true
   },
   "outputs": [],
   "source": [
    "base_url = 'https://www.beeradvocate.com{}'\n",
    "url = 'https://www.beeradvocate.com/place/'\n",
    "soup = get_soup(url)"
   ]
  },
  {
   "cell_type": "code",
   "execution_count": 31,
   "metadata": {
    "collapsed": false
   },
   "outputs": [],
   "source": [
    "location_urls = {}\n",
    "for tag in soup.find_all('div', class_='break'):\n",
    "    for a in tag.find_all('a'):\n",
    "        if 'directory' in a['href']:\n",
    "            location_urls[a.text] = base_url.format(a['href'])"
   ]
  },
  {
   "cell_type": "code",
   "execution_count": 33,
   "metadata": {
    "collapsed": false
   },
   "outputs": [],
   "source": [
    "ca_soup = get_soup('https://www.beeradvocate.com/place/directory/9/US/CA/')"
   ]
  },
  {
   "cell_type": "code",
   "execution_count": 219,
   "metadata": {
    "collapsed": false
   },
   "outputs": [
    {
     "name": "stdout",
     "output_type": "stream",
     "text": [
      "Breweries\n",
      "https://www.beeradvocate.com/place/list/?c_id=US&s_id=CA&brewery=Y\n"
     ]
    }
   ],
   "source": [
    "places = {}\n",
    "for tag in ca_soup.find('table').find('table').find_all('a')[:1]:\n",
    "    print tag.text.split()[0]\n",
    "    print base_url.format(tag['href'])\n",
    "#     places[tag.text.split()[0]] = base_url.format(tag['href'])"
   ]
  },
  {
   "cell_type": "code",
   "execution_count": 60,
   "metadata": {
    "collapsed": false
   },
   "outputs": [
    {
     "data": {
      "text/plain": [
       "{u'Bars': 'https://www.beeradvocate.com/place/list/?c_id=US&s_id=CA&bar=Y',\n",
       " u'Breweries': 'https://www.beeradvocate.com/place/list/?c_id=US&s_id=CA&brewery=Y',\n",
       " u'Eateries': 'https://www.beeradvocate.com/place/list/?c_id=US&s_id=CA&eatery=Y',\n",
       " u'Homebrew': 'https://www.beeradvocate.com/place/list/?c_id=US&s_id=CA&homebrew=Y',\n",
       " u'Stores': 'https://www.beeradvocate.com/place/list/?c_id=US&s_id=CA&store=Y'}"
      ]
     },
     "execution_count": 60,
     "metadata": {},
     "output_type": "execute_result"
    }
   ],
   "source": [
    "places"
   ]
  },
  {
   "cell_type": "code",
   "execution_count": 338,
   "metadata": {
    "collapsed": false
   },
   "outputs": [],
   "source": [
    "breweries = {}\n",
    "breweries_soup = get_soup('https://www.beeradvocate.com/place/list/?c_id=US&s_id=ND&brewery=Y')\n",
    "urls = []\n",
    "names = []\n",
    "addresses = []\n",
    "for tag in breweries_soup.find('table').find_all('tr')[3:-1:2]:\n",
    "    urls.append(base_url.format(tag.find('a')['href']))\n",
    "    names.append(tag.find('a').text)\n",
    "#     print tag.find('a').text\n",
    "#     if 'profile' in tag.find('a')['href']:\n",
    "#         breweries[base_url.format(tag.find('a')['href'])] = tag.find('a').text\n",
    "#     print tag.find('tr')\n",
    "for tag in breweries_soup.find('table').find_all('tr')[4:-1:2]:\n",
    "    addresses.append(tag.find('td', class_='hr_bottom_dark').get_text(' '))"
   ]
  },
  {
   "cell_type": "code",
   "execution_count": 341,
   "metadata": {
    "collapsed": false
   },
   "outputs": [
    {
     "name": "stdout",
     "output_type": "stream",
     "text": [
      "None\n"
     ]
    }
   ],
   "source": [
    "brews = dict(zip(urls, zip(names, addresses)))\n",
    "page_info = breweries_soup.find('table').find_all('tr')\n",
    "try:\n",
    "    next_page = page_info[1].find_all('a')[-2]['href']\n",
    "except:\n",
    "    next_page = None\n",
    "print next_page"
   ]
  },
  {
   "cell_type": "code",
   "execution_count": 211,
   "metadata": {
    "collapsed": false
   },
   "outputs": [
    {
     "name": "stdout",
     "output_type": "stream",
     "text": [
      "[3.74, 65.0, 113.0, 260.0, 3.88]\n"
     ]
    }
   ],
   "source": [
    "brew_soup = get_soup('https://www.beeradvocate.com/beer/profile/735/')\n",
    "info = []\n",
    "for tag in brew_soup.find_all('div', class_='break'):\n",
    "    for span in tag.find_all('span'):\n",
    "        try:\n",
    "            info.append(float(span.text))\n",
    "        except:\n",
    "            pass\n",
    "print info\n",
    "titles = ['beer_avg', 'num_beers', 'num_place_reviews', 'num_place_ratings', 'place_avg']\n",
    "brew_info = dict(zip(titles, info))"
   ]
  },
  {
   "cell_type": "code",
   "execution_count": 212,
   "metadata": {
    "collapsed": false
   },
   "outputs": [
    {
     "data": {
      "text/plain": [
       "{'beer_avg': 3.74,\n",
       " 'num_beers': 65.0,\n",
       " 'num_place_ratings': 260.0,\n",
       " 'num_place_reviews': 113.0,\n",
       " 'place_avg': 3.88}"
      ]
     },
     "execution_count": 212,
     "metadata": {},
     "output_type": "execute_result"
    }
   ],
   "source": [
    "brew_info"
   ]
  },
  {
   "cell_type": "code",
   "execution_count": 188,
   "metadata": {
    "collapsed": false
   },
   "outputs": [],
   "source": [
    "beers_soup = get_soup('https://www.beeradvocate.com/beer/profile/735/')\n",
    "beer_info = {}\n",
    "titles = ['beer_name', 'beer_style', 'abv', 'avg_rating', 'num_ratings', 'bros']\n",
    "for tag in beers_soup.find('table').find_all('tr')[3:]:\n",
    "#     print tag.get_text(', ')\n",
    "    url = base_url.format(tag.find('a')['href'])\n",
    "    clean = [x.strip() for x in tag.get_text('\\n').split('\\n')]\n",
    "    beer_info[url] = dict(zip(titles, clean))"
   ]
  },
  {
   "cell_type": "code",
   "execution_count": 226,
   "metadata": {
    "collapsed": false
   },
   "outputs": [
    {
     "name": "stdout",
     "output_type": "stream",
     "text": [
      "86\n"
     ]
    }
   ],
   "source": [
    "ipa_soup = get_soup('https://www.beeradvocate.com/beer/profile/735/20781/')\n",
    "info = []\n",
    "for tag in ipa_soup.find_all('div', class_='break'):\n",
    "    for span in tag.find_all('span')[:-2:]:\n",
    "        try:\n",
    "            info.append(float(span.text))\n",
    "        except:\n",
    "            pass\n",
    "print ipa_soup.find('div', class_='break').find('span').text"
   ]
  },
  {
   "cell_type": "code",
   "execution_count": 192,
   "metadata": {
    "collapsed": false
   },
   "outputs": [
    {
     "data": {
      "text/plain": [
       "[86.0, 828.0, 3.82]"
      ]
     },
     "execution_count": 192,
     "metadata": {},
     "output_type": "execute_result"
    }
   ],
   "source": [
    "info"
   ]
  },
  {
   "cell_type": "code",
   "execution_count": 251,
   "metadata": {
    "collapsed": true
   },
   "outputs": [],
   "source": [
    "review = ipa_soup.find_all('div', class_='user-comment')[1]"
   ]
  },
  {
   "cell_type": "code",
   "execution_count": 317,
   "metadata": {
    "collapsed": false
   },
   "outputs": [
    {
     "name": "stdout",
     "output_type": "stream",
     "text": [
      "3.95\n",
      "look: 3.75 | smell: 3.75 | taste: 4 | feel: 4.25 |  overall: 4 lsdjf\n",
      "This IPA pours a slightly opaque, murky tannish orange color with a medium foamy white head. The scent is not too strong, but definitely hop oriented with some pine and citrus character. The taste is pretty hoppy also, but actually more balanced then I thought it would be. In the initial taste there are some nice grapefruit and orange notes balanced by a fairly hearty toasted bread malt flavor. In the aftertaste the hops take over imparting a pretty strong piney bitterness. The finish is semi-dry. The body is medium, maybe even slightly on the higher end of medium. This is a solid both hop and malt forward IPA. I appreciate the boldness of it. Its complexity may be slightly lacking, however, and it has a pretty standard IPA flavor profile. Still an IPA worth trying out though.★ 787 charactersBierliebhaber3, Sep 20, 2016 lsdjf\n"
     ]
    }
   ],
   "source": [
    "print review.find('span', class_='BAscore_norm').text\n",
    "# print review.find('span', class_='muted').text\n",
    "breakdown = []\n",
    "for tag in review.find_all('br')[0]:\n",
    "    breakdown.append(tag.text)\n",
    "    print tag.text"
   ]
  },
  {
   "cell_type": "code",
   "execution_count": 304,
   "metadata": {
    "collapsed": false
   },
   "outputs": [
    {
     "data": {
      "text/plain": [
       "u'look: 3.75 | smell: 3.75 | taste: 4 | feel: 4.25 |  overall: 4This IPA pours a slightly opaque, murky tannish orange color with a medium foamy white head. The scent is not too strong, but definitely hop oriented with some pine and citrus character. The taste is pretty hoppy also, but actually more balanced then I thought it would be. In the initial taste there are some nice grapefruit and orange notes balanced by a fairly hearty toasted bread malt flavor. In the aftertaste the hops take over imparting a pretty strong piney bitterness. The finish is semi-dry. The body is medium, maybe even slightly on the higher end of medium. This is a solid both hop and malt forward IPA. I appreciate the boldness of it. Its complexity may be slightly lacking, however, and it has a pretty standard IPA flavor profile. Still an IPA worth trying out though.'"
      ]
     },
     "execution_count": 304,
     "metadata": {},
     "output_type": "execute_result"
    }
   ],
   "source": [
    "review.find('br').text.split('★'.decode('utf-8'))[0]"
   ]
  },
  {
   "cell_type": "code",
   "execution_count": 321,
   "metadata": {
    "collapsed": false
   },
   "outputs": [
    {
     "data": {
      "text/plain": [
       "[u'3.75', u'3.75', u'4', u'4.25', u'4']"
      ]
     },
     "execution_count": 321,
     "metadata": {},
     "output_type": "execute_result"
    }
   ],
   "source": [
    "[x.split(':')[1].strip() for x in breakdown[0].split('|')]"
   ]
  },
  {
   "cell_type": "code",
   "execution_count": 330,
   "metadata": {
    "collapsed": false
   },
   "outputs": [
    {
     "data": {
      "text/plain": [
       "{u'feel': u'4.25',\n",
       " u'look': u'3.75',\n",
       " u'overall': u'4',\n",
       " u'smell': u'3.75',\n",
       " u'taste': u'4'}"
      ]
     },
     "execution_count": 330,
     "metadata": {},
     "output_type": "execute_result"
    }
   ],
   "source": [
    "ß{x[0].strip():x[1].strip() for x in [x.split(\":\") for x in breakdown[0].split('|')]}"
   ]
  },
  {
   "cell_type": "code",
   "execution_count": 320,
   "metadata": {
    "collapsed": false
   },
   "outputs": [
    {
     "name": "stdout",
     "output_type": "stream",
     "text": [
      "This IPA pours a slightly opaque, murky tannish orange color with a medium foamy white head. The scent is not too strong, but definitely hop oriented with some pine and citrus character. The taste is pretty hoppy also, but actually more balanced then I thought it would be. In the initial taste there are some nice grapefruit and orange notes balanced by a fairly hearty toasted bread malt flavor. In the aftertaste the hops take over imparting a pretty strong piney bitterness. The finish is semi-dry. The body is medium, maybe even slightly on the higher end of medium. This is a solid both hop and malt forward IPA. I appreciate the boldness of it. Its complexity may be slightly lacking, however, and it has a pretty standard IPA flavor profile. Still an IPA worth trying out though.\n"
     ]
    }
   ],
   "source": [
    "print breakdown[1].split('★'.decode('utf-8'))[0]"
   ]
  },
  {
   "cell_type": "code",
   "execution_count": 342,
   "metadata": {
    "collapsed": true
   },
   "outputs": [],
   "source": [
    "beer = get_soup('https://www.beeradvocate.com/beer/profile/735/20781/')"
   ]
  }
 ],
 "metadata": {
  "anaconda-cloud": {},
  "kernelspec": {
   "display_name": "Python [Root]",
   "language": "python",
   "name": "Python [Root]"
  },
  "language_info": {
   "codemirror_mode": {
    "name": "ipython",
    "version": 2
   },
   "file_extension": ".py",
   "mimetype": "text/x-python",
   "name": "python",
   "nbconvert_exporter": "python",
   "pygments_lexer": "ipython2",
   "version": "2.7.12"
  }
 },
 "nbformat": 4,
 "nbformat_minor": 0
}
