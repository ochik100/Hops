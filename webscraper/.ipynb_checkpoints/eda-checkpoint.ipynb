{
 "cells": [
  {
   "cell_type": "code",
   "execution_count": 1,
   "metadata": {
    "collapsed": true
   },
   "outputs": [],
   "source": [
    "import requests\n",
    "from bs4 import BeautifulSoup"
   ]
  },
  {
   "cell_type": "code",
   "execution_count": 2,
   "metadata": {
    "collapsed": true
   },
   "outputs": [],
   "source": [
    "def get_soup(url):\n",
    "    '''\n",
    "    Get soup from given url\n",
    "    INPUT:\n",
    "        url (str): URL to be soupified\n",
    "    OUTPUT:\n",
    "        soup (BeautifulSoup): soupified url\n",
    "    '''\n",
    "    content = requests.get(url).content\n",
    "    soup = BeautifulSoup(content, 'html.parser')\n",
    "    return soup"
   ]
  },
  {
   "cell_type": "code",
   "execution_count": 25,
   "metadata": {
    "collapsed": true
   },
   "outputs": [],
   "source": [
    "base_url = 'https://www.beeradvocate.com{}'\n",
    "url = 'https://www.beeradvocate.com/place/'\n",
    "soup = get_soup(url)"
   ]
  },
  {
   "cell_type": "code",
   "execution_count": 31,
   "metadata": {
    "collapsed": false
   },
   "outputs": [],
   "source": [
    "location_urls = {}\n",
    "for tag in soup.find_all('div', class_='break'):\n",
    "    for a in tag.find_all('a'):\n",
    "        if 'directory' in a['href']:\n",
    "            location_urls[a.text] = base_url.format(a['href'])"
   ]
  },
  {
   "cell_type": "code",
   "execution_count": 140,
   "metadata": {
    "collapsed": false
   },
   "outputs": [
    {
     "data": {
      "text/plain": [
       "{u'Alabama': 'https://www.beeradvocate.com/place/directory/9/US/AL/',\n",
       " u'Alaska': 'https://www.beeradvocate.com/place/directory/9/US/AK/',\n",
       " u'Arizona': 'https://www.beeradvocate.com/place/directory/9/US/AZ/',\n",
       " u'Arkansas': 'https://www.beeradvocate.com/place/directory/9/US/AR/',\n",
       " u'Australia': 'https://www.beeradvocate.com/place/directory/10/AU/',\n",
       " u'Belgium': 'https://www.beeradvocate.com/place/directory/6/BE/',\n",
       " u'California': 'https://www.beeradvocate.com/place/directory/9/US/CA/',\n",
       " u'Canada': 'https://www.beeradvocate.com/place/directory/9/CA/',\n",
       " u'Colorado': 'https://www.beeradvocate.com/place/directory/9/US/CO/',\n",
       " u'Connecticut': 'https://www.beeradvocate.com/place/directory/9/US/CT/',\n",
       " u'Czech Republic': 'https://www.beeradvocate.com/place/directory/6/CZ/',\n",
       " u'Delaware': 'https://www.beeradvocate.com/place/directory/9/US/DE/',\n",
       " u'Denmark': 'https://www.beeradvocate.com/place/directory/6/DK/',\n",
       " u'District of Columbia': 'https://www.beeradvocate.com/place/directory/9/US/DC/',\n",
       " u'Florida': 'https://www.beeradvocate.com/place/directory/9/US/FL/',\n",
       " u'France': 'https://www.beeradvocate.com/place/directory/6/FR/',\n",
       " u'Georgia': 'https://www.beeradvocate.com/place/directory/9/US/GA/',\n",
       " u'Germany': 'https://www.beeradvocate.com/place/directory/6/DE/',\n",
       " u'Hawaii': 'https://www.beeradvocate.com/place/directory/9/US/HI/',\n",
       " u'Idaho': 'https://www.beeradvocate.com/place/directory/9/US/ID/',\n",
       " u'Illinois': 'https://www.beeradvocate.com/place/directory/9/US/IL/',\n",
       " u'Indiana': 'https://www.beeradvocate.com/place/directory/9/US/IN/',\n",
       " u'Iowa': 'https://www.beeradvocate.com/place/directory/9/US/IA/',\n",
       " u'Japan': 'https://www.beeradvocate.com/place/directory/3/JP/',\n",
       " u'Kansas': 'https://www.beeradvocate.com/place/directory/9/US/KS/',\n",
       " u'Kentucky': 'https://www.beeradvocate.com/place/directory/9/US/KY/',\n",
       " u'Louisiana': 'https://www.beeradvocate.com/place/directory/9/US/LA/',\n",
       " u'Maine': 'https://www.beeradvocate.com/place/directory/9/US/ME/',\n",
       " u'Maryland': 'https://www.beeradvocate.com/place/directory/9/US/MD/',\n",
       " u'Massachusetts': 'https://www.beeradvocate.com/place/directory/9/US/MA/',\n",
       " u'Michigan': 'https://www.beeradvocate.com/place/directory/9/US/MI/',\n",
       " u'Minnesota': 'https://www.beeradvocate.com/place/directory/9/US/MN/',\n",
       " u'Mississippi': 'https://www.beeradvocate.com/place/directory/9/US/MS/',\n",
       " u'Missouri': 'https://www.beeradvocate.com/place/directory/9/US/MO/',\n",
       " u'Montana': 'https://www.beeradvocate.com/place/directory/9/US/MT/',\n",
       " u'Nebraska': 'https://www.beeradvocate.com/place/directory/9/US/NE/',\n",
       " u'Netherlands': 'https://www.beeradvocate.com/place/directory/6/NL/',\n",
       " u'Nevada': 'https://www.beeradvocate.com/place/directory/9/US/NV/',\n",
       " u'New Hampshire': 'https://www.beeradvocate.com/place/directory/9/US/NH/',\n",
       " u'New Jersey': 'https://www.beeradvocate.com/place/directory/9/US/NJ/',\n",
       " u'New Mexico': 'https://www.beeradvocate.com/place/directory/9/US/NM/',\n",
       " u'New York': 'https://www.beeradvocate.com/place/directory/9/US/NY/',\n",
       " u'North Carolina': 'https://www.beeradvocate.com/place/directory/9/US/NC/',\n",
       " u'North Dakota': 'https://www.beeradvocate.com/place/directory/9/US/ND/',\n",
       " u'Ohio': 'https://www.beeradvocate.com/place/directory/9/US/OH/',\n",
       " u'Oklahoma': 'https://www.beeradvocate.com/place/directory/9/US/OK/',\n",
       " u'Oregon': 'https://www.beeradvocate.com/place/directory/9/US/OR/',\n",
       " u'Pennsylvania': 'https://www.beeradvocate.com/place/directory/9/US/PA/',\n",
       " u'Rhode Island': 'https://www.beeradvocate.com/place/directory/9/US/RI/',\n",
       " u'Russian Federation': 'https://www.beeradvocate.com/place/directory/3/RU/',\n",
       " u'South Carolina': 'https://www.beeradvocate.com/place/directory/9/US/SC/',\n",
       " u'South Dakota': 'https://www.beeradvocate.com/place/directory/9/US/SD/',\n",
       " u'Sweden': 'https://www.beeradvocate.com/place/directory/6/SE/',\n",
       " u'Tennessee': 'https://www.beeradvocate.com/place/directory/9/US/TN/',\n",
       " u'Texas': 'https://www.beeradvocate.com/place/directory/9/US/TX/',\n",
       " u'United Kingdom': 'https://www.beeradvocate.com/place/directory/6/GB/',\n",
       " u'Utah': 'https://www.beeradvocate.com/place/directory/9/US/UT/',\n",
       " u'Vermont': 'https://www.beeradvocate.com/place/directory/9/US/VT/',\n",
       " u'Virginia': 'https://www.beeradvocate.com/place/directory/9/US/VA/',\n",
       " u'Washington': 'https://www.beeradvocate.com/place/directory/9/US/WA/',\n",
       " u'West Virginia': 'https://www.beeradvocate.com/place/directory/9/US/WV/',\n",
       " u'Wisconsin': 'https://www.beeradvocate.com/place/directory/9/US/WI/',\n",
       " u'Wyoming': 'https://www.beeradvocate.com/place/directory/9/US/WY/'}"
      ]
     },
     "execution_count": 140,
     "metadata": {},
     "output_type": "execute_result"
    }
   ],
   "source": [
    "location_urls"
   ]
  },
  {
   "cell_type": "code",
   "execution_count": null,
   "metadata": {
    "collapsed": false
   },
   "outputs": [],
   "source": []
  },
  {
   "cell_type": "code",
   "execution_count": 33,
   "metadata": {
    "collapsed": false
   },
   "outputs": [],
   "source": [
    "ca_soup = get_soup('https://www.beeradvocate.com/place/directory/9/US/CA/')"
   ]
  },
  {
   "cell_type": "code",
   "execution_count": 219,
   "metadata": {
    "collapsed": false
   },
   "outputs": [
    {
     "name": "stdout",
     "output_type": "stream",
     "text": [
      "Breweries\n",
      "https://www.beeradvocate.com/place/list/?c_id=US&s_id=CA&brewery=Y\n"
     ]
    }
   ],
   "source": [
    "places = {}\n",
    "for tag in ca_soup.find('table').find('table').find_all('a')[:1]:\n",
    "    print tag.text.split()[0]\n",
    "    print base_url.format(tag['href'])\n",
    "#     places[tag.text.split()[0]] = base_url.format(tag['href'])"
   ]
  },
  {
   "cell_type": "code",
   "execution_count": 60,
   "metadata": {
    "collapsed": false
   },
   "outputs": [
    {
     "data": {
      "text/plain": [
       "{u'Bars': 'https://www.beeradvocate.com/place/list/?c_id=US&s_id=CA&bar=Y',\n",
       " u'Breweries': 'https://www.beeradvocate.com/place/list/?c_id=US&s_id=CA&brewery=Y',\n",
       " u'Eateries': 'https://www.beeradvocate.com/place/list/?c_id=US&s_id=CA&eatery=Y',\n",
       " u'Homebrew': 'https://www.beeradvocate.com/place/list/?c_id=US&s_id=CA&homebrew=Y',\n",
       " u'Stores': 'https://www.beeradvocate.com/place/list/?c_id=US&s_id=CA&store=Y'}"
      ]
     },
     "execution_count": 60,
     "metadata": {},
     "output_type": "execute_result"
    }
   ],
   "source": [
    "places"
   ]
  },
  {
   "cell_type": "code",
   "execution_count": 338,
   "metadata": {
    "collapsed": false
   },
   "outputs": [],
   "source": [
    "breweries = {}\n",
    "breweries_soup = get_soup('https://www.beeradvocate.com/place/list/?c_id=US&s_id=ND&brewery=Y')\n",
    "urls = []\n",
    "names = []\n",
    "addresses = []\n",
    "for tag in breweries_soup.find('table').find_all('tr')[3:-1:2]:\n",
    "    urls.append(base_url.format(tag.find('a')['href']))\n",
    "    names.append(tag.find('a').text)\n",
    "#     print tag.find('a').text\n",
    "#     if 'profile' in tag.find('a')['href']:\n",
    "#         breweries[base_url.format(tag.find('a')['href'])] = tag.find('a').text\n",
    "#     print tag.find('tr')\n",
    "for tag in breweries_soup.find('table').find_all('tr')[4:-1:2]:\n",
    "    addresses.append(tag.find('td', class_='hr_bottom_dark').get_text(' '))"
   ]
  },
  {
   "cell_type": "code",
   "execution_count": 341,
   "metadata": {
    "collapsed": false
   },
   "outputs": [
    {
     "name": "stdout",
     "output_type": "stream",
     "text": [
      "None\n"
     ]
    }
   ],
   "source": [
    "brews = dict(zip(urls, zip(names, addresses)))\n",
    "page_info = breweries_soup.find('table').find_all('tr')\n",
    "try:\n",
    "    next_page = page_info[1].find_all('a')[-2]['href']\n",
    "except:\n",
    "    next_page = None\n",
    "print next_page"
   ]
  },
  {
   "cell_type": "code",
   "execution_count": 211,
   "metadata": {
    "collapsed": false
   },
   "outputs": [
    {
     "name": "stdout",
     "output_type": "stream",
     "text": [
      "[3.74, 65.0, 113.0, 260.0, 3.88]\n"
     ]
    }
   ],
   "source": [
    "brew_soup = get_soup('https://www.beeradvocate.com/beer/profile/735/')\n",
    "info = []\n",
    "for tag in brew_soup.find_all('div', class_='break'):\n",
    "    for span in tag.find_all('span'):\n",
    "        try:\n",
    "            info.append(float(span.text))\n",
    "        except:\n",
    "            pass\n",
    "print info\n",
    "titles = ['beer_avg', 'num_beers', 'num_place_reviews', 'num_place_ratings', 'place_avg']\n",
    "brew_info = dict(zip(titles, info))"
   ]
  },
  {
   "cell_type": "code",
   "execution_count": 212,
   "metadata": {
    "collapsed": false
   },
   "outputs": [
    {
     "data": {
      "text/plain": [
       "{'beer_avg': 3.74,\n",
       " 'num_beers': 65.0,\n",
       " 'num_place_ratings': 260.0,\n",
       " 'num_place_reviews': 113.0,\n",
       " 'place_avg': 3.88}"
      ]
     },
     "execution_count": 212,
     "metadata": {},
     "output_type": "execute_result"
    }
   ],
   "source": [
    "brew_info"
   ]
  },
  {
   "cell_type": "code",
   "execution_count": 188,
   "metadata": {
    "collapsed": false
   },
   "outputs": [],
   "source": [
    "beers_soup = get_soup('https://www.beeradvocate.com/beer/profile/735/')\n",
    "beer_info = {}\n",
    "titles = ['beer_name', 'beer_style', 'abv', 'avg_rating', 'num_ratings', 'bros']\n",
    "for tag in beers_soup.find('table').find_all('tr')[3:]:\n",
    "#     print tag.get_text(', ')\n",
    "    url = base_url.format(tag.find('a')['href'])\n",
    "    clean = [x.strip() for x in tag.get_text('\\n').split('\\n')]\n",
    "    beer_info[url] = dict(zip(titles, clean))"
   ]
  },
  {
   "cell_type": "code",
   "execution_count": 181,
   "metadata": {
    "collapsed": false
   },
   "outputs": [
    {
     "data": {
      "text/plain": [
       "{'https://www.beeradvocate.com/beer/profile/735/100314/': {'abv': u'8.20',\n",
       "  'avg_rating': u'3.8',\n",
       "  'beer_name': u'He Said (Tripel)',\n",
       "  'beer_type': u'Tripel',\n",
       "  'bros': u'90',\n",
       "  'num_ratings': u'504'},\n",
       " 'https://www.beeradvocate.com/beer/profile/735/100316/': {'abv': u'8.20',\n",
       "  'avg_rating': u'3.71',\n",
       "  'beer_name': u'He Said (Baltic Porter)',\n",
       "  'beer_type': u'Baltic Porter',\n",
       "  'bros': u'80',\n",
       "  'num_ratings': u'512'},\n",
       " 'https://www.beeradvocate.com/beer/profile/735/105830/': {'abv': u'7.10',\n",
       "  'avg_rating': u'4.1',\n",
       "  'beer_name': u'OG IPA',\n",
       "  'beer_type': u'American IPA',\n",
       "  'bros': u'-',\n",
       "  'num_ratings': u'1'},\n",
       " 'https://www.beeradvocate.com/beer/profile/735/108465/': {'abv': u'4.40',\n",
       "  'avg_rating': u'-',\n",
       "  'beer_name': u'MCA Stout',\n",
       "  'beer_type': u'American Stout',\n",
       "  'bros': u'-',\n",
       "  'num_ratings': u'16'},\n",
       " 'https://www.beeradvocate.com/beer/profile/735/10938/': {'abv': u'11.50',\n",
       "  'avg_rating': u'3.77',\n",
       "  'beer_name': u'Lower De Boom Barleywine',\n",
       "  'beer_type': u'American Barleywine',\n",
       "  'bros': u'-',\n",
       "  'num_ratings': u'779'},\n",
       " 'https://www.beeradvocate.com/beer/profile/735/10942/': {'abv': u'4.90',\n",
       "  'avg_rating': u'3.44',\n",
       "  'beer_name': u'Oyster Point Oyster Stout',\n",
       "  'beer_type': u'English Stout',\n",
       "  'bros': u'-',\n",
       "  'num_ratings': u'39'},\n",
       " 'https://www.beeradvocate.com/beer/profile/735/113675/': {'abv': u'9.90',\n",
       "  'avg_rating': u'3.83',\n",
       "  'beer_name': u'Beast Of Burden',\n",
       "  'beer_type': u'Belgian IPA',\n",
       "  'bros': u'-',\n",
       "  'num_ratings': u'3'},\n",
       " 'https://www.beeradvocate.com/beer/profile/735/113676/': {'abv': u'12.80',\n",
       "  'avg_rating': u'3.95',\n",
       "  'beer_name': u'Red Titan',\n",
       "  'beer_type': u'American Strong Ale',\n",
       "  'bros': u'-',\n",
       "  'num_ratings': u'2'},\n",
       " 'https://www.beeradvocate.com/beer/profile/735/113677/': {'abv': u'9.60',\n",
       "  'avg_rating': u'3.89',\n",
       "  'beer_name': u'Bike Lane Hopper',\n",
       "  'beer_type': u'American Black Ale',\n",
       "  'bros': u'-',\n",
       "  'num_ratings': u'8'},\n",
       " 'https://www.beeradvocate.com/beer/profile/735/114405/': {'abv': u'7.00',\n",
       "  'avg_rating': u'3.86',\n",
       "  'beer_name': u'Brew Free Or Die IPA',\n",
       "  'beer_type': u'American IPA',\n",
       "  'bros': u'-',\n",
       "  'num_ratings': u'971'},\n",
       " 'https://www.beeradvocate.com/beer/profile/735/118414/': {'abv': u'5.60',\n",
       "  'avg_rating': u'4.06',\n",
       "  'beer_name': u'Springtime For Hallertau',\n",
       "  'beer_type': u'American Pale Ale (APA)',\n",
       "  'bros': u'-',\n",
       "  'num_ratings': u'2'},\n",
       " 'https://www.beeradvocate.com/beer/profile/735/122364/': {'abv': u'5.50',\n",
       "  'avg_rating': u'3.38',\n",
       "  'beer_name': u'The White Flame',\n",
       "  'beer_type': u'American Pale Wheat Ale',\n",
       "  'bros': u'-',\n",
       "  'num_ratings': u'2'},\n",
       " 'https://www.beeradvocate.com/beer/profile/735/130642/': {'abv': u'5.20',\n",
       "  'avg_rating': u'4',\n",
       "  'beer_name': u\"Grampa's Trike\",\n",
       "  'beer_type': u'American Pale Ale (APA)',\n",
       "  'bros': u'-',\n",
       "  'num_ratings': u'1'},\n",
       " 'https://www.beeradvocate.com/beer/profile/735/138372/': {'abv': u'8.40',\n",
       "  'avg_rating': u'-',\n",
       "  'beer_name': u'California Love',\n",
       "  'beer_type': u'American Double / Imperial Stout',\n",
       "  'bros': u'-',\n",
       "  'num_ratings': u'1'},\n",
       " 'https://www.beeradvocate.com/beer/profile/735/138381/': {'abv': u'8.40',\n",
       "  'avg_rating': u'3.88',\n",
       "  'beer_name': u'California Love Oaked Imperial Red Ale',\n",
       "  'beer_type': u'American Double / Imperial IPA',\n",
       "  'bros': u'-',\n",
       "  'num_ratings': u'2'},\n",
       " 'https://www.beeradvocate.com/beer/profile/735/139936/': {'abv': u'8.00',\n",
       "  'avg_rating': u'4.05',\n",
       "  'beer_name': u'Blah Blah Blah IPA',\n",
       "  'beer_type': u'American Double / Imperial IPA',\n",
       "  'bros': u'-',\n",
       "  'num_ratings': u'96'},\n",
       " 'https://www.beeradvocate.com/beer/profile/735/142476/': {'abv': u'7.60',\n",
       "  'avg_rating': u'3.75',\n",
       "  'beer_name': u'Personality Crisis IPA',\n",
       "  'beer_type': u'American IPA',\n",
       "  'bros': u'-',\n",
       "  'num_ratings': u'1'},\n",
       " 'https://www.beeradvocate.com/beer/profile/735/149991/': {'abv': u'7.50',\n",
       "  'avg_rating': u'-',\n",
       "  'beer_name': u'Red Dwarf',\n",
       "  'beer_type': u'American IPA',\n",
       "  'bros': u'-',\n",
       "  'num_ratings': u'2'},\n",
       " 'https://www.beeradvocate.com/beer/profile/735/154937/': {'abv': u'4.40',\n",
       "  'avg_rating': u'3.82',\n",
       "  'beer_name': u'Down To Earth Session IPA',\n",
       "  'beer_type': u'American IPA',\n",
       "  'bros': u'-',\n",
       "  'num_ratings': u'399'},\n",
       " 'https://www.beeradvocate.com/beer/profile/735/156567/': {'abv': u'9.50',\n",
       "  'avg_rating': u'-',\n",
       "  'beer_name': u'POHW',\n",
       "  'beer_type': u'American Strong Ale',\n",
       "  'bros': u'-',\n",
       "  'num_ratings': u'0'},\n",
       " 'https://www.beeradvocate.com/beer/profile/735/170133/': {'abv': u'5.00',\n",
       "  'avg_rating': u'3.77',\n",
       "  'beer_name': u'Conventioneer',\n",
       "  'beer_type': u'American Blonde Ale',\n",
       "  'bros': u'-',\n",
       "  'num_ratings': u'3'},\n",
       " 'https://www.beeradvocate.com/beer/profile/735/173897/': {'abv': u'6.20',\n",
       "  'avg_rating': u'3.75',\n",
       "  'beer_name': u'Hops For Heroes: Homefront IPA',\n",
       "  'beer_type': u'American IPA',\n",
       "  'bros': u'-',\n",
       "  'num_ratings': u'1'},\n",
       " 'https://www.beeradvocate.com/beer/profile/735/177014/': {'abv': u'5.10',\n",
       "  'avg_rating': u'-',\n",
       "  'beer_name': u'San Leandro Cherry Wheat',\n",
       "  'beer_type': u'Witbier',\n",
       "  'bros': u'-',\n",
       "  'num_ratings': u'2'},\n",
       " 'https://www.beeradvocate.com/beer/profile/735/177015/': {'abv': u'6.10',\n",
       "  'avg_rating': u'3.64',\n",
       "  'beer_name': u'Hopduster',\n",
       "  'beer_type': u'American Pale Ale (APA)',\n",
       "  'bros': u'-',\n",
       "  'num_ratings': u'3'},\n",
       " 'https://www.beeradvocate.com/beer/profile/735/177016/': {'abv': u'5.80',\n",
       "  'avg_rating': u'3.72',\n",
       "  'beer_name': u'NorCal Middle-Earth',\n",
       "  'beer_type': u'American Pale Ale (APA)',\n",
       "  'bros': u'-',\n",
       "  'num_ratings': u'2'},\n",
       " 'https://www.beeradvocate.com/beer/profile/735/185213/': {'abv': u'7.60',\n",
       "  'avg_rating': u'3.99',\n",
       "  'beer_name': u'Toaster Pastry',\n",
       "  'beer_type': u'American Amber / Red Ale',\n",
       "  'bros': u'-',\n",
       "  'num_ratings': u'584'},\n",
       " 'https://www.beeradvocate.com/beer/profile/735/187539/': {'abv': u'4.80',\n",
       "  'avg_rating': u'3.47',\n",
       "  'beer_name': u'El Sully',\n",
       "  'beer_type': u'American Adjunct Lager',\n",
       "  'bros': u'-',\n",
       "  'num_ratings': u'154'},\n",
       " 'https://www.beeradvocate.com/beer/profile/735/197482/': {'abv': u'5.60',\n",
       "  'avg_rating': u'3.59',\n",
       "  'beer_name': u'Dr. Frudi',\n",
       "  'beer_type': u'American Pale Ale (APA)',\n",
       "  'bros': u'-',\n",
       "  'num_ratings': u'3'},\n",
       " 'https://www.beeradvocate.com/beer/profile/735/197483/': {'abv': u'6.80',\n",
       "  'avg_rating': u'3.75',\n",
       "  'beer_name': u'Dankopotamus',\n",
       "  'beer_type': u'American IPA',\n",
       "  'bros': u'-',\n",
       "  'num_ratings': u'1'},\n",
       " 'https://www.beeradvocate.com/beer/profile/735/197485/': {'abv': u'6.50',\n",
       "  'avg_rating': u'3.75',\n",
       "  'beer_name': u'Two Rivers Cider',\n",
       "  'beer_type': u'Fruit / Vegetable Beer',\n",
       "  'bros': u'-',\n",
       "  'num_ratings': u'1'},\n",
       " 'https://www.beeradvocate.com/beer/profile/735/197486/': {'abv': u'5.40',\n",
       "  'avg_rating': u'4',\n",
       "  'beer_name': u'Starry Night',\n",
       "  'beer_type': u'American Porter',\n",
       "  'bros': u'-',\n",
       "  'num_ratings': u'1'},\n",
       " 'https://www.beeradvocate.com/beer/profile/735/20781/': {'abv': u'7.00',\n",
       "  'avg_rating': u'3.82',\n",
       "  'beer_name': u'21st Amendment IPA',\n",
       "  'beer_type': u'American IPA',\n",
       "  'bros': u'90',\n",
       "  'num_ratings': u'2,344'},\n",
       " 'https://www.beeradvocate.com/beer/profile/735/215031/': {'abv': u'8.80',\n",
       "  'avg_rating': u'3.69',\n",
       "  'beer_name': u'Morning After Pilz',\n",
       "  'beer_type': u'German Pilsener',\n",
       "  'bros': u'-',\n",
       "  'num_ratings': u'1'},\n",
       " 'https://www.beeradvocate.com/beer/profile/735/215033/': {'abv': u'10.10',\n",
       "  'avg_rating': u'3.99',\n",
       "  'beer_name': u'The Mighty Quinn',\n",
       "  'beer_type': u'American Double / Imperial IPA',\n",
       "  'bros': u'-',\n",
       "  'num_ratings': u'1'},\n",
       " 'https://www.beeradvocate.com/beer/profile/735/215034/': {'abv': u'8.80',\n",
       "  'avg_rating': u'3.96',\n",
       "  'beer_name': u'Motor Oil',\n",
       "  'beer_type': u'American Strong Ale',\n",
       "  'bros': u'-',\n",
       "  'num_ratings': u'1'},\n",
       " 'https://www.beeradvocate.com/beer/profile/735/215035/': {'abv': u'10.90',\n",
       "  'avg_rating': u'3.9',\n",
       "  'beer_name': u\"Manu's Morning\",\n",
       "  'beer_type': u'American Double / Imperial Stout',\n",
       "  'bros': u'-',\n",
       "  'num_ratings': u'1'},\n",
       " 'https://www.beeradvocate.com/beer/profile/735/231510/': {'abv': u'7.50',\n",
       "  'avg_rating': u'-',\n",
       "  'beer_name': u'Duocracy',\n",
       "  'beer_type': u'American Double / Imperial IPA',\n",
       "  'bros': u'-',\n",
       "  'num_ratings': u'2'},\n",
       " 'https://www.beeradvocate.com/beer/profile/735/234718/': {'abv': u'6.70',\n",
       "  'avg_rating': u'3.56',\n",
       "  'beer_name': u'Generation Ale-ive',\n",
       "  'beer_type': u'American IPA',\n",
       "  'bros': u'-',\n",
       "  'num_ratings': u'1'},\n",
       " 'https://www.beeradvocate.com/beer/profile/735/243156/': {'abv': u'?',\n",
       "  'avg_rating': u'-',\n",
       "  'beer_name': u'Phoenix Pale Ale',\n",
       "  'beer_type': u'American Pale Ale (APA)',\n",
       "  'bros': u'-',\n",
       "  'num_ratings': u'1'},\n",
       " 'https://www.beeradvocate.com/beer/profile/735/243157/': {'abv': u'?',\n",
       "  'avg_rating': u'-',\n",
       "  'beer_name': u'Prototype IPA',\n",
       "  'beer_type': u'American IPA',\n",
       "  'bros': u'-',\n",
       "  'num_ratings': u'1'},\n",
       " 'https://www.beeradvocate.com/beer/profile/735/252200/': {'abv': u'4.00',\n",
       "  'avg_rating': u'-',\n",
       "  'beer_name': u'Golden Sunshine',\n",
       "  'beer_type': u'Berliner Weissbier',\n",
       "  'bros': u'-',\n",
       "  'num_ratings': u'3'},\n",
       " 'https://www.beeradvocate.com/beer/profile/735/252203/': {'abv': u'7.10',\n",
       "  'avg_rating': u'-',\n",
       "  'beer_name': u'Blood Orange IPA',\n",
       "  'beer_type': u'American IPA',\n",
       "  'bros': u'-',\n",
       "  'num_ratings': u'1'},\n",
       " 'https://www.beeradvocate.com/beer/profile/735/258493/': {'abv': u'9.50',\n",
       "  'avg_rating': u'3.4',\n",
       "  'beer_name': u'El Camino (un)Real',\n",
       "  'beer_type': u'American Black Ale',\n",
       "  'bros': u'-',\n",
       "  'num_ratings': u'1'},\n",
       " 'https://www.beeradvocate.com/beer/profile/735/2995/': {'abv': u'5.10',\n",
       "  'avg_rating': u'3.54',\n",
       "  'beer_name': u'South Park Blonde',\n",
       "  'beer_type': u'American Blonde Ale',\n",
       "  'bros': u'-',\n",
       "  'num_ratings': u'33'},\n",
       " 'https://www.beeradvocate.com/beer/profile/735/4202/': {'abv': u'4.90',\n",
       "  'avg_rating': u'3.3',\n",
       "  'beer_name': u'Hell Or High Watermelon Wheat Beer',\n",
       "  'beer_type': u'Fruit / Vegetable Beer',\n",
       "  'bros': u'80',\n",
       "  'num_ratings': u'2,708'},\n",
       " 'https://www.beeradvocate.com/beer/profile/735/42063/': {'abv': u'9.70',\n",
       "  'avg_rating': u'3.97',\n",
       "  'beer_name': u'Hop Crisis',\n",
       "  'beer_type': u'American Double / Imperial IPA',\n",
       "  'bros': u'87',\n",
       "  'num_ratings': u'1,635'},\n",
       " 'https://www.beeradvocate.com/beer/profile/735/45648/': {'abv': u'6.40',\n",
       "  'avg_rating': u'3.96',\n",
       "  'beer_name': u'Harvest Moon',\n",
       "  'beer_type': u'American IPA',\n",
       "  'bros': u'-',\n",
       "  'num_ratings': u'16'},\n",
       " 'https://www.beeradvocate.com/beer/profile/735/46070/': {'abv': u'6.80',\n",
       "  'avg_rating': u'3.68',\n",
       "  'beer_name': u'Back In Black',\n",
       "  'beer_type': u'American Black Ale',\n",
       "  'bros': u'72',\n",
       "  'num_ratings': u'2,368'},\n",
       " 'https://www.beeradvocate.com/beer/profile/735/52510/': {'abv': u'8.30',\n",
       "  'avg_rating': u'3.8',\n",
       "  'beer_name': u\"Monk's Blood\",\n",
       "  'beer_type': u'Belgian Strong Dark Ale',\n",
       "  'bros': u'-',\n",
       "  'num_ratings': u'1,400'},\n",
       " 'https://www.beeradvocate.com/beer/profile/735/56656/': {'abv': u'6.00',\n",
       "  'avg_rating': u'3.97',\n",
       "  'beer_name': u'5-South',\n",
       "  'beer_type': u'American Pale Ale (APA)',\n",
       "  'bros': u'-',\n",
       "  'num_ratings': u'34'},\n",
       " 'https://www.beeradvocate.com/beer/profile/735/58100/': {'abv': u'7.00',\n",
       "  'avg_rating': u'3.72',\n",
       "  'beer_name': u'Gigantes',\n",
       "  'beer_type': u'American IPA',\n",
       "  'bros': u'-',\n",
       "  'num_ratings': u'42'},\n",
       " 'https://www.beeradvocate.com/beer/profile/735/60560/': {'abv': u'5.40',\n",
       "  'avg_rating': u'3.76',\n",
       "  'beer_name': u'Amber Waves',\n",
       "  'beer_type': u'American Amber / Red Ale',\n",
       "  'bros': u'-',\n",
       "  'num_ratings': u'19'},\n",
       " 'https://www.beeradvocate.com/beer/profile/735/60563/': {'abv': u'9.30',\n",
       "  'avg_rating': u'3.18',\n",
       "  'beer_name': u\"Hendrik's Russian Imperial Stout\",\n",
       "  'beer_type': u'American Double / Imperial Stout',\n",
       "  'bros': u'-',\n",
       "  'num_ratings': u'14'},\n",
       " 'https://www.beeradvocate.com/beer/profile/735/62732/': {'abv': u'7.90',\n",
       "  'avg_rating': u'3.43',\n",
       "  'beer_name': u'Fireside Chat',\n",
       "  'beer_type': u'Winter Warmer',\n",
       "  'bros': u'80',\n",
       "  'num_ratings': u'1,240'},\n",
       " 'https://www.beeradvocate.com/beer/profile/735/63572/': {'abv': u'8.30',\n",
       "  'avg_rating': u'3.59',\n",
       "  'beer_name': u'Drunken Monk Ale',\n",
       "  'beer_type': u'Belgian Strong Dark Ale',\n",
       "  'bros': u'-',\n",
       "  'num_ratings': u'16'},\n",
       " 'https://www.beeradvocate.com/beer/profile/735/72440/': {'abv': u'7.30',\n",
       "  'avg_rating': u'3.8',\n",
       "  'beer_name': u'Old Glory',\n",
       "  'beer_type': u'American Strong Ale',\n",
       "  'bros': u'-',\n",
       "  'num_ratings': u'11'},\n",
       " 'https://www.beeradvocate.com/beer/profile/735/83805/': {'abv': u'7.50',\n",
       "  'avg_rating': u'4.22',\n",
       "  'beer_name': u\"Devil's Friend\",\n",
       "  'beer_type': u'American Brown Ale',\n",
       "  'bros': u'-',\n",
       "  'num_ratings': u'3'},\n",
       " 'https://www.beeradvocate.com/beer/profile/735/86147/': {'abv': u'7.80',\n",
       "  'avg_rating': u'2.85',\n",
       "  'beer_name': u'Churchyard',\n",
       "  'beer_type': u'Extra Special / Strong Bitter (ESB)',\n",
       "  'bros': u'-',\n",
       "  'num_ratings': u'2'},\n",
       " 'https://www.beeradvocate.com/beer/profile/735/87764/': {'abv': u'7.90',\n",
       "  'avg_rating': u'3.89',\n",
       "  'beer_name': u'Marooned On Hog Island',\n",
       "  'beer_type': u'English Stout',\n",
       "  'bros': u'-',\n",
       "  'num_ratings': u'475'},\n",
       " 'https://www.beeradvocate.com/beer/profile/735/88654/': {'abv': u'6.20',\n",
       "  'avg_rating': u'3.57',\n",
       "  'beer_name': u'Sneak Attack Saison',\n",
       "  'beer_type': u'Saison / Farmhouse Ale',\n",
       "  'bros': u'83',\n",
       "  'num_ratings': u'613'},\n",
       " 'https://www.beeradvocate.com/beer/profile/735/92495/': {'abv': u'8.30',\n",
       "  'avg_rating': u'3.78',\n",
       "  'beer_name': u'Lord And Master',\n",
       "  'beer_type': u'Extra Special / Strong Bitter (ESB)',\n",
       "  'bros': u'-',\n",
       "  'num_ratings': u'3'},\n",
       " 'https://www.beeradvocate.com/beer/profile/735/94040/': {'abv': u'10.20',\n",
       "  'avg_rating': u'3.67',\n",
       "  'beer_name': u'Dub Step IPA',\n",
       "  'beer_type': u'American Double / Imperial IPA',\n",
       "  'bros': u'-',\n",
       "  'num_ratings': u'18'},\n",
       " 'https://www.beeradvocate.com/beer/profile/735/94042/': {'abv': u'10.50',\n",
       "  'avg_rating': u'3.91',\n",
       "  'beer_name': u'Nelson, Jade And Helga',\n",
       "  'beer_type': u'American Double / Imperial IPA',\n",
       "  'bros': u'-',\n",
       "  'num_ratings': u'4'},\n",
       " 'https://www.beeradvocate.com/beer/profile/735/94043/': {'abv': u'11.00',\n",
       "  'avg_rating': u'3.63',\n",
       "  'beer_name': u'Red Giant',\n",
       "  'beer_type': u'American Strong Ale',\n",
       "  'bros': u'-',\n",
       "  'num_ratings': u'3'},\n",
       " 'https://www.beeradvocate.com/beer/profile/735/96261/': {'abv': u'5.70',\n",
       "  'avg_rating': u'3.6',\n",
       "  'beer_name': u'Megra Nodelo',\n",
       "  'beer_type': u'American Amber / Red Lager',\n",
       "  'bros': u'-',\n",
       "  'num_ratings': u'3'}}"
      ]
     },
     "execution_count": 181,
     "metadata": {},
     "output_type": "execute_result"
    }
   ],
   "source": [
    "beer_info"
   ]
  },
  {
   "cell_type": "code",
   "execution_count": 226,
   "metadata": {
    "collapsed": false
   },
   "outputs": [
    {
     "name": "stdout",
     "output_type": "stream",
     "text": [
      "86\n"
     ]
    }
   ],
   "source": [
    "ipa_soup = get_soup('https://www.beeradvocate.com/beer/profile/735/20781/')\n",
    "info = []\n",
    "for tag in ipa_soup.find_all('div', class_='break'):\n",
    "    for span in tag.find_all('span')[:-2:]:\n",
    "        try:\n",
    "            info.append(float(span.text))\n",
    "        except:\n",
    "            pass\n",
    "print ipa_soup.find('div', class_='break').find('span').text"
   ]
  },
  {
   "cell_type": "code",
   "execution_count": 192,
   "metadata": {
    "collapsed": false
   },
   "outputs": [
    {
     "data": {
      "text/plain": [
       "[86.0, 828.0, 3.82]"
      ]
     },
     "execution_count": 192,
     "metadata": {},
     "output_type": "execute_result"
    }
   ],
   "source": [
    "info"
   ]
  },
  {
   "cell_type": "code",
   "execution_count": 193,
   "metadata": {
    "collapsed": true
   },
   "outputs": [],
   "source": [
    "beer = {'ba_score' : info[0], 'num_reviews' : info[1]}"
   ]
  },
  {
   "cell_type": "code",
   "execution_count": 194,
   "metadata": {
    "collapsed": false
   },
   "outputs": [
    {
     "data": {
      "text/plain": [
       "{'ba_score': 86.0, 'num_reviews': 828.0}"
      ]
     },
     "execution_count": 194,
     "metadata": {},
     "output_type": "execute_result"
    }
   ],
   "source": [
    "beer"
   ]
  },
  {
   "cell_type": "code",
   "execution_count": 221,
   "metadata": {
    "collapsed": false
   },
   "outputs": [
    {
     "data": {
      "text/plain": [
       "25"
      ]
     },
     "execution_count": 221,
     "metadata": {},
     "output_type": "execute_result"
    }
   ],
   "source": [
    "len(ipa_soup.find_all('div', class_='user-comment'))"
   ]
  },
  {
   "cell_type": "code",
   "execution_count": 251,
   "metadata": {
    "collapsed": true
   },
   "outputs": [],
   "source": [
    "review = ipa_soup.find_all('div', class_='user-comment')[1]"
   ]
  },
  {
   "cell_type": "code",
   "execution_count": 252,
   "metadata": {
    "collapsed": false
   },
   "outputs": [
    {
     "data": {
      "text/plain": [
       "u'3.95/5\\xa0\\xa0rDev +3.4%look: 3.75 | smell: 3.75 | taste: 4 | feel: 4.25 |  overall: 4This IPA pours a slightly opaque, murky tannish orange color with a medium foamy white head. The scent is not too strong, but definitely hop oriented with some pine and citrus character. The taste is pretty hoppy also, but actually more balanced then I thought it would be. In the initial taste there are some nice grapefruit and orange notes balanced by a fairly hearty toasted bread malt flavor. In the aftertaste the hops take over imparting a pretty strong piney bitterness. The finish is semi-dry. The body is medium, maybe even slightly on the higher end of medium. This is a solid both hop and malt forward IPA. I appreciate the boldness of it. Its complexity may be slightly lacking, however, and it has a pretty standard IPA flavor profile. Still an IPA worth trying out though.\\u2605\\xa0787 charactersBierliebhaber3, Sep 20, 2016'"
      ]
     },
     "execution_count": 252,
     "metadata": {},
     "output_type": "execute_result"
    }
   ],
   "source": [
    "review.text"
   ]
  },
  {
   "cell_type": "code",
   "execution_count": 317,
   "metadata": {
    "collapsed": false
   },
   "outputs": [
    {
     "name": "stdout",
     "output_type": "stream",
     "text": [
      "3.95\n",
      "look: 3.75 | smell: 3.75 | taste: 4 | feel: 4.25 |  overall: 4 lsdjf\n",
      "This IPA pours a slightly opaque, murky tannish orange color with a medium foamy white head. The scent is not too strong, but definitely hop oriented with some pine and citrus character. The taste is pretty hoppy also, but actually more balanced then I thought it would be. In the initial taste there are some nice grapefruit and orange notes balanced by a fairly hearty toasted bread malt flavor. In the aftertaste the hops take over imparting a pretty strong piney bitterness. The finish is semi-dry. The body is medium, maybe even slightly on the higher end of medium. This is a solid both hop and malt forward IPA. I appreciate the boldness of it. Its complexity may be slightly lacking, however, and it has a pretty standard IPA flavor profile. Still an IPA worth trying out though.★ 787 charactersBierliebhaber3, Sep 20, 2016 lsdjf\n"
     ]
    }
   ],
   "source": [
    "print review.find('span', class_='BAscore_norm').text\n",
    "# print review.find('span', class_='muted').text\n",
    "breakdown = []\n",
    "for tag in review.find_all('br')[0]:\n",
    "    breakdown.append(tag.text)\n",
    "    print tag.text"
   ]
  },
  {
   "cell_type": "code",
   "execution_count": 304,
   "metadata": {
    "collapsed": false
   },
   "outputs": [
    {
     "data": {
      "text/plain": [
       "u'look: 3.75 | smell: 3.75 | taste: 4 | feel: 4.25 |  overall: 4This IPA pours a slightly opaque, murky tannish orange color with a medium foamy white head. The scent is not too strong, but definitely hop oriented with some pine and citrus character. The taste is pretty hoppy also, but actually more balanced then I thought it would be. In the initial taste there are some nice grapefruit and orange notes balanced by a fairly hearty toasted bread malt flavor. In the aftertaste the hops take over imparting a pretty strong piney bitterness. The finish is semi-dry. The body is medium, maybe even slightly on the higher end of medium. This is a solid both hop and malt forward IPA. I appreciate the boldness of it. Its complexity may be slightly lacking, however, and it has a pretty standard IPA flavor profile. Still an IPA worth trying out though.'"
      ]
     },
     "execution_count": 304,
     "metadata": {},
     "output_type": "execute_result"
    }
   ],
   "source": [
    "review.find('br').text.split('★'.decode('utf-8'))[0]"
   ]
  },
  {
   "cell_type": "code",
   "execution_count": 321,
   "metadata": {
    "collapsed": false
   },
   "outputs": [
    {
     "data": {
      "text/plain": [
       "[u'3.75', u'3.75', u'4', u'4.25', u'4']"
      ]
     },
     "execution_count": 321,
     "metadata": {},
     "output_type": "execute_result"
    }
   ],
   "source": [
    "[x.split(':')[1].strip() for x in breakdown[0].split('|')]"
   ]
  },
  {
   "cell_type": "code",
   "execution_count": 330,
   "metadata": {
    "collapsed": false
   },
   "outputs": [
    {
     "data": {
      "text/plain": [
       "{u'feel': u'4.25',\n",
       " u'look': u'3.75',\n",
       " u'overall': u'4',\n",
       " u'smell': u'3.75',\n",
       " u'taste': u'4'}"
      ]
     },
     "execution_count": 330,
     "metadata": {},
     "output_type": "execute_result"
    }
   ],
   "source": [
    "\n",
    "{x[0].strip():x[1].strip() for x in [x.split(\":\") for x in breakdown[0].split('|')]}"
   ]
  },
  {
   "cell_type": "code",
   "execution_count": 318,
   "metadata": {
    "collapsed": false
   },
   "outputs": [
    {
     "data": {
      "text/plain": [
       "2"
      ]
     },
     "execution_count": 318,
     "metadata": {},
     "output_type": "execute_result"
    }
   ],
   "source": [
    "len(breakdown)"
   ]
  },
  {
   "cell_type": "code",
   "execution_count": 320,
   "metadata": {
    "collapsed": false
   },
   "outputs": [
    {
     "name": "stdout",
     "output_type": "stream",
     "text": [
      "This IPA pours a slightly opaque, murky tannish orange color with a medium foamy white head. The scent is not too strong, but definitely hop oriented with some pine and citrus character. The taste is pretty hoppy also, but actually more balanced then I thought it would be. In the initial taste there are some nice grapefruit and orange notes balanced by a fairly hearty toasted bread malt flavor. In the aftertaste the hops take over imparting a pretty strong piney bitterness. The finish is semi-dry. The body is medium, maybe even slightly on the higher end of medium. This is a solid both hop and malt forward IPA. I appreciate the boldness of it. Its complexity may be slightly lacking, however, and it has a pretty standard IPA flavor profile. Still an IPA worth trying out though.\n"
     ]
    }
   ],
   "source": [
    "print breakdown[1].split('★'.decode('utf-8'))[0]"
   ]
  },
  {
   "cell_type": "code",
   "execution_count": 342,
   "metadata": {
    "collapsed": true
   },
   "outputs": [],
   "source": [
    "beer = get_soup('https://www.beeradvocate.com/beer/profile/735/20781/')"
   ]
  },
  {
   "cell_type": "code",
   "execution_count": 384,
   "metadata": {
    "collapsed": false
   },
   "outputs": [
    {
     "name": "stdout",
     "output_type": "stream",
     "text": [
      "<div class=\"mainContent\">\n",
      "<!--[if lt IE 8]>\n",
      "\t\t\t\t\t\t\t<p class=\"importantMessage\">You are using an out of date browser. It  may not display this or other websites correctly.<br />You should upgrade or use an <a href=\"https://www.google.com/chrome/browser/\" target=\"_blank\">alternative browser</a>.</p>\n",
      "\t\t\t\t\t\t<![endif]-->\n",
      "<div class=\"FloatingContainer Notices\">\n",
      "<div class=\"DismissParent Notice notice_30 \" data-auto-dismiss=\"0\" data-delay-duration=\"4000\" data-display-duration=\"0\" data-notice=\"30\">\n",
      "<div class=\"floatingItem primary\">\n",
      "<a class=\"DismissCtrl Tooltip\" data-offsetx=\"7\" data-tipclass=\"flipped\" href=\"account/dismiss-notice?notice_id=30\" title=\"Dismiss Notice\">Dismiss Notice</a>\n",
      "<div class=\" baseHtml noticeContent\">\n",
      "\t\t\t\t\t\tWe're celebrating 10 years of BeerAdvocate magazine with $10 print subscriptions for US residents.<br><br><a href=\"https://store.beeradvocate.com/products/subscribe-beeradvocate-magazine\" target=\"_blank\"><b>Subscribe now!</b></a>\n",
      "</br></br></div>\n",
      "</div>\n",
      "</div>\n",
      "</div>\n",
      "<!-- h1 title, description -->\n",
      "<div class=\"titleBar\">\n",
      "<h1>21st Amendment IPA<span style=\"color:#999999;\"> | 21st Amendment Brewery</span></h1>\n",
      "</div>\n",
      "<!-- main template -->\n",
      "<div id=\"ba-content\">\n",
      "<style>\n",
      "\t.rateCatScore {\n",
      "\t\tfont-size:1.5em;\n",
      "\t\tfont-weight:700;\n",
      "\t  \tcolor:#CC0000;\n",
      "\t}\n",
      "\t.rateCategory {\n",
      "\t\tmargin-top:15px;\n",
      "\t\tdisplay:block;\n",
      "\t}\n",
      "\t.rateCategory th { padding-left:5px; font-weight:bold; }\n",
      "\t.rateCategory td { width:60px; }\n",
      "\t.likes-bar { padding:5px; background-color: rgb(239, 243, 248); margin-top: 10px; border-bottom: 1px solid rgb(216, 216, 216); font-size: 11px; }\n",
      "\n",
      "/*DL, DT, DD TAGS LIST DATA*/\n",
      "\t#item_stats dl {\n",
      "\t    width:100%;\n",
      "\t    overflow:hidden;\n",
      "\t    margin:0;\n",
      "\t    padding:0;\n",
      "\t}\n",
      "\t#item_stats dl dt {\n",
      "\t    float:left;\n",
      "\t    width:50%;\n",
      "\t    margin:0;\n",
      "\t    padding:0;\n",
      "\t}\n",
      "\t#item_stats dl dd {\n",
      "\t    float:left;\n",
      "\t    width:50%;\n",
      "\t    margin:0;\n",
      "\t    padding:0;\n",
      "\t}\n",
      "</style>\n",
      "<!--googleoff: index-->\n",
      "<div style=\"background-color:#E0E0E0; padding:5px; margin-top:5px; font-size:1.2em; vertical-align:middle;\"><b><a class=\"uix_dropdownDesktopMenu OverlayTrigger\" data-cacheoverlay=\"false\" href=\"login/\">Log in</a> or <a href=\"register/\">Sign up</a> to start rating.</b></div></div></div>\n"
     ]
    }
   ],
   "source": [
    "print beer.find('div', class_='mainContent')"
   ]
  },
  {
   "cell_type": "code",
   "execution_count": 378,
   "metadata": {
    "collapsed": false
   },
   "outputs": [
    {
     "data": {
      "text/plain": [
       "1"
      ]
     },
     "execution_count": 378,
     "metadata": {},
     "output_type": "execute_result"
    }
   ],
   "source": []
  },
  {
   "cell_type": "code",
   "execution_count": null,
   "metadata": {
    "collapsed": true
   },
   "outputs": [],
   "source": []
  }
 ],
 "metadata": {
  "anaconda-cloud": {},
  "kernelspec": {
   "display_name": "Python [Root]",
   "language": "python",
   "name": "Python [Root]"
  },
  "language_info": {
   "codemirror_mode": {
    "name": "ipython",
    "version": 2
   },
   "file_extension": ".py",
   "mimetype": "text/x-python",
   "name": "python",
   "nbconvert_exporter": "python",
   "pygments_lexer": "ipython2",
   "version": "2.7.12"
  }
 },
 "nbformat": 4,
 "nbformat_minor": 0
}
